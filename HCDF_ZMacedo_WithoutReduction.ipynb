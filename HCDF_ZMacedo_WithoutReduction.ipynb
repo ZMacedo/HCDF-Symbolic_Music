{
 "cells": [
  {
   "cell_type": "markdown",
   "id": "8b292eb6",
   "metadata": {},
   "source": [
    "# THINGS TO BE CLARIFIED WITH PEDRO\n",
    "\n",
    "- NOT UNDERSTANDING WHY THE RESULTS ARE LIKE THAT (it must be because there are functions that are not giving the output that was supposed to have, but i can't understand why, and i have already made various kind of approaches to each one of them)\n",
    "- Trying to understand what get_peaks_hcdf, harmonic_change function really must have as output"
   ]
  },
  {
   "cell_type": "markdown",
   "id": "04f66eb5",
   "metadata": {},
   "source": [
    "# HEADING ATTENTION TO:\n",
    "\n",
    "- Resolve the results problem; (in progress)\n",
    "- Seeing what music21 can do to present this \"tree representation\" scheme (taking the stronger note of a chord); (in progress)\n",
    "- Writing the dissertation."
   ]
  },
  {
   "cell_type": "markdown",
   "id": "769e22a6",
   "metadata": {},
   "source": [
    "# Symbolic Harmonic Change Detection in the Tonal Interval Space"
   ]
  },
  {
   "cell_type": "markdown",
   "id": "d89486b2",
   "metadata": {},
   "source": [
    "The detection of chord boundaries (onset or beginning or chords in the musical surface) is typically addressed within Music Information Retrieval as harmonic change detection. Existing solutions are known to improve complex systems for automatic chord detection as a preprocessing segmentation stage. This project aims at improving the performance of harmonic change detection by adopting a tree-based representation for reducing the complex structure of symbolic music manifestations to an n-chord representation, targeting the basic underlying triadic structure of Western tonal harmony."
   ]
  },
  {
   "cell_type": "markdown",
   "id": "bbd6a1eb",
   "metadata": {},
   "source": [
    "This is the code implemented to achieve the main objectives referred in the dissertation \"Symbolic Harmonic Change Detection in the Tonal Interval Space\" by José Macedo, with Gilberto Bernardes as Supervisor and Pedro Ramoneda as Co-Supervisor. "
   ]
  },
  {
   "cell_type": "code",
   "execution_count": 1,
   "id": "00e9c15c",
   "metadata": {},
   "outputs": [
    {
     "name": "stdout",
     "output_type": "stream",
     "text": [
      "Requirement already satisfied: unidecode in /Users/pedro/opt/miniconda3/envs/ICASSP/lib/python3.7/site-packages (1.3.4)\r\n"
     ]
    }
   ],
   "source": [
    "!pip install unidecode\n",
    "\n",
    "from music21 import *\n",
    "import mido\n",
    "from mido import MidiFile\n",
    "import mirdata\n",
    "import igraph as ig\n",
    "import os\n",
    "import plotly.express as px\n",
    "import sys\n",
    "import py_midicsv as pm\n",
    "import numpy as np\n",
    "import glob\n",
    "import csv\n",
    "import json\n",
    "import librosa\n",
    "import pretty_midi\n",
    "import libfmp.c1\n",
    "import libfmp.c3\n",
    "import libfmp.b\n",
    "import pickle\n",
    "import mir_eval\n",
    "from TIVlib import TIV\n",
    "import matplotlib.pyplot as plt\n",
    "import pandas as pd\n",
    "from unidecode import unidecode\n",
    "from pymidi import *\n",
    "import numpy as np\n",
    "import matplotlib.pyplot as plt\n",
    "from scipy.spatial.distance import cosine, euclidean\n",
    "from scipy.ndimage import gaussian_filter\n",
    "#np.seterr(all='raise')"
   ]
  },
  {
   "cell_type": "markdown",
   "id": "6993660e",
   "metadata": {},
   "source": [
    "# TIS&TIV - Tonal Interval Space & Tonal Interval Vectors \n",
    "\n",
    "A truncated version of TIV library [1].\n",
    "\n",
    "[1] - Ramires, A., Bernardes, G., Davies, M.E., & Serra, X. (2020). TIV.lib: an open-source library for the tonal description of musical audio. ArXiv, abs/2008.11529."
   ]
  },
  {
   "cell_type": "code",
   "execution_count": 2,
   "id": "5e9fbc94",
   "metadata": {},
   "outputs": [],
   "source": [
    "#The full TIV library isn't importing correctly to the program, so here is a part of the TIV library.\n",
    "\n",
    "class TIV:\n",
    "    weights_symbolic = [2, 11, 17, 16, 19, 7]\n",
    "    weights_audio = [3, 8, 11.5, 15, 14.5, 7.5]\n",
    "\n",
    "    def __init__(self, energy, vector):\n",
    "        self.energy = energy\n",
    "        self.vector = vector\n",
    "    \n",
    "    def abs_vector(self):\n",
    "        return np.abs(self.vector)\n",
    "    \n",
    "    def phases_vector(self):\n",
    "        return np.angle(self.vector)\n",
    "    \n",
    "    def get_vector(self):\n",
    "        return np.array(self.vector)\n",
    "\n",
    "    def diss(self): #Compute dissonance\n",
    "        return 1 - (np.linalg.norm(self.vector) / np.sqrt(np.sum(np.dot(self.weights_symbolic, self.weights_symbolic))))\n",
    "\n",
    "    def coeffs(self, coef): #Compute coefficient\n",
    "        return self.abs_vector()[coef] / self.weights_symbolic[coef]\n",
    "\n",
    "    def chromaticity(self): #Compute chromaticity\n",
    "        return self.abs_vector()[0] / self.weights_symbolic[0]\n",
    "\n",
    "    def dyads(self): #Compute dyadicity\n",
    "        return self.abs_vector()[1] / self.weights_symbolic[1]\n",
    "\n",
    "    def triads(self): #Compute triadicity (triads)\n",
    "        return self.abs_vector()[2] / self.weights_symbolic[2]\n",
    "\n",
    "    def d_q(self): #Refers a possible diminished quality\n",
    "        return self.abs_vector()[3] / self.weights_symbolic[3]\n",
    "\n",
    "    def diatonal(self): #Compute diatonicity\n",
    "        return self.abs_vector()[4] / self.weights_symbolic[4]\n",
    "\n",
    "    def tone(self): #Define wholetoneness\n",
    "        return self.abs_vector()[5] / self.weights_symbolic[5]\n",
    "    \n",
    "    @classmethod\n",
    "    def from_pcp(cls, pcp, symbolic=True):\n",
    "        #      Get TIVs from pcp, as the original method\n",
    "        #     :param pcp: 12xN vector containing N pcps\n",
    "        #     :return: TIVCollection object\n",
    "        #     \"\"\"\n",
    "        if pcp.shape[0] == 12:\n",
    "            fft = np.fft.rfft(pcp, n=12)\n",
    "            energy = fft[0]\n",
    "            vector = fft[1:7]\n",
    "            if symbolic:\n",
    "                vector = ((vector / energy) * cls.weights_symbolic)\n",
    "            else:\n",
    "                vector = ((vector / energy) * cls.weights_audio)           \n",
    "            return cls(energy, vector)\n",
    "        else:\n",
    "            return cls(complex(0), np.array([0, 0, 0, 0, 0, 0]).astype(complex))   \n",
    "\n",
    "    def plot_TIV(self):\n",
    "        titles = [\"m2/M7\", \"TT\", \"M3/m6\", \"m3/M6\", \"P4/P5\", \"M2/m7\"]\n",
    "        TIVector = self.vector / self.weights_symbolic\n",
    "        i = 1\n",
    "        for tiv in TIVector:\n",
    "            circle = plt.Circle((0, 0), 1, fill=False)\n",
    "            plt.subplot(2, 3, i)\n",
    "            plt.subplots_adjust(hspace=0.4)\n",
    "            plt.gca().add_patch(circle)\n",
    "            plt.title(titles[i - 1])\n",
    "            plt.scatter(tiv.real, tiv.imag)\n",
    "            plt.xlim((-1.5, 1.5))\n",
    "            plt.ylim((-1.5, 1.5))\n",
    "            plt.grid()\n",
    "            i = i + 1\n",
    "        plt.show()\n",
    "        \n",
    "    def hchange(self):\n",
    "        tiv_array = self.vector\n",
    "        results = []\n",
    "        for i in range(len(tiv_array)):\n",
    "            distance = TIV.euclidean(tiv_array[i + 1], tiv_array[i])\n",
    "            results.append(distance)\n",
    "        return results\n",
    "\n",
    "   # @classmethod\n",
    "   # def euclidean(cls, tiv1, tiv2):\n",
    "   #     return np.linalg.norm(tiv1.vector - tiv2.vector)\n",
    "\n",
    "   # @classmethod\n",
    "   # def cosine(cls, tiv1, tiv2):\n",
    "   #     a = np.concatenate((tiv1.vector.real, tiv1.vector.imag), axis=0)\n",
    "   #     b = np.concatenate((tiv2.vector.real, tiv2.vector.imag), axis=0)\n",
    "   #     if all_zero(a) or all_zero(b):\n",
    "   #         distance_computed = euclidean(a, b)\n",
    "   #     else:\n",
    "   #         distance_computed = cosine(a, b)\n",
    "   #     return distance_computed"
   ]
  },
  {
   "cell_type": "code",
   "execution_count": 3,
   "id": "cb84cc7c",
   "metadata": {},
   "outputs": [],
   "source": [
    "#Taken from https://github.com/qsdfo/midi_to_numpy/blob/master/read_midi.py\n",
    "\n",
    "#To read midi into piano rolls (the only part of this class that is adamant is read_file())\n",
    "class Read_midi(object):\n",
    "    def __init__(self, song_path, quantization):\n",
    "        ## Metadata\n",
    "        self.__song_path = song_path\n",
    "        self.__quantization = quantization\n",
    "\n",
    "        ## Pianoroll\n",
    "        self.__T_pr = None\n",
    "\n",
    "        ## Private misc\n",
    "        self.__num_ticks = None\n",
    "        self.__T_file = None\n",
    "\n",
    "    @property\n",
    "    def quantization(self):\n",
    "        return self.__quantization\n",
    "\n",
    "    @property\n",
    "    def T_pr(self):\n",
    "        return self.__T_pr\n",
    "\n",
    "    @property\n",
    "    def T_file(self):\n",
    "        return self.__T_file\n",
    "\n",
    "    def get_total_num_tick(self):\n",
    "        # Midi length should be written in a meta message at the beginning of the file,\n",
    "        # but in many cases, lazy motherfuckers didn't write it...\n",
    "\n",
    "        # Read a midi file and return a dictionnary {track_name : pianoroll}\n",
    "        mid = MidiFile(self.__song_path)\n",
    "\n",
    "        # Parse track by track\n",
    "        num_ticks = 0\n",
    "        for i, track in enumerate(mid.tracks):\n",
    "            tick_counter = 0\n",
    "            for message in track:\n",
    "                # Note on\n",
    "                time = float(message.time)\n",
    "                tick_counter += time\n",
    "            num_ticks = max(num_ticks, tick_counter)\n",
    "        self.__num_ticks = num_ticks\n",
    "\n",
    "    def get_pitch_range(self):\n",
    "        mid = MidiFile(self.__song_path)\n",
    "        min_pitch = 200\n",
    "        max_pitch = 0\n",
    "        for i, track in enumerate(mid.tracks):\n",
    "            for message in track:\n",
    "                if message.type in ['note_on', 'note_off']:\n",
    "                    pitch = message.note\n",
    "                    if pitch > max_pitch:\n",
    "                        max_pitch = pitch\n",
    "                    if pitch < min_pitch:\n",
    "                        min_pitch = pitch\n",
    "        return min_pitch, max_pitch\n",
    "\n",
    "    def get_time_file(self):\n",
    "        # Get the time dimension for a pianoroll given a certain quantization\n",
    "        mid = MidiFile(self.__song_path)\n",
    "        # Tick per beat\n",
    "        ticks_per_beat = mid.ticks_per_beat\n",
    "        # Total number of ticks\n",
    "        self.get_total_num_tick()\n",
    "        # Dimensions of the pianoroll for each track\n",
    "        self.__T_file = int((self.__num_ticks / ticks_per_beat) * self.__quantization)\n",
    "        return self.__T_file\n",
    "\n",
    "    def read_file(self):\n",
    "        # Read the midi file and return a dictionnary {track_name : pianoroll}\n",
    "        mid = MidiFile(self.__song_path)\n",
    "        # Tick per beat\n",
    "        ticks_per_beat = mid.ticks_per_beat\n",
    "\n",
    "        # Get total time\n",
    "        self.get_time_file()\n",
    "        T_pr = self.__T_file\n",
    "        # Pitch dimension\n",
    "        N_pr = 128\n",
    "        pianoroll = {}\n",
    "\n",
    "        def add_note_to_pr(note_off, notes_on, pr):\n",
    "            pitch_off, _, time_off = note_off\n",
    "            # Note off : search for the note in the list of note on,\n",
    "            # get the start and end time\n",
    "            # write it in th pr\n",
    "            match_list = [(ind, item) for (ind, item) in enumerate(notes_on) if item[0] == pitch_off]\n",
    "            if len(match_list) == 0:\n",
    "                print(\"Try to note off a note that has never been turned on\")\n",
    "                # Do nothing\n",
    "                return\n",
    "\n",
    "            # Add note to the pr\n",
    "            pitch, velocity, time_on = match_list[0][1]\n",
    "            pr[time_on:time_off, pitch] = velocity\n",
    "            # Remove the note from notes_on\n",
    "            ind_match = match_list[0][0]\n",
    "            del notes_on[ind_match]\n",
    "            return\n",
    "\n",
    "        # Parse track by track\n",
    "        counter_unnamed_track = 0\n",
    "        for i, track in enumerate(mid.tracks):\n",
    "            # Instanciate the pianoroll\n",
    "            pr = np.zeros([T_pr, N_pr])\n",
    "            time_counter = 0\n",
    "            notes_on = []\n",
    "            for message in track:\n",
    "\n",
    "                ##########################################\n",
    "                ##########################################\n",
    "                ##########################################\n",
    "                # TODO : keep track of tempo information\n",
    "                # import re\n",
    "                # if re.search(\"tempo\", message.type):\n",
    "                #     import pdb; pdb.set_trace()\n",
    "                ##########################################\n",
    "                ##########################################\n",
    "                ##########################################\n",
    "\n",
    "\n",
    "                # print message\n",
    "                # Time. Must be incremented, whether it is a note on/off or not\n",
    "                time = float(message.time)\n",
    "                time_counter += time / ticks_per_beat * self.__quantization\n",
    "                # Time in pr (mapping)\n",
    "                time_pr = int(round(time_counter))\n",
    "                # Note on\n",
    "                if message.type == 'note_on':\n",
    "                    # Get pitch\n",
    "                    pitch = message.note\n",
    "                    # Get velocity\n",
    "                    velocity = message.velocity\n",
    "                    if velocity > 0:\n",
    "                        notes_on.append((pitch, velocity, time_pr))\n",
    "                    elif velocity == 0:\n",
    "                        add_note_to_pr((pitch, velocity, time_pr), notes_on, pr)\n",
    "                # Note off\n",
    "                elif message.type == 'note_off':\n",
    "                    pitch = message.note\n",
    "                    velocity = message.velocity\n",
    "                    add_note_to_pr((pitch, velocity, time_pr), notes_on, pr)\n",
    "\n",
    "            # We deal with discrete values ranged between 0 and 127\n",
    "            #     -> convert to int\n",
    "            pr = pr.astype(np.int16)\n",
    "            if np.sum(np.sum(pr)) > 0:\n",
    "                name = unidecode(track.name)\n",
    "                name = name.rstrip('\\x00')\n",
    "                if name == u'':\n",
    "                    name = 'unnamed' + str(counter_unnamed_track)\n",
    "                    counter_unnamed_track += 1\n",
    "                if name in pianoroll.keys():\n",
    "                    # Take max of the to pianorolls\n",
    "                    pianoroll[name] = np.maximum(pr, pianoroll[name])\n",
    "                else:\n",
    "                    pianoroll[name] = pr\n",
    "        return pianoroll"
   ]
  },
  {
   "cell_type": "markdown",
   "id": "d1850683",
   "metadata": {},
   "source": [
    "# Auxiliary Functions \n",
    "\n",
    "By Pedro Ramoneda in \"Harmonic Change Detection from Musical Audio\""
   ]
  },
  {
   "cell_type": "code",
   "execution_count": 4,
   "id": "e45325a4",
   "metadata": {},
   "outputs": [],
   "source": [
    "def gaussian_blur(centroid_vector, sigma):\n",
    "    centroid_vector = gaussian_filter(centroid_vector, sigma=sigma)\n",
    "    return centroid_vector\n",
    "\n",
    "def get_peaks_hcdf(hcdf_function, rate_centroids_second, symbolic=True):\n",
    "    changes = [0]\n",
    "    hcdf_changes = []\n",
    "    last = 0\n",
    "    for i in range(2, hcdf_function.shape[0] - 1):\n",
    "        if hcdf_function[i - 1] < hcdf_function[i] and hcdf_function[i + 1] < hcdf_function[i]:\n",
    "            hcdf_changes.append(hcdf_function[i])\n",
    "            if not symbolic:\n",
    "                changes.append(i / rate_centroids_second)\n",
    "            else:\n",
    "                changes.append(i)\n",
    "            last = i\n",
    "    return np.array(changes), np.array(hcdf_changes)\n",
    "\n",
    "#4 - Distance Calculation (Euclidean and Cosine)\n",
    "def distance_calc(centroid_point, distance):\n",
    "    dist = []\n",
    "    if distance == 'Euclidean':\n",
    "        for j in range(1, centroid_point.shape[1] - 1):\n",
    "            aux = 0\n",
    "            for i in range(0, centroid_point.shape[0]):\n",
    "                aux += ((centroid_point[i][j + 1] - centroid_point[i][j - 1]) ** 2)\n",
    "            aux = np.math.sqrt(aux)\n",
    "            dist.append(aux)\n",
    "    \n",
    "    if distance == 'Cosine':\n",
    "        for j in range(1, centroid_point.shape[1] - 1):\n",
    "            cosine_distance = cosine(centroid_point[:, j - 1], centroid_point[:, j + 1])\n",
    "            dist.append(cosine_distance)\n",
    "    dist.append(0)\n",
    "\n",
    "    return np.array(dist)"
   ]
  },
  {
   "cell_type": "code",
   "execution_count": 5,
   "id": "a03e001b",
   "metadata": {},
   "outputs": [],
   "source": [
    "#Now we will need to take information from TIV. So we will need some additional functions\n",
    "def all_zero(vector):\n",
    "    for element in vector:\n",
    "        if element != 0:\n",
    "            return False\n",
    "    return True \n",
    "\n",
    "def real_imag(TIVector):\n",
    "    aux = []\n",
    "    for i in range(0, TIVector.shape[1]):\n",
    "        real_vector = []\n",
    "        imag_vector = []\n",
    "        for j in range(0, TIVector.shape[0]):\n",
    "            real_vector.append(TIVector[j][i].real)\n",
    "            imag_vector.append(TIVector[j][i].imag)\n",
    "        aux.append(real_vector)\n",
    "        aux.append(imag_vector)\n",
    "    return np.array(aux)\n",
    "\n",
    "def tonalIntervalSpace(chroma, symbolic=True):\n",
    "    centroid_vector = []\n",
    "    for i in range(0, chroma.shape[1]):\n",
    "        each_chroma = [chroma[j][i] for j in range(0, chroma.shape[0])]\n",
    "        each_chroma = np.array(each_chroma)\n",
    "        if all_zero(each_chroma):\n",
    "            centroid = [0. + 0.j, 0. + 0.j, 0. + 0.j, 0. + 0.j, 0. + 0.j, 0. + 0.j]\n",
    "        else:\n",
    "            tonal = TIV.from_pcp(each_chroma, symbolic)          #Calculate the TIV for each chroma\n",
    "            #tonal.plot_TIV() #PLOT TIV for each chroma -> too expensive in terms of program's space\n",
    "            centroid = tonal.get_vector()\n",
    "        centroid_vector.append(centroid)\n",
    "    return real_imag(np.array(centroid_vector))"
   ]
  },
  {
   "cell_type": "code",
   "execution_count": 6,
   "id": "93e718ca",
   "metadata": {},
   "outputs": [],
   "source": [
    "def harmonic_change(chroma: list, window_size: int=2048, symbolic: bool=True, sigma: int=23, dist: str = 'euclidean'):\n",
    "#     pdb.set_trace()\n",
    "    chroma = np.array(chroma).transpose()\n",
    "    centroid_vector = tonalIntervalSpace(chroma, symbolic=True)\n",
    "\n",
    "    # Blur\n",
    "    centroid_vector_blurred = gaussian_blur(centroid_vector, sigma)\n",
    "\n",
    "    # Harmonic Distance Calculation - Euclidean or Cosine\n",
    "    harmonic_function = distance_calc(centroid_vector_blurred, dist)\n",
    "\n",
    "    changes, hcdf_changes = get_peaks_hcdf(harmonic_function, window_size, symbolic=True)\n",
    "\n",
    "    return changes, hcdf_changes, harmonic_function"
   ]
  },
  {
   "cell_type": "code",
   "execution_count": 7,
   "id": "1eb657f2",
   "metadata": {},
   "outputs": [],
   "source": [
    "np.set_printoptions(threshold=sys.maxsize)"
   ]
  },
  {
   "cell_type": "code",
   "execution_count": 8,
   "id": "2ec1a7bf",
   "metadata": {},
   "outputs": [],
   "source": [
    "path_score_BPS = './Midi_Files/BPS'\n",
    "path_score_ABC = './Midi_Files/ABC'\n",
    "file_list_BPS = glob.glob(path_score_BPS + '/*.mid')\n",
    "file_list_ABC = glob.glob(path_score_ABC + '/*.mid')\n",
    "\n",
    "m_f = 'M7c06cae3.0PTairQuality.220523.mid'"
   ]
  },
  {
   "cell_type": "markdown",
   "id": "1a5ccd1b",
   "metadata": {},
   "source": [
    "# Piano Roll Representations\n",
    "\n",
    "In order to represent musical scores for computational analysis, two-dimensional piano roll graphics (with columns being time steps and rows being pitches) are provided. It also gives a sense of pitch variation through all time steps."
   ]
  },
  {
   "cell_type": "code",
   "execution_count": 9,
   "id": "9902482e",
   "metadata": {
    "scrolled": true
   },
   "outputs": [],
   "source": [
    "def midi_pianoRoll(file):\n",
    "    midi_data = pretty_midi.PrettyMIDI(file)\n",
    "    score = libfmp.c1.midi_to_list(midi_data)\n",
    "    libfmp.c1.visualize_piano_roll(score, figsize=(8, 3), velocity_alpha=True);\n",
    "    \n",
    "####ANOTHER WAY TO PLOT PIANO ROLL GRAPHICS\n",
    "#def midi_pianoRoll(file):\n",
    "#    s = music21.converter.parse(file)\n",
    "#    s.plot('pianoroll')\n",
    "\n",
    "\n",
    "#for file in file_list_BPS:\n",
    "#    midi_pianoRoll(file) ###IN CASE WE WANT TO PLOT PIANO ROLL GRAPHICS FOR BPS DATASET\n",
    "\n",
    "#for file in file_list_ABC:\n",
    "#    midi_pianoRoll(file) ###IN CASE WE WANT TO PLOT PIANO ROLL GRAPHICS FOR ABC DATASET"
   ]
  },
  {
   "cell_type": "markdown",
   "id": "111bae66",
   "metadata": {},
   "source": [
    "# Chroma Vectors\n",
    "\n",
    "Chroma Vectors play an important role in music processing. Although mainly used for audio, it refers the cardinality of each pitch class in symbolic music (where the conotation \"Harmonic Pitch Class Profile\" is more suitable).\n",
    "\n",
    "Given that music21 can't produce this kind of graphic, this was produced by libfmp library [2].\n",
    "\n",
    "[2] - Meinard Müller and Frank Zalkow. libfmp: A Python Package for Fundamentals of Music Processing. Journal of Open Source Software (JOSS), 6(63), 2021."
   ]
  },
  {
   "cell_type": "code",
   "execution_count": 10,
   "id": "55e6eb51",
   "metadata": {
    "scrolled": true
   },
   "outputs": [
    {
     "name": "stderr",
     "output_type": "stream",
     "text": [
      "/Users/pedro/opt/miniconda3/envs/ICASSP/lib/python3.7/site-packages/pretty_midi/pretty_midi.py:101: RuntimeWarning: Tempo, Key or Time signature change events found on non-zero tracks.  This is not a valid type 0 or type 1 MIDI file.  Tempo, Key or Time Signature may be wrong.\n",
      "  RuntimeWarning)\n"
     ]
    },
    {
     "name": "stdout",
     "output_type": "stream",
     "text": [
      "370.908992\n"
     ]
    },
    {
     "data": {
      "image/png": "[encoded data removed]",
      "text/plain": [
       "<Figure size 432x216 with 2 Axes>"
      ]
     },
     "metadata": {
      "image/png": {
       "height": 219,
       "width": 402
      },
      "needs_background": "light"
     },
     "output_type": "display_data"
    },
    {
     "name": "stdout",
     "output_type": "stream",
     "text": [
      "225.98144349999995\n"
     ]
    },
    {
     "data": {
      "image/png": "[encoded data removed]",
      "text/plain": [
       "<Figure size 432x216 with 2 Axes>"
      ]
     },
     "metadata": {
      "image/png": {
       "height": 219,
       "width": 402
      },
      "needs_background": "light"
     },
     "output_type": "display_data"
    },
    {
     "name": "stdout",
     "output_type": "stream",
     "text": [
      "111.25003899999999\n"
     ]
    },
    {
     "data": {
      "image/png": "[encoded data removed]",
      "text/plain": [
       "<Figure size 432x216 with 2 Axes>"
      ]
     },
     "metadata": {
      "image/png": {
       "height": 219,
       "width": 402
      },
      "needs_background": "light"
     },
     "output_type": "display_data"
    },
    {
     "name": "stdout",
     "output_type": "stream",
     "text": [
      "354.90888\n"
     ]
    },
    {
     "data": {
      "image/png": "[encoded data removed]",
      "text/plain": [
       "<Figure size 432x216 with 2 Axes>"
      ]
     },
     "metadata": {
      "image/png": {
       "height": 219,
       "width": 402
      },
      "needs_background": "light"
     },
     "output_type": "display_data"
    },
    {
     "name": "stdout",
     "output_type": "stream",
     "text": [
      "295.79516225\n"
     ]
    },
    {
     "data": {
      "image/png": "[encoded data removed]",
      "text/plain": [
       "<Figure size 432x216 with 2 Axes>"
      ]
     },
     "metadata": {
      "image/png": {
       "height": 219,
       "width": 402
      },
      "needs_background": "light"
     },
     "output_type": "display_data"
    },
    {
     "name": "stdout",
     "output_type": "stream",
     "text": [
      "373.67921562500004\n"
     ]
    },
    {
     "data": {
      "image/png": "[encoded data removed]",
      "text/plain": [
       "<Figure size 432x216 with 2 Axes>"
      ]
     },
     "metadata": {
      "image/png": {
       "height": 219,
       "width": 402
      },
      "needs_background": "light"
     },
     "output_type": "display_data"
    },
    {
     "name": "stdout",
     "output_type": "stream",
     "text": [
      "204.85127250000002\n"
     ]
    },
    {
     "data": {
      "image/png": "[encoded data removed]",
      "text/plain": [
       "<Figure size 432x216 with 2 Axes>"
      ]
     },
     "metadata": {
      "image/png": {
       "height": 219,
       "width": 402
      },
      "needs_background": "light"
     },
     "output_type": "display_data"
    },
    {
     "name": "stdout",
     "output_type": "stream",
     "text": [
      "350.4969855\n"
     ]
    },
    {
     "data": {
      "image/png": "[encoded data removed]",
      "text/plain": [
       "<Figure size 432x216 with 2 Axes>"
      ]
     },
     "metadata": {
      "image/png": {
       "height": 219,
       "width": 402
      },
      "needs_background": "light"
     },
     "output_type": "display_data"
    },
    {
     "name": "stdout",
     "output_type": "stream",
     "text": [
      "330.651568\n"
     ]
    },
    {
     "data": {
      "image/png": "[encoded data removed]",
      "text/plain": [
       "<Figure size 432x216 with 2 Axes>"
      ]
     },
     "metadata": {
      "image/png": {
       "height": 219,
       "width": 402
      },
      "needs_background": "light"
     },
     "output_type": "display_data"
    },
    {
     "name": "stdout",
     "output_type": "stream",
     "text": [
      "305.89919150000003\n"
     ]
    },
    {
     "data": {
      "image/png": "[encoded data removed]",
      "text/plain": [
       "<Figure size 432x216 with 2 Axes>"
      ]
     },
     "metadata": {
      "image/png": {
       "height": 219,
       "width": 402
      },
      "needs_background": "light"
     },
     "output_type": "display_data"
    },
    {
     "name": "stdout",
     "output_type": "stream",
     "text": [
      "245.51063999999997\n"
     ]
    },
    {
     "data": {
      "image/png": "[encoded data removed]",
      "text/plain": [
       "<Figure size 432x216 with 2 Axes>"
      ]
     },
     "metadata": {
      "image/png": {
       "height": 219,
       "width": 402
      },
      "needs_background": "light"
     },
     "output_type": "display_data"
    },
    {
     "name": "stdout",
     "output_type": "stream",
     "text": [
      "357.736194125\n"
     ]
    },
    {
     "data": {
      "image/png": "[encoded data removed]",
      "text/plain": [
       "<Figure size 432x216 with 2 Axes>"
      ]
     },
     "metadata": {
      "image/png": {
       "height": 219,
       "width": 402
      },
      "needs_background": "light"
     },
     "output_type": "display_data"
    },
    {
     "name": "stdout",
     "output_type": "stream",
     "text": [
      "553.4474970000001\n"
     ]
    },
    {
     "data": {
      "image/png": "[encoded data removed]",
      "text/plain": [
       "<Figure size 432x216 with 2 Axes>"
      ]
     },
     "metadata": {
      "image/png": {
       "height": 219,
       "width": 402
      },
      "needs_background": "light"
     },
     "output_type": "display_data"
    },
    {
     "name": "stdout",
     "output_type": "stream",
     "text": [
      "421.23407899999995\n"
     ]
    },
    {
     "data": {
      "image/png": "[encoded data removed]",
      "text/plain": [
       "<Figure size 432x216 with 2 Axes>"
      ]
     },
     "metadata": {
      "image/png": {
       "height": 219,
       "width": 402
      },
      "needs_background": "light"
     },
     "output_type": "display_data"
    },
    {
     "name": "stdout",
     "output_type": "stream",
     "text": [
      "172.499632\n"
     ]
    },
    {
     "data": {
      "image/png": "[encoded data removed]",
      "text/plain": [
       "<Figure size 432x216 with 2 Axes>"
      ]
     },
     "metadata": {
      "image/png": {
       "height": 219,
       "width": 402
      },
      "needs_background": "light"
     },
     "output_type": "display_data"
    },
    {
     "name": "stdout",
     "output_type": "stream",
     "text": [
      "291.761098\n"
     ]
    },
    {
     "data": {
      "image/png": "[encoded data removed]",
      "text/plain": [
       "<Figure size 432x216 with 2 Axes>"
      ]
     },
     "metadata": {
      "image/png": {
       "height": 219,
       "width": 402
      },
      "needs_background": "light"
     },
     "output_type": "display_data"
    },
    {
     "name": "stdout",
     "output_type": "stream",
     "text": [
      "485.92133900000005\n"
     ]
    },
    {
     "data": {
      "image/png": "[encoded data removed]",
      "text/plain": [
       "<Figure size 432x216 with 2 Axes>"
      ]
     },
     "metadata": {
      "image/png": {
       "height": 219,
       "width": 402
      },
      "needs_background": "light"
     },
     "output_type": "display_data"
    },
    {
     "name": "stdout",
     "output_type": "stream",
     "text": [
      "315.622622\n"
     ]
    },
    {
     "data": {
      "image/png": "[encoded data removed]",
      "text/plain": [
       "<Figure size 432x216 with 2 Axes>"
      ]
     },
     "metadata": {
      "image/png": {
       "height": 219,
       "width": 402
      },
      "needs_background": "light"
     },
     "output_type": "display_data"
    },
    {
     "name": "stdout",
     "output_type": "stream",
     "text": [
      "261.48622500000005\n"
     ]
    },
    {
     "data": {
      "image/png": "[encoded data removed]",
      "text/plain": [
       "<Figure size 432x216 with 2 Axes>"
      ]
     },
     "metadata": {
      "image/png": {
       "height": 219,
       "width": 402
      },
      "needs_background": "light"
     },
     "output_type": "display_data"
    },
    {
     "name": "stdout",
     "output_type": "stream",
     "text": [
      "223.881205\n"
     ]
    },
    {
     "data": {
      "image/png": "[encoded data removed]",
      "text/plain": [
       "<Figure size 432x216 with 2 Axes>"
      ]
     },
     "metadata": {
      "image/png": {
       "height": 219,
       "width": 402
      },
      "needs_background": "light"
     },
     "output_type": "display_data"
    },
    {
     "name": "stdout",
     "output_type": "stream",
     "text": [
      "364.1242414999999\n"
     ]
    },
    {
     "data": {
      "image/png": "[encoded data removed]",
      "text/plain": [
       "<Figure size 432x216 with 2 Axes>"
      ]
     },
     "metadata": {
      "image/png": {
       "height": 219,
       "width": 402
      },
      "needs_background": "light"
     },
     "output_type": "display_data"
    },
    {
     "name": "stdout",
     "output_type": "stream",
     "text": [
      "163.6362\n"
     ]
    },
    {
     "data": {
      "image/png": "[encoded data removed]",
      "text/plain": [
       "<Figure size 432x216 with 2 Axes>"
      ]
     },
     "metadata": {
      "image/png": {
       "height": 219,
       "width": 402
      },
      "needs_background": "light"
     },
     "output_type": "display_data"
    },
    {
     "name": "stdout",
     "output_type": "stream",
     "text": [
      "409.6\n"
     ]
    },
    {
     "data": {
      "image/png": "[encoded data removed]",
      "text/plain": [
       "<Figure size 432x216 with 2 Axes>"
      ]
     },
     "metadata": {
      "image/png": {
       "height": 219,
       "width": 402
      },
      "needs_background": "light"
     },
     "output_type": "display_data"
    },
    {
     "name": "stdout",
     "output_type": "stream",
     "text": [
      "336.337869\n"
     ]
    },
    {
     "data": {
      "image/png": "[encoded data removed]",
      "text/plain": [
       "<Figure size 432x216 with 2 Axes>"
      ]
     },
     "metadata": {
      "image/png": {
       "height": 219,
       "width": 402
      },
      "needs_background": "light"
     },
     "output_type": "display_data"
    }
   ],
   "source": [
    "def chromagram(midi_file):\n",
    "    midi_data = pretty_midi.PrettyMIDI(midi_file)\n",
    "    score = libfmp.c1.midi_to_list(midi_data)\n",
    "    df = pd.DataFrame(score, columns=['Start', 'Duration', 'Pitch', 'Velocity', 'Instrument'])\n",
    "    array_time = np.array(df[['Start']]) #It's in seconds\n",
    "    array_pitch = np.array(df[['Pitch']])\n",
    "    df_array = np.column_stack((array_time, array_pitch))\n",
    "    chromagram = libfmp.b.b_sonification.list_to_chromagram(score, df_array.shape[0], 1)\n",
    "    chroma = libfmp.b.b_plot.plot_chromagram(chromagram, xlim = (0, array_time[-1]))\n",
    "    print(df['Start'].max())\n",
    "\n",
    "    plt.xlabel(\"Time (Seconds)\")\n",
    "    plt.ylabel(\"Pitch\")\n",
    "    plt.title(\"Chroma Vectors\")\n",
    "    plt.show()\n",
    "\n",
    "    return chroma\n",
    "\n",
    "for file in file_list_BPS:\n",
    "    chroma_bps = chromagram(file) \n",
    "    \n",
    "#for file in file_list_ABC:\n",
    "#    chroma_abc = chromagram(file) \n",
    "#    c_a = libfmp.b.b_plot.plot_chromagram(chroma_abc) ###JUST IN CASE WE WANT TO PLOT CHROMAGRAMS ABC DATASET"
   ]
  },
  {
   "cell_type": "markdown",
   "id": "d5c4daf9",
   "metadata": {},
   "source": [
    "For the next step, it will be necessary to transform the file into a suitable 12-element vector, according to TIV dimensions."
   ]
  },
  {
   "cell_type": "code",
   "execution_count": 11,
   "id": "469309a1",
   "metadata": {
    "scrolled": true
   },
   "outputs": [
    {
     "name": "stdout",
     "output_type": "stream",
     "text": [
      "(7722, 128)\n",
      "(7722, 12)\n",
      "(11296, 128)\n",
      "(11296, 12)\n",
      "(6129, 128)\n",
      "(6129, 12)\n",
      "(34522, 128)\n",
      "(34522, 12)\n",
      "(18151, 128)\n",
      "(18151, 12)\n",
      "(17693, 128)\n",
      "(17693, 12)\n",
      "(11450, 128)\n",
      "(11450, 12)\n",
      "(9207, 128)\n",
      "(9207, 12)\n",
      "(27566, 128)\n",
      "(27566, 12)\n",
      "(18774, 128)\n",
      "(18774, 12)\n",
      "(11185, 128)\n",
      "(11185, 12)\n",
      "(9673, 128)\n",
      "(9673, 12)\n",
      "(44049, 128)\n",
      "(44049, 12)\n",
      "(38565, 128)\n",
      "(38565, 12)\n",
      "(6144, 128)\n",
      "(6144, 12)\n",
      "(38444, 128)\n",
      "(38444, 12)\n",
      "(33721, 128)\n",
      "(33721, 12)\n",
      "(25524, 128)\n",
      "(25524, 12)\n",
      "(18086, 128)\n",
      "(18086, 12)\n",
      "(8899, 128)\n",
      "(8899, 12)\n",
      "(45368, 128)\n",
      "(45368, 12)\n",
      "(16826, 128)\n",
      "(16826, 12)\n",
      "(28698, 128)\n",
      "(28698, 12)\n",
      "(22230, 128)\n",
      "(22230, 12)\n"
     ]
    }
   ],
   "source": [
    "def midi2chroma(m_vector):\n",
    "    vector = np.zeros((m_vector.shape[0], 12))\n",
    "    for i, frame in enumerate(m_vector):\n",
    "        for j, element in enumerate(frame):\n",
    "            vector[i][j % 12] += element\n",
    "    return vector\n",
    "\n",
    "for file in file_list_BPS:\n",
    "    midi_vector = Read_midi(file,28).read_file()\n",
    "    for times, key in midi_vector.items():\n",
    "        print(key.shape)\n",
    "    vec = (list(midi_vector.values()))[0]\n",
    "    chroma_vector = midi2chroma(vec)\n",
    "    print(chroma_vector.shape)\n",
    "    \n",
    "#for file in file_list_ABC:\n",
    "#    midi_vector = Read_midi(file,23).read_file()\n",
    "#    for times, key in midi_vector.items():\n",
    "#        print(key.shape)                        #HAVE A LOT \"Try to note off a note that has never been turned on\"\n",
    "#    vec = (list(midi_vector.values()))[0]\n",
    "#    chroma_vector = midi2chroma(vec)\n",
    "#    print(chroma_vector.shape)\n",
    "\n",
    "#chroma = np.array(chroma_vector).transpose()\n",
    "#print(chroma.shape[1])"
   ]
  },
  {
   "cell_type": "markdown",
   "id": "a4ed5a9a",
   "metadata": {},
   "source": [
    "A continuous division of the score to make only the most \"strong\" note of the chord, in a form of making a tree representation.\n",
    "\n",
    "For now, the main idea is the drop all notes apart from the \"stronger\" one, that occurs at the same time (in time_pitch function). Still thinking in a way to do just that (because we need to discover the \"stronger\" note on simultaneous notes)."
   ]
  },
  {
   "cell_type": "code",
   "execution_count": 12,
   "id": "058a2676",
   "metadata": {},
   "outputs": [
    {
     "name": "stdout",
     "output_type": "stream",
     "text": [
      "[0.0, 0.0, 0.0, 0.4545453333333333, 0.9090906666666666, 1.3636359999999998, 1.8181813333333332, 2.272726666666667, 2.7272719999999997, 3.181817333333333, 3.6363626666666664, 4.090908, 4.545453333333334, 4.9999986666666665, 5.454543999999999, 5.454543999999999, 5.454543999999999, 5.909089333333333, 6.363634666666666, 6.81818, 7.272725333333333, 7.727270666666667, 8.181816, 8.636361333333333, 9.090906666666667, 9.545452, 9.999997333333333, 10.454542666666667, 10.909087999999999, 10.909087999999999, 10.909087999999999, 11.363633333333333, 11.818178666666666, 12.272724, 12.727269333333332, 13.181814666666666, 13.63636, 13.63636, 13.63636, 14.090905333333334, 14.545450666666666, 14.999996, 15.454541333333333, 15.909086666666665, 16.363632, 16.363632, 16.363632, 16.81817733333333, 17.272722666666667, 17.727268, 18.181813333333334, 18.636358666666666, 19.090904, 19.090904, 19.090904, 19.545449333333334, 19.999994666666666, 20.454539999999998, 20.909085333333334, 21.363630666666666, 21.818175999999998, 21.818175999999998, 21.818175999999998, 21.818175999999998, 22.272721333333333, 22.727266666666665, 23.181812, 23.636357333333333, 24.090902666666665, 24.545448, 24.999993333333332, 25.454538666666664, 25.909084, 25.909084, 26.363629333333332, 26.818174666666664, 26.931811, 27.27272, 27.27272, 27.27272, 27.27272, 27.27272, 27.72726533333333, 28.181810666666667, 28.636356, 29.09090133333333, 29.545446666666667, 29.999992, 30.45453733333333, 30.909082666666666, 31.363628, 31.363628, 31.81817333333333, 32.27271866666666, 32.386355, 32.727264, 32.727264, 32.727264, 32.727264, 33.181809333333334, 33.63635466666666, 34.0909, 34.54544533333333, 34.99999066666666, 35.454536, 35.454536, 35.454536, 35.454536, 35.90908133333333, 36.36362666666667, 36.818172, 37.27271733333333, 37.72726266666667, 38.181808, 38.181808, 38.181808, 38.181808, 38.63635333333333, 39.09089866666667, 39.545443999999996, 39.99998933333333, 40.45453466666667, 40.909079999999996, 40.909079999999996, 40.909079999999996, 40.909079999999996, 41.36362533333333, 41.81817066666667, 42.272715999999996, 42.272715999999996, 42.72726133333333, 43.18180666666667, 43.636351999999995, 43.636351999999995, 43.636351999999995, 43.636351999999995, 44.09089733333333, 44.545442666666666, 44.999987999999995, 45.45453333333333, 45.909078666666666, 46.363624, 46.81816933333333, 47.272714666666666, 47.72726, 48.18180533333333, 48.636350666666665, 49.090896, 49.090896, 49.090896, 49.54544133333333, 49.999986666666665, 50.454532, 50.90907733333333, 51.363622666666664, 51.818168, 52.27271333333333, 52.727258666666664, 53.181804, 53.181804, 53.63634933333333, 54.090894666666664, 54.204530999999996, 54.54544, 54.54544, 54.54544, 54.54544, 54.99998533333333, 55.45453066666666, 55.909076, 56.363621333333334, 56.81816666666666, 57.272712, 57.727257333333334, 58.18180266666666, 58.636348, 58.636348, 59.090893333333334, 59.54543866666666, 59.659074999999994, 59.999984, 59.999984, 59.999984, 59.999984, 60.45452933333333, 60.90907466666666, 61.36362, 61.36362, 61.36362, 61.81816533333333, 62.27271066666666, 62.727256, 62.727256, 62.727256, 63.18180133333333, 63.63634666666666, 64.090892, 64.090892, 64.54543733333333, 64.99998266666667, 65.454528, 65.454528, 65.454528, 65.454528, 65.90907333333332, 66.36361866666667, 66.818164, 67.27270933333332, 67.72725466666667, 68.1818, 68.1818, 68.1818, 68.63634533333332, 69.09089066666667, 69.545436, 69.545436, 69.545436, 69.99998133333332, 70.45452666666667, 70.909072, 70.909072, 70.909072, 71.36361733333334, 71.81816266666667, 72.272708, 72.72725333333334, 73.18179866666667, 73.636344, 73.636344, 73.636344, 73.636344, 74.09088933333334, 74.54543466666667, 74.99998, 75.45452533333334, 75.90907066666666, 76.363616, 76.363616, 76.363616, 76.81816133333334, 77.27270666666666, 77.727252, 78.18179733333334, 78.63634266666666, 79.09088799999999, 79.54543333333334, 79.99997866666666, 80.45452399999999, 80.45452399999999, 80.90906933333333, 81.36361466666666, 81.81815999999999, 81.81815999999999, 82.27270533333333, 82.72725066666666, 83.18179599999999, 83.18179599999999, 83.18179599999999, 83.63634133333333, 84.09088666666666, 84.54543199999999, 84.54543199999999, 84.54543199999999, 84.99997733333333, 85.45452266666666, 85.90906799999999, 85.90906799999999, 85.90906799999999, 85.90906799999999, 86.36361333333333, 86.81815866666666, 87.27270399999999, 87.27270399999999, 87.27270399999999, 87.27270399999999, 87.72724933333333, 88.18179466666666, 88.63633999999999, 89.09088533333333, 89.54543066666666, 89.99997599999999, 90.45452133333333, 90.90906666666666, 91.363612, 91.363612, 91.81815733333333, 92.27270266666666, 92.727248, 92.727248, 93.18179333333333, 93.63633866666666, 94.090884, 94.090884, 94.090884, 94.54542933333333, 94.99997466666666, 95.45452, 95.45452, 95.45452, 95.90906533333333, 96.36361066666666, 96.818156, 96.818156, 96.818156, 96.818156, 97.27270133333333, 97.72724666666666, 98.181792, 98.181792, 98.181792, 98.181792, 98.63633733333333, 99.09088266666666, 99.545428, 99.99997333333333, 100.45451866666666, 100.909064, 100.909064, 100.909064, 100.909064, 101.36360933333333, 101.81815466666666, 102.2727, 102.72724533333333, 103.18179066666666, 103.636336, 103.636336, 103.636336, 103.636336, 104.09088133333333, 104.54542666666666, 104.999972, 105.45451733333333, 105.90906266666666, 106.363608, 106.363608, 106.363608, 106.363608, 106.81815333333333, 107.27269866666666, 107.727244, 108.18178933333333, 108.63633466666666, 109.09088, 109.09088, 109.09088, 109.09088, 109.54542533333333, 109.99997066666666, 110.454516, 110.90906133333333, 111.36360666666667, 111.818152, 111.818152, 111.818152, 111.818152, 112.27269733333333, 112.72724266666667, 113.181788, 113.63633333333333, 114.09087866666667, 114.545424, 114.545424, 114.545424, 114.99996933333333, 115.45451466666667, 115.90906, 116.36360533333333, 116.81815066666667, 117.272696, 117.272696, 117.272696, 117.72724133333332, 118.18178666666667, 118.636332, 118.636332, 119.09087733333332, 119.54542266666667, 119.999968, 119.999968, 119.999968, 119.999968, 120.45451333333332, 120.90905866666667, 121.363604, 121.81814933333332, 122.27269466666667, 122.72724, 123.18178533333332, 123.63633066666667, 124.090876, 124.090876, 124.54542133333332, 124.99996666666667, 125.113603, 125.454512, 125.454512, 125.454512, 125.454512, 125.454512, 125.90905733333332, 126.36360266666667, 126.818148, 127.27269333333332, 127.72723866666666, 128.181784, 128.63632933333332, 129.09087466666665, 129.54542, 129.54542, 129.99996533333334, 130.45451066666666, 130.56814699999998, 130.909056, 130.909056, 130.909056, 130.909056, 131.36360133333332, 131.81814666666665, 132.272692, 132.72723733333333, 133.18178266666666, 133.636328, 133.636328, 133.636328, 133.636328, 134.09087333333332, 134.54541866666665, 134.999964, 134.999964, 134.999964, 134.999964, 135.45450933333333, 135.90905466666666, 136.3636, 136.3636, 136.3636, 136.3636, 136.3636, 136.81814533333332, 137.27269066666665, 137.727236, 138.18178133333333, 138.63632666666666, 139.090872, 139.54541733333332, 139.99996266666665, 140.454508, 140.454508, 140.454508, 140.454508, 140.454508, 140.90905333333333, 141.36359866666666, 141.818144, 141.818144, 141.818144, 141.818144, 141.818144, 142.27268933333332, 142.72723466666667, 143.18178, 143.63632533333333, 144.09087066666666, 144.545416, 144.545416, 144.545416, 144.545416, 144.99996133333332, 145.45450666666667, 145.909052, 145.909052, 145.909052, 145.909052, 146.36359733333333, 146.81814266666666, 147.272688, 147.272688, 147.272688, 147.72723333333332, 148.18177866666667, 148.636324, 149.09086933333333, 149.54541466666666, 149.99996, 150.45450533333332, 150.90905066666667, 151.363596, 151.81814133333333, 152.27268666666666, 152.727232, 152.727232, 153.18177733333332, 153.63632266666667, 154.090868, 154.54541333333333, 154.99995866666666, 155.454504, 155.90904933333331, 156.36359466666667, 156.81814, 157.27268533333333, 157.72723066666666, 158.18177599999999, 158.18177599999999, 158.18177599999999, 158.6363213333333, 159.09086666666667, 159.545412, 159.99995733333333, 160.45450266666666, 160.90904799999998, 161.3635933333333, 161.81813866666667, 162.272684, 162.72722933333333, 163.18177466666666, 163.63631999999998, 163.63631999999998, 164.09086533333334, 164.54541066666667, 164.999956, 165.45450133333333, 165.90904666666665, 166.36359199999998, 166.81813733333334, 167.27268266666667, 167.727228, 168.18177333333333, 168.63631866666665, 169.09086399999998, 169.09086399999998, 169.09086399999998, 169.54540933333334, 169.99995466666667, 170.4545, 170.90904533333332, 171.36359066666665, 171.81813599999998, 172.27268133333334, 172.72722666666667, 173.181772, 173.63631733333332, 174.09086266666665, 174.54540799999998, 174.54540799999998, 174.54540799999998, 174.99995333333334, 175.45449866666667, 175.909044, 176.36358933333332, 176.81813466666665, 177.27267999999998, 177.72722533333334, 178.18177066666667, 178.636316, 179.09086133333332, 179.54540666666665, 179.99995199999998, 179.99995199999998, 179.99995199999998, 180.45449733333334, 180.90904266666666, 181.363588, 181.81813333333332, 182.27267866666665, 182.727224, 183.18176933333334, 183.63631466666666, 184.09086, 184.54540533333332, 184.99995066666665, 185.454496, 185.454496, 185.454496, 185.90904133333333, 186.36358666666666, 186.818132, 187.27267733333332, 187.72722266666665, 188.181768, 188.63631333333333, 189.09085866666666, 189.545404, 189.99994933333332, 190.45449466666665, 190.90904, 191.36358533333333, 191.81813066666666, 192.272676, 192.72722133333332, 193.18176666666665, 193.636312, 194.09085733333333, 194.54540266666666, 194.999948, 195.45449333333332, 195.90903866666665, 196.363584, 196.81812933333333, 197.27267466666666, 197.72722, 198.18176533333332, 198.63631066666665, 199.090856, 199.54540133333333, 199.99994666666666, 200.454492, 200.90903733333332, 201.36358266666664, 201.818128, 201.818128, 201.818128, 202.27267333333333, 202.72721866666666, 203.181764, 203.63630933333332, 204.09085466666667, 204.5454, 204.99994533333333, 205.45449066666666, 205.909036, 206.36358133333331, 206.81812666666667, 207.272672, 207.272672, 207.272672, 207.72721733333333, 208.18176266666666, 208.63630799999999, 209.0908533333333, 209.54539866666667, 209.999944, 210.45448933333333, 210.90903466666666, 211.36357999999998, 211.8181253333333, 212.27267066666667, 212.727216, 212.727216, 212.727216, 213.18176133333333, 213.63630666666666, 214.09085199999998, 214.5453973333333, 214.99994266666667, 215.454488, 215.454488, 215.454488, 215.90903333333333, 216.36357866666665, 216.81812399999998, 217.2726693333333, 217.72721466666667, 218.18176, 218.18176, 218.18176, 218.63630533333333, 219.09085066666665, 219.54539599999998, 219.9999413333333, 220.45448666666667, 220.909032, 220.909032, 220.909032, 221.36357733333332, 221.81812266666665, 222.27266799999998, 222.72721333333334, 223.18175866666667, 223.636304, 223.636304, 223.636304, 223.636304, 224.09084933333332, 224.54539466666665, 224.99993999999998, 225.45448533333334, 225.90903066666667, 226.363576, 226.81812133333332, 227.27266666666665, 227.72721199999998, 227.72721199999998, 228.18175733333334, 228.63630266666667, 228.74993899999998, 229.090848, 229.090848, 229.090848, 229.090848, 229.090848, 229.54539333333332, 229.99993866666665, 230.45448399999998, 230.90902933333334, 231.36357466666666, 231.81812, 232.27266533333332, 232.72721066666665, 233.18175599999998, 233.18175599999998, 233.63630133333334, 234.09084666666666, 234.20448299999998, 234.545392, 234.545392, 234.545392, 234.545392, 234.99993733333332, 235.45448266666665, 235.90902799999998, 236.36357333333333, 236.81811866666666, 237.272664, 237.272664, 237.272664, 237.272664, 237.72720933333332, 238.18175466666665, 238.63629999999998, 239.09084533333333, 239.54539066666666, 239.999936, 239.999936, 239.999936, 239.999936, 240.45448133333332, 240.90902666666665, 241.36357199999998, 241.81811733333333, 242.27266266666666, 242.727208, 242.727208, 242.727208, 242.727208, 243.18175333333332, 243.63629866666665, 244.090844, 244.090844, 244.54538933333333, 244.99993466666666, 245.45448, 245.45448, 245.45448, 245.45448, 245.90902533333332, 246.36357066666665, 246.818116, 247.27266133333333, 247.72720666666666, 248.181752, 248.63629733333332, 249.09084266666665, 249.545388, 249.545388, 249.99993333333333, 250.45447866666666, 250.56811499999998, 250.909024, 250.909024, 250.909024, 250.909024, 251.36356933333332, 251.81811466666665, 252.27266, 252.72720533333333, 253.18175066666666, 253.636296, 254.09084133333332, 254.54538666666664, 254.999932, 254.999932, 255.45447733333333, 255.90902266666666, 256.022659, 256.363568, 256.363568, 256.363568, 256.363568, 256.8181133333333, 257.27265866666664, 257.727204, 258.1817493333333, 258.63629466666663, 259.09084, 259.09084, 259.09084, 259.09084, 259.54538533333334, 259.99993066666667, 260.454476, 260.454476, 260.454476, 260.454476, 260.9090213333333, 261.36356666666666, 261.818112, 261.818112, 261.818112, 261.818112, 261.818112, 262.2726573333333, 262.72720266666664, 263.18174799999997, 263.6362933333333, 264.0908386666667, 264.545384, 264.545384, 264.545384, 264.545384, 264.545384, 264.99992933333334, 265.45447466666667, 265.90902, 266.3635653333333, 266.81811066666666, 267.272656, 267.272656, 267.272656, 267.272656, 267.7272013333333, 268.18174666666664, 268.63629199999997, 269.0908373333333, 269.5453826666667, 269.999928, 269.999928, 269.999928, 269.999928, 270.45447333333334, 270.90901866666667, 271.363564, 271.8181093333333, 272.27265466666665, 272.7272, 272.7272, 272.7272, 272.7272, 273.1817453333333, 273.63629066666664, 274.09083599999997, 274.5453813333333, 274.9999266666667, 275.454472, 275.90901733333334, 276.36356266666667, 276.818108, 276.818108, 277.2726533333333, 277.72719866666665, 278.181744, 278.181744, 278.6362893333333, 279.09083466666664, 279.54537999999997, 279.54537999999997, 279.54537999999997, 279.9999253333333, 280.4544706666667, 280.909016, 280.909016, 280.909016, 281.36356133333334, 281.81810666666667, 282.272652, 282.272652, 282.272652, 282.272652, 282.7271973333333, 283.18174266666665, 283.636288, 283.636288, 283.636288, 283.636288, 284.0908333333333, 284.54537866666664, 284.99992399999996, 285.45446933333335, 285.9090146666667, 286.36356, 286.81810533333334, 287.27265066666666, 287.727196, 287.727196, 288.1817413333333, 288.63628666666665, 289.090832, 289.090832, 289.5453773333333, 289.99992266666663, 290.45446799999996, 290.45446799999996, 290.45446799999996, 290.90901333333335, 291.3635586666667, 291.818104, 291.818104, 291.818104, 292.27264933333333, 292.72719466666666, 293.18174, 293.18174, 293.18174, 293.18174, 293.6362853333333, 294.09083066666665, 294.545376, 294.545376, 294.545376, 294.545376, 294.9999213333333, 295.45446666666663, 295.90901199999996, 296.36355733333335, 296.8181026666667, 297.272648, 297.272648, 297.272648, 297.272648, 297.72719333333333, 298.18173866666666, 298.636284, 299.0908293333333, 299.54537466666665, 299.99992, 299.99992, 299.99992, 299.99992, 300.4544653333333, 300.90901066666663, 301.36355599999996, 301.81810133333335, 302.2726466666667, 302.727192, 303.18173733333333, 303.63628266666666, 304.090828, 304.090828, 304.090828, 304.090828, 304.5453733333333, 304.99991866666664, 305.454464, 305.454464, 305.454464, 305.454464, 305.9090093333333, 306.36355466666663, 306.8181, 306.8181, 306.8181, 306.8181, 307.27264533333334, 307.7271906666667, 308.181736, 308.181736, 308.181736, 308.181736, 308.63628133333333, 309.09082666666666, 309.545372, 309.545372, 309.545372, 309.545372, 309.9999173333333, 310.45446266666664, 310.909008, 310.909008, 310.909008, 310.909008, 311.3635533333333, 311.81809866666663, 312.272644, 312.72718933333334, 313.18173466666667, 313.63628, 313.63628, 313.63628, 313.63628, 314.0908253333333, 314.54537066666666, 314.999916, 314.999916, 314.999916, 314.999916, 315.4544613333333, 315.90900666666664, 316.36355199999997, 316.36355199999997, 316.36355199999997, 316.36355199999997, 316.8180973333333, 317.2726426666666, 317.727188, 318.18173333333334, 318.63627866666667, 319.090824, 319.090824, 319.090824, 319.090824, 319.5453693333333, 319.99991466666665, 320.45446, 320.9090053333333, 321.36355066666664, 321.81809599999997, 321.81809599999997, 321.81809599999997, 321.81809599999997, 322.2726413333333, 322.7271866666666, 323.181732, 323.63627733333334, 324.09082266666667, 324.545368, 324.9999133333333, 325.45445866666665, 325.909004, 325.909004, 326.3635493333333, 326.81809466666664, 326.931731, 327.27263999999997, 327.27263999999997, 327.27263999999997, 327.7271853333333, 328.1817306666667, 328.636276, 329.09082133333334, 329.54536666666667, 329.999912, 330.4544573333333, 330.90900266666665, 331.363548, 331.363548, 331.8180933333333, 332.27263866666664, 332.386275, 332.72718399999997, 332.72718399999997, 332.72718399999997, 333.1817293333333, 333.6362746666667, 334.09082, 334.54536533333334, 334.99991066666666, 335.454456, 335.9090013333333, 336.36354666666665, 336.818092, 336.818092, 337.2726373333333, 337.72718266666664, 337.840819, 338.18172799999996, 338.18172799999996, 338.18172799999996, 338.6362733333333, 339.0908186666667, 339.545364, 339.99990933333333, 340.45445466666666, 340.909, 341.3635453333333, 341.81809066666665, 342.272636, 342.272636, 342.7271813333333, 343.18172666666663, 343.295363, 343.63627199999996, 343.63627199999996, 343.63627199999996, 343.63627199999996, 344.09081733333335, 344.5453626666667, 344.999908, 345.45445333333333, 345.90899866666666, 346.363544, 346.8180893333333, 347.27263466666665, 347.72718, 347.72718, 348.1817253333333, 348.63627066666663, 348.749907, 349.09081599999996, 349.09081599999996, 349.09081599999996, 349.54536133333335, 349.9999066666667, 350.454452, 350.90899733333333, 351.36354266666666, 351.818088, 352.2726333333333, 352.72717866666665, 353.181724, 353.181724, 353.6362693333333, 354.09081466666663, 354.204451, 354.54535999999996, 354.54535999999996, 354.54535999999996, 354.54535999999996, 354.99990533333334, 355.4544506666667, 355.908996, 356.36354133333333, 356.81808666666666, 357.272632, 357.7271773333333, 358.18172266666664, 358.636268, 359.0908133333333, 359.54535866666663, 359.99990399999996, 360.45444933333334, 360.9089946666667, 361.36354, 361.81808533333333, 362.27263066666666, 362.727176, 363.1817213333333, 363.63626666666664, 364.09081199999997, 364.5453573333333, 364.9999026666666, 365.454448, 368.18172, 368.18172, 368.18172, 368.18172, 368.18172, 368.18172, 370.908992, 370.908992, 370.908992, 370.908992, 370.908992, 370.908992]\n"
     ]
    }
   ],
   "source": [
    "def time_pitch(file):\n",
    "    midi_data = pretty_midi.PrettyMIDI(file)\n",
    "    score = libfmp.c1.midi_to_list(midi_data)\n",
    "    df = pd.DataFrame(score, columns=['Start', 'Duration', 'Pitch', 'Velocity', 'Instrument'])\n",
    "    df = df.sort_values(['Start','Pitch'], ascending=[True, True]) # sort the dataframe properly\n",
    "    lst = list(df.Start)\n",
    "    return lst\n",
    "    \n",
    "for file in file_list_BPS:\n",
    "    keys_list_bps = time_pitch(file)\n",
    "    print(keys_list_bps)\n",
    "    break\n",
    "    \n",
    "#for file in file_list_ABC:\n",
    "#    abc = time_pitch(file)\n",
    "#    keys_list_abc = list(abc)\n",
    "#    print(keys_list_abc)"
   ]
  },
  {
   "cell_type": "code",
   "execution_count": 20,
   "id": "b5a8e6bb",
   "metadata": {
    "scrolled": false
   },
   "outputs": [],
   "source": [
    "import pdb\n",
    "\n",
    "def HCDF(path, sigma=10, distance='Euclidean'):\n",
    "    f_measure_results = []\n",
    "    precision_results = []\n",
    "    recall_results = []\n",
    "    if(path == file_list_BPS):\n",
    "        print(\"HCDF in BPS Dataset\", sigma, distance)\n",
    "    elif(path == file_list_ABC):\n",
    "        print(\"HCDF in ABC Dataset\", sigma, distance)\n",
    "    else:\n",
    "        print(\"Not used dataset! Try again\")\n",
    "    for file in path:\n",
    "        midi_vector = Read_midi(file,28).read_file()\n",
    "        vec = (list(midi_vector.values()))[0]\n",
    "        chroma_vector = midi2chroma(vec)\n",
    "        time_values = time_pitch(file)\n",
    "        \n",
    "#         for i in range(0, len(time_values)):\n",
    "#            for j in range(i+1, len(time_values)):\n",
    "#                if(time_values[i] > time_values[j]):\n",
    "#                    temp = time_values[i]    \n",
    "#                    time_values[i] = time_values[j]    \n",
    "#                    time_values[j] = temp\n",
    "#         pdb.set_trace()\n",
    "         \n",
    "        changes, hcdf_changes, harmonic_function = harmonic_change(chroma=chroma_vector, symbolic=True, sigma=sigma, dist=distance)\n",
    "        #print(changes, hcdf_changes, harmonic_function)\n",
    "        \n",
    "        changes_ground_truth = np.array(time_values)\n",
    "        #changes_ground_truth = np.array([item[0] for item in vec])\n",
    "        #print(changes_ground_truth)\n",
    "        \n",
    "        f_measure, precision, recall = mir_eval.onset.f_measure(changes_ground_truth, changes/220, window=0.16) #same window than Harte\n",
    "        f_measure_results.append(f_measure)\n",
    "        precision_results.append(precision)\n",
    "        recall_results.append(recall)\n",
    "    return np.mean(np.array(f_measure_results)), np.mean(np.array(precision_results)), np.mean(np.array(recall_results))"
   ]
  },
  {
   "cell_type": "code",
   "execution_count": 14,
   "id": "f4aabca7",
   "metadata": {},
   "outputs": [],
   "source": [
    "def tune_sigma_plot(evaluation_result):\n",
    "    sigma_list = []; type_metric = []; metrics = []\n",
    "    for s, v in evaluation_result.items():\n",
    "        f, p, r = v\n",
    "        # F-Measure\n",
    "        sigma_list.append(s)\n",
    "        type_metric.append(\"F_score\")\n",
    "        metrics.append(f)\n",
    "        # Precision\n",
    "        sigma_list.append(s)\n",
    "        type_metric.append(\"Precision\")\n",
    "        metrics.append(p)\n",
    "        # Recall\n",
    "        sigma_list.append(s)\n",
    "        type_metric.append(\"Recall\")\n",
    "        metrics.append(r)\n",
    "    df_dict = {\n",
    "        \"sigma\": sigma_list,\n",
    "        \"metric\": type_metric,\n",
    "        \"value\": metrics\n",
    "    }\n",
    "\n",
    "    df = pd.DataFrame(df_dict)\n",
    "    fig = px.line(df, x=\"sigma\", y=\"value\", color=\"metric\", render_mode=\"svg\")\n",
    "    fig.show()"
   ]
  },
  {
   "cell_type": "markdown",
   "id": "18517c77",
   "metadata": {},
   "source": [
    "HCDF in BPS Dataset"
   ]
  },
  {
   "cell_type": "code",
   "execution_count": 26,
   "id": "9f752b36",
   "metadata": {},
   "outputs": [
    {
     "name": "stdout",
     "output_type": "stream",
     "text": [
      "HCDF in BPS Dataset 7 Euclidean\n"
     ]
    },
    {
     "data": {
      "text/plain": [
       "(0.31358197641919894, 0.6783363812020357, 0.207996971554495)"
      ]
     },
     "execution_count": 26,
     "metadata": {},
     "output_type": "execute_result"
    }
   ],
   "source": [
    "HCDF(file_list_BPS, sigma = 7, distance = 'Euclidean')"
   ]
  },
  {
   "cell_type": "code",
   "execution_count": 23,
   "id": "7c97c5cc",
   "metadata": {
    "scrolled": false
   },
   "outputs": [
    {
     "name": "stdout",
     "output_type": "stream",
     "text": [
      "HCDF in BPS Dataset 1 euclidean\n",
      "HCDF in BPS Dataset 11 euclidean\n"
     ]
    },
    {
     "ename": "KeyboardInterrupt",
     "evalue": "",
     "output_type": "error",
     "traceback": [
      "\u001b[0;31m---------------------------------------------------------------------------\u001b[0m",
      "\u001b[0;31mKeyboardInterrupt\u001b[0m                         Traceback (most recent call last)",
      "\u001b[0;32m/var/folders/rg/clb19c1545g081f6_92m46tm0000gn/T/ipykernel_5606/2075740714.py\u001b[0m in \u001b[0;36m<module>\u001b[0;34m\u001b[0m\n\u001b[1;32m      1\u001b[0m results_euclidean_BPS = {\n\u001b[1;32m      2\u001b[0m     \u001b[0msigma\u001b[0m\u001b[0;34m:\u001b[0m \u001b[0mHCDF\u001b[0m\u001b[0;34m(\u001b[0m\u001b[0mfile_list_BPS\u001b[0m\u001b[0;34m,\u001b[0m \u001b[0msigma\u001b[0m\u001b[0;34m=\u001b[0m\u001b[0msigma\u001b[0m\u001b[0;34m,\u001b[0m \u001b[0mdistance\u001b[0m\u001b[0;34m=\u001b[0m\u001b[0;34m'euclidean'\u001b[0m\u001b[0;34m)\u001b[0m\u001b[0;34m\u001b[0m\u001b[0;34m\u001b[0m\u001b[0m\n\u001b[0;32m----> 3\u001b[0;31m     \u001b[0;32mfor\u001b[0m \u001b[0msigma\u001b[0m \u001b[0;32min\u001b[0m \u001b[0mrange\u001b[0m\u001b[0;34m(\u001b[0m\u001b[0;36m1\u001b[0m\u001b[0;34m,\u001b[0m \u001b[0;36m52\u001b[0m\u001b[0;34m,\u001b[0m \u001b[0;36m10\u001b[0m\u001b[0;34m)\u001b[0m\u001b[0;34m\u001b[0m\u001b[0;34m\u001b[0m\u001b[0m\n\u001b[0m\u001b[1;32m      4\u001b[0m }\n\u001b[1;32m      5\u001b[0m \u001b[0;34m\u001b[0m\u001b[0m\n",
      "\u001b[0;32m/var/folders/rg/clb19c1545g081f6_92m46tm0000gn/T/ipykernel_5606/2075740714.py\u001b[0m in \u001b[0;36m<dictcomp>\u001b[0;34m(.0)\u001b[0m\n\u001b[1;32m      1\u001b[0m results_euclidean_BPS = {\n\u001b[1;32m      2\u001b[0m     \u001b[0msigma\u001b[0m\u001b[0;34m:\u001b[0m \u001b[0mHCDF\u001b[0m\u001b[0;34m(\u001b[0m\u001b[0mfile_list_BPS\u001b[0m\u001b[0;34m,\u001b[0m \u001b[0msigma\u001b[0m\u001b[0;34m=\u001b[0m\u001b[0msigma\u001b[0m\u001b[0;34m,\u001b[0m \u001b[0mdistance\u001b[0m\u001b[0;34m=\u001b[0m\u001b[0;34m'euclidean'\u001b[0m\u001b[0;34m)\u001b[0m\u001b[0;34m\u001b[0m\u001b[0;34m\u001b[0m\u001b[0m\n\u001b[0;32m----> 3\u001b[0;31m     \u001b[0;32mfor\u001b[0m \u001b[0msigma\u001b[0m \u001b[0;32min\u001b[0m \u001b[0mrange\u001b[0m\u001b[0;34m(\u001b[0m\u001b[0;36m1\u001b[0m\u001b[0;34m,\u001b[0m \u001b[0;36m52\u001b[0m\u001b[0;34m,\u001b[0m \u001b[0;36m10\u001b[0m\u001b[0;34m)\u001b[0m\u001b[0;34m\u001b[0m\u001b[0;34m\u001b[0m\u001b[0m\n\u001b[0m\u001b[1;32m      4\u001b[0m }\n\u001b[1;32m      5\u001b[0m \u001b[0;34m\u001b[0m\u001b[0m\n",
      "\u001b[0;32m/var/folders/rg/clb19c1545g081f6_92m46tm0000gn/T/ipykernel_5606/2716967098.py\u001b[0m in \u001b[0;36mHCDF\u001b[0;34m(path, sigma, distance)\u001b[0m\n\u001b[1;32m     25\u001b[0m \u001b[0;31m#         pdb.set_trace()\u001b[0m\u001b[0;34m\u001b[0m\u001b[0;34m\u001b[0m\u001b[0;34m\u001b[0m\u001b[0m\n\u001b[1;32m     26\u001b[0m \u001b[0;34m\u001b[0m\u001b[0m\n\u001b[0;32m---> 27\u001b[0;31m         \u001b[0mchanges\u001b[0m\u001b[0;34m,\u001b[0m \u001b[0mhcdf_changes\u001b[0m\u001b[0;34m,\u001b[0m \u001b[0mharmonic_function\u001b[0m \u001b[0;34m=\u001b[0m \u001b[0mharmonic_change\u001b[0m\u001b[0;34m(\u001b[0m\u001b[0mchroma\u001b[0m\u001b[0;34m=\u001b[0m\u001b[0mchroma_vector\u001b[0m\u001b[0;34m,\u001b[0m \u001b[0msymbolic\u001b[0m\u001b[0;34m=\u001b[0m\u001b[0;32mTrue\u001b[0m\u001b[0;34m,\u001b[0m \u001b[0msigma\u001b[0m\u001b[0;34m=\u001b[0m\u001b[0msigma\u001b[0m\u001b[0;34m,\u001b[0m \u001b[0mdist\u001b[0m\u001b[0;34m=\u001b[0m\u001b[0mdistance\u001b[0m\u001b[0;34m)\u001b[0m\u001b[0;34m\u001b[0m\u001b[0;34m\u001b[0m\u001b[0m\n\u001b[0m\u001b[1;32m     28\u001b[0m         \u001b[0;31m#print(changes, hcdf_changes, harmonic_function)\u001b[0m\u001b[0;34m\u001b[0m\u001b[0;34m\u001b[0m\u001b[0;34m\u001b[0m\u001b[0m\n\u001b[1;32m     29\u001b[0m \u001b[0;34m\u001b[0m\u001b[0m\n",
      "\u001b[0;32m/var/folders/rg/clb19c1545g081f6_92m46tm0000gn/T/ipykernel_5606/43022537.py\u001b[0m in \u001b[0;36mharmonic_change\u001b[0;34m(chroma, window_size, symbolic, sigma, dist)\u001b[0m\n\u001b[1;32m      2\u001b[0m \u001b[0;31m#     pdb.set_trace()\u001b[0m\u001b[0;34m\u001b[0m\u001b[0;34m\u001b[0m\u001b[0;34m\u001b[0m\u001b[0m\n\u001b[1;32m      3\u001b[0m     \u001b[0mchroma\u001b[0m \u001b[0;34m=\u001b[0m \u001b[0mnp\u001b[0m\u001b[0;34m.\u001b[0m\u001b[0marray\u001b[0m\u001b[0;34m(\u001b[0m\u001b[0mchroma\u001b[0m\u001b[0;34m)\u001b[0m\u001b[0;34m.\u001b[0m\u001b[0mtranspose\u001b[0m\u001b[0;34m(\u001b[0m\u001b[0;34m)\u001b[0m\u001b[0;34m\u001b[0m\u001b[0;34m\u001b[0m\u001b[0m\n\u001b[0;32m----> 4\u001b[0;31m     \u001b[0mcentroid_vector\u001b[0m \u001b[0;34m=\u001b[0m \u001b[0mtonalIntervalSpace\u001b[0m\u001b[0;34m(\u001b[0m\u001b[0mchroma\u001b[0m\u001b[0;34m,\u001b[0m \u001b[0msymbolic\u001b[0m\u001b[0;34m=\u001b[0m\u001b[0;32mTrue\u001b[0m\u001b[0;34m)\u001b[0m\u001b[0;34m\u001b[0m\u001b[0;34m\u001b[0m\u001b[0m\n\u001b[0m\u001b[1;32m      5\u001b[0m \u001b[0;34m\u001b[0m\u001b[0m\n\u001b[1;32m      6\u001b[0m     \u001b[0;31m# Blur\u001b[0m\u001b[0;34m\u001b[0m\u001b[0;34m\u001b[0m\u001b[0;34m\u001b[0m\u001b[0m\n",
      "\u001b[0;32m/var/folders/rg/clb19c1545g081f6_92m46tm0000gn/T/ipykernel_5606/1825902974.py\u001b[0m in \u001b[0;36mtonalIntervalSpace\u001b[0;34m(chroma, symbolic)\u001b[0m\n\u001b[1;32m     21\u001b[0m     \u001b[0mcentroid_vector\u001b[0m \u001b[0;34m=\u001b[0m \u001b[0;34m[\u001b[0m\u001b[0;34m]\u001b[0m\u001b[0;34m\u001b[0m\u001b[0;34m\u001b[0m\u001b[0m\n\u001b[1;32m     22\u001b[0m     \u001b[0;32mfor\u001b[0m \u001b[0mi\u001b[0m \u001b[0;32min\u001b[0m \u001b[0mrange\u001b[0m\u001b[0;34m(\u001b[0m\u001b[0;36m0\u001b[0m\u001b[0;34m,\u001b[0m \u001b[0mchroma\u001b[0m\u001b[0;34m.\u001b[0m\u001b[0mshape\u001b[0m\u001b[0;34m[\u001b[0m\u001b[0;36m1\u001b[0m\u001b[0;34m]\u001b[0m\u001b[0;34m)\u001b[0m\u001b[0;34m:\u001b[0m\u001b[0;34m\u001b[0m\u001b[0;34m\u001b[0m\u001b[0m\n\u001b[0;32m---> 23\u001b[0;31m         \u001b[0meach_chroma\u001b[0m \u001b[0;34m=\u001b[0m \u001b[0;34m[\u001b[0m\u001b[0mchroma\u001b[0m\u001b[0;34m[\u001b[0m\u001b[0mj\u001b[0m\u001b[0;34m]\u001b[0m\u001b[0;34m[\u001b[0m\u001b[0mi\u001b[0m\u001b[0;34m]\u001b[0m \u001b[0;32mfor\u001b[0m \u001b[0mj\u001b[0m \u001b[0;32min\u001b[0m \u001b[0mrange\u001b[0m\u001b[0;34m(\u001b[0m\u001b[0;36m0\u001b[0m\u001b[0;34m,\u001b[0m \u001b[0mchroma\u001b[0m\u001b[0;34m.\u001b[0m\u001b[0mshape\u001b[0m\u001b[0;34m[\u001b[0m\u001b[0;36m0\u001b[0m\u001b[0;34m]\u001b[0m\u001b[0;34m)\u001b[0m\u001b[0;34m]\u001b[0m\u001b[0;34m\u001b[0m\u001b[0;34m\u001b[0m\u001b[0m\n\u001b[0m\u001b[1;32m     24\u001b[0m         \u001b[0meach_chroma\u001b[0m \u001b[0;34m=\u001b[0m \u001b[0mnp\u001b[0m\u001b[0;34m.\u001b[0m\u001b[0marray\u001b[0m\u001b[0;34m(\u001b[0m\u001b[0meach_chroma\u001b[0m\u001b[0;34m)\u001b[0m\u001b[0;34m\u001b[0m\u001b[0;34m\u001b[0m\u001b[0m\n\u001b[1;32m     25\u001b[0m         \u001b[0;32mif\u001b[0m \u001b[0mall_zero\u001b[0m\u001b[0;34m(\u001b[0m\u001b[0meach_chroma\u001b[0m\u001b[0;34m)\u001b[0m\u001b[0;34m:\u001b[0m\u001b[0;34m\u001b[0m\u001b[0;34m\u001b[0m\u001b[0m\n",
      "\u001b[0;32m/var/folders/rg/clb19c1545g081f6_92m46tm0000gn/T/ipykernel_5606/1825902974.py\u001b[0m in \u001b[0;36m<listcomp>\u001b[0;34m(.0)\u001b[0m\n\u001b[1;32m     21\u001b[0m     \u001b[0mcentroid_vector\u001b[0m \u001b[0;34m=\u001b[0m \u001b[0;34m[\u001b[0m\u001b[0;34m]\u001b[0m\u001b[0;34m\u001b[0m\u001b[0;34m\u001b[0m\u001b[0m\n\u001b[1;32m     22\u001b[0m     \u001b[0;32mfor\u001b[0m \u001b[0mi\u001b[0m \u001b[0;32min\u001b[0m \u001b[0mrange\u001b[0m\u001b[0;34m(\u001b[0m\u001b[0;36m0\u001b[0m\u001b[0;34m,\u001b[0m \u001b[0mchroma\u001b[0m\u001b[0;34m.\u001b[0m\u001b[0mshape\u001b[0m\u001b[0;34m[\u001b[0m\u001b[0;36m1\u001b[0m\u001b[0;34m]\u001b[0m\u001b[0;34m)\u001b[0m\u001b[0;34m:\u001b[0m\u001b[0;34m\u001b[0m\u001b[0;34m\u001b[0m\u001b[0m\n\u001b[0;32m---> 23\u001b[0;31m         \u001b[0meach_chroma\u001b[0m \u001b[0;34m=\u001b[0m \u001b[0;34m[\u001b[0m\u001b[0mchroma\u001b[0m\u001b[0;34m[\u001b[0m\u001b[0mj\u001b[0m\u001b[0;34m]\u001b[0m\u001b[0;34m[\u001b[0m\u001b[0mi\u001b[0m\u001b[0;34m]\u001b[0m \u001b[0;32mfor\u001b[0m \u001b[0mj\u001b[0m \u001b[0;32min\u001b[0m \u001b[0mrange\u001b[0m\u001b[0;34m(\u001b[0m\u001b[0;36m0\u001b[0m\u001b[0;34m,\u001b[0m \u001b[0mchroma\u001b[0m\u001b[0;34m.\u001b[0m\u001b[0mshape\u001b[0m\u001b[0;34m[\u001b[0m\u001b[0;36m0\u001b[0m\u001b[0;34m]\u001b[0m\u001b[0;34m)\u001b[0m\u001b[0;34m]\u001b[0m\u001b[0;34m\u001b[0m\u001b[0;34m\u001b[0m\u001b[0m\n\u001b[0m\u001b[1;32m     24\u001b[0m         \u001b[0meach_chroma\u001b[0m \u001b[0;34m=\u001b[0m \u001b[0mnp\u001b[0m\u001b[0;34m.\u001b[0m\u001b[0marray\u001b[0m\u001b[0;34m(\u001b[0m\u001b[0meach_chroma\u001b[0m\u001b[0;34m)\u001b[0m\u001b[0;34m\u001b[0m\u001b[0;34m\u001b[0m\u001b[0m\n\u001b[1;32m     25\u001b[0m         \u001b[0;32mif\u001b[0m \u001b[0mall_zero\u001b[0m\u001b[0;34m(\u001b[0m\u001b[0meach_chroma\u001b[0m\u001b[0;34m)\u001b[0m\u001b[0;34m:\u001b[0m\u001b[0;34m\u001b[0m\u001b[0;34m\u001b[0m\u001b[0m\n",
      "\u001b[0;31mKeyboardInterrupt\u001b[0m: "
     ]
    }
   ],
   "source": [
    "results_euclidean_BPS = {\n",
    "    sigma: HCDF(file_list_BPS, sigma=sigma, distance='Euclidean') \n",
    "    for sigma in range(1, 52, 10)\n",
    "}\n",
    "\n",
    "tune_sigma_plot(results_euclidean_BPS)\n",
    "\n",
    "results_cosine_BPS = {\n",
    "    sigma: HCDF(file_list_BPS, sigma=sigma, distance='cosine') \n",
    "    for sigma in range(1, 52, 10)\n",
    "}\n",
    "tune_sigma_plot(results_cosine_BPS)"
   ]
  },
  {
   "cell_type": "markdown",
   "id": "b258eeee",
   "metadata": {},
   "source": [
    "HCDF in ABC Dataset"
   ]
  },
  {
   "cell_type": "code",
   "execution_count": 30,
   "id": "3b0bca39",
   "metadata": {},
   "outputs": [
    {
     "name": "stdout",
     "output_type": "stream",
     "text": [
      "HCDF in ABC Dataset 6 euclidean\n",
      "Try to note off a note that has never been turned on\n",
      "Try to note off a note that has never been turned on\n",
      "Try to note off a note that has never been turned on\n",
      "Try to note off a note that has never been turned on\n",
      "Try to note off a note that has never been turned on\n",
      "Try to note off a note that has never been turned on\n",
      "Try to note off a note that has never been turned on\n",
      "Try to note off a note that has never been turned on\n",
      "Try to note off a note that has never been turned on\n",
      "Try to note off a note that has never been turned on\n",
      "Try to note off a note that has never been turned on\n",
      "Try to note off a note that has never been turned on\n",
      "Try to note off a note that has never been turned on\n",
      "Try to note off a note that has never been turned on\n",
      "Try to note off a note that has never been turned on\n",
      "Try to note off a note that has never been turned on\n",
      "Try to note off a note that has never been turned on\n",
      "Try to note off a note that has never been turned on\n",
      "Try to note off a note that has never been turned on\n",
      "Try to note off a note that has never been turned on\n",
      "Try to note off a note that has never been turned on\n",
      "Try to note off a note that has never been turned on\n",
      "Try to note off a note that has never been turned on\n",
      "Try to note off a note that has never been turned on\n",
      "Try to note off a note that has never been turned on\n",
      "Try to note off a note that has never been turned on\n",
      "Try to note off a note that has never been turned on\n",
      "Try to note off a note that has never been turned on\n",
      "Try to note off a note that has never been turned on\n",
      "Try to note off a note that has never been turned on\n",
      "Try to note off a note that has never been turned on\n",
      "Try to note off a note that has never been turned on\n",
      "Try to note off a note that has never been turned on\n",
      "Try to note off a note that has never been turned on\n",
      "Try to note off a note that has never been turned on\n",
      "Try to note off a note that has never been turned on\n",
      "Try to note off a note that has never been turned on\n",
      "Try to note off a note that has never been turned on\n",
      "Try to note off a note that has never been turned on\n",
      "Try to note off a note that has never been turned on\n",
      "Try to note off a note that has never been turned on\n",
      "Try to note off a note that has never been turned on\n",
      "Try to note off a note that has never been turned on\n",
      "Try to note off a note that has never been turned on\n",
      "Try to note off a note that has never been turned on\n",
      "Try to note off a note that has never been turned on\n",
      "Try to note off a note that has never been turned on\n",
      "Try to note off a note that has never been turned on\n",
      "Try to note off a note that has never been turned on\n",
      "Try to note off a note that has never been turned on\n",
      "Try to note off a note that has never been turned on\n",
      "Try to note off a note that has never been turned on\n",
      "Try to note off a note that has never been turned on\n",
      "Try to note off a note that has never been turned on\n",
      "Try to note off a note that has never been turned on\n",
      "Try to note off a note that has never been turned on\n",
      "Try to note off a note that has never been turned on\n",
      "Try to note off a note that has never been turned on\n",
      "Try to note off a note that has never been turned on\n",
      "Try to note off a note that has never been turned on\n",
      "Try to note off a note that has never been turned on\n",
      "Try to note off a note that has never been turned on\n",
      "Try to note off a note that has never been turned on\n",
      "Try to note off a note that has never been turned on\n",
      "Try to note off a note that has never been turned on\n",
      "Try to note off a note that has never been turned on\n",
      "Try to note off a note that has never been turned on\n",
      "Try to note off a note that has never been turned on\n",
      "Try to note off a note that has never been turned on\n",
      "Try to note off a note that has never been turned on\n",
      "Try to note off a note that has never been turned on\n",
      "Try to note off a note that has never been turned on\n",
      "Try to note off a note that has never been turned on\n",
      "Try to note off a note that has never been turned on\n",
      "Try to note off a note that has never been turned on\n",
      "Try to note off a note that has never been turned on\n",
      "Try to note off a note that has never been turned on\n",
      "Try to note off a note that has never been turned on\n",
      "Try to note off a note that has never been turned on\n",
      "Try to note off a note that has never been turned on\n",
      "Try to note off a note that has never been turned on\n",
      "Try to note off a note that has never been turned on\n",
      "Try to note off a note that has never been turned on\n",
      "Try to note off a note that has never been turned on\n",
      "Try to note off a note that has never been turned on\n",
      "Try to note off a note that has never been turned on\n",
      "Try to note off a note that has never been turned on\n",
      "Try to note off a note that has never been turned on\n",
      "Try to note off a note that has never been turned on\n",
      "Try to note off a note that has never been turned on\n",
      "Try to note off a note that has never been turned on\n",
      "Try to note off a note that has never been turned on\n",
      "Try to note off a note that has never been turned on\n",
      "Try to note off a note that has never been turned on\n",
      "Try to note off a note that has never been turned on\n",
      "Try to note off a note that has never been turned on\n",
      "Try to note off a note that has never been turned on\n",
      "Try to note off a note that has never been turned on\n",
      "Try to note off a note that has never been turned on\n",
      "Try to note off a note that has never been turned on\n",
      "Try to note off a note that has never been turned on\n",
      "Try to note off a note that has never been turned on\n",
      "Try to note off a note that has never been turned on\n",
      "Try to note off a note that has never been turned on\n",
      "Try to note off a note that has never been turned on\n",
      "Try to note off a note that has never been turned on\n",
      "Try to note off a note that has never been turned on\n",
      "Try to note off a note that has never been turned on\n",
      "Try to note off a note that has never been turned on\n",
      "Try to note off a note that has never been turned on\n",
      "Try to note off a note that has never been turned on\n",
      "Try to note off a note that has never been turned on\n",
      "Try to note off a note that has never been turned on\n",
      "Try to note off a note that has never been turned on\n",
      "Try to note off a note that has never been turned on\n",
      "Try to note off a note that has never been turned on\n",
      "Try to note off a note that has never been turned on\n",
      "Try to note off a note that has never been turned on\n",
      "Try to note off a note that has never been turned on\n",
      "Try to note off a note that has never been turned on\n",
      "Try to note off a note that has never been turned on\n",
      "Try to note off a note that has never been turned on\n",
      "Try to note off a note that has never been turned on\n",
      "Try to note off a note that has never been turned on\n",
      "Try to note off a note that has never been turned on\n",
      "Try to note off a note that has never been turned on\n",
      "Try to note off a note that has never been turned on\n",
      "Try to note off a note that has never been turned on\n",
      "Try to note off a note that has never been turned on\n",
      "Try to note off a note that has never been turned on\n",
      "Try to note off a note that has never been turned on\n",
      "Try to note off a note that has never been turned on\n",
      "Try to note off a note that has never been turned on\n",
      "Try to note off a note that has never been turned on\n",
      "Try to note off a note that has never been turned on\n",
      "Try to note off a note that has never been turned on\n",
      "Try to note off a note that has never been turned on\n",
      "Try to note off a note that has never been turned on\n",
      "Try to note off a note that has never been turned on\n",
      "Try to note off a note that has never been turned on\n",
      "Try to note off a note that has never been turned on\n",
      "Try to note off a note that has never been turned on\n",
      "Try to note off a note that has never been turned on\n",
      "Try to note off a note that has never been turned on\n",
      "Try to note off a note that has never been turned on\n",
      "Try to note off a note that has never been turned on\n",
      "Try to note off a note that has never been turned on\n",
      "Try to note off a note that has never been turned on\n",
      "Try to note off a note that has never been turned on\n",
      "Try to note off a note that has never been turned on\n",
      "Try to note off a note that has never been turned on\n",
      "Try to note off a note that has never been turned on\n",
      "Try to note off a note that has never been turned on\n",
      "Try to note off a note that has never been turned on\n",
      "Try to note off a note that has never been turned on\n",
      "Try to note off a note that has never been turned on\n",
      "Try to note off a note that has never been turned on\n",
      "Try to note off a note that has never been turned on\n",
      "Try to note off a note that has never been turned on\n",
      "Try to note off a note that has never been turned on\n",
      "Try to note off a note that has never been turned on\n",
      "Try to note off a note that has never been turned on\n",
      "Try to note off a note that has never been turned on\n",
      "Try to note off a note that has never been turned on\n",
      "Try to note off a note that has never been turned on\n",
      "Try to note off a note that has never been turned on\n",
      "Try to note off a note that has never been turned on\n",
      "Try to note off a note that has never been turned on\n",
      "Try to note off a note that has never been turned on\n"
     ]
    },
    {
     "data": {
      "text/plain": [
       "(0.002291637990130708, 1.0, 0.0011494994777617527)"
      ]
     },
     "execution_count": 30,
     "metadata": {},
     "output_type": "execute_result"
    }
   ],
   "source": [
    "HCDF(file_list_ABC, sigma = 6, distance = 'euclidean')"
   ]
  },
  {
   "cell_type": "code",
   "execution_count": 31,
   "id": "7150ad82",
   "metadata": {},
   "outputs": [
    {
     "name": "stdout",
     "output_type": "stream",
     "text": [
      "HCDF in ABC Dataset 1 euclidean\n",
      "Try to note off a note that has never been turned on\n",
      "Try to note off a note that has never been turned on\n",
      "Try to note off a note that has never been turned on\n",
      "Try to note off a note that has never been turned on\n",
      "Try to note off a note that has never been turned on\n",
      "Try to note off a note that has never been turned on\n",
      "Try to note off a note that has never been turned on\n",
      "Try to note off a note that has never been turned on\n",
      "Try to note off a note that has never been turned on\n",
      "Try to note off a note that has never been turned on\n",
      "Try to note off a note that has never been turned on\n",
      "Try to note off a note that has never been turned on\n",
      "Try to note off a note that has never been turned on\n",
      "Try to note off a note that has never been turned on\n",
      "Try to note off a note that has never been turned on\n",
      "Try to note off a note that has never been turned on\n",
      "Try to note off a note that has never been turned on\n",
      "Try to note off a note that has never been turned on\n",
      "Try to note off a note that has never been turned on\n",
      "Try to note off a note that has never been turned on\n",
      "Try to note off a note that has never been turned on\n",
      "Try to note off a note that has never been turned on\n",
      "Try to note off a note that has never been turned on\n",
      "Try to note off a note that has never been turned on\n",
      "Try to note off a note that has never been turned on\n",
      "Try to note off a note that has never been turned on\n",
      "Try to note off a note that has never been turned on\n",
      "Try to note off a note that has never been turned on\n",
      "Try to note off a note that has never been turned on\n",
      "Try to note off a note that has never been turned on\n",
      "Try to note off a note that has never been turned on\n",
      "Try to note off a note that has never been turned on\n",
      "Try to note off a note that has never been turned on\n",
      "Try to note off a note that has never been turned on\n",
      "Try to note off a note that has never been turned on\n",
      "Try to note off a note that has never been turned on\n",
      "Try to note off a note that has never been turned on\n",
      "Try to note off a note that has never been turned on\n",
      "Try to note off a note that has never been turned on\n",
      "Try to note off a note that has never been turned on\n",
      "Try to note off a note that has never been turned on\n",
      "Try to note off a note that has never been turned on\n",
      "Try to note off a note that has never been turned on\n",
      "Try to note off a note that has never been turned on\n",
      "Try to note off a note that has never been turned on\n",
      "Try to note off a note that has never been turned on\n",
      "Try to note off a note that has never been turned on\n",
      "Try to note off a note that has never been turned on\n",
      "Try to note off a note that has never been turned on\n",
      "Try to note off a note that has never been turned on\n",
      "Try to note off a note that has never been turned on\n",
      "Try to note off a note that has never been turned on\n",
      "Try to note off a note that has never been turned on\n",
      "Try to note off a note that has never been turned on\n",
      "Try to note off a note that has never been turned on\n",
      "Try to note off a note that has never been turned on\n",
      "Try to note off a note that has never been turned on\n",
      "Try to note off a note that has never been turned on\n",
      "Try to note off a note that has never been turned on\n",
      "Try to note off a note that has never been turned on\n",
      "Try to note off a note that has never been turned on\n",
      "Try to note off a note that has never been turned on\n",
      "Try to note off a note that has never been turned on\n",
      "Try to note off a note that has never been turned on\n",
      "Try to note off a note that has never been turned on\n",
      "Try to note off a note that has never been turned on\n",
      "Try to note off a note that has never been turned on\n",
      "Try to note off a note that has never been turned on\n",
      "Try to note off a note that has never been turned on\n",
      "Try to note off a note that has never been turned on\n",
      "Try to note off a note that has never been turned on\n",
      "Try to note off a note that has never been turned on\n",
      "Try to note off a note that has never been turned on\n",
      "Try to note off a note that has never been turned on\n",
      "Try to note off a note that has never been turned on\n",
      "Try to note off a note that has never been turned on\n",
      "Try to note off a note that has never been turned on\n",
      "Try to note off a note that has never been turned on\n",
      "Try to note off a note that has never been turned on\n",
      "Try to note off a note that has never been turned on\n",
      "Try to note off a note that has never been turned on\n",
      "Try to note off a note that has never been turned on\n",
      "Try to note off a note that has never been turned on\n",
      "Try to note off a note that has never been turned on\n",
      "Try to note off a note that has never been turned on\n",
      "Try to note off a note that has never been turned on\n",
      "Try to note off a note that has never been turned on\n",
      "Try to note off a note that has never been turned on\n",
      "Try to note off a note that has never been turned on\n",
      "Try to note off a note that has never been turned on\n",
      "Try to note off a note that has never been turned on\n",
      "Try to note off a note that has never been turned on\n",
      "Try to note off a note that has never been turned on\n",
      "Try to note off a note that has never been turned on\n",
      "Try to note off a note that has never been turned on\n",
      "Try to note off a note that has never been turned on\n",
      "Try to note off a note that has never been turned on\n",
      "Try to note off a note that has never been turned on\n",
      "Try to note off a note that has never been turned on\n",
      "Try to note off a note that has never been turned on\n",
      "Try to note off a note that has never been turned on\n",
      "Try to note off a note that has never been turned on\n",
      "Try to note off a note that has never been turned on\n",
      "Try to note off a note that has never been turned on\n",
      "Try to note off a note that has never been turned on\n",
      "Try to note off a note that has never been turned on\n",
      "Try to note off a note that has never been turned on\n",
      "Try to note off a note that has never been turned on\n",
      "Try to note off a note that has never been turned on\n",
      "Try to note off a note that has never been turned on\n",
      "Try to note off a note that has never been turned on\n",
      "Try to note off a note that has never been turned on\n",
      "Try to note off a note that has never been turned on\n",
      "Try to note off a note that has never been turned on\n",
      "Try to note off a note that has never been turned on\n",
      "Try to note off a note that has never been turned on\n",
      "Try to note off a note that has never been turned on\n",
      "Try to note off a note that has never been turned on\n",
      "Try to note off a note that has never been turned on\n",
      "Try to note off a note that has never been turned on\n",
      "Try to note off a note that has never been turned on\n",
      "Try to note off a note that has never been turned on\n",
      "Try to note off a note that has never been turned on\n",
      "Try to note off a note that has never been turned on\n",
      "Try to note off a note that has never been turned on\n",
      "Try to note off a note that has never been turned on\n",
      "Try to note off a note that has never been turned on\n",
      "Try to note off a note that has never been turned on\n",
      "Try to note off a note that has never been turned on\n",
      "Try to note off a note that has never been turned on\n",
      "Try to note off a note that has never been turned on\n",
      "Try to note off a note that has never been turned on\n",
      "Try to note off a note that has never been turned on\n",
      "Try to note off a note that has never been turned on\n",
      "Try to note off a note that has never been turned on\n",
      "Try to note off a note that has never been turned on\n",
      "Try to note off a note that has never been turned on\n",
      "Try to note off a note that has never been turned on\n",
      "Try to note off a note that has never been turned on\n",
      "Try to note off a note that has never been turned on\n",
      "Try to note off a note that has never been turned on\n",
      "Try to note off a note that has never been turned on\n",
      "Try to note off a note that has never been turned on\n",
      "Try to note off a note that has never been turned on\n",
      "Try to note off a note that has never been turned on\n",
      "Try to note off a note that has never been turned on\n",
      "Try to note off a note that has never been turned on\n",
      "Try to note off a note that has never been turned on\n",
      "Try to note off a note that has never been turned on\n",
      "Try to note off a note that has never been turned on\n",
      "Try to note off a note that has never been turned on\n",
      "Try to note off a note that has never been turned on\n",
      "Try to note off a note that has never been turned on\n",
      "Try to note off a note that has never been turned on\n",
      "Try to note off a note that has never been turned on\n",
      "Try to note off a note that has never been turned on\n",
      "Try to note off a note that has never been turned on\n",
      "Try to note off a note that has never been turned on\n",
      "Try to note off a note that has never been turned on\n",
      "Try to note off a note that has never been turned on\n",
      "Try to note off a note that has never been turned on\n",
      "Try to note off a note that has never been turned on\n",
      "Try to note off a note that has never been turned on\n",
      "Try to note off a note that has never been turned on\n",
      "Try to note off a note that has never been turned on\n",
      "Try to note off a note that has never been turned on\n",
      "Try to note off a note that has never been turned on\n",
      "Try to note off a note that has never been turned on\n",
      "Try to note off a note that has never been turned on\n"
     ]
    },
    {
     "name": "stdout",
     "output_type": "stream",
     "text": [
      "HCDF in ABC Dataset 11 euclidean\n",
      "Try to note off a note that has never been turned on\n",
      "Try to note off a note that has never been turned on\n",
      "Try to note off a note that has never been turned on\n",
      "Try to note off a note that has never been turned on\n",
      "Try to note off a note that has never been turned on\n",
      "Try to note off a note that has never been turned on\n",
      "Try to note off a note that has never been turned on\n",
      "Try to note off a note that has never been turned on\n",
      "Try to note off a note that has never been turned on\n",
      "Try to note off a note that has never been turned on\n",
      "Try to note off a note that has never been turned on\n",
      "Try to note off a note that has never been turned on\n",
      "Try to note off a note that has never been turned on\n",
      "Try to note off a note that has never been turned on\n",
      "Try to note off a note that has never been turned on\n",
      "Try to note off a note that has never been turned on\n",
      "Try to note off a note that has never been turned on\n",
      "Try to note off a note that has never been turned on\n",
      "Try to note off a note that has never been turned on\n",
      "Try to note off a note that has never been turned on\n",
      "Try to note off a note that has never been turned on\n",
      "Try to note off a note that has never been turned on\n",
      "Try to note off a note that has never been turned on\n",
      "Try to note off a note that has never been turned on\n",
      "Try to note off a note that has never been turned on\n",
      "Try to note off a note that has never been turned on\n",
      "Try to note off a note that has never been turned on\n",
      "Try to note off a note that has never been turned on\n",
      "Try to note off a note that has never been turned on\n",
      "Try to note off a note that has never been turned on\n",
      "Try to note off a note that has never been turned on\n",
      "Try to note off a note that has never been turned on\n",
      "Try to note off a note that has never been turned on\n",
      "Try to note off a note that has never been turned on\n",
      "Try to note off a note that has never been turned on\n",
      "Try to note off a note that has never been turned on\n",
      "Try to note off a note that has never been turned on\n",
      "Try to note off a note that has never been turned on\n",
      "Try to note off a note that has never been turned on\n",
      "Try to note off a note that has never been turned on\n",
      "Try to note off a note that has never been turned on\n",
      "Try to note off a note that has never been turned on\n",
      "Try to note off a note that has never been turned on\n",
      "Try to note off a note that has never been turned on\n",
      "Try to note off a note that has never been turned on\n",
      "Try to note off a note that has never been turned on\n",
      "Try to note off a note that has never been turned on\n",
      "Try to note off a note that has never been turned on\n",
      "Try to note off a note that has never been turned on\n",
      "Try to note off a note that has never been turned on\n",
      "Try to note off a note that has never been turned on\n",
      "Try to note off a note that has never been turned on\n",
      "Try to note off a note that has never been turned on\n",
      "Try to note off a note that has never been turned on\n",
      "Try to note off a note that has never been turned on\n",
      "Try to note off a note that has never been turned on\n",
      "Try to note off a note that has never been turned on\n",
      "Try to note off a note that has never been turned on\n",
      "Try to note off a note that has never been turned on\n",
      "Try to note off a note that has never been turned on\n",
      "Try to note off a note that has never been turned on\n",
      "Try to note off a note that has never been turned on\n",
      "Try to note off a note that has never been turned on\n",
      "Try to note off a note that has never been turned on\n",
      "Try to note off a note that has never been turned on\n",
      "Try to note off a note that has never been turned on\n",
      "Try to note off a note that has never been turned on\n",
      "Try to note off a note that has never been turned on\n",
      "Try to note off a note that has never been turned on\n",
      "Try to note off a note that has never been turned on\n",
      "Try to note off a note that has never been turned on\n",
      "Try to note off a note that has never been turned on\n",
      "Try to note off a note that has never been turned on\n",
      "Try to note off a note that has never been turned on\n",
      "Try to note off a note that has never been turned on\n",
      "Try to note off a note that has never been turned on\n",
      "Try to note off a note that has never been turned on\n",
      "Try to note off a note that has never been turned on\n",
      "Try to note off a note that has never been turned on\n",
      "Try to note off a note that has never been turned on\n",
      "Try to note off a note that has never been turned on\n",
      "Try to note off a note that has never been turned on\n",
      "Try to note off a note that has never been turned on\n",
      "Try to note off a note that has never been turned on\n",
      "Try to note off a note that has never been turned on\n",
      "Try to note off a note that has never been turned on\n",
      "Try to note off a note that has never been turned on\n",
      "Try to note off a note that has never been turned on\n",
      "Try to note off a note that has never been turned on\n",
      "Try to note off a note that has never been turned on\n",
      "Try to note off a note that has never been turned on\n",
      "Try to note off a note that has never been turned on\n",
      "Try to note off a note that has never been turned on\n",
      "Try to note off a note that has never been turned on\n",
      "Try to note off a note that has never been turned on\n",
      "Try to note off a note that has never been turned on\n",
      "Try to note off a note that has never been turned on\n",
      "Try to note off a note that has never been turned on\n",
      "Try to note off a note that has never been turned on\n",
      "Try to note off a note that has never been turned on\n",
      "Try to note off a note that has never been turned on\n",
      "Try to note off a note that has never been turned on\n",
      "Try to note off a note that has never been turned on\n",
      "Try to note off a note that has never been turned on\n",
      "Try to note off a note that has never been turned on\n",
      "Try to note off a note that has never been turned on\n",
      "Try to note off a note that has never been turned on\n",
      "Try to note off a note that has never been turned on\n",
      "Try to note off a note that has never been turned on\n",
      "Try to note off a note that has never been turned on\n",
      "Try to note off a note that has never been turned on\n",
      "Try to note off a note that has never been turned on\n",
      "Try to note off a note that has never been turned on\n",
      "Try to note off a note that has never been turned on\n",
      "Try to note off a note that has never been turned on\n",
      "Try to note off a note that has never been turned on\n",
      "Try to note off a note that has never been turned on\n",
      "Try to note off a note that has never been turned on\n",
      "Try to note off a note that has never been turned on\n",
      "Try to note off a note that has never been turned on\n",
      "Try to note off a note that has never been turned on\n",
      "Try to note off a note that has never been turned on\n",
      "Try to note off a note that has never been turned on\n",
      "Try to note off a note that has never been turned on\n",
      "Try to note off a note that has never been turned on\n",
      "Try to note off a note that has never been turned on\n",
      "Try to note off a note that has never been turned on\n",
      "Try to note off a note that has never been turned on\n",
      "Try to note off a note that has never been turned on\n",
      "Try to note off a note that has never been turned on\n",
      "Try to note off a note that has never been turned on\n",
      "Try to note off a note that has never been turned on\n",
      "Try to note off a note that has never been turned on\n",
      "Try to note off a note that has never been turned on\n",
      "Try to note off a note that has never been turned on\n",
      "Try to note off a note that has never been turned on\n",
      "Try to note off a note that has never been turned on\n",
      "Try to note off a note that has never been turned on\n",
      "Try to note off a note that has never been turned on\n",
      "Try to note off a note that has never been turned on\n",
      "Try to note off a note that has never been turned on\n",
      "Try to note off a note that has never been turned on\n",
      "Try to note off a note that has never been turned on\n",
      "Try to note off a note that has never been turned on\n",
      "Try to note off a note that has never been turned on\n",
      "Try to note off a note that has never been turned on\n",
      "Try to note off a note that has never been turned on\n",
      "Try to note off a note that has never been turned on\n",
      "Try to note off a note that has never been turned on\n",
      "Try to note off a note that has never been turned on\n",
      "Try to note off a note that has never been turned on\n",
      "Try to note off a note that has never been turned on\n",
      "Try to note off a note that has never been turned on\n",
      "Try to note off a note that has never been turned on\n",
      "Try to note off a note that has never been turned on\n",
      "Try to note off a note that has never been turned on\n",
      "Try to note off a note that has never been turned on\n",
      "Try to note off a note that has never been turned on\n",
      "Try to note off a note that has never been turned on\n",
      "Try to note off a note that has never been turned on\n",
      "Try to note off a note that has never been turned on\n",
      "Try to note off a note that has never been turned on\n",
      "Try to note off a note that has never been turned on\n",
      "Try to note off a note that has never been turned on\n",
      "Try to note off a note that has never been turned on\n",
      "Try to note off a note that has never been turned on\n",
      "Try to note off a note that has never been turned on\n",
      "Try to note off a note that has never been turned on\n",
      "Try to note off a note that has never been turned on\n"
     ]
    },
    {
     "name": "stdout",
     "output_type": "stream",
     "text": [
      "HCDF in ABC Dataset 21 euclidean\n",
      "Try to note off a note that has never been turned on\n",
      "Try to note off a note that has never been turned on\n",
      "Try to note off a note that has never been turned on\n",
      "Try to note off a note that has never been turned on\n",
      "Try to note off a note that has never been turned on\n",
      "Try to note off a note that has never been turned on\n",
      "Try to note off a note that has never been turned on\n",
      "Try to note off a note that has never been turned on\n",
      "Try to note off a note that has never been turned on\n",
      "Try to note off a note that has never been turned on\n",
      "Try to note off a note that has never been turned on\n",
      "Try to note off a note that has never been turned on\n",
      "Try to note off a note that has never been turned on\n",
      "Try to note off a note that has never been turned on\n",
      "Try to note off a note that has never been turned on\n",
      "Try to note off a note that has never been turned on\n",
      "Try to note off a note that has never been turned on\n",
      "Try to note off a note that has never been turned on\n",
      "Try to note off a note that has never been turned on\n",
      "Try to note off a note that has never been turned on\n",
      "Try to note off a note that has never been turned on\n",
      "Try to note off a note that has never been turned on\n",
      "Try to note off a note that has never been turned on\n",
      "Try to note off a note that has never been turned on\n",
      "Try to note off a note that has never been turned on\n",
      "Try to note off a note that has never been turned on\n",
      "Try to note off a note that has never been turned on\n",
      "Try to note off a note that has never been turned on\n",
      "Try to note off a note that has never been turned on\n",
      "Try to note off a note that has never been turned on\n",
      "Try to note off a note that has never been turned on\n",
      "Try to note off a note that has never been turned on\n",
      "Try to note off a note that has never been turned on\n",
      "Try to note off a note that has never been turned on\n",
      "Try to note off a note that has never been turned on\n",
      "Try to note off a note that has never been turned on\n",
      "Try to note off a note that has never been turned on\n",
      "Try to note off a note that has never been turned on\n",
      "Try to note off a note that has never been turned on\n",
      "Try to note off a note that has never been turned on\n",
      "Try to note off a note that has never been turned on\n",
      "Try to note off a note that has never been turned on\n",
      "Try to note off a note that has never been turned on\n",
      "Try to note off a note that has never been turned on\n",
      "Try to note off a note that has never been turned on\n",
      "Try to note off a note that has never been turned on\n",
      "Try to note off a note that has never been turned on\n",
      "Try to note off a note that has never been turned on\n",
      "Try to note off a note that has never been turned on\n",
      "Try to note off a note that has never been turned on\n",
      "Try to note off a note that has never been turned on\n",
      "Try to note off a note that has never been turned on\n",
      "Try to note off a note that has never been turned on\n",
      "Try to note off a note that has never been turned on\n",
      "Try to note off a note that has never been turned on\n",
      "Try to note off a note that has never been turned on\n",
      "Try to note off a note that has never been turned on\n",
      "Try to note off a note that has never been turned on\n",
      "Try to note off a note that has never been turned on\n",
      "Try to note off a note that has never been turned on\n",
      "Try to note off a note that has never been turned on\n",
      "Try to note off a note that has never been turned on\n",
      "Try to note off a note that has never been turned on\n",
      "Try to note off a note that has never been turned on\n",
      "Try to note off a note that has never been turned on\n",
      "Try to note off a note that has never been turned on\n",
      "Try to note off a note that has never been turned on\n",
      "Try to note off a note that has never been turned on\n",
      "Try to note off a note that has never been turned on\n",
      "Try to note off a note that has never been turned on\n",
      "Try to note off a note that has never been turned on\n",
      "Try to note off a note that has never been turned on\n",
      "Try to note off a note that has never been turned on\n",
      "Try to note off a note that has never been turned on\n",
      "Try to note off a note that has never been turned on\n",
      "Try to note off a note that has never been turned on\n",
      "Try to note off a note that has never been turned on\n",
      "Try to note off a note that has never been turned on\n",
      "Try to note off a note that has never been turned on\n",
      "Try to note off a note that has never been turned on\n",
      "Try to note off a note that has never been turned on\n",
      "Try to note off a note that has never been turned on\n",
      "Try to note off a note that has never been turned on\n",
      "Try to note off a note that has never been turned on\n",
      "Try to note off a note that has never been turned on\n",
      "Try to note off a note that has never been turned on\n",
      "Try to note off a note that has never been turned on\n",
      "Try to note off a note that has never been turned on\n",
      "Try to note off a note that has never been turned on\n",
      "Try to note off a note that has never been turned on\n",
      "Try to note off a note that has never been turned on\n",
      "Try to note off a note that has never been turned on\n",
      "Try to note off a note that has never been turned on\n",
      "Try to note off a note that has never been turned on\n",
      "Try to note off a note that has never been turned on\n",
      "Try to note off a note that has never been turned on\n",
      "Try to note off a note that has never been turned on\n",
      "Try to note off a note that has never been turned on\n",
      "Try to note off a note that has never been turned on\n",
      "Try to note off a note that has never been turned on\n",
      "Try to note off a note that has never been turned on\n",
      "Try to note off a note that has never been turned on\n",
      "Try to note off a note that has never been turned on\n",
      "Try to note off a note that has never been turned on\n",
      "Try to note off a note that has never been turned on\n",
      "Try to note off a note that has never been turned on\n",
      "Try to note off a note that has never been turned on\n",
      "Try to note off a note that has never been turned on\n",
      "Try to note off a note that has never been turned on\n",
      "Try to note off a note that has never been turned on\n",
      "Try to note off a note that has never been turned on\n",
      "Try to note off a note that has never been turned on\n",
      "Try to note off a note that has never been turned on\n",
      "Try to note off a note that has never been turned on\n",
      "Try to note off a note that has never been turned on\n",
      "Try to note off a note that has never been turned on\n",
      "Try to note off a note that has never been turned on\n",
      "Try to note off a note that has never been turned on\n",
      "Try to note off a note that has never been turned on\n",
      "Try to note off a note that has never been turned on\n",
      "Try to note off a note that has never been turned on\n",
      "Try to note off a note that has never been turned on\n",
      "Try to note off a note that has never been turned on\n",
      "Try to note off a note that has never been turned on\n",
      "Try to note off a note that has never been turned on\n",
      "Try to note off a note that has never been turned on\n",
      "Try to note off a note that has never been turned on\n",
      "Try to note off a note that has never been turned on\n",
      "Try to note off a note that has never been turned on\n",
      "Try to note off a note that has never been turned on\n",
      "Try to note off a note that has never been turned on\n",
      "Try to note off a note that has never been turned on\n",
      "Try to note off a note that has never been turned on\n",
      "Try to note off a note that has never been turned on\n",
      "Try to note off a note that has never been turned on\n",
      "Try to note off a note that has never been turned on\n",
      "Try to note off a note that has never been turned on\n",
      "Try to note off a note that has never been turned on\n",
      "Try to note off a note that has never been turned on\n",
      "Try to note off a note that has never been turned on\n",
      "Try to note off a note that has never been turned on\n",
      "Try to note off a note that has never been turned on\n",
      "Try to note off a note that has never been turned on\n",
      "Try to note off a note that has never been turned on\n",
      "Try to note off a note that has never been turned on\n",
      "Try to note off a note that has never been turned on\n",
      "Try to note off a note that has never been turned on\n",
      "Try to note off a note that has never been turned on\n",
      "Try to note off a note that has never been turned on\n",
      "Try to note off a note that has never been turned on\n",
      "Try to note off a note that has never been turned on\n",
      "Try to note off a note that has never been turned on\n",
      "Try to note off a note that has never been turned on\n",
      "Try to note off a note that has never been turned on\n",
      "Try to note off a note that has never been turned on\n",
      "Try to note off a note that has never been turned on\n",
      "Try to note off a note that has never been turned on\n",
      "Try to note off a note that has never been turned on\n",
      "Try to note off a note that has never been turned on\n",
      "Try to note off a note that has never been turned on\n",
      "Try to note off a note that has never been turned on\n",
      "Try to note off a note that has never been turned on\n",
      "Try to note off a note that has never been turned on\n",
      "Try to note off a note that has never been turned on\n",
      "Try to note off a note that has never been turned on\n",
      "Try to note off a note that has never been turned on\n",
      "Try to note off a note that has never been turned on\n",
      "Try to note off a note that has never been turned on\n",
      "Try to note off a note that has never been turned on\n"
     ]
    },
    {
     "name": "stdout",
     "output_type": "stream",
     "text": [
      "HCDF in ABC Dataset 31 euclidean\n",
      "Try to note off a note that has never been turned on\n",
      "Try to note off a note that has never been turned on\n",
      "Try to note off a note that has never been turned on\n",
      "Try to note off a note that has never been turned on\n",
      "Try to note off a note that has never been turned on\n",
      "Try to note off a note that has never been turned on\n",
      "Try to note off a note that has never been turned on\n",
      "Try to note off a note that has never been turned on\n",
      "Try to note off a note that has never been turned on\n",
      "Try to note off a note that has never been turned on\n",
      "Try to note off a note that has never been turned on\n",
      "Try to note off a note that has never been turned on\n",
      "Try to note off a note that has never been turned on\n",
      "Try to note off a note that has never been turned on\n",
      "Try to note off a note that has never been turned on\n",
      "Try to note off a note that has never been turned on\n",
      "Try to note off a note that has never been turned on\n",
      "Try to note off a note that has never been turned on\n",
      "Try to note off a note that has never been turned on\n",
      "Try to note off a note that has never been turned on\n",
      "Try to note off a note that has never been turned on\n",
      "Try to note off a note that has never been turned on\n",
      "Try to note off a note that has never been turned on\n",
      "Try to note off a note that has never been turned on\n",
      "Try to note off a note that has never been turned on\n",
      "Try to note off a note that has never been turned on\n",
      "Try to note off a note that has never been turned on\n",
      "Try to note off a note that has never been turned on\n",
      "Try to note off a note that has never been turned on\n",
      "Try to note off a note that has never been turned on\n",
      "Try to note off a note that has never been turned on\n",
      "Try to note off a note that has never been turned on\n",
      "Try to note off a note that has never been turned on\n",
      "Try to note off a note that has never been turned on\n",
      "Try to note off a note that has never been turned on\n",
      "Try to note off a note that has never been turned on\n",
      "Try to note off a note that has never been turned on\n",
      "Try to note off a note that has never been turned on\n",
      "Try to note off a note that has never been turned on\n",
      "Try to note off a note that has never been turned on\n",
      "Try to note off a note that has never been turned on\n",
      "Try to note off a note that has never been turned on\n",
      "Try to note off a note that has never been turned on\n",
      "Try to note off a note that has never been turned on\n",
      "Try to note off a note that has never been turned on\n",
      "Try to note off a note that has never been turned on\n",
      "Try to note off a note that has never been turned on\n",
      "Try to note off a note that has never been turned on\n",
      "Try to note off a note that has never been turned on\n",
      "Try to note off a note that has never been turned on\n",
      "Try to note off a note that has never been turned on\n",
      "Try to note off a note that has never been turned on\n",
      "Try to note off a note that has never been turned on\n",
      "Try to note off a note that has never been turned on\n",
      "Try to note off a note that has never been turned on\n",
      "Try to note off a note that has never been turned on\n",
      "Try to note off a note that has never been turned on\n",
      "Try to note off a note that has never been turned on\n",
      "Try to note off a note that has never been turned on\n",
      "Try to note off a note that has never been turned on\n",
      "Try to note off a note that has never been turned on\n",
      "Try to note off a note that has never been turned on\n",
      "Try to note off a note that has never been turned on\n",
      "Try to note off a note that has never been turned on\n",
      "Try to note off a note that has never been turned on\n",
      "Try to note off a note that has never been turned on\n",
      "Try to note off a note that has never been turned on\n",
      "Try to note off a note that has never been turned on\n",
      "Try to note off a note that has never been turned on\n",
      "Try to note off a note that has never been turned on\n",
      "Try to note off a note that has never been turned on\n",
      "Try to note off a note that has never been turned on\n",
      "Try to note off a note that has never been turned on\n",
      "Try to note off a note that has never been turned on\n",
      "Try to note off a note that has never been turned on\n",
      "Try to note off a note that has never been turned on\n",
      "Try to note off a note that has never been turned on\n",
      "Try to note off a note that has never been turned on\n",
      "Try to note off a note that has never been turned on\n",
      "Try to note off a note that has never been turned on\n",
      "Try to note off a note that has never been turned on\n",
      "Try to note off a note that has never been turned on\n",
      "Try to note off a note that has never been turned on\n",
      "Try to note off a note that has never been turned on\n",
      "Try to note off a note that has never been turned on\n",
      "Try to note off a note that has never been turned on\n",
      "Try to note off a note that has never been turned on\n",
      "Try to note off a note that has never been turned on\n",
      "Try to note off a note that has never been turned on\n",
      "Try to note off a note that has never been turned on\n",
      "Try to note off a note that has never been turned on\n",
      "Try to note off a note that has never been turned on\n",
      "Try to note off a note that has never been turned on\n",
      "Try to note off a note that has never been turned on\n",
      "Try to note off a note that has never been turned on\n",
      "Try to note off a note that has never been turned on\n",
      "Try to note off a note that has never been turned on\n",
      "Try to note off a note that has never been turned on\n",
      "Try to note off a note that has never been turned on\n",
      "Try to note off a note that has never been turned on\n",
      "Try to note off a note that has never been turned on\n",
      "Try to note off a note that has never been turned on\n",
      "Try to note off a note that has never been turned on\n",
      "Try to note off a note that has never been turned on\n",
      "Try to note off a note that has never been turned on\n",
      "Try to note off a note that has never been turned on\n",
      "Try to note off a note that has never been turned on\n",
      "Try to note off a note that has never been turned on\n",
      "Try to note off a note that has never been turned on\n",
      "Try to note off a note that has never been turned on\n",
      "Try to note off a note that has never been turned on\n",
      "Try to note off a note that has never been turned on\n",
      "Try to note off a note that has never been turned on\n",
      "Try to note off a note that has never been turned on\n",
      "Try to note off a note that has never been turned on\n",
      "Try to note off a note that has never been turned on\n",
      "Try to note off a note that has never been turned on\n",
      "Try to note off a note that has never been turned on\n",
      "Try to note off a note that has never been turned on\n",
      "Try to note off a note that has never been turned on\n",
      "Try to note off a note that has never been turned on\n",
      "Try to note off a note that has never been turned on\n",
      "Try to note off a note that has never been turned on\n",
      "Try to note off a note that has never been turned on\n",
      "Try to note off a note that has never been turned on\n",
      "Try to note off a note that has never been turned on\n",
      "Try to note off a note that has never been turned on\n",
      "Try to note off a note that has never been turned on\n",
      "Try to note off a note that has never been turned on\n",
      "Try to note off a note that has never been turned on\n",
      "Try to note off a note that has never been turned on\n",
      "Try to note off a note that has never been turned on\n",
      "Try to note off a note that has never been turned on\n",
      "Try to note off a note that has never been turned on\n",
      "Try to note off a note that has never been turned on\n",
      "Try to note off a note that has never been turned on\n",
      "Try to note off a note that has never been turned on\n",
      "Try to note off a note that has never been turned on\n",
      "Try to note off a note that has never been turned on\n",
      "Try to note off a note that has never been turned on\n",
      "Try to note off a note that has never been turned on\n",
      "Try to note off a note that has never been turned on\n",
      "Try to note off a note that has never been turned on\n",
      "Try to note off a note that has never been turned on\n",
      "Try to note off a note that has never been turned on\n",
      "Try to note off a note that has never been turned on\n",
      "Try to note off a note that has never been turned on\n",
      "Try to note off a note that has never been turned on\n",
      "Try to note off a note that has never been turned on\n",
      "Try to note off a note that has never been turned on\n",
      "Try to note off a note that has never been turned on\n",
      "Try to note off a note that has never been turned on\n",
      "Try to note off a note that has never been turned on\n",
      "Try to note off a note that has never been turned on\n",
      "Try to note off a note that has never been turned on\n",
      "Try to note off a note that has never been turned on\n",
      "Try to note off a note that has never been turned on\n",
      "Try to note off a note that has never been turned on\n",
      "Try to note off a note that has never been turned on\n",
      "Try to note off a note that has never been turned on\n",
      "Try to note off a note that has never been turned on\n",
      "Try to note off a note that has never been turned on\n",
      "Try to note off a note that has never been turned on\n",
      "Try to note off a note that has never been turned on\n",
      "Try to note off a note that has never been turned on\n",
      "Try to note off a note that has never been turned on\n",
      "Try to note off a note that has never been turned on\n",
      "Try to note off a note that has never been turned on\n",
      "Try to note off a note that has never been turned on\n"
     ]
    },
    {
     "name": "stdout",
     "output_type": "stream",
     "text": [
      "HCDF in ABC Dataset 41 euclidean\n",
      "Try to note off a note that has never been turned on\n",
      "Try to note off a note that has never been turned on\n",
      "Try to note off a note that has never been turned on\n",
      "Try to note off a note that has never been turned on\n",
      "Try to note off a note that has never been turned on\n",
      "Try to note off a note that has never been turned on\n",
      "Try to note off a note that has never been turned on\n",
      "Try to note off a note that has never been turned on\n",
      "Try to note off a note that has never been turned on\n",
      "Try to note off a note that has never been turned on\n",
      "Try to note off a note that has never been turned on\n",
      "Try to note off a note that has never been turned on\n",
      "Try to note off a note that has never been turned on\n",
      "Try to note off a note that has never been turned on\n",
      "Try to note off a note that has never been turned on\n",
      "Try to note off a note that has never been turned on\n",
      "Try to note off a note that has never been turned on\n",
      "Try to note off a note that has never been turned on\n",
      "Try to note off a note that has never been turned on\n",
      "Try to note off a note that has never been turned on\n",
      "Try to note off a note that has never been turned on\n",
      "Try to note off a note that has never been turned on\n",
      "Try to note off a note that has never been turned on\n",
      "Try to note off a note that has never been turned on\n",
      "Try to note off a note that has never been turned on\n",
      "Try to note off a note that has never been turned on\n",
      "Try to note off a note that has never been turned on\n",
      "Try to note off a note that has never been turned on\n",
      "Try to note off a note that has never been turned on\n",
      "Try to note off a note that has never been turned on\n",
      "Try to note off a note that has never been turned on\n",
      "Try to note off a note that has never been turned on\n",
      "Try to note off a note that has never been turned on\n",
      "Try to note off a note that has never been turned on\n",
      "Try to note off a note that has never been turned on\n",
      "Try to note off a note that has never been turned on\n",
      "Try to note off a note that has never been turned on\n",
      "Try to note off a note that has never been turned on\n",
      "Try to note off a note that has never been turned on\n",
      "Try to note off a note that has never been turned on\n",
      "Try to note off a note that has never been turned on\n",
      "Try to note off a note that has never been turned on\n",
      "Try to note off a note that has never been turned on\n",
      "Try to note off a note that has never been turned on\n",
      "Try to note off a note that has never been turned on\n",
      "Try to note off a note that has never been turned on\n",
      "Try to note off a note that has never been turned on\n",
      "Try to note off a note that has never been turned on\n",
      "Try to note off a note that has never been turned on\n",
      "Try to note off a note that has never been turned on\n",
      "Try to note off a note that has never been turned on\n",
      "Try to note off a note that has never been turned on\n",
      "Try to note off a note that has never been turned on\n",
      "Try to note off a note that has never been turned on\n",
      "Try to note off a note that has never been turned on\n",
      "Try to note off a note that has never been turned on\n",
      "Try to note off a note that has never been turned on\n",
      "Try to note off a note that has never been turned on\n",
      "Try to note off a note that has never been turned on\n",
      "Try to note off a note that has never been turned on\n",
      "Try to note off a note that has never been turned on\n",
      "Try to note off a note that has never been turned on\n",
      "Try to note off a note that has never been turned on\n",
      "Try to note off a note that has never been turned on\n",
      "Try to note off a note that has never been turned on\n",
      "Try to note off a note that has never been turned on\n",
      "Try to note off a note that has never been turned on\n",
      "Try to note off a note that has never been turned on\n",
      "Try to note off a note that has never been turned on\n",
      "Try to note off a note that has never been turned on\n",
      "Try to note off a note that has never been turned on\n",
      "Try to note off a note that has never been turned on\n",
      "Try to note off a note that has never been turned on\n",
      "Try to note off a note that has never been turned on\n",
      "Try to note off a note that has never been turned on\n",
      "Try to note off a note that has never been turned on\n",
      "Try to note off a note that has never been turned on\n",
      "Try to note off a note that has never been turned on\n",
      "Try to note off a note that has never been turned on\n",
      "Try to note off a note that has never been turned on\n",
      "Try to note off a note that has never been turned on\n",
      "Try to note off a note that has never been turned on\n",
      "Try to note off a note that has never been turned on\n",
      "Try to note off a note that has never been turned on\n",
      "Try to note off a note that has never been turned on\n",
      "Try to note off a note that has never been turned on\n",
      "Try to note off a note that has never been turned on\n",
      "Try to note off a note that has never been turned on\n",
      "Try to note off a note that has never been turned on\n",
      "Try to note off a note that has never been turned on\n",
      "Try to note off a note that has never been turned on\n",
      "Try to note off a note that has never been turned on\n",
      "Try to note off a note that has never been turned on\n",
      "Try to note off a note that has never been turned on\n",
      "Try to note off a note that has never been turned on\n",
      "Try to note off a note that has never been turned on\n",
      "Try to note off a note that has never been turned on\n",
      "Try to note off a note that has never been turned on\n",
      "Try to note off a note that has never been turned on\n",
      "Try to note off a note that has never been turned on\n",
      "Try to note off a note that has never been turned on\n",
      "Try to note off a note that has never been turned on\n",
      "Try to note off a note that has never been turned on\n",
      "Try to note off a note that has never been turned on\n",
      "Try to note off a note that has never been turned on\n",
      "Try to note off a note that has never been turned on\n",
      "Try to note off a note that has never been turned on\n",
      "Try to note off a note that has never been turned on\n",
      "Try to note off a note that has never been turned on\n",
      "Try to note off a note that has never been turned on\n",
      "Try to note off a note that has never been turned on\n",
      "Try to note off a note that has never been turned on\n",
      "Try to note off a note that has never been turned on\n",
      "Try to note off a note that has never been turned on\n",
      "Try to note off a note that has never been turned on\n",
      "Try to note off a note that has never been turned on\n",
      "Try to note off a note that has never been turned on\n",
      "Try to note off a note that has never been turned on\n",
      "Try to note off a note that has never been turned on\n",
      "Try to note off a note that has never been turned on\n",
      "Try to note off a note that has never been turned on\n",
      "Try to note off a note that has never been turned on\n",
      "Try to note off a note that has never been turned on\n",
      "Try to note off a note that has never been turned on\n",
      "Try to note off a note that has never been turned on\n",
      "Try to note off a note that has never been turned on\n",
      "Try to note off a note that has never been turned on\n",
      "Try to note off a note that has never been turned on\n",
      "Try to note off a note that has never been turned on\n",
      "Try to note off a note that has never been turned on\n",
      "Try to note off a note that has never been turned on\n",
      "Try to note off a note that has never been turned on\n",
      "Try to note off a note that has never been turned on\n",
      "Try to note off a note that has never been turned on\n",
      "Try to note off a note that has never been turned on\n",
      "Try to note off a note that has never been turned on\n",
      "Try to note off a note that has never been turned on\n",
      "Try to note off a note that has never been turned on\n",
      "Try to note off a note that has never been turned on\n",
      "Try to note off a note that has never been turned on\n",
      "Try to note off a note that has never been turned on\n",
      "Try to note off a note that has never been turned on\n",
      "Try to note off a note that has never been turned on\n",
      "Try to note off a note that has never been turned on\n",
      "Try to note off a note that has never been turned on\n",
      "Try to note off a note that has never been turned on\n",
      "Try to note off a note that has never been turned on\n",
      "Try to note off a note that has never been turned on\n",
      "Try to note off a note that has never been turned on\n",
      "Try to note off a note that has never been turned on\n",
      "Try to note off a note that has never been turned on\n",
      "Try to note off a note that has never been turned on\n",
      "Try to note off a note that has never been turned on\n",
      "Try to note off a note that has never been turned on\n",
      "Try to note off a note that has never been turned on\n",
      "Try to note off a note that has never been turned on\n",
      "Try to note off a note that has never been turned on\n",
      "Try to note off a note that has never been turned on\n",
      "Try to note off a note that has never been turned on\n",
      "Try to note off a note that has never been turned on\n",
      "Try to note off a note that has never been turned on\n",
      "Try to note off a note that has never been turned on\n",
      "Try to note off a note that has never been turned on\n",
      "Try to note off a note that has never been turned on\n",
      "Try to note off a note that has never been turned on\n",
      "Try to note off a note that has never been turned on\n",
      "Try to note off a note that has never been turned on\n",
      "Try to note off a note that has never been turned on\n",
      "Try to note off a note that has never been turned on\n"
     ]
    },
    {
     "name": "stdout",
     "output_type": "stream",
     "text": [
      "HCDF in ABC Dataset 51 euclidean\n",
      "Try to note off a note that has never been turned on\n",
      "Try to note off a note that has never been turned on\n",
      "Try to note off a note that has never been turned on\n",
      "Try to note off a note that has never been turned on\n",
      "Try to note off a note that has never been turned on\n",
      "Try to note off a note that has never been turned on\n",
      "Try to note off a note that has never been turned on\n",
      "Try to note off a note that has never been turned on\n",
      "Try to note off a note that has never been turned on\n",
      "Try to note off a note that has never been turned on\n",
      "Try to note off a note that has never been turned on\n",
      "Try to note off a note that has never been turned on\n",
      "Try to note off a note that has never been turned on\n",
      "Try to note off a note that has never been turned on\n",
      "Try to note off a note that has never been turned on\n",
      "Try to note off a note that has never been turned on\n",
      "Try to note off a note that has never been turned on\n",
      "Try to note off a note that has never been turned on\n",
      "Try to note off a note that has never been turned on\n",
      "Try to note off a note that has never been turned on\n",
      "Try to note off a note that has never been turned on\n",
      "Try to note off a note that has never been turned on\n",
      "Try to note off a note that has never been turned on\n",
      "Try to note off a note that has never been turned on\n",
      "Try to note off a note that has never been turned on\n",
      "Try to note off a note that has never been turned on\n",
      "Try to note off a note that has never been turned on\n",
      "Try to note off a note that has never been turned on\n",
      "Try to note off a note that has never been turned on\n",
      "Try to note off a note that has never been turned on\n",
      "Try to note off a note that has never been turned on\n",
      "Try to note off a note that has never been turned on\n",
      "Try to note off a note that has never been turned on\n",
      "Try to note off a note that has never been turned on\n",
      "Try to note off a note that has never been turned on\n",
      "Try to note off a note that has never been turned on\n",
      "Try to note off a note that has never been turned on\n",
      "Try to note off a note that has never been turned on\n",
      "Try to note off a note that has never been turned on\n",
      "Try to note off a note that has never been turned on\n",
      "Try to note off a note that has never been turned on\n",
      "Try to note off a note that has never been turned on\n",
      "Try to note off a note that has never been turned on\n",
      "Try to note off a note that has never been turned on\n",
      "Try to note off a note that has never been turned on\n",
      "Try to note off a note that has never been turned on\n",
      "Try to note off a note that has never been turned on\n",
      "Try to note off a note that has never been turned on\n",
      "Try to note off a note that has never been turned on\n",
      "Try to note off a note that has never been turned on\n",
      "Try to note off a note that has never been turned on\n",
      "Try to note off a note that has never been turned on\n",
      "Try to note off a note that has never been turned on\n",
      "Try to note off a note that has never been turned on\n",
      "Try to note off a note that has never been turned on\n",
      "Try to note off a note that has never been turned on\n",
      "Try to note off a note that has never been turned on\n",
      "Try to note off a note that has never been turned on\n",
      "Try to note off a note that has never been turned on\n",
      "Try to note off a note that has never been turned on\n",
      "Try to note off a note that has never been turned on\n",
      "Try to note off a note that has never been turned on\n",
      "Try to note off a note that has never been turned on\n",
      "Try to note off a note that has never been turned on\n",
      "Try to note off a note that has never been turned on\n",
      "Try to note off a note that has never been turned on\n",
      "Try to note off a note that has never been turned on\n",
      "Try to note off a note that has never been turned on\n",
      "Try to note off a note that has never been turned on\n",
      "Try to note off a note that has never been turned on\n",
      "Try to note off a note that has never been turned on\n",
      "Try to note off a note that has never been turned on\n",
      "Try to note off a note that has never been turned on\n",
      "Try to note off a note that has never been turned on\n",
      "Try to note off a note that has never been turned on\n",
      "Try to note off a note that has never been turned on\n",
      "Try to note off a note that has never been turned on\n",
      "Try to note off a note that has never been turned on\n",
      "Try to note off a note that has never been turned on\n",
      "Try to note off a note that has never been turned on\n",
      "Try to note off a note that has never been turned on\n",
      "Try to note off a note that has never been turned on\n",
      "Try to note off a note that has never been turned on\n",
      "Try to note off a note that has never been turned on\n",
      "Try to note off a note that has never been turned on\n",
      "Try to note off a note that has never been turned on\n",
      "Try to note off a note that has never been turned on\n",
      "Try to note off a note that has never been turned on\n",
      "Try to note off a note that has never been turned on\n",
      "Try to note off a note that has never been turned on\n",
      "Try to note off a note that has never been turned on\n",
      "Try to note off a note that has never been turned on\n",
      "Try to note off a note that has never been turned on\n",
      "Try to note off a note that has never been turned on\n",
      "Try to note off a note that has never been turned on\n",
      "Try to note off a note that has never been turned on\n",
      "Try to note off a note that has never been turned on\n",
      "Try to note off a note that has never been turned on\n",
      "Try to note off a note that has never been turned on\n",
      "Try to note off a note that has never been turned on\n",
      "Try to note off a note that has never been turned on\n",
      "Try to note off a note that has never been turned on\n",
      "Try to note off a note that has never been turned on\n",
      "Try to note off a note that has never been turned on\n",
      "Try to note off a note that has never been turned on\n",
      "Try to note off a note that has never been turned on\n",
      "Try to note off a note that has never been turned on\n",
      "Try to note off a note that has never been turned on\n",
      "Try to note off a note that has never been turned on\n",
      "Try to note off a note that has never been turned on\n",
      "Try to note off a note that has never been turned on\n",
      "Try to note off a note that has never been turned on\n",
      "Try to note off a note that has never been turned on\n",
      "Try to note off a note that has never been turned on\n",
      "Try to note off a note that has never been turned on\n",
      "Try to note off a note that has never been turned on\n",
      "Try to note off a note that has never been turned on\n",
      "Try to note off a note that has never been turned on\n",
      "Try to note off a note that has never been turned on\n",
      "Try to note off a note that has never been turned on\n",
      "Try to note off a note that has never been turned on\n",
      "Try to note off a note that has never been turned on\n",
      "Try to note off a note that has never been turned on\n",
      "Try to note off a note that has never been turned on\n",
      "Try to note off a note that has never been turned on\n",
      "Try to note off a note that has never been turned on\n",
      "Try to note off a note that has never been turned on\n",
      "Try to note off a note that has never been turned on\n",
      "Try to note off a note that has never been turned on\n",
      "Try to note off a note that has never been turned on\n",
      "Try to note off a note that has never been turned on\n",
      "Try to note off a note that has never been turned on\n",
      "Try to note off a note that has never been turned on\n",
      "Try to note off a note that has never been turned on\n",
      "Try to note off a note that has never been turned on\n",
      "Try to note off a note that has never been turned on\n",
      "Try to note off a note that has never been turned on\n",
      "Try to note off a note that has never been turned on\n",
      "Try to note off a note that has never been turned on\n",
      "Try to note off a note that has never been turned on\n",
      "Try to note off a note that has never been turned on\n",
      "Try to note off a note that has never been turned on\n",
      "Try to note off a note that has never been turned on\n",
      "Try to note off a note that has never been turned on\n",
      "Try to note off a note that has never been turned on\n",
      "Try to note off a note that has never been turned on\n",
      "Try to note off a note that has never been turned on\n",
      "Try to note off a note that has never been turned on\n",
      "Try to note off a note that has never been turned on\n",
      "Try to note off a note that has never been turned on\n",
      "Try to note off a note that has never been turned on\n",
      "Try to note off a note that has never been turned on\n",
      "Try to note off a note that has never been turned on\n",
      "Try to note off a note that has never been turned on\n",
      "Try to note off a note that has never been turned on\n",
      "Try to note off a note that has never been turned on\n",
      "Try to note off a note that has never been turned on\n",
      "Try to note off a note that has never been turned on\n",
      "Try to note off a note that has never been turned on\n",
      "Try to note off a note that has never been turned on\n",
      "Try to note off a note that has never been turned on\n",
      "Try to note off a note that has never been turned on\n",
      "Try to note off a note that has never been turned on\n",
      "Try to note off a note that has never been turned on\n",
      "Try to note off a note that has never been turned on\n",
      "Try to note off a note that has never been turned on\n",
      "Try to note off a note that has never been turned on\n",
      "Try to note off a note that has never been turned on\n",
      "Try to note off a note that has never been turned on\n"
     ]
    },
    {
     "data": {
      "application/vnd.plotly.v1+json": {
       "config": {
        "plotlyServerURL": "https://plot.ly"
       },
       "data": [
        {
         "hovertemplate": "metric=F_score<br>sigma=%{x}<br>value=%{y}<extra></extra>",
         "legendgroup": "F_score",
         "line": {
          "color": "#636efa",
          "dash": "solid"
         },
         "marker": {
          "symbol": "circle"
         },
         "mode": "lines",
         "name": "F_score",
         "orientation": "v",
         "showlegend": true,
         "type": "scatter",
         "x": [
          1,
          11,
          21,
          31,
          41,
          51
         ],
         "xaxis": "x",
         "y": [
          0.002291637990130708,
          0.002291637990130708,
          0.002291637990130708,
          0.002291637990130708,
          0.002291637990130708,
          0.002291637990130708
         ],
         "yaxis": "y"
        },
        {
         "hovertemplate": "metric=Precision<br>sigma=%{x}<br>value=%{y}<extra></extra>",
         "legendgroup": "Precision",
         "line": {
          "color": "#EF553B",
          "dash": "solid"
         },
         "marker": {
          "symbol": "circle"
         },
         "mode": "lines",
         "name": "Precision",
         "orientation": "v",
         "showlegend": true,
         "type": "scatter",
         "x": [
          1,
          11,
          21,
          31,
          41,
          51
         ],
         "xaxis": "x",
         "y": [
          1,
          1,
          1,
          1,
          1,
          1
         ],
         "yaxis": "y"
        },
        {
         "hovertemplate": "metric=Recall<br>sigma=%{x}<br>value=%{y}<extra></extra>",
         "legendgroup": "Recall",
         "line": {
          "color": "#00cc96",
          "dash": "solid"
         },
         "marker": {
          "symbol": "circle"
         },
         "mode": "lines",
         "name": "Recall",
         "orientation": "v",
         "showlegend": true,
         "type": "scatter",
         "x": [
          1,
          11,
          21,
          31,
          41,
          51
         ],
         "xaxis": "x",
         "y": [
          0.0011494994777617527,
          0.0011494994777617527,
          0.0011494994777617527,
          0.0011494994777617527,
          0.0011494994777617527,
          0.0011494994777617527
         ],
         "yaxis": "y"
        }
       ],
       "layout": {
        "legend": {
         "title": {
          "text": "metric"
         },
         "tracegroupgap": 0
        },
        "margin": {
         "t": 60
        },
        "template": {
         "data": {
          "bar": [
           {
            "error_x": {
             "color": "#2a3f5f"
            },
            "error_y": {
             "color": "#2a3f5f"
            },
            "marker": {
             "line": {
              "color": "#E5ECF6",
              "width": 0.5
             },
             "pattern": {
              "fillmode": "overlay",
              "size": 10,
              "solidity": 0.2
             }
            },
            "type": "bar"
           }
          ],
          "barpolar": [
           {
            "marker": {
             "line": {
              "color": "#E5ECF6",
              "width": 0.5
             },
             "pattern": {
              "fillmode": "overlay",
              "size": 10,
              "solidity": 0.2
             }
            },
            "type": "barpolar"
           }
          ],
          "carpet": [
           {
            "aaxis": {
             "endlinecolor": "#2a3f5f",
             "gridcolor": "white",
             "linecolor": "white",
             "minorgridcolor": "white",
             "startlinecolor": "#2a3f5f"
            },
            "baxis": {
             "endlinecolor": "#2a3f5f",
             "gridcolor": "white",
             "linecolor": "white",
             "minorgridcolor": "white",
             "startlinecolor": "#2a3f5f"
            },
            "type": "carpet"
           }
          ],
          "choropleth": [
           {
            "colorbar": {
             "outlinewidth": 0,
             "ticks": ""
            },
            "type": "choropleth"
           }
          ],
          "contour": [
           {
            "colorbar": {
             "outlinewidth": 0,
             "ticks": ""
            },
            "colorscale": [
             [
              0,
              "#0d0887"
             ],
             [
              0.1111111111111111,
              "#46039f"
             ],
             [
              0.2222222222222222,
              "#7201a8"
             ],
             [
              0.3333333333333333,
              "#9c179e"
             ],
             [
              0.4444444444444444,
              "#bd3786"
             ],
             [
              0.5555555555555556,
              "#d8576b"
             ],
             [
              0.6666666666666666,
              "#ed7953"
             ],
             [
              0.7777777777777778,
              "#fb9f3a"
             ],
             [
              0.8888888888888888,
              "#fdca26"
             ],
             [
              1,
              "#f0f921"
             ]
            ],
            "type": "contour"
           }
          ],
          "contourcarpet": [
           {
            "colorbar": {
             "outlinewidth": 0,
             "ticks": ""
            },
            "type": "contourcarpet"
           }
          ],
          "heatmap": [
           {
            "colorbar": {
             "outlinewidth": 0,
             "ticks": ""
            },
            "colorscale": [
             [
              0,
              "#0d0887"
             ],
             [
              0.1111111111111111,
              "#46039f"
             ],
             [
              0.2222222222222222,
              "#7201a8"
             ],
             [
              0.3333333333333333,
              "#9c179e"
             ],
             [
              0.4444444444444444,
              "#bd3786"
             ],
             [
              0.5555555555555556,
              "#d8576b"
             ],
             [
              0.6666666666666666,
              "#ed7953"
             ],
             [
              0.7777777777777778,
              "#fb9f3a"
             ],
             [
              0.8888888888888888,
              "#fdca26"
             ],
             [
              1,
              "#f0f921"
             ]
            ],
            "type": "heatmap"
           }
          ],
          "heatmapgl": [
           {
            "colorbar": {
             "outlinewidth": 0,
             "ticks": ""
            },
            "colorscale": [
             [
              0,
              "#0d0887"
             ],
             [
              0.1111111111111111,
              "#46039f"
             ],
             [
              0.2222222222222222,
              "#7201a8"
             ],
             [
              0.3333333333333333,
              "#9c179e"
             ],
             [
              0.4444444444444444,
              "#bd3786"
             ],
             [
              0.5555555555555556,
              "#d8576b"
             ],
             [
              0.6666666666666666,
              "#ed7953"
             ],
             [
              0.7777777777777778,
              "#fb9f3a"
             ],
             [
              0.8888888888888888,
              "#fdca26"
             ],
             [
              1,
              "#f0f921"
             ]
            ],
            "type": "heatmapgl"
           }
          ],
          "histogram": [
           {
            "marker": {
             "pattern": {
              "fillmode": "overlay",
              "size": 10,
              "solidity": 0.2
             }
            },
            "type": "histogram"
           }
          ],
          "histogram2d": [
           {
            "colorbar": {
             "outlinewidth": 0,
             "ticks": ""
            },
            "colorscale": [
             [
              0,
              "#0d0887"
             ],
             [
              0.1111111111111111,
              "#46039f"
             ],
             [
              0.2222222222222222,
              "#7201a8"
             ],
             [
              0.3333333333333333,
              "#9c179e"
             ],
             [
              0.4444444444444444,
              "#bd3786"
             ],
             [
              0.5555555555555556,
              "#d8576b"
             ],
             [
              0.6666666666666666,
              "#ed7953"
             ],
             [
              0.7777777777777778,
              "#fb9f3a"
             ],
             [
              0.8888888888888888,
              "#fdca26"
             ],
             [
              1,
              "#f0f921"
             ]
            ],
            "type": "histogram2d"
           }
          ],
          "histogram2dcontour": [
           {
            "colorbar": {
             "outlinewidth": 0,
             "ticks": ""
            },
            "colorscale": [
             [
              0,
              "#0d0887"
             ],
             [
              0.1111111111111111,
              "#46039f"
             ],
             [
              0.2222222222222222,
              "#7201a8"
             ],
             [
              0.3333333333333333,
              "#9c179e"
             ],
             [
              0.4444444444444444,
              "#bd3786"
             ],
             [
              0.5555555555555556,
              "#d8576b"
             ],
             [
              0.6666666666666666,
              "#ed7953"
             ],
             [
              0.7777777777777778,
              "#fb9f3a"
             ],
             [
              0.8888888888888888,
              "#fdca26"
             ],
             [
              1,
              "#f0f921"
             ]
            ],
            "type": "histogram2dcontour"
           }
          ],
          "mesh3d": [
           {
            "colorbar": {
             "outlinewidth": 0,
             "ticks": ""
            },
            "type": "mesh3d"
           }
          ],
          "parcoords": [
           {
            "line": {
             "colorbar": {
              "outlinewidth": 0,
              "ticks": ""
             }
            },
            "type": "parcoords"
           }
          ],
          "pie": [
           {
            "automargin": true,
            "type": "pie"
           }
          ],
          "scatter": [
           {
            "fillpattern": {
             "fillmode": "overlay",
             "size": 10,
             "solidity": 0.2
            },
            "type": "scatter"
           }
          ],
          "scatter3d": [
           {
            "line": {
             "colorbar": {
              "outlinewidth": 0,
              "ticks": ""
             }
            },
            "marker": {
             "colorbar": {
              "outlinewidth": 0,
              "ticks": ""
             }
            },
            "type": "scatter3d"
           }
          ],
          "scattercarpet": [
           {
            "marker": {
             "colorbar": {
              "outlinewidth": 0,
              "ticks": ""
             }
            },
            "type": "scattercarpet"
           }
          ],
          "scattergeo": [
           {
            "marker": {
             "colorbar": {
              "outlinewidth": 0,
              "ticks": ""
             }
            },
            "type": "scattergeo"
           }
          ],
          "scattergl": [
           {
            "marker": {
             "colorbar": {
              "outlinewidth": 0,
              "ticks": ""
             }
            },
            "type": "scattergl"
           }
          ],
          "scattermapbox": [
           {
            "marker": {
             "colorbar": {
              "outlinewidth": 0,
              "ticks": ""
             }
            },
            "type": "scattermapbox"
           }
          ],
          "scatterpolar": [
           {
            "marker": {
             "colorbar": {
              "outlinewidth": 0,
              "ticks": ""
             }
            },
            "type": "scatterpolar"
           }
          ],
          "scatterpolargl": [
           {
            "marker": {
             "colorbar": {
              "outlinewidth": 0,
              "ticks": ""
             }
            },
            "type": "scatterpolargl"
           }
          ],
          "scatterternary": [
           {
            "marker": {
             "colorbar": {
              "outlinewidth": 0,
              "ticks": ""
             }
            },
            "type": "scatterternary"
           }
          ],
          "surface": [
           {
            "colorbar": {
             "outlinewidth": 0,
             "ticks": ""
            },
            "colorscale": [
             [
              0,
              "#0d0887"
             ],
             [
              0.1111111111111111,
              "#46039f"
             ],
             [
              0.2222222222222222,
              "#7201a8"
             ],
             [
              0.3333333333333333,
              "#9c179e"
             ],
             [
              0.4444444444444444,
              "#bd3786"
             ],
             [
              0.5555555555555556,
              "#d8576b"
             ],
             [
              0.6666666666666666,
              "#ed7953"
             ],
             [
              0.7777777777777778,
              "#fb9f3a"
             ],
             [
              0.8888888888888888,
              "#fdca26"
             ],
             [
              1,
              "#f0f921"
             ]
            ],
            "type": "surface"
           }
          ],
          "table": [
           {
            "cells": {
             "fill": {
              "color": "#EBF0F8"
             },
             "line": {
              "color": "white"
             }
            },
            "header": {
             "fill": {
              "color": "#C8D4E3"
             },
             "line": {
              "color": "white"
             }
            },
            "type": "table"
           }
          ]
         },
         "layout": {
          "annotationdefaults": {
           "arrowcolor": "#2a3f5f",
           "arrowhead": 0,
           "arrowwidth": 1
          },
          "autotypenumbers": "strict",
          "coloraxis": {
           "colorbar": {
            "outlinewidth": 0,
            "ticks": ""
           }
          },
          "colorscale": {
           "diverging": [
            [
             0,
             "#8e0152"
            ],
            [
             0.1,
             "#c51b7d"
            ],
            [
             0.2,
             "#de77ae"
            ],
            [
             0.3,
             "#f1b6da"
            ],
            [
             0.4,
             "#fde0ef"
            ],
            [
             0.5,
             "#f7f7f7"
            ],
            [
             0.6,
             "#e6f5d0"
            ],
            [
             0.7,
             "#b8e186"
            ],
            [
             0.8,
             "#7fbc41"
            ],
            [
             0.9,
             "#4d9221"
            ],
            [
             1,
             "#276419"
            ]
           ],
           "sequential": [
            [
             0,
             "#0d0887"
            ],
            [
             0.1111111111111111,
             "#46039f"
            ],
            [
             0.2222222222222222,
             "#7201a8"
            ],
            [
             0.3333333333333333,
             "#9c179e"
            ],
            [
             0.4444444444444444,
             "#bd3786"
            ],
            [
             0.5555555555555556,
             "#d8576b"
            ],
            [
             0.6666666666666666,
             "#ed7953"
            ],
            [
             0.7777777777777778,
             "#fb9f3a"
            ],
            [
             0.8888888888888888,
             "#fdca26"
            ],
            [
             1,
             "#f0f921"
            ]
           ],
           "sequentialminus": [
            [
             0,
             "#0d0887"
            ],
            [
             0.1111111111111111,
             "#46039f"
            ],
            [
             0.2222222222222222,
             "#7201a8"
            ],
            [
             0.3333333333333333,
             "#9c179e"
            ],
            [
             0.4444444444444444,
             "#bd3786"
            ],
            [
             0.5555555555555556,
             "#d8576b"
            ],
            [
             0.6666666666666666,
             "#ed7953"
            ],
            [
             0.7777777777777778,
             "#fb9f3a"
            ],
            [
             0.8888888888888888,
             "#fdca26"
            ],
            [
             1,
             "#f0f921"
            ]
           ]
          },
          "colorway": [
           "#636efa",
           "#EF553B",
           "#00cc96",
           "#ab63fa",
           "#FFA15A",
           "#19d3f3",
           "#FF6692",
           "#B6E880",
           "#FF97FF",
           "#FECB52"
          ],
          "font": {
           "color": "#2a3f5f"
          },
          "geo": {
           "bgcolor": "white",
           "lakecolor": "white",
           "landcolor": "#E5ECF6",
           "showlakes": true,
           "showland": true,
           "subunitcolor": "white"
          },
          "hoverlabel": {
           "align": "left"
          },
          "hovermode": "closest",
          "mapbox": {
           "style": "light"
          },
          "paper_bgcolor": "white",
          "plot_bgcolor": "#E5ECF6",
          "polar": {
           "angularaxis": {
            "gridcolor": "white",
            "linecolor": "white",
            "ticks": ""
           },
           "bgcolor": "#E5ECF6",
           "radialaxis": {
            "gridcolor": "white",
            "linecolor": "white",
            "ticks": ""
           }
          },
          "scene": {
           "xaxis": {
            "backgroundcolor": "#E5ECF6",
            "gridcolor": "white",
            "gridwidth": 2,
            "linecolor": "white",
            "showbackground": true,
            "ticks": "",
            "zerolinecolor": "white"
           },
           "yaxis": {
            "backgroundcolor": "#E5ECF6",
            "gridcolor": "white",
            "gridwidth": 2,
            "linecolor": "white",
            "showbackground": true,
            "ticks": "",
            "zerolinecolor": "white"
           },
           "zaxis": {
            "backgroundcolor": "#E5ECF6",
            "gridcolor": "white",
            "gridwidth": 2,
            "linecolor": "white",
            "showbackground": true,
            "ticks": "",
            "zerolinecolor": "white"
           }
          },
          "shapedefaults": {
           "line": {
            "color": "#2a3f5f"
           }
          },
          "ternary": {
           "aaxis": {
            "gridcolor": "white",
            "linecolor": "white",
            "ticks": ""
           },
           "baxis": {
            "gridcolor": "white",
            "linecolor": "white",
            "ticks": ""
           },
           "bgcolor": "#E5ECF6",
           "caxis": {
            "gridcolor": "white",
            "linecolor": "white",
            "ticks": ""
           }
          },
          "title": {
           "x": 0.05
          },
          "xaxis": {
           "automargin": true,
           "gridcolor": "white",
           "linecolor": "white",
           "ticks": "",
           "title": {
            "standoff": 15
           },
           "zerolinecolor": "white",
           "zerolinewidth": 2
          },
          "yaxis": {
           "automargin": true,
           "gridcolor": "white",
           "linecolor": "white",
           "ticks": "",
           "title": {
            "standoff": 15
           },
           "zerolinecolor": "white",
           "zerolinewidth": 2
          }
         }
        },
        "xaxis": {
         "anchor": "y",
         "domain": [
          0,
          1
         ],
         "title": {
          "text": "sigma"
         }
        },
        "yaxis": {
         "anchor": "x",
         "domain": [
          0,
          1
         ],
         "title": {
          "text": "value"
         }
        }
       }
      },
      "text/html": [
       "<div>                            <div id=\"14fb386b-b7a3-481e-967c-64643ecab05a\" class=\"plotly-graph-div\" style=\"height:525px; width:100%;\"></div>            <script type=\"text/javascript\">                require([\"plotly\"], function(Plotly) {                    window.PLOTLYENV=window.PLOTLYENV || {};                                    if (document.getElementById(\"14fb386b-b7a3-481e-967c-64643ecab05a\")) {                    Plotly.newPlot(                        \"14fb386b-b7a3-481e-967c-64643ecab05a\",                        [{\"hovertemplate\":\"metric=F_score<br>sigma=%{x}<br>value=%{y}<extra></extra>\",\"legendgroup\":\"F_score\",\"line\":{\"color\":\"#636efa\",\"dash\":\"solid\"},\"marker\":{\"symbol\":\"circle\"},\"mode\":\"lines\",\"name\":\"F_score\",\"orientation\":\"v\",\"showlegend\":true,\"x\":[1,11,21,31,41,51],\"xaxis\":\"x\",\"y\":[0.002291637990130708,0.002291637990130708,0.002291637990130708,0.002291637990130708,0.002291637990130708,0.002291637990130708],\"yaxis\":\"y\",\"type\":\"scatter\"},{\"hovertemplate\":\"metric=Precision<br>sigma=%{x}<br>value=%{y}<extra></extra>\",\"legendgroup\":\"Precision\",\"line\":{\"color\":\"#EF553B\",\"dash\":\"solid\"},\"marker\":{\"symbol\":\"circle\"},\"mode\":\"lines\",\"name\":\"Precision\",\"orientation\":\"v\",\"showlegend\":true,\"x\":[1,11,21,31,41,51],\"xaxis\":\"x\",\"y\":[1.0,1.0,1.0,1.0,1.0,1.0],\"yaxis\":\"y\",\"type\":\"scatter\"},{\"hovertemplate\":\"metric=Recall<br>sigma=%{x}<br>value=%{y}<extra></extra>\",\"legendgroup\":\"Recall\",\"line\":{\"color\":\"#00cc96\",\"dash\":\"solid\"},\"marker\":{\"symbol\":\"circle\"},\"mode\":\"lines\",\"name\":\"Recall\",\"orientation\":\"v\",\"showlegend\":true,\"x\":[1,11,21,31,41,51],\"xaxis\":\"x\",\"y\":[0.0011494994777617527,0.0011494994777617527,0.0011494994777617527,0.0011494994777617527,0.0011494994777617527,0.0011494994777617527],\"yaxis\":\"y\",\"type\":\"scatter\"}],                        {\"template\":{\"data\":{\"histogram2dcontour\":[{\"type\":\"histogram2dcontour\",\"colorbar\":{\"outlinewidth\":0,\"ticks\":\"\"},\"colorscale\":[[0.0,\"#0d0887\"],[0.1111111111111111,\"#46039f\"],[0.2222222222222222,\"#7201a8\"],[0.3333333333333333,\"#9c179e\"],[0.4444444444444444,\"#bd3786\"],[0.5555555555555556,\"#d8576b\"],[0.6666666666666666,\"#ed7953\"],[0.7777777777777778,\"#fb9f3a\"],[0.8888888888888888,\"#fdca26\"],[1.0,\"#f0f921\"]]}],\"choropleth\":[{\"type\":\"choropleth\",\"colorbar\":{\"outlinewidth\":0,\"ticks\":\"\"}}],\"histogram2d\":[{\"type\":\"histogram2d\",\"colorbar\":{\"outlinewidth\":0,\"ticks\":\"\"},\"colorscale\":[[0.0,\"#0d0887\"],[0.1111111111111111,\"#46039f\"],[0.2222222222222222,\"#7201a8\"],[0.3333333333333333,\"#9c179e\"],[0.4444444444444444,\"#bd3786\"],[0.5555555555555556,\"#d8576b\"],[0.6666666666666666,\"#ed7953\"],[0.7777777777777778,\"#fb9f3a\"],[0.8888888888888888,\"#fdca26\"],[1.0,\"#f0f921\"]]}],\"heatmap\":[{\"type\":\"heatmap\",\"colorbar\":{\"outlinewidth\":0,\"ticks\":\"\"},\"colorscale\":[[0.0,\"#0d0887\"],[0.1111111111111111,\"#46039f\"],[0.2222222222222222,\"#7201a8\"],[0.3333333333333333,\"#9c179e\"],[0.4444444444444444,\"#bd3786\"],[0.5555555555555556,\"#d8576b\"],[0.6666666666666666,\"#ed7953\"],[0.7777777777777778,\"#fb9f3a\"],[0.8888888888888888,\"#fdca26\"],[1.0,\"#f0f921\"]]}],\"heatmapgl\":[{\"type\":\"heatmapgl\",\"colorbar\":{\"outlinewidth\":0,\"ticks\":\"\"},\"colorscale\":[[0.0,\"#0d0887\"],[0.1111111111111111,\"#46039f\"],[0.2222222222222222,\"#7201a8\"],[0.3333333333333333,\"#9c179e\"],[0.4444444444444444,\"#bd3786\"],[0.5555555555555556,\"#d8576b\"],[0.6666666666666666,\"#ed7953\"],[0.7777777777777778,\"#fb9f3a\"],[0.8888888888888888,\"#fdca26\"],[1.0,\"#f0f921\"]]}],\"contourcarpet\":[{\"type\":\"contourcarpet\",\"colorbar\":{\"outlinewidth\":0,\"ticks\":\"\"}}],\"contour\":[{\"type\":\"contour\",\"colorbar\":{\"outlinewidth\":0,\"ticks\":\"\"},\"colorscale\":[[0.0,\"#0d0887\"],[0.1111111111111111,\"#46039f\"],[0.2222222222222222,\"#7201a8\"],[0.3333333333333333,\"#9c179e\"],[0.4444444444444444,\"#bd3786\"],[0.5555555555555556,\"#d8576b\"],[0.6666666666666666,\"#ed7953\"],[0.7777777777777778,\"#fb9f3a\"],[0.8888888888888888,\"#fdca26\"],[1.0,\"#f0f921\"]]}],\"surface\":[{\"type\":\"surface\",\"colorbar\":{\"outlinewidth\":0,\"ticks\":\"\"},\"colorscale\":[[0.0,\"#0d0887\"],[0.1111111111111111,\"#46039f\"],[0.2222222222222222,\"#7201a8\"],[0.3333333333333333,\"#9c179e\"],[0.4444444444444444,\"#bd3786\"],[0.5555555555555556,\"#d8576b\"],[0.6666666666666666,\"#ed7953\"],[0.7777777777777778,\"#fb9f3a\"],[0.8888888888888888,\"#fdca26\"],[1.0,\"#f0f921\"]]}],\"mesh3d\":[{\"type\":\"mesh3d\",\"colorbar\":{\"outlinewidth\":0,\"ticks\":\"\"}}],\"scatter\":[{\"fillpattern\":{\"fillmode\":\"overlay\",\"size\":10,\"solidity\":0.2},\"type\":\"scatter\"}],\"parcoords\":[{\"type\":\"parcoords\",\"line\":{\"colorbar\":{\"outlinewidth\":0,\"ticks\":\"\"}}}],\"scatterpolargl\":[{\"type\":\"scatterpolargl\",\"marker\":{\"colorbar\":{\"outlinewidth\":0,\"ticks\":\"\"}}}],\"bar\":[{\"error_x\":{\"color\":\"#2a3f5f\"},\"error_y\":{\"color\":\"#2a3f5f\"},\"marker\":{\"line\":{\"color\":\"#E5ECF6\",\"width\":0.5},\"pattern\":{\"fillmode\":\"overlay\",\"size\":10,\"solidity\":0.2}},\"type\":\"bar\"}],\"scattergeo\":[{\"type\":\"scattergeo\",\"marker\":{\"colorbar\":{\"outlinewidth\":0,\"ticks\":\"\"}}}],\"scatterpolar\":[{\"type\":\"scatterpolar\",\"marker\":{\"colorbar\":{\"outlinewidth\":0,\"ticks\":\"\"}}}],\"histogram\":[{\"marker\":{\"pattern\":{\"fillmode\":\"overlay\",\"size\":10,\"solidity\":0.2}},\"type\":\"histogram\"}],\"scattergl\":[{\"type\":\"scattergl\",\"marker\":{\"colorbar\":{\"outlinewidth\":0,\"ticks\":\"\"}}}],\"scatter3d\":[{\"type\":\"scatter3d\",\"line\":{\"colorbar\":{\"outlinewidth\":0,\"ticks\":\"\"}},\"marker\":{\"colorbar\":{\"outlinewidth\":0,\"ticks\":\"\"}}}],\"scattermapbox\":[{\"type\":\"scattermapbox\",\"marker\":{\"colorbar\":{\"outlinewidth\":0,\"ticks\":\"\"}}}],\"scatterternary\":[{\"type\":\"scatterternary\",\"marker\":{\"colorbar\":{\"outlinewidth\":0,\"ticks\":\"\"}}}],\"scattercarpet\":[{\"type\":\"scattercarpet\",\"marker\":{\"colorbar\":{\"outlinewidth\":0,\"ticks\":\"\"}}}],\"carpet\":[{\"aaxis\":{\"endlinecolor\":\"#2a3f5f\",\"gridcolor\":\"white\",\"linecolor\":\"white\",\"minorgridcolor\":\"white\",\"startlinecolor\":\"#2a3f5f\"},\"baxis\":{\"endlinecolor\":\"#2a3f5f\",\"gridcolor\":\"white\",\"linecolor\":\"white\",\"minorgridcolor\":\"white\",\"startlinecolor\":\"#2a3f5f\"},\"type\":\"carpet\"}],\"table\":[{\"cells\":{\"fill\":{\"color\":\"#EBF0F8\"},\"line\":{\"color\":\"white\"}},\"header\":{\"fill\":{\"color\":\"#C8D4E3\"},\"line\":{\"color\":\"white\"}},\"type\":\"table\"}],\"barpolar\":[{\"marker\":{\"line\":{\"color\":\"#E5ECF6\",\"width\":0.5},\"pattern\":{\"fillmode\":\"overlay\",\"size\":10,\"solidity\":0.2}},\"type\":\"barpolar\"}],\"pie\":[{\"automargin\":true,\"type\":\"pie\"}]},\"layout\":{\"autotypenumbers\":\"strict\",\"colorway\":[\"#636efa\",\"#EF553B\",\"#00cc96\",\"#ab63fa\",\"#FFA15A\",\"#19d3f3\",\"#FF6692\",\"#B6E880\",\"#FF97FF\",\"#FECB52\"],\"font\":{\"color\":\"#2a3f5f\"},\"hovermode\":\"closest\",\"hoverlabel\":{\"align\":\"left\"},\"paper_bgcolor\":\"white\",\"plot_bgcolor\":\"#E5ECF6\",\"polar\":{\"bgcolor\":\"#E5ECF6\",\"angularaxis\":{\"gridcolor\":\"white\",\"linecolor\":\"white\",\"ticks\":\"\"},\"radialaxis\":{\"gridcolor\":\"white\",\"linecolor\":\"white\",\"ticks\":\"\"}},\"ternary\":{\"bgcolor\":\"#E5ECF6\",\"aaxis\":{\"gridcolor\":\"white\",\"linecolor\":\"white\",\"ticks\":\"\"},\"baxis\":{\"gridcolor\":\"white\",\"linecolor\":\"white\",\"ticks\":\"\"},\"caxis\":{\"gridcolor\":\"white\",\"linecolor\":\"white\",\"ticks\":\"\"}},\"coloraxis\":{\"colorbar\":{\"outlinewidth\":0,\"ticks\":\"\"}},\"colorscale\":{\"sequential\":[[0.0,\"#0d0887\"],[0.1111111111111111,\"#46039f\"],[0.2222222222222222,\"#7201a8\"],[0.3333333333333333,\"#9c179e\"],[0.4444444444444444,\"#bd3786\"],[0.5555555555555556,\"#d8576b\"],[0.6666666666666666,\"#ed7953\"],[0.7777777777777778,\"#fb9f3a\"],[0.8888888888888888,\"#fdca26\"],[1.0,\"#f0f921\"]],\"sequentialminus\":[[0.0,\"#0d0887\"],[0.1111111111111111,\"#46039f\"],[0.2222222222222222,\"#7201a8\"],[0.3333333333333333,\"#9c179e\"],[0.4444444444444444,\"#bd3786\"],[0.5555555555555556,\"#d8576b\"],[0.6666666666666666,\"#ed7953\"],[0.7777777777777778,\"#fb9f3a\"],[0.8888888888888888,\"#fdca26\"],[1.0,\"#f0f921\"]],\"diverging\":[[0,\"#8e0152\"],[0.1,\"#c51b7d\"],[0.2,\"#de77ae\"],[0.3,\"#f1b6da\"],[0.4,\"#fde0ef\"],[0.5,\"#f7f7f7\"],[0.6,\"#e6f5d0\"],[0.7,\"#b8e186\"],[0.8,\"#7fbc41\"],[0.9,\"#4d9221\"],[1,\"#276419\"]]},\"xaxis\":{\"gridcolor\":\"white\",\"linecolor\":\"white\",\"ticks\":\"\",\"title\":{\"standoff\":15},\"zerolinecolor\":\"white\",\"automargin\":true,\"zerolinewidth\":2},\"yaxis\":{\"gridcolor\":\"white\",\"linecolor\":\"white\",\"ticks\":\"\",\"title\":{\"standoff\":15},\"zerolinecolor\":\"white\",\"automargin\":true,\"zerolinewidth\":2},\"scene\":{\"xaxis\":{\"backgroundcolor\":\"#E5ECF6\",\"gridcolor\":\"white\",\"linecolor\":\"white\",\"showbackground\":true,\"ticks\":\"\",\"zerolinecolor\":\"white\",\"gridwidth\":2},\"yaxis\":{\"backgroundcolor\":\"#E5ECF6\",\"gridcolor\":\"white\",\"linecolor\":\"white\",\"showbackground\":true,\"ticks\":\"\",\"zerolinecolor\":\"white\",\"gridwidth\":2},\"zaxis\":{\"backgroundcolor\":\"#E5ECF6\",\"gridcolor\":\"white\",\"linecolor\":\"white\",\"showbackground\":true,\"ticks\":\"\",\"zerolinecolor\":\"white\",\"gridwidth\":2}},\"shapedefaults\":{\"line\":{\"color\":\"#2a3f5f\"}},\"annotationdefaults\":{\"arrowcolor\":\"#2a3f5f\",\"arrowhead\":0,\"arrowwidth\":1},\"geo\":{\"bgcolor\":\"white\",\"landcolor\":\"#E5ECF6\",\"subunitcolor\":\"white\",\"showland\":true,\"showlakes\":true,\"lakecolor\":\"white\"},\"title\":{\"x\":0.05},\"mapbox\":{\"style\":\"light\"}}},\"xaxis\":{\"anchor\":\"y\",\"domain\":[0.0,1.0],\"title\":{\"text\":\"sigma\"}},\"yaxis\":{\"anchor\":\"x\",\"domain\":[0.0,1.0],\"title\":{\"text\":\"value\"}},\"legend\":{\"title\":{\"text\":\"metric\"},\"tracegroupgap\":0},\"margin\":{\"t\":60}},                        {\"responsive\": true}                    ).then(function(){\n",
       "                            \n",
       "var gd = document.getElementById('14fb386b-b7a3-481e-967c-64643ecab05a');\n",
       "var x = new MutationObserver(function (mutations, observer) {{\n",
       "        var display = window.getComputedStyle(gd).display;\n",
       "        if (!display || display === 'none') {{\n",
       "            console.log([gd, 'removed!']);\n",
       "            Plotly.purge(gd);\n",
       "            observer.disconnect();\n",
       "        }}\n",
       "}});\n",
       "\n",
       "// Listen for the removal of the full notebook cells\n",
       "var notebookContainer = gd.closest('#notebook-container');\n",
       "if (notebookContainer) {{\n",
       "    x.observe(notebookContainer, {childList: true});\n",
       "}}\n",
       "\n",
       "// Listen for the clearing of the current output cell\n",
       "var outputEl = gd.closest('.output');\n",
       "if (outputEl) {{\n",
       "    x.observe(outputEl, {childList: true});\n",
       "}}\n",
       "\n",
       "                        })                };                });            </script>        </div>"
      ]
     },
     "metadata": {},
     "output_type": "display_data"
    },
    {
     "name": "stdout",
     "output_type": "stream",
     "text": [
      "HCDF in ABC Dataset 1 cosine\n",
      "Try to note off a note that has never been turned on\n",
      "Try to note off a note that has never been turned on\n",
      "Try to note off a note that has never been turned on\n",
      "Try to note off a note that has never been turned on\n",
      "Try to note off a note that has never been turned on\n",
      "Try to note off a note that has never been turned on\n",
      "Try to note off a note that has never been turned on\n",
      "Try to note off a note that has never been turned on\n",
      "Try to note off a note that has never been turned on\n",
      "Try to note off a note that has never been turned on\n",
      "Try to note off a note that has never been turned on\n",
      "Try to note off a note that has never been turned on\n",
      "Try to note off a note that has never been turned on\n",
      "Try to note off a note that has never been turned on\n",
      "Try to note off a note that has never been turned on\n",
      "Try to note off a note that has never been turned on\n",
      "Try to note off a note that has never been turned on\n",
      "Try to note off a note that has never been turned on\n",
      "Try to note off a note that has never been turned on\n",
      "Try to note off a note that has never been turned on\n",
      "Try to note off a note that has never been turned on\n",
      "Try to note off a note that has never been turned on\n",
      "Try to note off a note that has never been turned on\n",
      "Try to note off a note that has never been turned on\n",
      "Try to note off a note that has never been turned on\n",
      "Try to note off a note that has never been turned on\n",
      "Try to note off a note that has never been turned on\n",
      "Try to note off a note that has never been turned on\n",
      "Try to note off a note that has never been turned on\n",
      "Try to note off a note that has never been turned on\n",
      "Try to note off a note that has never been turned on\n",
      "Try to note off a note that has never been turned on\n",
      "Try to note off a note that has never been turned on\n",
      "Try to note off a note that has never been turned on\n",
      "Try to note off a note that has never been turned on\n",
      "Try to note off a note that has never been turned on\n",
      "Try to note off a note that has never been turned on\n",
      "Try to note off a note that has never been turned on\n",
      "Try to note off a note that has never been turned on\n",
      "Try to note off a note that has never been turned on\n",
      "Try to note off a note that has never been turned on\n",
      "Try to note off a note that has never been turned on\n",
      "Try to note off a note that has never been turned on\n",
      "Try to note off a note that has never been turned on\n",
      "Try to note off a note that has never been turned on\n",
      "Try to note off a note that has never been turned on\n",
      "Try to note off a note that has never been turned on\n",
      "Try to note off a note that has never been turned on\n",
      "Try to note off a note that has never been turned on\n",
      "Try to note off a note that has never been turned on\n",
      "Try to note off a note that has never been turned on\n",
      "Try to note off a note that has never been turned on\n",
      "Try to note off a note that has never been turned on\n",
      "Try to note off a note that has never been turned on\n",
      "Try to note off a note that has never been turned on\n",
      "Try to note off a note that has never been turned on\n",
      "Try to note off a note that has never been turned on\n",
      "Try to note off a note that has never been turned on\n",
      "Try to note off a note that has never been turned on\n",
      "Try to note off a note that has never been turned on\n",
      "Try to note off a note that has never been turned on\n",
      "Try to note off a note that has never been turned on\n",
      "Try to note off a note that has never been turned on\n",
      "Try to note off a note that has never been turned on\n",
      "Try to note off a note that has never been turned on\n",
      "Try to note off a note that has never been turned on\n",
      "Try to note off a note that has never been turned on\n",
      "Try to note off a note that has never been turned on\n",
      "Try to note off a note that has never been turned on\n",
      "Try to note off a note that has never been turned on\n",
      "Try to note off a note that has never been turned on\n",
      "Try to note off a note that has never been turned on\n",
      "Try to note off a note that has never been turned on\n",
      "Try to note off a note that has never been turned on\n",
      "Try to note off a note that has never been turned on\n",
      "Try to note off a note that has never been turned on\n",
      "Try to note off a note that has never been turned on\n",
      "Try to note off a note that has never been turned on\n",
      "Try to note off a note that has never been turned on\n",
      "Try to note off a note that has never been turned on\n",
      "Try to note off a note that has never been turned on\n",
      "Try to note off a note that has never been turned on\n",
      "Try to note off a note that has never been turned on\n",
      "Try to note off a note that has never been turned on\n",
      "Try to note off a note that has never been turned on\n",
      "Try to note off a note that has never been turned on\n",
      "Try to note off a note that has never been turned on\n",
      "Try to note off a note that has never been turned on\n",
      "Try to note off a note that has never been turned on\n",
      "Try to note off a note that has never been turned on\n",
      "Try to note off a note that has never been turned on\n",
      "Try to note off a note that has never been turned on\n",
      "Try to note off a note that has never been turned on\n",
      "Try to note off a note that has never been turned on\n",
      "Try to note off a note that has never been turned on\n",
      "Try to note off a note that has never been turned on\n",
      "Try to note off a note that has never been turned on\n",
      "Try to note off a note that has never been turned on\n",
      "Try to note off a note that has never been turned on\n",
      "Try to note off a note that has never been turned on\n",
      "Try to note off a note that has never been turned on\n",
      "Try to note off a note that has never been turned on\n",
      "Try to note off a note that has never been turned on\n",
      "Try to note off a note that has never been turned on\n",
      "Try to note off a note that has never been turned on\n",
      "Try to note off a note that has never been turned on\n",
      "Try to note off a note that has never been turned on\n",
      "Try to note off a note that has never been turned on\n",
      "Try to note off a note that has never been turned on\n",
      "Try to note off a note that has never been turned on\n",
      "Try to note off a note that has never been turned on\n",
      "Try to note off a note that has never been turned on\n",
      "Try to note off a note that has never been turned on\n",
      "Try to note off a note that has never been turned on\n",
      "Try to note off a note that has never been turned on\n",
      "Try to note off a note that has never been turned on\n",
      "Try to note off a note that has never been turned on\n",
      "Try to note off a note that has never been turned on\n",
      "Try to note off a note that has never been turned on\n",
      "Try to note off a note that has never been turned on\n",
      "Try to note off a note that has never been turned on\n",
      "Try to note off a note that has never been turned on\n",
      "Try to note off a note that has never been turned on\n",
      "Try to note off a note that has never been turned on\n",
      "Try to note off a note that has never been turned on\n",
      "Try to note off a note that has never been turned on\n",
      "Try to note off a note that has never been turned on\n",
      "Try to note off a note that has never been turned on\n",
      "Try to note off a note that has never been turned on\n",
      "Try to note off a note that has never been turned on\n",
      "Try to note off a note that has never been turned on\n",
      "Try to note off a note that has never been turned on\n",
      "Try to note off a note that has never been turned on\n",
      "Try to note off a note that has never been turned on\n",
      "Try to note off a note that has never been turned on\n",
      "Try to note off a note that has never been turned on\n",
      "Try to note off a note that has never been turned on\n",
      "Try to note off a note that has never been turned on\n",
      "Try to note off a note that has never been turned on\n",
      "Try to note off a note that has never been turned on\n",
      "Try to note off a note that has never been turned on\n",
      "Try to note off a note that has never been turned on\n",
      "Try to note off a note that has never been turned on\n",
      "Try to note off a note that has never been turned on\n",
      "Try to note off a note that has never been turned on\n",
      "Try to note off a note that has never been turned on\n",
      "Try to note off a note that has never been turned on\n",
      "Try to note off a note that has never been turned on\n",
      "Try to note off a note that has never been turned on\n",
      "Try to note off a note that has never been turned on\n",
      "Try to note off a note that has never been turned on\n",
      "Try to note off a note that has never been turned on\n",
      "Try to note off a note that has never been turned on\n",
      "Try to note off a note that has never been turned on\n",
      "Try to note off a note that has never been turned on\n",
      "Try to note off a note that has never been turned on\n",
      "Try to note off a note that has never been turned on\n",
      "Try to note off a note that has never been turned on\n",
      "Try to note off a note that has never been turned on\n",
      "Try to note off a note that has never been turned on\n",
      "Try to note off a note that has never been turned on\n",
      "Try to note off a note that has never been turned on\n",
      "Try to note off a note that has never been turned on\n",
      "Try to note off a note that has never been turned on\n",
      "Try to note off a note that has never been turned on\n",
      "Try to note off a note that has never been turned on\n",
      "Try to note off a note that has never been turned on\n",
      "Try to note off a note that has never been turned on\n",
      "Try to note off a note that has never been turned on\n"
     ]
    },
    {
     "name": "stdout",
     "output_type": "stream",
     "text": [
      "HCDF in ABC Dataset 11 cosine\n",
      "Try to note off a note that has never been turned on\n",
      "Try to note off a note that has never been turned on\n",
      "Try to note off a note that has never been turned on\n",
      "Try to note off a note that has never been turned on\n",
      "Try to note off a note that has never been turned on\n",
      "Try to note off a note that has never been turned on\n",
      "Try to note off a note that has never been turned on\n",
      "Try to note off a note that has never been turned on\n",
      "Try to note off a note that has never been turned on\n",
      "Try to note off a note that has never been turned on\n",
      "Try to note off a note that has never been turned on\n",
      "Try to note off a note that has never been turned on\n",
      "Try to note off a note that has never been turned on\n",
      "Try to note off a note that has never been turned on\n",
      "Try to note off a note that has never been turned on\n",
      "Try to note off a note that has never been turned on\n",
      "Try to note off a note that has never been turned on\n",
      "Try to note off a note that has never been turned on\n",
      "Try to note off a note that has never been turned on\n",
      "Try to note off a note that has never been turned on\n",
      "Try to note off a note that has never been turned on\n",
      "Try to note off a note that has never been turned on\n",
      "Try to note off a note that has never been turned on\n",
      "Try to note off a note that has never been turned on\n",
      "Try to note off a note that has never been turned on\n",
      "Try to note off a note that has never been turned on\n",
      "Try to note off a note that has never been turned on\n",
      "Try to note off a note that has never been turned on\n",
      "Try to note off a note that has never been turned on\n",
      "Try to note off a note that has never been turned on\n",
      "Try to note off a note that has never been turned on\n",
      "Try to note off a note that has never been turned on\n",
      "Try to note off a note that has never been turned on\n",
      "Try to note off a note that has never been turned on\n",
      "Try to note off a note that has never been turned on\n",
      "Try to note off a note that has never been turned on\n",
      "Try to note off a note that has never been turned on\n",
      "Try to note off a note that has never been turned on\n",
      "Try to note off a note that has never been turned on\n",
      "Try to note off a note that has never been turned on\n",
      "Try to note off a note that has never been turned on\n",
      "Try to note off a note that has never been turned on\n",
      "Try to note off a note that has never been turned on\n",
      "Try to note off a note that has never been turned on\n",
      "Try to note off a note that has never been turned on\n",
      "Try to note off a note that has never been turned on\n",
      "Try to note off a note that has never been turned on\n",
      "Try to note off a note that has never been turned on\n",
      "Try to note off a note that has never been turned on\n",
      "Try to note off a note that has never been turned on\n",
      "Try to note off a note that has never been turned on\n",
      "Try to note off a note that has never been turned on\n",
      "Try to note off a note that has never been turned on\n",
      "Try to note off a note that has never been turned on\n",
      "Try to note off a note that has never been turned on\n",
      "Try to note off a note that has never been turned on\n",
      "Try to note off a note that has never been turned on\n",
      "Try to note off a note that has never been turned on\n",
      "Try to note off a note that has never been turned on\n",
      "Try to note off a note that has never been turned on\n",
      "Try to note off a note that has never been turned on\n",
      "Try to note off a note that has never been turned on\n",
      "Try to note off a note that has never been turned on\n",
      "Try to note off a note that has never been turned on\n",
      "Try to note off a note that has never been turned on\n",
      "Try to note off a note that has never been turned on\n",
      "Try to note off a note that has never been turned on\n",
      "Try to note off a note that has never been turned on\n",
      "Try to note off a note that has never been turned on\n",
      "Try to note off a note that has never been turned on\n",
      "Try to note off a note that has never been turned on\n",
      "Try to note off a note that has never been turned on\n",
      "Try to note off a note that has never been turned on\n",
      "Try to note off a note that has never been turned on\n",
      "Try to note off a note that has never been turned on\n",
      "Try to note off a note that has never been turned on\n",
      "Try to note off a note that has never been turned on\n",
      "Try to note off a note that has never been turned on\n",
      "Try to note off a note that has never been turned on\n",
      "Try to note off a note that has never been turned on\n",
      "Try to note off a note that has never been turned on\n",
      "Try to note off a note that has never been turned on\n",
      "Try to note off a note that has never been turned on\n",
      "Try to note off a note that has never been turned on\n",
      "Try to note off a note that has never been turned on\n",
      "Try to note off a note that has never been turned on\n",
      "Try to note off a note that has never been turned on\n",
      "Try to note off a note that has never been turned on\n",
      "Try to note off a note that has never been turned on\n",
      "Try to note off a note that has never been turned on\n",
      "Try to note off a note that has never been turned on\n",
      "Try to note off a note that has never been turned on\n",
      "Try to note off a note that has never been turned on\n",
      "Try to note off a note that has never been turned on\n",
      "Try to note off a note that has never been turned on\n",
      "Try to note off a note that has never been turned on\n",
      "Try to note off a note that has never been turned on\n",
      "Try to note off a note that has never been turned on\n",
      "Try to note off a note that has never been turned on\n",
      "Try to note off a note that has never been turned on\n",
      "Try to note off a note that has never been turned on\n",
      "Try to note off a note that has never been turned on\n",
      "Try to note off a note that has never been turned on\n",
      "Try to note off a note that has never been turned on\n",
      "Try to note off a note that has never been turned on\n",
      "Try to note off a note that has never been turned on\n",
      "Try to note off a note that has never been turned on\n",
      "Try to note off a note that has never been turned on\n",
      "Try to note off a note that has never been turned on\n",
      "Try to note off a note that has never been turned on\n",
      "Try to note off a note that has never been turned on\n",
      "Try to note off a note that has never been turned on\n",
      "Try to note off a note that has never been turned on\n",
      "Try to note off a note that has never been turned on\n",
      "Try to note off a note that has never been turned on\n",
      "Try to note off a note that has never been turned on\n",
      "Try to note off a note that has never been turned on\n",
      "Try to note off a note that has never been turned on\n",
      "Try to note off a note that has never been turned on\n",
      "Try to note off a note that has never been turned on\n",
      "Try to note off a note that has never been turned on\n",
      "Try to note off a note that has never been turned on\n",
      "Try to note off a note that has never been turned on\n",
      "Try to note off a note that has never been turned on\n",
      "Try to note off a note that has never been turned on\n",
      "Try to note off a note that has never been turned on\n",
      "Try to note off a note that has never been turned on\n",
      "Try to note off a note that has never been turned on\n",
      "Try to note off a note that has never been turned on\n",
      "Try to note off a note that has never been turned on\n",
      "Try to note off a note that has never been turned on\n",
      "Try to note off a note that has never been turned on\n",
      "Try to note off a note that has never been turned on\n",
      "Try to note off a note that has never been turned on\n",
      "Try to note off a note that has never been turned on\n",
      "Try to note off a note that has never been turned on\n",
      "Try to note off a note that has never been turned on\n",
      "Try to note off a note that has never been turned on\n",
      "Try to note off a note that has never been turned on\n",
      "Try to note off a note that has never been turned on\n",
      "Try to note off a note that has never been turned on\n",
      "Try to note off a note that has never been turned on\n",
      "Try to note off a note that has never been turned on\n",
      "Try to note off a note that has never been turned on\n",
      "Try to note off a note that has never been turned on\n",
      "Try to note off a note that has never been turned on\n",
      "Try to note off a note that has never been turned on\n",
      "Try to note off a note that has never been turned on\n",
      "Try to note off a note that has never been turned on\n",
      "Try to note off a note that has never been turned on\n",
      "Try to note off a note that has never been turned on\n",
      "Try to note off a note that has never been turned on\n",
      "Try to note off a note that has never been turned on\n",
      "Try to note off a note that has never been turned on\n",
      "Try to note off a note that has never been turned on\n",
      "Try to note off a note that has never been turned on\n",
      "Try to note off a note that has never been turned on\n",
      "Try to note off a note that has never been turned on\n",
      "Try to note off a note that has never been turned on\n",
      "Try to note off a note that has never been turned on\n",
      "Try to note off a note that has never been turned on\n",
      "Try to note off a note that has never been turned on\n",
      "Try to note off a note that has never been turned on\n",
      "Try to note off a note that has never been turned on\n",
      "Try to note off a note that has never been turned on\n",
      "Try to note off a note that has never been turned on\n",
      "Try to note off a note that has never been turned on\n",
      "Try to note off a note that has never been turned on\n",
      "Try to note off a note that has never been turned on\n"
     ]
    },
    {
     "name": "stdout",
     "output_type": "stream",
     "text": [
      "HCDF in ABC Dataset 21 cosine\n",
      "Try to note off a note that has never been turned on\n",
      "Try to note off a note that has never been turned on\n",
      "Try to note off a note that has never been turned on\n",
      "Try to note off a note that has never been turned on\n",
      "Try to note off a note that has never been turned on\n",
      "Try to note off a note that has never been turned on\n",
      "Try to note off a note that has never been turned on\n",
      "Try to note off a note that has never been turned on\n",
      "Try to note off a note that has never been turned on\n",
      "Try to note off a note that has never been turned on\n",
      "Try to note off a note that has never been turned on\n",
      "Try to note off a note that has never been turned on\n",
      "Try to note off a note that has never been turned on\n",
      "Try to note off a note that has never been turned on\n",
      "Try to note off a note that has never been turned on\n",
      "Try to note off a note that has never been turned on\n",
      "Try to note off a note that has never been turned on\n",
      "Try to note off a note that has never been turned on\n",
      "Try to note off a note that has never been turned on\n",
      "Try to note off a note that has never been turned on\n",
      "Try to note off a note that has never been turned on\n",
      "Try to note off a note that has never been turned on\n",
      "Try to note off a note that has never been turned on\n",
      "Try to note off a note that has never been turned on\n",
      "Try to note off a note that has never been turned on\n",
      "Try to note off a note that has never been turned on\n",
      "Try to note off a note that has never been turned on\n",
      "Try to note off a note that has never been turned on\n",
      "Try to note off a note that has never been turned on\n",
      "Try to note off a note that has never been turned on\n",
      "Try to note off a note that has never been turned on\n",
      "Try to note off a note that has never been turned on\n",
      "Try to note off a note that has never been turned on\n",
      "Try to note off a note that has never been turned on\n",
      "Try to note off a note that has never been turned on\n",
      "Try to note off a note that has never been turned on\n",
      "Try to note off a note that has never been turned on\n",
      "Try to note off a note that has never been turned on\n",
      "Try to note off a note that has never been turned on\n",
      "Try to note off a note that has never been turned on\n",
      "Try to note off a note that has never been turned on\n",
      "Try to note off a note that has never been turned on\n",
      "Try to note off a note that has never been turned on\n",
      "Try to note off a note that has never been turned on\n",
      "Try to note off a note that has never been turned on\n",
      "Try to note off a note that has never been turned on\n",
      "Try to note off a note that has never been turned on\n",
      "Try to note off a note that has never been turned on\n",
      "Try to note off a note that has never been turned on\n",
      "Try to note off a note that has never been turned on\n",
      "Try to note off a note that has never been turned on\n",
      "Try to note off a note that has never been turned on\n",
      "Try to note off a note that has never been turned on\n",
      "Try to note off a note that has never been turned on\n",
      "Try to note off a note that has never been turned on\n",
      "Try to note off a note that has never been turned on\n",
      "Try to note off a note that has never been turned on\n",
      "Try to note off a note that has never been turned on\n",
      "Try to note off a note that has never been turned on\n",
      "Try to note off a note that has never been turned on\n",
      "Try to note off a note that has never been turned on\n",
      "Try to note off a note that has never been turned on\n",
      "Try to note off a note that has never been turned on\n",
      "Try to note off a note that has never been turned on\n",
      "Try to note off a note that has never been turned on\n",
      "Try to note off a note that has never been turned on\n",
      "Try to note off a note that has never been turned on\n",
      "Try to note off a note that has never been turned on\n",
      "Try to note off a note that has never been turned on\n",
      "Try to note off a note that has never been turned on\n",
      "Try to note off a note that has never been turned on\n",
      "Try to note off a note that has never been turned on\n",
      "Try to note off a note that has never been turned on\n",
      "Try to note off a note that has never been turned on\n",
      "Try to note off a note that has never been turned on\n",
      "Try to note off a note that has never been turned on\n",
      "Try to note off a note that has never been turned on\n",
      "Try to note off a note that has never been turned on\n",
      "Try to note off a note that has never been turned on\n",
      "Try to note off a note that has never been turned on\n",
      "Try to note off a note that has never been turned on\n",
      "Try to note off a note that has never been turned on\n",
      "Try to note off a note that has never been turned on\n",
      "Try to note off a note that has never been turned on\n",
      "Try to note off a note that has never been turned on\n",
      "Try to note off a note that has never been turned on\n",
      "Try to note off a note that has never been turned on\n",
      "Try to note off a note that has never been turned on\n",
      "Try to note off a note that has never been turned on\n",
      "Try to note off a note that has never been turned on\n",
      "Try to note off a note that has never been turned on\n",
      "Try to note off a note that has never been turned on\n",
      "Try to note off a note that has never been turned on\n",
      "Try to note off a note that has never been turned on\n",
      "Try to note off a note that has never been turned on\n",
      "Try to note off a note that has never been turned on\n",
      "Try to note off a note that has never been turned on\n",
      "Try to note off a note that has never been turned on\n",
      "Try to note off a note that has never been turned on\n",
      "Try to note off a note that has never been turned on\n",
      "Try to note off a note that has never been turned on\n",
      "Try to note off a note that has never been turned on\n",
      "Try to note off a note that has never been turned on\n",
      "Try to note off a note that has never been turned on\n",
      "Try to note off a note that has never been turned on\n",
      "Try to note off a note that has never been turned on\n",
      "Try to note off a note that has never been turned on\n",
      "Try to note off a note that has never been turned on\n",
      "Try to note off a note that has never been turned on\n",
      "Try to note off a note that has never been turned on\n",
      "Try to note off a note that has never been turned on\n",
      "Try to note off a note that has never been turned on\n",
      "Try to note off a note that has never been turned on\n",
      "Try to note off a note that has never been turned on\n",
      "Try to note off a note that has never been turned on\n",
      "Try to note off a note that has never been turned on\n",
      "Try to note off a note that has never been turned on\n",
      "Try to note off a note that has never been turned on\n",
      "Try to note off a note that has never been turned on\n",
      "Try to note off a note that has never been turned on\n",
      "Try to note off a note that has never been turned on\n",
      "Try to note off a note that has never been turned on\n",
      "Try to note off a note that has never been turned on\n",
      "Try to note off a note that has never been turned on\n",
      "Try to note off a note that has never been turned on\n",
      "Try to note off a note that has never been turned on\n",
      "Try to note off a note that has never been turned on\n",
      "Try to note off a note that has never been turned on\n",
      "Try to note off a note that has never been turned on\n",
      "Try to note off a note that has never been turned on\n",
      "Try to note off a note that has never been turned on\n",
      "Try to note off a note that has never been turned on\n",
      "Try to note off a note that has never been turned on\n",
      "Try to note off a note that has never been turned on\n",
      "Try to note off a note that has never been turned on\n",
      "Try to note off a note that has never been turned on\n",
      "Try to note off a note that has never been turned on\n",
      "Try to note off a note that has never been turned on\n",
      "Try to note off a note that has never been turned on\n",
      "Try to note off a note that has never been turned on\n",
      "Try to note off a note that has never been turned on\n",
      "Try to note off a note that has never been turned on\n",
      "Try to note off a note that has never been turned on\n",
      "Try to note off a note that has never been turned on\n",
      "Try to note off a note that has never been turned on\n",
      "Try to note off a note that has never been turned on\n",
      "Try to note off a note that has never been turned on\n",
      "Try to note off a note that has never been turned on\n",
      "Try to note off a note that has never been turned on\n",
      "Try to note off a note that has never been turned on\n",
      "Try to note off a note that has never been turned on\n",
      "Try to note off a note that has never been turned on\n",
      "Try to note off a note that has never been turned on\n",
      "Try to note off a note that has never been turned on\n",
      "Try to note off a note that has never been turned on\n",
      "Try to note off a note that has never been turned on\n",
      "Try to note off a note that has never been turned on\n",
      "Try to note off a note that has never been turned on\n",
      "Try to note off a note that has never been turned on\n",
      "Try to note off a note that has never been turned on\n",
      "Try to note off a note that has never been turned on\n",
      "Try to note off a note that has never been turned on\n",
      "Try to note off a note that has never been turned on\n",
      "Try to note off a note that has never been turned on\n",
      "Try to note off a note that has never been turned on\n",
      "Try to note off a note that has never been turned on\n",
      "Try to note off a note that has never been turned on\n",
      "Try to note off a note that has never been turned on\n",
      "Try to note off a note that has never been turned on\n"
     ]
    },
    {
     "name": "stdout",
     "output_type": "stream",
     "text": [
      "HCDF in ABC Dataset 31 cosine\n",
      "Try to note off a note that has never been turned on\n",
      "Try to note off a note that has never been turned on\n",
      "Try to note off a note that has never been turned on\n",
      "Try to note off a note that has never been turned on\n",
      "Try to note off a note that has never been turned on\n",
      "Try to note off a note that has never been turned on\n",
      "Try to note off a note that has never been turned on\n",
      "Try to note off a note that has never been turned on\n",
      "Try to note off a note that has never been turned on\n",
      "Try to note off a note that has never been turned on\n",
      "Try to note off a note that has never been turned on\n",
      "Try to note off a note that has never been turned on\n",
      "Try to note off a note that has never been turned on\n",
      "Try to note off a note that has never been turned on\n",
      "Try to note off a note that has never been turned on\n",
      "Try to note off a note that has never been turned on\n",
      "Try to note off a note that has never been turned on\n",
      "Try to note off a note that has never been turned on\n",
      "Try to note off a note that has never been turned on\n",
      "Try to note off a note that has never been turned on\n",
      "Try to note off a note that has never been turned on\n",
      "Try to note off a note that has never been turned on\n",
      "Try to note off a note that has never been turned on\n",
      "Try to note off a note that has never been turned on\n",
      "Try to note off a note that has never been turned on\n",
      "Try to note off a note that has never been turned on\n",
      "Try to note off a note that has never been turned on\n",
      "Try to note off a note that has never been turned on\n",
      "Try to note off a note that has never been turned on\n",
      "Try to note off a note that has never been turned on\n",
      "Try to note off a note that has never been turned on\n",
      "Try to note off a note that has never been turned on\n",
      "Try to note off a note that has never been turned on\n",
      "Try to note off a note that has never been turned on\n",
      "Try to note off a note that has never been turned on\n",
      "Try to note off a note that has never been turned on\n",
      "Try to note off a note that has never been turned on\n",
      "Try to note off a note that has never been turned on\n",
      "Try to note off a note that has never been turned on\n",
      "Try to note off a note that has never been turned on\n",
      "Try to note off a note that has never been turned on\n",
      "Try to note off a note that has never been turned on\n",
      "Try to note off a note that has never been turned on\n",
      "Try to note off a note that has never been turned on\n",
      "Try to note off a note that has never been turned on\n",
      "Try to note off a note that has never been turned on\n",
      "Try to note off a note that has never been turned on\n",
      "Try to note off a note that has never been turned on\n",
      "Try to note off a note that has never been turned on\n",
      "Try to note off a note that has never been turned on\n",
      "Try to note off a note that has never been turned on\n",
      "Try to note off a note that has never been turned on\n",
      "Try to note off a note that has never been turned on\n",
      "Try to note off a note that has never been turned on\n",
      "Try to note off a note that has never been turned on\n",
      "Try to note off a note that has never been turned on\n",
      "Try to note off a note that has never been turned on\n",
      "Try to note off a note that has never been turned on\n",
      "Try to note off a note that has never been turned on\n",
      "Try to note off a note that has never been turned on\n",
      "Try to note off a note that has never been turned on\n",
      "Try to note off a note that has never been turned on\n",
      "Try to note off a note that has never been turned on\n",
      "Try to note off a note that has never been turned on\n",
      "Try to note off a note that has never been turned on\n",
      "Try to note off a note that has never been turned on\n",
      "Try to note off a note that has never been turned on\n",
      "Try to note off a note that has never been turned on\n",
      "Try to note off a note that has never been turned on\n",
      "Try to note off a note that has never been turned on\n",
      "Try to note off a note that has never been turned on\n",
      "Try to note off a note that has never been turned on\n",
      "Try to note off a note that has never been turned on\n",
      "Try to note off a note that has never been turned on\n",
      "Try to note off a note that has never been turned on\n",
      "Try to note off a note that has never been turned on\n",
      "Try to note off a note that has never been turned on\n",
      "Try to note off a note that has never been turned on\n",
      "Try to note off a note that has never been turned on\n",
      "Try to note off a note that has never been turned on\n",
      "Try to note off a note that has never been turned on\n",
      "Try to note off a note that has never been turned on\n",
      "Try to note off a note that has never been turned on\n",
      "Try to note off a note that has never been turned on\n",
      "Try to note off a note that has never been turned on\n",
      "Try to note off a note that has never been turned on\n",
      "Try to note off a note that has never been turned on\n",
      "Try to note off a note that has never been turned on\n",
      "Try to note off a note that has never been turned on\n",
      "Try to note off a note that has never been turned on\n",
      "Try to note off a note that has never been turned on\n",
      "Try to note off a note that has never been turned on\n",
      "Try to note off a note that has never been turned on\n",
      "Try to note off a note that has never been turned on\n",
      "Try to note off a note that has never been turned on\n",
      "Try to note off a note that has never been turned on\n",
      "Try to note off a note that has never been turned on\n",
      "Try to note off a note that has never been turned on\n",
      "Try to note off a note that has never been turned on\n",
      "Try to note off a note that has never been turned on\n",
      "Try to note off a note that has never been turned on\n",
      "Try to note off a note that has never been turned on\n",
      "Try to note off a note that has never been turned on\n",
      "Try to note off a note that has never been turned on\n",
      "Try to note off a note that has never been turned on\n",
      "Try to note off a note that has never been turned on\n",
      "Try to note off a note that has never been turned on\n",
      "Try to note off a note that has never been turned on\n",
      "Try to note off a note that has never been turned on\n",
      "Try to note off a note that has never been turned on\n",
      "Try to note off a note that has never been turned on\n",
      "Try to note off a note that has never been turned on\n",
      "Try to note off a note that has never been turned on\n",
      "Try to note off a note that has never been turned on\n",
      "Try to note off a note that has never been turned on\n",
      "Try to note off a note that has never been turned on\n",
      "Try to note off a note that has never been turned on\n",
      "Try to note off a note that has never been turned on\n",
      "Try to note off a note that has never been turned on\n",
      "Try to note off a note that has never been turned on\n",
      "Try to note off a note that has never been turned on\n",
      "Try to note off a note that has never been turned on\n",
      "Try to note off a note that has never been turned on\n",
      "Try to note off a note that has never been turned on\n",
      "Try to note off a note that has never been turned on\n",
      "Try to note off a note that has never been turned on\n",
      "Try to note off a note that has never been turned on\n",
      "Try to note off a note that has never been turned on\n",
      "Try to note off a note that has never been turned on\n",
      "Try to note off a note that has never been turned on\n",
      "Try to note off a note that has never been turned on\n",
      "Try to note off a note that has never been turned on\n",
      "Try to note off a note that has never been turned on\n",
      "Try to note off a note that has never been turned on\n",
      "Try to note off a note that has never been turned on\n",
      "Try to note off a note that has never been turned on\n",
      "Try to note off a note that has never been turned on\n",
      "Try to note off a note that has never been turned on\n",
      "Try to note off a note that has never been turned on\n",
      "Try to note off a note that has never been turned on\n",
      "Try to note off a note that has never been turned on\n",
      "Try to note off a note that has never been turned on\n",
      "Try to note off a note that has never been turned on\n",
      "Try to note off a note that has never been turned on\n",
      "Try to note off a note that has never been turned on\n",
      "Try to note off a note that has never been turned on\n",
      "Try to note off a note that has never been turned on\n",
      "Try to note off a note that has never been turned on\n",
      "Try to note off a note that has never been turned on\n",
      "Try to note off a note that has never been turned on\n",
      "Try to note off a note that has never been turned on\n",
      "Try to note off a note that has never been turned on\n",
      "Try to note off a note that has never been turned on\n",
      "Try to note off a note that has never been turned on\n",
      "Try to note off a note that has never been turned on\n",
      "Try to note off a note that has never been turned on\n",
      "Try to note off a note that has never been turned on\n",
      "Try to note off a note that has never been turned on\n",
      "Try to note off a note that has never been turned on\n",
      "Try to note off a note that has never been turned on\n",
      "Try to note off a note that has never been turned on\n",
      "Try to note off a note that has never been turned on\n",
      "Try to note off a note that has never been turned on\n",
      "Try to note off a note that has never been turned on\n",
      "Try to note off a note that has never been turned on\n",
      "Try to note off a note that has never been turned on\n",
      "Try to note off a note that has never been turned on\n",
      "Try to note off a note that has never been turned on\n",
      "Try to note off a note that has never been turned on\n"
     ]
    },
    {
     "name": "stdout",
     "output_type": "stream",
     "text": [
      "HCDF in ABC Dataset 41 cosine\n",
      "Try to note off a note that has never been turned on\n",
      "Try to note off a note that has never been turned on\n",
      "Try to note off a note that has never been turned on\n",
      "Try to note off a note that has never been turned on\n",
      "Try to note off a note that has never been turned on\n",
      "Try to note off a note that has never been turned on\n",
      "Try to note off a note that has never been turned on\n",
      "Try to note off a note that has never been turned on\n",
      "Try to note off a note that has never been turned on\n",
      "Try to note off a note that has never been turned on\n",
      "Try to note off a note that has never been turned on\n",
      "Try to note off a note that has never been turned on\n",
      "Try to note off a note that has never been turned on\n",
      "Try to note off a note that has never been turned on\n",
      "Try to note off a note that has never been turned on\n",
      "Try to note off a note that has never been turned on\n",
      "Try to note off a note that has never been turned on\n",
      "Try to note off a note that has never been turned on\n",
      "Try to note off a note that has never been turned on\n",
      "Try to note off a note that has never been turned on\n",
      "Try to note off a note that has never been turned on\n",
      "Try to note off a note that has never been turned on\n",
      "Try to note off a note that has never been turned on\n",
      "Try to note off a note that has never been turned on\n",
      "Try to note off a note that has never been turned on\n",
      "Try to note off a note that has never been turned on\n",
      "Try to note off a note that has never been turned on\n",
      "Try to note off a note that has never been turned on\n",
      "Try to note off a note that has never been turned on\n",
      "Try to note off a note that has never been turned on\n",
      "Try to note off a note that has never been turned on\n",
      "Try to note off a note that has never been turned on\n",
      "Try to note off a note that has never been turned on\n",
      "Try to note off a note that has never been turned on\n",
      "Try to note off a note that has never been turned on\n",
      "Try to note off a note that has never been turned on\n",
      "Try to note off a note that has never been turned on\n",
      "Try to note off a note that has never been turned on\n",
      "Try to note off a note that has never been turned on\n",
      "Try to note off a note that has never been turned on\n",
      "Try to note off a note that has never been turned on\n",
      "Try to note off a note that has never been turned on\n",
      "Try to note off a note that has never been turned on\n",
      "Try to note off a note that has never been turned on\n",
      "Try to note off a note that has never been turned on\n",
      "Try to note off a note that has never been turned on\n",
      "Try to note off a note that has never been turned on\n",
      "Try to note off a note that has never been turned on\n",
      "Try to note off a note that has never been turned on\n",
      "Try to note off a note that has never been turned on\n",
      "Try to note off a note that has never been turned on\n",
      "Try to note off a note that has never been turned on\n",
      "Try to note off a note that has never been turned on\n",
      "Try to note off a note that has never been turned on\n",
      "Try to note off a note that has never been turned on\n",
      "Try to note off a note that has never been turned on\n",
      "Try to note off a note that has never been turned on\n",
      "Try to note off a note that has never been turned on\n",
      "Try to note off a note that has never been turned on\n",
      "Try to note off a note that has never been turned on\n",
      "Try to note off a note that has never been turned on\n",
      "Try to note off a note that has never been turned on\n",
      "Try to note off a note that has never been turned on\n",
      "Try to note off a note that has never been turned on\n",
      "Try to note off a note that has never been turned on\n",
      "Try to note off a note that has never been turned on\n",
      "Try to note off a note that has never been turned on\n",
      "Try to note off a note that has never been turned on\n",
      "Try to note off a note that has never been turned on\n",
      "Try to note off a note that has never been turned on\n",
      "Try to note off a note that has never been turned on\n",
      "Try to note off a note that has never been turned on\n",
      "Try to note off a note that has never been turned on\n",
      "Try to note off a note that has never been turned on\n",
      "Try to note off a note that has never been turned on\n",
      "Try to note off a note that has never been turned on\n",
      "Try to note off a note that has never been turned on\n",
      "Try to note off a note that has never been turned on\n",
      "Try to note off a note that has never been turned on\n",
      "Try to note off a note that has never been turned on\n",
      "Try to note off a note that has never been turned on\n",
      "Try to note off a note that has never been turned on\n",
      "Try to note off a note that has never been turned on\n",
      "Try to note off a note that has never been turned on\n",
      "Try to note off a note that has never been turned on\n",
      "Try to note off a note that has never been turned on\n",
      "Try to note off a note that has never been turned on\n",
      "Try to note off a note that has never been turned on\n",
      "Try to note off a note that has never been turned on\n",
      "Try to note off a note that has never been turned on\n",
      "Try to note off a note that has never been turned on\n",
      "Try to note off a note that has never been turned on\n",
      "Try to note off a note that has never been turned on\n",
      "Try to note off a note that has never been turned on\n",
      "Try to note off a note that has never been turned on\n",
      "Try to note off a note that has never been turned on\n",
      "Try to note off a note that has never been turned on\n",
      "Try to note off a note that has never been turned on\n",
      "Try to note off a note that has never been turned on\n",
      "Try to note off a note that has never been turned on\n",
      "Try to note off a note that has never been turned on\n",
      "Try to note off a note that has never been turned on\n",
      "Try to note off a note that has never been turned on\n",
      "Try to note off a note that has never been turned on\n",
      "Try to note off a note that has never been turned on\n",
      "Try to note off a note that has never been turned on\n",
      "Try to note off a note that has never been turned on\n",
      "Try to note off a note that has never been turned on\n",
      "Try to note off a note that has never been turned on\n",
      "Try to note off a note that has never been turned on\n",
      "Try to note off a note that has never been turned on\n",
      "Try to note off a note that has never been turned on\n",
      "Try to note off a note that has never been turned on\n",
      "Try to note off a note that has never been turned on\n",
      "Try to note off a note that has never been turned on\n",
      "Try to note off a note that has never been turned on\n",
      "Try to note off a note that has never been turned on\n",
      "Try to note off a note that has never been turned on\n",
      "Try to note off a note that has never been turned on\n",
      "Try to note off a note that has never been turned on\n",
      "Try to note off a note that has never been turned on\n",
      "Try to note off a note that has never been turned on\n",
      "Try to note off a note that has never been turned on\n",
      "Try to note off a note that has never been turned on\n",
      "Try to note off a note that has never been turned on\n",
      "Try to note off a note that has never been turned on\n",
      "Try to note off a note that has never been turned on\n",
      "Try to note off a note that has never been turned on\n",
      "Try to note off a note that has never been turned on\n",
      "Try to note off a note that has never been turned on\n",
      "Try to note off a note that has never been turned on\n",
      "Try to note off a note that has never been turned on\n",
      "Try to note off a note that has never been turned on\n",
      "Try to note off a note that has never been turned on\n",
      "Try to note off a note that has never been turned on\n",
      "Try to note off a note that has never been turned on\n",
      "Try to note off a note that has never been turned on\n",
      "Try to note off a note that has never been turned on\n",
      "Try to note off a note that has never been turned on\n",
      "Try to note off a note that has never been turned on\n",
      "Try to note off a note that has never been turned on\n",
      "Try to note off a note that has never been turned on\n",
      "Try to note off a note that has never been turned on\n",
      "Try to note off a note that has never been turned on\n",
      "Try to note off a note that has never been turned on\n",
      "Try to note off a note that has never been turned on\n",
      "Try to note off a note that has never been turned on\n",
      "Try to note off a note that has never been turned on\n",
      "Try to note off a note that has never been turned on\n",
      "Try to note off a note that has never been turned on\n",
      "Try to note off a note that has never been turned on\n",
      "Try to note off a note that has never been turned on\n",
      "Try to note off a note that has never been turned on\n",
      "Try to note off a note that has never been turned on\n",
      "Try to note off a note that has never been turned on\n",
      "Try to note off a note that has never been turned on\n",
      "Try to note off a note that has never been turned on\n",
      "Try to note off a note that has never been turned on\n",
      "Try to note off a note that has never been turned on\n",
      "Try to note off a note that has never been turned on\n",
      "Try to note off a note that has never been turned on\n",
      "Try to note off a note that has never been turned on\n",
      "Try to note off a note that has never been turned on\n",
      "Try to note off a note that has never been turned on\n",
      "Try to note off a note that has never been turned on\n",
      "Try to note off a note that has never been turned on\n",
      "Try to note off a note that has never been turned on\n",
      "Try to note off a note that has never been turned on\n",
      "Try to note off a note that has never been turned on\n"
     ]
    },
    {
     "name": "stdout",
     "output_type": "stream",
     "text": [
      "HCDF in ABC Dataset 51 cosine\n",
      "Try to note off a note that has never been turned on\n",
      "Try to note off a note that has never been turned on\n",
      "Try to note off a note that has never been turned on\n",
      "Try to note off a note that has never been turned on\n",
      "Try to note off a note that has never been turned on\n",
      "Try to note off a note that has never been turned on\n",
      "Try to note off a note that has never been turned on\n",
      "Try to note off a note that has never been turned on\n",
      "Try to note off a note that has never been turned on\n",
      "Try to note off a note that has never been turned on\n",
      "Try to note off a note that has never been turned on\n",
      "Try to note off a note that has never been turned on\n",
      "Try to note off a note that has never been turned on\n",
      "Try to note off a note that has never been turned on\n",
      "Try to note off a note that has never been turned on\n",
      "Try to note off a note that has never been turned on\n",
      "Try to note off a note that has never been turned on\n",
      "Try to note off a note that has never been turned on\n",
      "Try to note off a note that has never been turned on\n",
      "Try to note off a note that has never been turned on\n",
      "Try to note off a note that has never been turned on\n",
      "Try to note off a note that has never been turned on\n",
      "Try to note off a note that has never been turned on\n",
      "Try to note off a note that has never been turned on\n",
      "Try to note off a note that has never been turned on\n",
      "Try to note off a note that has never been turned on\n",
      "Try to note off a note that has never been turned on\n",
      "Try to note off a note that has never been turned on\n",
      "Try to note off a note that has never been turned on\n",
      "Try to note off a note that has never been turned on\n",
      "Try to note off a note that has never been turned on\n",
      "Try to note off a note that has never been turned on\n",
      "Try to note off a note that has never been turned on\n",
      "Try to note off a note that has never been turned on\n",
      "Try to note off a note that has never been turned on\n",
      "Try to note off a note that has never been turned on\n",
      "Try to note off a note that has never been turned on\n",
      "Try to note off a note that has never been turned on\n",
      "Try to note off a note that has never been turned on\n",
      "Try to note off a note that has never been turned on\n",
      "Try to note off a note that has never been turned on\n",
      "Try to note off a note that has never been turned on\n",
      "Try to note off a note that has never been turned on\n",
      "Try to note off a note that has never been turned on\n",
      "Try to note off a note that has never been turned on\n",
      "Try to note off a note that has never been turned on\n",
      "Try to note off a note that has never been turned on\n",
      "Try to note off a note that has never been turned on\n",
      "Try to note off a note that has never been turned on\n",
      "Try to note off a note that has never been turned on\n",
      "Try to note off a note that has never been turned on\n",
      "Try to note off a note that has never been turned on\n",
      "Try to note off a note that has never been turned on\n",
      "Try to note off a note that has never been turned on\n",
      "Try to note off a note that has never been turned on\n",
      "Try to note off a note that has never been turned on\n",
      "Try to note off a note that has never been turned on\n",
      "Try to note off a note that has never been turned on\n",
      "Try to note off a note that has never been turned on\n",
      "Try to note off a note that has never been turned on\n",
      "Try to note off a note that has never been turned on\n",
      "Try to note off a note that has never been turned on\n",
      "Try to note off a note that has never been turned on\n",
      "Try to note off a note that has never been turned on\n",
      "Try to note off a note that has never been turned on\n",
      "Try to note off a note that has never been turned on\n",
      "Try to note off a note that has never been turned on\n",
      "Try to note off a note that has never been turned on\n",
      "Try to note off a note that has never been turned on\n",
      "Try to note off a note that has never been turned on\n",
      "Try to note off a note that has never been turned on\n",
      "Try to note off a note that has never been turned on\n",
      "Try to note off a note that has never been turned on\n",
      "Try to note off a note that has never been turned on\n",
      "Try to note off a note that has never been turned on\n",
      "Try to note off a note that has never been turned on\n",
      "Try to note off a note that has never been turned on\n",
      "Try to note off a note that has never been turned on\n",
      "Try to note off a note that has never been turned on\n",
      "Try to note off a note that has never been turned on\n",
      "Try to note off a note that has never been turned on\n",
      "Try to note off a note that has never been turned on\n",
      "Try to note off a note that has never been turned on\n",
      "Try to note off a note that has never been turned on\n",
      "Try to note off a note that has never been turned on\n",
      "Try to note off a note that has never been turned on\n",
      "Try to note off a note that has never been turned on\n",
      "Try to note off a note that has never been turned on\n",
      "Try to note off a note that has never been turned on\n",
      "Try to note off a note that has never been turned on\n",
      "Try to note off a note that has never been turned on\n",
      "Try to note off a note that has never been turned on\n",
      "Try to note off a note that has never been turned on\n",
      "Try to note off a note that has never been turned on\n",
      "Try to note off a note that has never been turned on\n",
      "Try to note off a note that has never been turned on\n",
      "Try to note off a note that has never been turned on\n",
      "Try to note off a note that has never been turned on\n",
      "Try to note off a note that has never been turned on\n",
      "Try to note off a note that has never been turned on\n",
      "Try to note off a note that has never been turned on\n",
      "Try to note off a note that has never been turned on\n",
      "Try to note off a note that has never been turned on\n",
      "Try to note off a note that has never been turned on\n",
      "Try to note off a note that has never been turned on\n",
      "Try to note off a note that has never been turned on\n",
      "Try to note off a note that has never been turned on\n",
      "Try to note off a note that has never been turned on\n",
      "Try to note off a note that has never been turned on\n",
      "Try to note off a note that has never been turned on\n",
      "Try to note off a note that has never been turned on\n",
      "Try to note off a note that has never been turned on\n",
      "Try to note off a note that has never been turned on\n",
      "Try to note off a note that has never been turned on\n",
      "Try to note off a note that has never been turned on\n",
      "Try to note off a note that has never been turned on\n",
      "Try to note off a note that has never been turned on\n",
      "Try to note off a note that has never been turned on\n",
      "Try to note off a note that has never been turned on\n",
      "Try to note off a note that has never been turned on\n",
      "Try to note off a note that has never been turned on\n",
      "Try to note off a note that has never been turned on\n",
      "Try to note off a note that has never been turned on\n",
      "Try to note off a note that has never been turned on\n",
      "Try to note off a note that has never been turned on\n",
      "Try to note off a note that has never been turned on\n",
      "Try to note off a note that has never been turned on\n",
      "Try to note off a note that has never been turned on\n",
      "Try to note off a note that has never been turned on\n",
      "Try to note off a note that has never been turned on\n",
      "Try to note off a note that has never been turned on\n",
      "Try to note off a note that has never been turned on\n",
      "Try to note off a note that has never been turned on\n",
      "Try to note off a note that has never been turned on\n",
      "Try to note off a note that has never been turned on\n",
      "Try to note off a note that has never been turned on\n",
      "Try to note off a note that has never been turned on\n",
      "Try to note off a note that has never been turned on\n",
      "Try to note off a note that has never been turned on\n",
      "Try to note off a note that has never been turned on\n",
      "Try to note off a note that has never been turned on\n",
      "Try to note off a note that has never been turned on\n",
      "Try to note off a note that has never been turned on\n",
      "Try to note off a note that has never been turned on\n",
      "Try to note off a note that has never been turned on\n",
      "Try to note off a note that has never been turned on\n",
      "Try to note off a note that has never been turned on\n",
      "Try to note off a note that has never been turned on\n",
      "Try to note off a note that has never been turned on\n",
      "Try to note off a note that has never been turned on\n",
      "Try to note off a note that has never been turned on\n",
      "Try to note off a note that has never been turned on\n",
      "Try to note off a note that has never been turned on\n",
      "Try to note off a note that has never been turned on\n",
      "Try to note off a note that has never been turned on\n",
      "Try to note off a note that has never been turned on\n",
      "Try to note off a note that has never been turned on\n",
      "Try to note off a note that has never been turned on\n",
      "Try to note off a note that has never been turned on\n",
      "Try to note off a note that has never been turned on\n",
      "Try to note off a note that has never been turned on\n",
      "Try to note off a note that has never been turned on\n",
      "Try to note off a note that has never been turned on\n",
      "Try to note off a note that has never been turned on\n",
      "Try to note off a note that has never been turned on\n",
      "Try to note off a note that has never been turned on\n",
      "Try to note off a note that has never been turned on\n",
      "Try to note off a note that has never been turned on\n",
      "Try to note off a note that has never been turned on\n"
     ]
    },
    {
     "data": {
      "application/vnd.plotly.v1+json": {
       "config": {
        "plotlyServerURL": "https://plot.ly"
       },
       "data": [
        {
         "hovertemplate": "metric=F_score<br>sigma=%{x}<br>value=%{y}<extra></extra>",
         "legendgroup": "F_score",
         "line": {
          "color": "#636efa",
          "dash": "solid"
         },
         "marker": {
          "symbol": "circle"
         },
         "mode": "lines",
         "name": "F_score",
         "orientation": "v",
         "showlegend": true,
         "type": "scatter",
         "x": [
          1,
          11,
          21,
          31,
          41,
          51
         ],
         "xaxis": "x",
         "y": [
          0.002291637990130708,
          0.002291637990130708,
          0.002291637990130708,
          0.002291637990130708,
          0.002291637990130708,
          0.002291637990130708
         ],
         "yaxis": "y"
        },
        {
         "hovertemplate": "metric=Precision<br>sigma=%{x}<br>value=%{y}<extra></extra>",
         "legendgroup": "Precision",
         "line": {
          "color": "#EF553B",
          "dash": "solid"
         },
         "marker": {
          "symbol": "circle"
         },
         "mode": "lines",
         "name": "Precision",
         "orientation": "v",
         "showlegend": true,
         "type": "scatter",
         "x": [
          1,
          11,
          21,
          31,
          41,
          51
         ],
         "xaxis": "x",
         "y": [
          1,
          1,
          1,
          1,
          1,
          1
         ],
         "yaxis": "y"
        },
        {
         "hovertemplate": "metric=Recall<br>sigma=%{x}<br>value=%{y}<extra></extra>",
         "legendgroup": "Recall",
         "line": {
          "color": "#00cc96",
          "dash": "solid"
         },
         "marker": {
          "symbol": "circle"
         },
         "mode": "lines",
         "name": "Recall",
         "orientation": "v",
         "showlegend": true,
         "type": "scatter",
         "x": [
          1,
          11,
          21,
          31,
          41,
          51
         ],
         "xaxis": "x",
         "y": [
          0.0011494994777617527,
          0.0011494994777617527,
          0.0011494994777617527,
          0.0011494994777617527,
          0.0011494994777617527,
          0.0011494994777617527
         ],
         "yaxis": "y"
        }
       ],
       "layout": {
        "legend": {
         "title": {
          "text": "metric"
         },
         "tracegroupgap": 0
        },
        "margin": {
         "t": 60
        },
        "template": {
         "data": {
          "bar": [
           {
            "error_x": {
             "color": "#2a3f5f"
            },
            "error_y": {
             "color": "#2a3f5f"
            },
            "marker": {
             "line": {
              "color": "#E5ECF6",
              "width": 0.5
             },
             "pattern": {
              "fillmode": "overlay",
              "size": 10,
              "solidity": 0.2
             }
            },
            "type": "bar"
           }
          ],
          "barpolar": [
           {
            "marker": {
             "line": {
              "color": "#E5ECF6",
              "width": 0.5
             },
             "pattern": {
              "fillmode": "overlay",
              "size": 10,
              "solidity": 0.2
             }
            },
            "type": "barpolar"
           }
          ],
          "carpet": [
           {
            "aaxis": {
             "endlinecolor": "#2a3f5f",
             "gridcolor": "white",
             "linecolor": "white",
             "minorgridcolor": "white",
             "startlinecolor": "#2a3f5f"
            },
            "baxis": {
             "endlinecolor": "#2a3f5f",
             "gridcolor": "white",
             "linecolor": "white",
             "minorgridcolor": "white",
             "startlinecolor": "#2a3f5f"
            },
            "type": "carpet"
           }
          ],
          "choropleth": [
           {
            "colorbar": {
             "outlinewidth": 0,
             "ticks": ""
            },
            "type": "choropleth"
           }
          ],
          "contour": [
           {
            "colorbar": {
             "outlinewidth": 0,
             "ticks": ""
            },
            "colorscale": [
             [
              0,
              "#0d0887"
             ],
             [
              0.1111111111111111,
              "#46039f"
             ],
             [
              0.2222222222222222,
              "#7201a8"
             ],
             [
              0.3333333333333333,
              "#9c179e"
             ],
             [
              0.4444444444444444,
              "#bd3786"
             ],
             [
              0.5555555555555556,
              "#d8576b"
             ],
             [
              0.6666666666666666,
              "#ed7953"
             ],
             [
              0.7777777777777778,
              "#fb9f3a"
             ],
             [
              0.8888888888888888,
              "#fdca26"
             ],
             [
              1,
              "#f0f921"
             ]
            ],
            "type": "contour"
           }
          ],
          "contourcarpet": [
           {
            "colorbar": {
             "outlinewidth": 0,
             "ticks": ""
            },
            "type": "contourcarpet"
           }
          ],
          "heatmap": [
           {
            "colorbar": {
             "outlinewidth": 0,
             "ticks": ""
            },
            "colorscale": [
             [
              0,
              "#0d0887"
             ],
             [
              0.1111111111111111,
              "#46039f"
             ],
             [
              0.2222222222222222,
              "#7201a8"
             ],
             [
              0.3333333333333333,
              "#9c179e"
             ],
             [
              0.4444444444444444,
              "#bd3786"
             ],
             [
              0.5555555555555556,
              "#d8576b"
             ],
             [
              0.6666666666666666,
              "#ed7953"
             ],
             [
              0.7777777777777778,
              "#fb9f3a"
             ],
             [
              0.8888888888888888,
              "#fdca26"
             ],
             [
              1,
              "#f0f921"
             ]
            ],
            "type": "heatmap"
           }
          ],
          "heatmapgl": [
           {
            "colorbar": {
             "outlinewidth": 0,
             "ticks": ""
            },
            "colorscale": [
             [
              0,
              "#0d0887"
             ],
             [
              0.1111111111111111,
              "#46039f"
             ],
             [
              0.2222222222222222,
              "#7201a8"
             ],
             [
              0.3333333333333333,
              "#9c179e"
             ],
             [
              0.4444444444444444,
              "#bd3786"
             ],
             [
              0.5555555555555556,
              "#d8576b"
             ],
             [
              0.6666666666666666,
              "#ed7953"
             ],
             [
              0.7777777777777778,
              "#fb9f3a"
             ],
             [
              0.8888888888888888,
              "#fdca26"
             ],
             [
              1,
              "#f0f921"
             ]
            ],
            "type": "heatmapgl"
           }
          ],
          "histogram": [
           {
            "marker": {
             "pattern": {
              "fillmode": "overlay",
              "size": 10,
              "solidity": 0.2
             }
            },
            "type": "histogram"
           }
          ],
          "histogram2d": [
           {
            "colorbar": {
             "outlinewidth": 0,
             "ticks": ""
            },
            "colorscale": [
             [
              0,
              "#0d0887"
             ],
             [
              0.1111111111111111,
              "#46039f"
             ],
             [
              0.2222222222222222,
              "#7201a8"
             ],
             [
              0.3333333333333333,
              "#9c179e"
             ],
             [
              0.4444444444444444,
              "#bd3786"
             ],
             [
              0.5555555555555556,
              "#d8576b"
             ],
             [
              0.6666666666666666,
              "#ed7953"
             ],
             [
              0.7777777777777778,
              "#fb9f3a"
             ],
             [
              0.8888888888888888,
              "#fdca26"
             ],
             [
              1,
              "#f0f921"
             ]
            ],
            "type": "histogram2d"
           }
          ],
          "histogram2dcontour": [
           {
            "colorbar": {
             "outlinewidth": 0,
             "ticks": ""
            },
            "colorscale": [
             [
              0,
              "#0d0887"
             ],
             [
              0.1111111111111111,
              "#46039f"
             ],
             [
              0.2222222222222222,
              "#7201a8"
             ],
             [
              0.3333333333333333,
              "#9c179e"
             ],
             [
              0.4444444444444444,
              "#bd3786"
             ],
             [
              0.5555555555555556,
              "#d8576b"
             ],
             [
              0.6666666666666666,
              "#ed7953"
             ],
             [
              0.7777777777777778,
              "#fb9f3a"
             ],
             [
              0.8888888888888888,
              "#fdca26"
             ],
             [
              1,
              "#f0f921"
             ]
            ],
            "type": "histogram2dcontour"
           }
          ],
          "mesh3d": [
           {
            "colorbar": {
             "outlinewidth": 0,
             "ticks": ""
            },
            "type": "mesh3d"
           }
          ],
          "parcoords": [
           {
            "line": {
             "colorbar": {
              "outlinewidth": 0,
              "ticks": ""
             }
            },
            "type": "parcoords"
           }
          ],
          "pie": [
           {
            "automargin": true,
            "type": "pie"
           }
          ],
          "scatter": [
           {
            "fillpattern": {
             "fillmode": "overlay",
             "size": 10,
             "solidity": 0.2
            },
            "type": "scatter"
           }
          ],
          "scatter3d": [
           {
            "line": {
             "colorbar": {
              "outlinewidth": 0,
              "ticks": ""
             }
            },
            "marker": {
             "colorbar": {
              "outlinewidth": 0,
              "ticks": ""
             }
            },
            "type": "scatter3d"
           }
          ],
          "scattercarpet": [
           {
            "marker": {
             "colorbar": {
              "outlinewidth": 0,
              "ticks": ""
             }
            },
            "type": "scattercarpet"
           }
          ],
          "scattergeo": [
           {
            "marker": {
             "colorbar": {
              "outlinewidth": 0,
              "ticks": ""
             }
            },
            "type": "scattergeo"
           }
          ],
          "scattergl": [
           {
            "marker": {
             "colorbar": {
              "outlinewidth": 0,
              "ticks": ""
             }
            },
            "type": "scattergl"
           }
          ],
          "scattermapbox": [
           {
            "marker": {
             "colorbar": {
              "outlinewidth": 0,
              "ticks": ""
             }
            },
            "type": "scattermapbox"
           }
          ],
          "scatterpolar": [
           {
            "marker": {
             "colorbar": {
              "outlinewidth": 0,
              "ticks": ""
             }
            },
            "type": "scatterpolar"
           }
          ],
          "scatterpolargl": [
           {
            "marker": {
             "colorbar": {
              "outlinewidth": 0,
              "ticks": ""
             }
            },
            "type": "scatterpolargl"
           }
          ],
          "scatterternary": [
           {
            "marker": {
             "colorbar": {
              "outlinewidth": 0,
              "ticks": ""
             }
            },
            "type": "scatterternary"
           }
          ],
          "surface": [
           {
            "colorbar": {
             "outlinewidth": 0,
             "ticks": ""
            },
            "colorscale": [
             [
              0,
              "#0d0887"
             ],
             [
              0.1111111111111111,
              "#46039f"
             ],
             [
              0.2222222222222222,
              "#7201a8"
             ],
             [
              0.3333333333333333,
              "#9c179e"
             ],
             [
              0.4444444444444444,
              "#bd3786"
             ],
             [
              0.5555555555555556,
              "#d8576b"
             ],
             [
              0.6666666666666666,
              "#ed7953"
             ],
             [
              0.7777777777777778,
              "#fb9f3a"
             ],
             [
              0.8888888888888888,
              "#fdca26"
             ],
             [
              1,
              "#f0f921"
             ]
            ],
            "type": "surface"
           }
          ],
          "table": [
           {
            "cells": {
             "fill": {
              "color": "#EBF0F8"
             },
             "line": {
              "color": "white"
             }
            },
            "header": {
             "fill": {
              "color": "#C8D4E3"
             },
             "line": {
              "color": "white"
             }
            },
            "type": "table"
           }
          ]
         },
         "layout": {
          "annotationdefaults": {
           "arrowcolor": "#2a3f5f",
           "arrowhead": 0,
           "arrowwidth": 1
          },
          "autotypenumbers": "strict",
          "coloraxis": {
           "colorbar": {
            "outlinewidth": 0,
            "ticks": ""
           }
          },
          "colorscale": {
           "diverging": [
            [
             0,
             "#8e0152"
            ],
            [
             0.1,
             "#c51b7d"
            ],
            [
             0.2,
             "#de77ae"
            ],
            [
             0.3,
             "#f1b6da"
            ],
            [
             0.4,
             "#fde0ef"
            ],
            [
             0.5,
             "#f7f7f7"
            ],
            [
             0.6,
             "#e6f5d0"
            ],
            [
             0.7,
             "#b8e186"
            ],
            [
             0.8,
             "#7fbc41"
            ],
            [
             0.9,
             "#4d9221"
            ],
            [
             1,
             "#276419"
            ]
           ],
           "sequential": [
            [
             0,
             "#0d0887"
            ],
            [
             0.1111111111111111,
             "#46039f"
            ],
            [
             0.2222222222222222,
             "#7201a8"
            ],
            [
             0.3333333333333333,
             "#9c179e"
            ],
            [
             0.4444444444444444,
             "#bd3786"
            ],
            [
             0.5555555555555556,
             "#d8576b"
            ],
            [
             0.6666666666666666,
             "#ed7953"
            ],
            [
             0.7777777777777778,
             "#fb9f3a"
            ],
            [
             0.8888888888888888,
             "#fdca26"
            ],
            [
             1,
             "#f0f921"
            ]
           ],
           "sequentialminus": [
            [
             0,
             "#0d0887"
            ],
            [
             0.1111111111111111,
             "#46039f"
            ],
            [
             0.2222222222222222,
             "#7201a8"
            ],
            [
             0.3333333333333333,
             "#9c179e"
            ],
            [
             0.4444444444444444,
             "#bd3786"
            ],
            [
             0.5555555555555556,
             "#d8576b"
            ],
            [
             0.6666666666666666,
             "#ed7953"
            ],
            [
             0.7777777777777778,
             "#fb9f3a"
            ],
            [
             0.8888888888888888,
             "#fdca26"
            ],
            [
             1,
             "#f0f921"
            ]
           ]
          },
          "colorway": [
           "#636efa",
           "#EF553B",
           "#00cc96",
           "#ab63fa",
           "#FFA15A",
           "#19d3f3",
           "#FF6692",
           "#B6E880",
           "#FF97FF",
           "#FECB52"
          ],
          "font": {
           "color": "#2a3f5f"
          },
          "geo": {
           "bgcolor": "white",
           "lakecolor": "white",
           "landcolor": "#E5ECF6",
           "showlakes": true,
           "showland": true,
           "subunitcolor": "white"
          },
          "hoverlabel": {
           "align": "left"
          },
          "hovermode": "closest",
          "mapbox": {
           "style": "light"
          },
          "paper_bgcolor": "white",
          "plot_bgcolor": "#E5ECF6",
          "polar": {
           "angularaxis": {
            "gridcolor": "white",
            "linecolor": "white",
            "ticks": ""
           },
           "bgcolor": "#E5ECF6",
           "radialaxis": {
            "gridcolor": "white",
            "linecolor": "white",
            "ticks": ""
           }
          },
          "scene": {
           "xaxis": {
            "backgroundcolor": "#E5ECF6",
            "gridcolor": "white",
            "gridwidth": 2,
            "linecolor": "white",
            "showbackground": true,
            "ticks": "",
            "zerolinecolor": "white"
           },
           "yaxis": {
            "backgroundcolor": "#E5ECF6",
            "gridcolor": "white",
            "gridwidth": 2,
            "linecolor": "white",
            "showbackground": true,
            "ticks": "",
            "zerolinecolor": "white"
           },
           "zaxis": {
            "backgroundcolor": "#E5ECF6",
            "gridcolor": "white",
            "gridwidth": 2,
            "linecolor": "white",
            "showbackground": true,
            "ticks": "",
            "zerolinecolor": "white"
           }
          },
          "shapedefaults": {
           "line": {
            "color": "#2a3f5f"
           }
          },
          "ternary": {
           "aaxis": {
            "gridcolor": "white",
            "linecolor": "white",
            "ticks": ""
           },
           "baxis": {
            "gridcolor": "white",
            "linecolor": "white",
            "ticks": ""
           },
           "bgcolor": "#E5ECF6",
           "caxis": {
            "gridcolor": "white",
            "linecolor": "white",
            "ticks": ""
           }
          },
          "title": {
           "x": 0.05
          },
          "xaxis": {
           "automargin": true,
           "gridcolor": "white",
           "linecolor": "white",
           "ticks": "",
           "title": {
            "standoff": 15
           },
           "zerolinecolor": "white",
           "zerolinewidth": 2
          },
          "yaxis": {
           "automargin": true,
           "gridcolor": "white",
           "linecolor": "white",
           "ticks": "",
           "title": {
            "standoff": 15
           },
           "zerolinecolor": "white",
           "zerolinewidth": 2
          }
         }
        },
        "xaxis": {
         "anchor": "y",
         "domain": [
          0,
          1
         ],
         "title": {
          "text": "sigma"
         }
        },
        "yaxis": {
         "anchor": "x",
         "domain": [
          0,
          1
         ],
         "title": {
          "text": "value"
         }
        }
       }
      },
      "text/html": [
       "<div>                            <div id=\"4ae2087c-563a-4ff6-9994-f561b6f447d6\" class=\"plotly-graph-div\" style=\"height:525px; width:100%;\"></div>            <script type=\"text/javascript\">                require([\"plotly\"], function(Plotly) {                    window.PLOTLYENV=window.PLOTLYENV || {};                                    if (document.getElementById(\"4ae2087c-563a-4ff6-9994-f561b6f447d6\")) {                    Plotly.newPlot(                        \"4ae2087c-563a-4ff6-9994-f561b6f447d6\",                        [{\"hovertemplate\":\"metric=F_score<br>sigma=%{x}<br>value=%{y}<extra></extra>\",\"legendgroup\":\"F_score\",\"line\":{\"color\":\"#636efa\",\"dash\":\"solid\"},\"marker\":{\"symbol\":\"circle\"},\"mode\":\"lines\",\"name\":\"F_score\",\"orientation\":\"v\",\"showlegend\":true,\"x\":[1,11,21,31,41,51],\"xaxis\":\"x\",\"y\":[0.002291637990130708,0.002291637990130708,0.002291637990130708,0.002291637990130708,0.002291637990130708,0.002291637990130708],\"yaxis\":\"y\",\"type\":\"scatter\"},{\"hovertemplate\":\"metric=Precision<br>sigma=%{x}<br>value=%{y}<extra></extra>\",\"legendgroup\":\"Precision\",\"line\":{\"color\":\"#EF553B\",\"dash\":\"solid\"},\"marker\":{\"symbol\":\"circle\"},\"mode\":\"lines\",\"name\":\"Precision\",\"orientation\":\"v\",\"showlegend\":true,\"x\":[1,11,21,31,41,51],\"xaxis\":\"x\",\"y\":[1.0,1.0,1.0,1.0,1.0,1.0],\"yaxis\":\"y\",\"type\":\"scatter\"},{\"hovertemplate\":\"metric=Recall<br>sigma=%{x}<br>value=%{y}<extra></extra>\",\"legendgroup\":\"Recall\",\"line\":{\"color\":\"#00cc96\",\"dash\":\"solid\"},\"marker\":{\"symbol\":\"circle\"},\"mode\":\"lines\",\"name\":\"Recall\",\"orientation\":\"v\",\"showlegend\":true,\"x\":[1,11,21,31,41,51],\"xaxis\":\"x\",\"y\":[0.0011494994777617527,0.0011494994777617527,0.0011494994777617527,0.0011494994777617527,0.0011494994777617527,0.0011494994777617527],\"yaxis\":\"y\",\"type\":\"scatter\"}],                        {\"template\":{\"data\":{\"histogram2dcontour\":[{\"type\":\"histogram2dcontour\",\"colorbar\":{\"outlinewidth\":0,\"ticks\":\"\"},\"colorscale\":[[0.0,\"#0d0887\"],[0.1111111111111111,\"#46039f\"],[0.2222222222222222,\"#7201a8\"],[0.3333333333333333,\"#9c179e\"],[0.4444444444444444,\"#bd3786\"],[0.5555555555555556,\"#d8576b\"],[0.6666666666666666,\"#ed7953\"],[0.7777777777777778,\"#fb9f3a\"],[0.8888888888888888,\"#fdca26\"],[1.0,\"#f0f921\"]]}],\"choropleth\":[{\"type\":\"choropleth\",\"colorbar\":{\"outlinewidth\":0,\"ticks\":\"\"}}],\"histogram2d\":[{\"type\":\"histogram2d\",\"colorbar\":{\"outlinewidth\":0,\"ticks\":\"\"},\"colorscale\":[[0.0,\"#0d0887\"],[0.1111111111111111,\"#46039f\"],[0.2222222222222222,\"#7201a8\"],[0.3333333333333333,\"#9c179e\"],[0.4444444444444444,\"#bd3786\"],[0.5555555555555556,\"#d8576b\"],[0.6666666666666666,\"#ed7953\"],[0.7777777777777778,\"#fb9f3a\"],[0.8888888888888888,\"#fdca26\"],[1.0,\"#f0f921\"]]}],\"heatmap\":[{\"type\":\"heatmap\",\"colorbar\":{\"outlinewidth\":0,\"ticks\":\"\"},\"colorscale\":[[0.0,\"#0d0887\"],[0.1111111111111111,\"#46039f\"],[0.2222222222222222,\"#7201a8\"],[0.3333333333333333,\"#9c179e\"],[0.4444444444444444,\"#bd3786\"],[0.5555555555555556,\"#d8576b\"],[0.6666666666666666,\"#ed7953\"],[0.7777777777777778,\"#fb9f3a\"],[0.8888888888888888,\"#fdca26\"],[1.0,\"#f0f921\"]]}],\"heatmapgl\":[{\"type\":\"heatmapgl\",\"colorbar\":{\"outlinewidth\":0,\"ticks\":\"\"},\"colorscale\":[[0.0,\"#0d0887\"],[0.1111111111111111,\"#46039f\"],[0.2222222222222222,\"#7201a8\"],[0.3333333333333333,\"#9c179e\"],[0.4444444444444444,\"#bd3786\"],[0.5555555555555556,\"#d8576b\"],[0.6666666666666666,\"#ed7953\"],[0.7777777777777778,\"#fb9f3a\"],[0.8888888888888888,\"#fdca26\"],[1.0,\"#f0f921\"]]}],\"contourcarpet\":[{\"type\":\"contourcarpet\",\"colorbar\":{\"outlinewidth\":0,\"ticks\":\"\"}}],\"contour\":[{\"type\":\"contour\",\"colorbar\":{\"outlinewidth\":0,\"ticks\":\"\"},\"colorscale\":[[0.0,\"#0d0887\"],[0.1111111111111111,\"#46039f\"],[0.2222222222222222,\"#7201a8\"],[0.3333333333333333,\"#9c179e\"],[0.4444444444444444,\"#bd3786\"],[0.5555555555555556,\"#d8576b\"],[0.6666666666666666,\"#ed7953\"],[0.7777777777777778,\"#fb9f3a\"],[0.8888888888888888,\"#fdca26\"],[1.0,\"#f0f921\"]]}],\"surface\":[{\"type\":\"surface\",\"colorbar\":{\"outlinewidth\":0,\"ticks\":\"\"},\"colorscale\":[[0.0,\"#0d0887\"],[0.1111111111111111,\"#46039f\"],[0.2222222222222222,\"#7201a8\"],[0.3333333333333333,\"#9c179e\"],[0.4444444444444444,\"#bd3786\"],[0.5555555555555556,\"#d8576b\"],[0.6666666666666666,\"#ed7953\"],[0.7777777777777778,\"#fb9f3a\"],[0.8888888888888888,\"#fdca26\"],[1.0,\"#f0f921\"]]}],\"mesh3d\":[{\"type\":\"mesh3d\",\"colorbar\":{\"outlinewidth\":0,\"ticks\":\"\"}}],\"scatter\":[{\"fillpattern\":{\"fillmode\":\"overlay\",\"size\":10,\"solidity\":0.2},\"type\":\"scatter\"}],\"parcoords\":[{\"type\":\"parcoords\",\"line\":{\"colorbar\":{\"outlinewidth\":0,\"ticks\":\"\"}}}],\"scatterpolargl\":[{\"type\":\"scatterpolargl\",\"marker\":{\"colorbar\":{\"outlinewidth\":0,\"ticks\":\"\"}}}],\"bar\":[{\"error_x\":{\"color\":\"#2a3f5f\"},\"error_y\":{\"color\":\"#2a3f5f\"},\"marker\":{\"line\":{\"color\":\"#E5ECF6\",\"width\":0.5},\"pattern\":{\"fillmode\":\"overlay\",\"size\":10,\"solidity\":0.2}},\"type\":\"bar\"}],\"scattergeo\":[{\"type\":\"scattergeo\",\"marker\":{\"colorbar\":{\"outlinewidth\":0,\"ticks\":\"\"}}}],\"scatterpolar\":[{\"type\":\"scatterpolar\",\"marker\":{\"colorbar\":{\"outlinewidth\":0,\"ticks\":\"\"}}}],\"histogram\":[{\"marker\":{\"pattern\":{\"fillmode\":\"overlay\",\"size\":10,\"solidity\":0.2}},\"type\":\"histogram\"}],\"scattergl\":[{\"type\":\"scattergl\",\"marker\":{\"colorbar\":{\"outlinewidth\":0,\"ticks\":\"\"}}}],\"scatter3d\":[{\"type\":\"scatter3d\",\"line\":{\"colorbar\":{\"outlinewidth\":0,\"ticks\":\"\"}},\"marker\":{\"colorbar\":{\"outlinewidth\":0,\"ticks\":\"\"}}}],\"scattermapbox\":[{\"type\":\"scattermapbox\",\"marker\":{\"colorbar\":{\"outlinewidth\":0,\"ticks\":\"\"}}}],\"scatterternary\":[{\"type\":\"scatterternary\",\"marker\":{\"colorbar\":{\"outlinewidth\":0,\"ticks\":\"\"}}}],\"scattercarpet\":[{\"type\":\"scattercarpet\",\"marker\":{\"colorbar\":{\"outlinewidth\":0,\"ticks\":\"\"}}}],\"carpet\":[{\"aaxis\":{\"endlinecolor\":\"#2a3f5f\",\"gridcolor\":\"white\",\"linecolor\":\"white\",\"minorgridcolor\":\"white\",\"startlinecolor\":\"#2a3f5f\"},\"baxis\":{\"endlinecolor\":\"#2a3f5f\",\"gridcolor\":\"white\",\"linecolor\":\"white\",\"minorgridcolor\":\"white\",\"startlinecolor\":\"#2a3f5f\"},\"type\":\"carpet\"}],\"table\":[{\"cells\":{\"fill\":{\"color\":\"#EBF0F8\"},\"line\":{\"color\":\"white\"}},\"header\":{\"fill\":{\"color\":\"#C8D4E3\"},\"line\":{\"color\":\"white\"}},\"type\":\"table\"}],\"barpolar\":[{\"marker\":{\"line\":{\"color\":\"#E5ECF6\",\"width\":0.5},\"pattern\":{\"fillmode\":\"overlay\",\"size\":10,\"solidity\":0.2}},\"type\":\"barpolar\"}],\"pie\":[{\"automargin\":true,\"type\":\"pie\"}]},\"layout\":{\"autotypenumbers\":\"strict\",\"colorway\":[\"#636efa\",\"#EF553B\",\"#00cc96\",\"#ab63fa\",\"#FFA15A\",\"#19d3f3\",\"#FF6692\",\"#B6E880\",\"#FF97FF\",\"#FECB52\"],\"font\":{\"color\":\"#2a3f5f\"},\"hovermode\":\"closest\",\"hoverlabel\":{\"align\":\"left\"},\"paper_bgcolor\":\"white\",\"plot_bgcolor\":\"#E5ECF6\",\"polar\":{\"bgcolor\":\"#E5ECF6\",\"angularaxis\":{\"gridcolor\":\"white\",\"linecolor\":\"white\",\"ticks\":\"\"},\"radialaxis\":{\"gridcolor\":\"white\",\"linecolor\":\"white\",\"ticks\":\"\"}},\"ternary\":{\"bgcolor\":\"#E5ECF6\",\"aaxis\":{\"gridcolor\":\"white\",\"linecolor\":\"white\",\"ticks\":\"\"},\"baxis\":{\"gridcolor\":\"white\",\"linecolor\":\"white\",\"ticks\":\"\"},\"caxis\":{\"gridcolor\":\"white\",\"linecolor\":\"white\",\"ticks\":\"\"}},\"coloraxis\":{\"colorbar\":{\"outlinewidth\":0,\"ticks\":\"\"}},\"colorscale\":{\"sequential\":[[0.0,\"#0d0887\"],[0.1111111111111111,\"#46039f\"],[0.2222222222222222,\"#7201a8\"],[0.3333333333333333,\"#9c179e\"],[0.4444444444444444,\"#bd3786\"],[0.5555555555555556,\"#d8576b\"],[0.6666666666666666,\"#ed7953\"],[0.7777777777777778,\"#fb9f3a\"],[0.8888888888888888,\"#fdca26\"],[1.0,\"#f0f921\"]],\"sequentialminus\":[[0.0,\"#0d0887\"],[0.1111111111111111,\"#46039f\"],[0.2222222222222222,\"#7201a8\"],[0.3333333333333333,\"#9c179e\"],[0.4444444444444444,\"#bd3786\"],[0.5555555555555556,\"#d8576b\"],[0.6666666666666666,\"#ed7953\"],[0.7777777777777778,\"#fb9f3a\"],[0.8888888888888888,\"#fdca26\"],[1.0,\"#f0f921\"]],\"diverging\":[[0,\"#8e0152\"],[0.1,\"#c51b7d\"],[0.2,\"#de77ae\"],[0.3,\"#f1b6da\"],[0.4,\"#fde0ef\"],[0.5,\"#f7f7f7\"],[0.6,\"#e6f5d0\"],[0.7,\"#b8e186\"],[0.8,\"#7fbc41\"],[0.9,\"#4d9221\"],[1,\"#276419\"]]},\"xaxis\":{\"gridcolor\":\"white\",\"linecolor\":\"white\",\"ticks\":\"\",\"title\":{\"standoff\":15},\"zerolinecolor\":\"white\",\"automargin\":true,\"zerolinewidth\":2},\"yaxis\":{\"gridcolor\":\"white\",\"linecolor\":\"white\",\"ticks\":\"\",\"title\":{\"standoff\":15},\"zerolinecolor\":\"white\",\"automargin\":true,\"zerolinewidth\":2},\"scene\":{\"xaxis\":{\"backgroundcolor\":\"#E5ECF6\",\"gridcolor\":\"white\",\"linecolor\":\"white\",\"showbackground\":true,\"ticks\":\"\",\"zerolinecolor\":\"white\",\"gridwidth\":2},\"yaxis\":{\"backgroundcolor\":\"#E5ECF6\",\"gridcolor\":\"white\",\"linecolor\":\"white\",\"showbackground\":true,\"ticks\":\"\",\"zerolinecolor\":\"white\",\"gridwidth\":2},\"zaxis\":{\"backgroundcolor\":\"#E5ECF6\",\"gridcolor\":\"white\",\"linecolor\":\"white\",\"showbackground\":true,\"ticks\":\"\",\"zerolinecolor\":\"white\",\"gridwidth\":2}},\"shapedefaults\":{\"line\":{\"color\":\"#2a3f5f\"}},\"annotationdefaults\":{\"arrowcolor\":\"#2a3f5f\",\"arrowhead\":0,\"arrowwidth\":1},\"geo\":{\"bgcolor\":\"white\",\"landcolor\":\"#E5ECF6\",\"subunitcolor\":\"white\",\"showland\":true,\"showlakes\":true,\"lakecolor\":\"white\"},\"title\":{\"x\":0.05},\"mapbox\":{\"style\":\"light\"}}},\"xaxis\":{\"anchor\":\"y\",\"domain\":[0.0,1.0],\"title\":{\"text\":\"sigma\"}},\"yaxis\":{\"anchor\":\"x\",\"domain\":[0.0,1.0],\"title\":{\"text\":\"value\"}},\"legend\":{\"title\":{\"text\":\"metric\"},\"tracegroupgap\":0},\"margin\":{\"t\":60}},                        {\"responsive\": true}                    ).then(function(){\n",
       "                            \n",
       "var gd = document.getElementById('4ae2087c-563a-4ff6-9994-f561b6f447d6');\n",
       "var x = new MutationObserver(function (mutations, observer) {{\n",
       "        var display = window.getComputedStyle(gd).display;\n",
       "        if (!display || display === 'none') {{\n",
       "            console.log([gd, 'removed!']);\n",
       "            Plotly.purge(gd);\n",
       "            observer.disconnect();\n",
       "        }}\n",
       "}});\n",
       "\n",
       "// Listen for the removal of the full notebook cells\n",
       "var notebookContainer = gd.closest('#notebook-container');\n",
       "if (notebookContainer) {{\n",
       "    x.observe(notebookContainer, {childList: true});\n",
       "}}\n",
       "\n",
       "// Listen for the clearing of the current output cell\n",
       "var outputEl = gd.closest('.output');\n",
       "if (outputEl) {{\n",
       "    x.observe(outputEl, {childList: true});\n",
       "}}\n",
       "\n",
       "                        })                };                });            </script>        </div>"
      ]
     },
     "metadata": {},
     "output_type": "display_data"
    }
   ],
   "source": [
    "results_euclidean_ABC = {\n",
    "    sigma: HCDF(file_list_ABC, sigma=sigma, distance='euclidean') \n",
    "    for sigma in range(1, 52, 10)\n",
    "}\n",
    "\n",
    "tune_sigma_plot(results_euclidean_ABC)\n",
    "\n",
    "results_cosine_ABC = {\n",
    "    sigma: HCDF(file_list_ABC, sigma=sigma, distance='cosine') \n",
    "    for sigma in range(1, 52, 10)\n",
    "}\n",
    "tune_sigma_plot(results_cosine_ABC)"
   ]
  }
 ],
 "metadata": {
  "kernelspec": {
   "display_name": "Python 3 (ipykernel)",
   "language": "python",
   "name": "python3"
  },
  "language_info": {
   "codemirror_mode": {
    "name": "ipython",
    "version": 3
   },
   "file_extension": ".py",
   "mimetype": "text/x-python",
   "name": "python",
   "nbconvert_exporter": "python",
   "pygments_lexer": "ipython3",
   "version": "3.7.11"
  }
 },
 "nbformat": 4,
 "nbformat_minor": 5
}
