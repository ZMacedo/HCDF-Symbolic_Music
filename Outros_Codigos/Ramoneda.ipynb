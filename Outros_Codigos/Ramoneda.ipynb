{
 "cells": [
  {
   "cell_type": "markdown",
   "metadata": {
    "id": "o1YkGd2CPlfG"
   },
   "source": [
    "# Introduction\n",
    "\n",
    "In this tutorial, it is evaluated the hcdf function proposed by Ramoneda et at. [1] on the symbolic domain. Originally, this algorithm was proposed in the audio domain. \n",
    "\n",
    "The data used for the evaluation is from the Haydn op20 dataset [2]. All the quartet movements scores of the Haydn op 20 are annotated with chords. This dataset is loaded with the mirdata library[3].\n",
    "\n",
    "\n",
    "\n",
    "\n",
    ">[1] Ramoneda, P., & Bernardes, G. (2020, October). Revisiting Harmonic Change Detection. In Audio Engineering Society Convention 149. Audio Engineering Society.\n",
    "\n",
    ">[2] López, N. N. (2017). Automatic harmonic analysis of classical string quartets from symbolic score (Doctoral dissertation, Master’s thesis, Universitat Pompeu Fabra).\n",
    "\n",
    ">[3] Bittner, R. M., Fuentes, M., Rubinstein, D., Jansson, A., Choi, K., & Kell, T. (2019). mirdata: Software for Reproducible Usage of Datasets. In ISMIR (pp. 99-106).\n",
    "\n",
    "---"
   ]
  },
  {
   "cell_type": "markdown",
   "metadata": {
    "id": "4eZlA38kSkAB"
   },
   "source": [
    "Firstly, It is imported a TIVlib [4] in-house version.\n",
    "\n",
    "\n",
    "\n",
    ">[4] Ramires, António, et al. \"TIV. lib: an open-source library for the tonal description of musical audio.\" arXiv preprint arXiv:2008.11529 (2020)."
   ]
  },
  {
   "cell_type": "code",
   "execution_count": 2,
   "metadata": {
    "id": "K3111oshCZiY"
   },
   "outputs": [
    {
     "ename": "ModuleNotFoundError",
     "evalue": "No module named 'astropy'",
     "output_type": "error",
     "traceback": [
      "\u001b[1;31m---------------------------------------------------------------------------\u001b[0m",
      "\u001b[1;31mModuleNotFoundError\u001b[0m                       Traceback (most recent call last)",
      "\u001b[1;32m<ipython-input-2-b397a7bb021e>\u001b[0m in \u001b[0;36m<module>\u001b[1;34m\u001b[0m\n\u001b[0;32m      2\u001b[0m \u001b[1;32mimport\u001b[0m \u001b[0mmatplotlib\u001b[0m\u001b[1;33m.\u001b[0m\u001b[0mpyplot\u001b[0m \u001b[1;32mas\u001b[0m \u001b[0mplt\u001b[0m\u001b[1;33m\u001b[0m\u001b[1;33m\u001b[0m\u001b[0m\n\u001b[0;32m      3\u001b[0m \u001b[1;32mfrom\u001b[0m \u001b[0mscipy\u001b[0m\u001b[1;33m.\u001b[0m\u001b[0mndimage\u001b[0m \u001b[1;32mimport\u001b[0m \u001b[0mgaussian_filter\u001b[0m\u001b[1;33m\u001b[0m\u001b[1;33m\u001b[0m\u001b[0m\n\u001b[1;32m----> 4\u001b[1;33m \u001b[1;32mfrom\u001b[0m \u001b[0mastropy\u001b[0m\u001b[1;33m.\u001b[0m\u001b[0mconvolution\u001b[0m \u001b[1;32mimport\u001b[0m \u001b[0mconvolve\u001b[0m\u001b[1;33m,\u001b[0m \u001b[0mGaussian1DKernel\u001b[0m\u001b[1;33m\u001b[0m\u001b[1;33m\u001b[0m\u001b[0m\n\u001b[0m\u001b[0;32m      5\u001b[0m \u001b[1;32mfrom\u001b[0m \u001b[0mscipy\u001b[0m\u001b[1;33m.\u001b[0m\u001b[0mspatial\u001b[0m\u001b[1;33m.\u001b[0m\u001b[0mdistance\u001b[0m \u001b[1;32mimport\u001b[0m \u001b[0mcosine\u001b[0m\u001b[1;33m,\u001b[0m \u001b[0meuclidean\u001b[0m\u001b[1;33m\u001b[0m\u001b[1;33m\u001b[0m\u001b[0m\n\u001b[0;32m      6\u001b[0m \u001b[0mnp\u001b[0m\u001b[1;33m.\u001b[0m\u001b[0mseterr\u001b[0m\u001b[1;33m(\u001b[0m\u001b[0mall\u001b[0m\u001b[1;33m=\u001b[0m\u001b[1;34m'raise'\u001b[0m\u001b[1;33m)\u001b[0m\u001b[1;33m\u001b[0m\u001b[1;33m\u001b[0m\u001b[0m\n",
      "\u001b[1;31mModuleNotFoundError\u001b[0m: No module named 'astropy'"
     ]
    }
   ],
   "source": [
    "import numpy as np\n",
    "import matplotlib.pyplot as plt\n",
    "from scipy.ndimage import gaussian_filter\n",
    "from astropy.convolution import convolve, Gaussian1DKernel\n",
    "from scipy.spatial.distance import cosine, euclidean\n",
    "np.seterr(all='raise')\n",
    "\n",
    "\n",
    "\n",
    "class TIV:\n",
    "    weights_symbolic = [2, 11, 17, 16, 19, 7]\n",
    "    weights = [3, 8, 11.5, 15, 14.5, 7.5]\n",
    "\n",
    "    def __init__(self, energy, vector):\n",
    "        self.energy = energy\n",
    "        self.vector = vector\n",
    "\n",
    "    @classmethod\n",
    "    def from_pcp(cls, pcp, symbolic=False):\n",
    "        if not everything_is_zero(pcp):\n",
    "            fft = np.fft.rfft(pcp, n=12)\n",
    "            energy = fft[0]\n",
    "            vector = fft[1:7]\n",
    "            if symbolic:\n",
    "                vector = ((vector / energy) * cls.weights_symbolic)\n",
    "            else:\n",
    "                vector = ((vector / energy) * cls.weights)\n",
    "            return cls(energy, vector)\n",
    "        else:\n",
    "            return cls(complex(0), np.array([0, 0, 0, 0, 0, 0]).astype(complex))\n",
    "\n",
    "    def get_vector(self):\n",
    "        return np.array(self.vector)\n",
    "\n",
    "    def dissonance(self):\n",
    "        return 1 - (np.linalg.norm(self.vector) / np.sqrt(np.sum(np.dot(self.weights, self.weights))))\n",
    "\n",
    "    def coefficient(self, ii):\n",
    "        return self.mags()[ii] / self.weights[ii]\n",
    "\n",
    "    def chromaticity(self):\n",
    "        return self.mags()[0] / self.weights[0]\n",
    "\n",
    "    def dyadicity(self):\n",
    "        return self.mags()[1] / self.weights[1]\n",
    "\n",
    "    def triadicity(self):\n",
    "        return self.mags()[2] / self.weights[2]\n",
    "\n",
    "    def diminished_quality(self):\n",
    "        return self.mags()[3] / self.weights[3]\n",
    "\n",
    "    def diatonicity(self):\n",
    "        return self.mags()[4] / self.weights[4]\n",
    "\n",
    "    def wholetoneness(self):\n",
    "        return self.mags()[5] / self.weights[5]\n",
    "\n",
    "    def mags(self):\n",
    "        return np.abs(self.vector)\n",
    "\n",
    "    def plot_tiv(self):\n",
    "        titles = [\"m2/M7\", \"TT\", \"M3/m6\", \"m3/M6\", \"P4/P5\", \"M2/m7\"]\n",
    "        tivs_vector = self.vector / self.weights\n",
    "        i = 1\n",
    "        for tiv in tivs_vector:\n",
    "            circle = plt.Circle((0, 0), 1, fill=False)\n",
    "            plt.subplot(2, 3, i)\n",
    "            plt.subplots_adjust(hspace=0.4)\n",
    "            plt.gca().add_patch(circle)\n",
    "            plt.title(titles[i - 1])\n",
    "            plt.scatter(tiv.real, tiv.imag)\n",
    "            plt.xlim((-1.5, 1.5))\n",
    "            plt.ylim((-1.5, 1.5))\n",
    "            plt.grid()\n",
    "            i = i + 1\n",
    "        plt.show()\n",
    "\n",
    "    @classmethod\n",
    "    def euclidean(cls, tiv1, tiv2):\n",
    "        return np.linalg.norm(tiv1.vector - tiv2.vector)\n",
    "\n",
    "    @classmethod\n",
    "    def cosine(cls, tiv1, tiv2):\n",
    "        a = np.concatenate((tiv1.vector.real, tiv1.vector.imag), axis=0)\n",
    "        b = np.concatenate((tiv2.vector.real, tiv2.vector.imag), axis=0)\n",
    "        if everything_is_zero(a) or everything_is_zero(b):\n",
    "            distance_computed = euclidean(a, b)\n",
    "        else:\n",
    "            distance_computed = cosine(a, b)\n",
    "        return distance_computed\n",
    "\n",
    "zero_sequence = [0, 0, 0, 0, 0, 0, 0, 0, 0, 0, 0, 0]\n",
    "one_sequence = [1, 1, 1, 1, 1, 1, 1, 1, 1, 1, 1, 1]\n",
    "\n",
    "\n",
    "def everything_is_zero(vector):\n",
    "    for element in vector:\n",
    "        if element != 0:\n",
    "            return False\n",
    "    return True\n",
    "\n",
    "def complex_to_vector(vector):\n",
    "    ans = []\n",
    "    for i in range(0, vector.shape[1]):\n",
    "        row1 = []\n",
    "        row2 = []\n",
    "        for j in range(0, vector.shape[0]):\n",
    "            row1.append(vector[j][i].real)\n",
    "            row2.append(vector[j][i].imag)\n",
    "        ans.append(row1)\n",
    "        ans.append(row2)\n",
    "    return np.array(ans)\n",
    "\n",
    "def tonal_interval_space(chroma, symbolic=False):\n",
    "    centroid_vector = []\n",
    "    for i in range(0, chroma.shape[1]):\n",
    "        each_chroma = [chroma[j][i] for j in range(0, chroma.shape[0])]\n",
    "        # print(each_chroma)\n",
    "        if everything_is_zero(each_chroma):\n",
    "            centroid = [0. + 0.j, 0. + 0.j, 0. + 0.j, 0. + 0.j, 0. + 0.j, 0. + 0.j]\n",
    "        else:\n",
    "            tonal = TIV.from_pcp(each_chroma, symbolic)\n",
    "            centroid = tonal.get_vector()\n",
    "        centroid_vector.append(centroid)\n",
    "    return complex_to_vector(np.array(centroid_vector))\n",
    "\n",
    "\n",
    "def gaussian_blur(centroid_vector, sigma):\n",
    "    centroid_vector = gaussian_filter(centroid_vector, sigma=sigma)\n",
    "    return centroid_vector\n",
    "\n",
    "\n",
    "def get_distance(centroids, dist):\n",
    "    ans = [0]\n",
    "    if dist == 'euclidean':\n",
    "        for j in range(1, centroids.shape[1] - 1):\n",
    "            sum = 0\n",
    "            for i in range(0, centroids.shape[0]):\n",
    "                sum += ((centroids[i][j + 1] - centroids[i][j - 1]) ** 2)\n",
    "            sum = np.math.sqrt(sum)\n",
    "\n",
    "            ans.append(sum)\n",
    "\n",
    "    if dist == 'cosine':\n",
    "        for j in range(1, centroids.shape[1] - 1):\n",
    "            a = centroids[:, j - 1]\n",
    "            b = centroids[:, j + 1]\n",
    "            if everything_is_zero(a) or everything_is_zero(b):\n",
    "                distance_computed = euclidean(a, b)\n",
    "            else:\n",
    "                distance_computed = cosine(a, b)\n",
    "            ans.append(distance_computed)\n",
    "    ans.append(0)\n",
    "\n",
    "    return np.array(ans)\n",
    "\n",
    "\n",
    "def get_peaks_hcdf(hcdf_function, rate_centroids_second, symbolic=False):\n",
    "    changes = [0]\n",
    "    hcdf_changes = []\n",
    "    last = 0\n",
    "    for i in range(2, hcdf_function.shape[0] - 1):\n",
    "        if hcdf_function[i - 1] < hcdf_function[i] and hcdf_function[i + 1] < hcdf_function[i]:\n",
    "            hcdf_changes.append(hcdf_function[i])\n",
    "            if not symbolic:\n",
    "                changes.append(i / rate_centroids_second)\n",
    "            else:\n",
    "              changes.append(i)\n",
    "            last = i\n",
    "    return np.array(changes), np.array(hcdf_changes)\n",
    "\n",
    "\n",
    "def harmonic_change(chroma: list, window_size: int=2048, symbolic: bool=False,\n",
    "                         sigma: int = 5, dist: str = 'euclidean'):\n",
    "    chroma = np.array(chroma).transpose()\n",
    "    centroid_vector = tonal_interval_space(chroma, symbolic=symbolic)\n",
    "\n",
    "    # blur\n",
    "    centroid_vector_blurred = gaussian_blur(centroid_vector, sigma)\n",
    "\n",
    "    # harmonic distance and calculate peaks\n",
    "    harmonic_function = get_distance(centroid_vector_blurred, dist)\n",
    "\n",
    "    changes, hcdf_changes = get_peaks_hcdf(harmonic_function, window_size, symbolic)\n",
    "\n",
    "    return changes, hcdf_changes, harmonic_function\n",
    "\n",
    "\n",
    "\n",
    "\n",
    "\n",
    "\n",
    "\n",
    "\n",
    "\n",
    "\n"
   ]
  },
  {
   "cell_type": "markdown",
   "metadata": {
    "id": "7MrbQoVYV1X7"
   },
   "source": [
    "Install and import of other required libraries."
   ]
  },
  {
   "cell_type": "code",
   "execution_count": null,
   "metadata": {
    "colab": {
     "base_uri": "https://localhost:8080/"
    },
    "id": "WsqSVzjpIGUj",
    "outputId": "9c1548ce-5c24-490c-fea6-ac769c56d2ab"
   },
   "outputs": [
    {
     "name": "stdout",
     "output_type": "stream",
     "text": [
      "Collecting git+https://github.com/mir-dataset-loaders/mirdata.git\n",
      "  Cloning https://github.com/mir-dataset-loaders/mirdata.git to c:\\users\\hp\\appdata\\local\\temp\\pip-req-build-fxbi12vn\n"
     ]
    },
    {
     "name": "stderr",
     "output_type": "stream",
     "text": [
      "  Running command git clone -q https://github.com/mir-dataset-loaders/mirdata.git 'C:\\Users\\HP\\AppData\\Local\\Temp\\pip-req-build-fxbi12vn'\n",
      "  error: invalid path 'tests/resources/mir_datasets/saraga_hindustani/saraga1.5_hindustani/Geetinandan : Part-3 by Ajoy Chakrabarty/Bairagi/Bairagi.bpm-manual.txt'\n",
      "  fatal: unable to checkout working tree\n",
      "  warning: Clone succeeded, but checkout failed.\n",
      "  You can inspect what was checked out with 'git status'\n",
      "  and retry with 'git restore --source=HEAD :/'\n",
      "\n",
      "ERROR: Command errored out with exit status 128: git clone -q https://github.com/mir-dataset-loaders/mirdata.git 'C:\\Users\\HP\\AppData\\Local\\Temp\\pip-req-build-fxbi12vn' Check the logs for full command output.\n"
     ]
    },
    {
     "name": "stdout",
     "output_type": "stream",
     "text": [
      "Requirement already satisfied: mido in c:\\users\\hp\\miniconda3\\envs\\fmp\\lib\\site-packages (1.2.10)\n"
     ]
    }
   ],
   "source": [
    "!pip install git+https://github.com/mir-dataset-loaders/mirdata.git\n",
    "!pip install mido\n",
    "!pip uninstall music21\n",
    "!pip install music21==6.7.1\n",
    "!pip install unidecode\n",
    "!pip install mir_eval"
   ]
  },
  {
   "cell_type": "code",
   "execution_count": null,
   "metadata": {
    "id": "ibTg6ZwdSrnd"
   },
   "outputs": [],
   "source": [
    "import music21\n",
    "import mido\n",
    "import mirdata\n",
    "import os\n",
    "import sys\n",
    "import mir_eval\n",
    "import plotly.express as px\n",
    "import pandas as pd\n",
    "from mido import MidiFile\n",
    "import numpy as np\n",
    "from unidecode import unidecode"
   ]
  },
  {
   "cell_type": "markdown",
   "metadata": {
    "id": "QBPFl15wWDAa"
   },
   "source": [
    "Load and validate of haydn op20 with mirdata library"
   ]
  },
  {
   "cell_type": "code",
   "execution_count": null,
   "metadata": {
    "colab": {
     "base_uri": "https://localhost:8080/"
    },
    "id": "2Rkb02z2JhFo",
    "outputId": "6892fd41-2936-40ff-fb83-ece8bb73fb86"
   },
   "outputs": [
    {
     "name": "stderr",
     "output_type": "stream",
     "text": [
      "INFO: Downloading ['all'] to /root/mir_datasets/haydn_op20\n",
      "INFO: [all] downloading haydnop20v1.3_annotated.zip\n",
      "128kB [00:00, 182kB/s]                             \n",
      "INFO: \n",
      "100%|██████████| 24/24 [00:00<00:00, 6613.45it/s]\n",
      "INFO: Success: the dataset is complete and all files are valid.\n",
      "INFO: --------------------\n"
     ]
    },
    {
     "data": {
      "text/plain": [
       "({'tracks': {}}, {'tracks': {}})"
      ]
     },
     "execution_count": 6,
     "metadata": {
      "tags": []
     },
     "output_type": "execute_result"
    }
   ],
   "source": [
    "h20 = mirdata.initialize('haydn_op20')\n",
    "h20.download()\n",
    "h20.validate()"
   ]
  },
  {
   "cell_type": "markdown",
   "metadata": {
    "id": "aqqIBnHSWNJ_"
   },
   "source": [
    "Example of chord annotation in a random quartet movement."
   ]
  },
  {
   "cell_type": "code",
   "execution_count": null,
   "metadata": {
    "colab": {
     "base_uri": "https://localhost:8080/"
    },
    "id": "tDWUMbtLS_th",
    "outputId": "0ab3b9f3-5600-437e-930a-e7c7e9d085da"
   },
   "outputs": [
    {
     "data": {
      "text/plain": [
       "[{'chord': 'A-major triad', 'time': 0},\n",
       " {'chord': 'A-major triad', 'time': 84},\n",
       " {'chord': 'E-major triad', 'time': 140},\n",
       " {'chord': 'F#-minor triad', 'time': 196},\n",
       " {'chord': 'C#-minor triad', 'time': 252},\n",
       " {'chord': 'D-major triad', 'time': 308},\n",
       " {'chord': 'A-major triad', 'time': 364},\n",
       " {'chord': 'E-dominant seventh chord', 'time': 392},\n",
       " {'chord': 'A-major triad', 'time': 448},\n",
       " {'chord': 'E-major triad', 'time': 532},\n",
       " {'chord': 'B-major triad', 'time': 588},\n",
       " {'chord': 'C#-minor triad', 'time': 644},\n",
       " {'chord': 'B-major triad', 'time': 700},\n",
       " {'chord': 'A-major triad', 'time': 756},\n",
       " {'chord': 'E-major triad', 'time': 812},\n",
       " {'chord': 'F#-minor triad', 'time': 840},\n",
       " {'chord': 'B-major triad', 'time': 868},\n",
       " {'chord': 'E-major triad', 'time': 896},\n",
       " {'chord': 'A-major triad', 'time': 952},\n",
       " {'chord': 'C#-minor triad', 'time': 1008},\n",
       " {'chord': 'F#-minor triad', 'time': 1064},\n",
       " {'chord': 'E-major triad', 'time': 1120},\n",
       " {'chord': 'D-major triad', 'time': 1176},\n",
       " {'chord': 'C#-minor triad', 'time': 1232},\n",
       " {'chord': 'A-major triad', 'time': 1260},\n",
       " {'chord': 'B-minor triad', 'time': 1288},\n",
       " {'chord': 'E-major triad', 'time': 1316},\n",
       " {'chord': 'A-major triad', 'time': 1344},\n",
       " {'chord': 'E-major triad', 'time': 1400},\n",
       " {'chord': 'D#-diminished triad', 'time': 1484},\n",
       " {'chord': 'E-major triad', 'time': 1512},\n",
       " {'chord': 'B-major triad', 'time': 1596},\n",
       " {'chord': 'A-major triad', 'time': 1624},\n",
       " {'chord': 'E-major triad', 'time': 1708},\n",
       " {'chord': 'D-major triad', 'time': 1736},\n",
       " {'chord': 'B-major triad', 'time': 1764},\n",
       " {'chord': 'E-major triad', 'time': 1792},\n",
       " {'chord': 'A-major triad', 'time': 1848},\n",
       " {'chord': 'A-major triad', 'time': 1876},\n",
       " {'chord': 'E-major triad', 'time': 1932},\n",
       " {'chord': 'F#-minor triad', 'time': 1988},\n",
       " {'chord': 'E-major triad', 'time': 2044},\n",
       " {'chord': 'B-minor seventh chord', 'time': 2100},\n",
       " {'chord': 'A-major triad', 'time': 2128},\n",
       " {'chord': 'B-minor seventh chord', 'time': 2184},\n",
       " {'chord': 'E-major triad', 'time': 2212},\n",
       " {'chord': 'A-major triad', 'time': 2240},\n",
       " {'chord': 'G#-diminished triad', 'time': 2296},\n",
       " {'chord': 'A-major triad', 'time': 2352},\n",
       " {'chord': 'D-major triad', 'time': 2380},\n",
       " {'chord': 'E-dominant seventh chord', 'time': 2408},\n",
       " {'chord': 'C#-minor triad', 'time': 2436},\n",
       " {'chord': 'F#-major triad', 'time': 2464},\n",
       " {'chord': 'B-minor triad', 'time': 2492},\n",
       " {'chord': 'E-dominant seventh chord', 'time': 2520},\n",
       " {'chord': 'A-major triad', 'time': 2548},\n",
       " {'chord': 'D-major seventh chord', 'time': 2576},\n",
       " {'chord': 'G#-diminished triad', 'time': 2604},\n",
       " {'chord': 'C#-dominant seventh chord', 'time': 2632},\n",
       " {'chord': 'F#-minor triad', 'time': 2660},\n",
       " {'chord': 'enharmonic to dominant seventh chord above B#', 'time': 2688},\n",
       " {'chord': 'C#-major triad', 'time': 2744},\n",
       " {'chord': 'F#-major triad', 'time': 2800},\n",
       " {'chord': 'F#-dominant seventh chord', 'time': 2828},\n",
       " {'chord': 'B-major triad', 'time': 2856},\n",
       " {'chord': 'B-dominant seventh chord', 'time': 2884},\n",
       " {'chord': 'E-major triad', 'time': 2912},\n",
       " {'chord': 'E-dominant seventh chord', 'time': 2940},\n",
       " {'chord': 'A-major triad', 'time': 2968},\n",
       " {'chord': 'D-major triad', 'time': 3024},\n",
       " {'chord': 'E-minor seventh chord', 'time': 3080},\n",
       " {'chord': 'A-major triad', 'time': 3108},\n",
       " {'chord': 'D-major triad', 'time': 3136},\n",
       " {'chord': 'B-minor triad', 'time': 3164},\n",
       " {'chord': 'C#-minor triad', 'time': 3192},\n",
       " {'chord': 'F#-minor triad', 'time': 3220},\n",
       " {'chord': 'B-minor triad', 'time': 3248},\n",
       " {'chord': 'E-dominant seventh chord', 'time': 3276},\n",
       " {'chord': 'A-major triad', 'time': 3304},\n",
       " {'chord': 'D-major triad', 'time': 3360},\n",
       " {'chord': 'E-minor triad', 'time': 3416},\n",
       " {'chord': 'A-major triad', 'time': 3444},\n",
       " {'chord': 'D-major triad', 'time': 3472},\n",
       " {'chord': 'G#-diminished triad', 'time': 3500},\n",
       " {'chord': 'A-major triad', 'time': 3528},\n",
       " {'chord': 'F#-minor triad', 'time': 3556},\n",
       " {'chord': 'B-minor triad', 'time': 3584},\n",
       " {'chord': 'E-minor triad', 'time': 3612},\n",
       " {'chord': 'A-major triad', 'time': 3640},\n",
       " {'chord': 'D-major triad', 'time': 3668},\n",
       " {'chord': 'C#-diminished triad', 'time': 3724},\n",
       " {'chord': 'G-major triad', 'time': 3780},\n",
       " {'chord': 'F#-major triad', 'time': 3836},\n",
       " {'chord': 'B-minor triad', 'time': 3864},\n",
       " {'chord': 'F#-major triad', 'time': 3920},\n",
       " {'chord': 'F#-dominant seventh chord', 'time': 3948},\n",
       " {'chord': 'B-minor triad', 'time': 3976},\n",
       " {'chord': 'B-dominant seventh chord', 'time': 4018},\n",
       " {'chord': 'E-major triad', 'time': 4032},\n",
       " {'chord': 'E-dominant seventh chord', 'time': 4060},\n",
       " {'chord': 'A-major triad', 'time': 4088},\n",
       " {'chord': 'E-major triad', 'time': 4144},\n",
       " {'chord': 'E-major triad', 'time': 4172},\n",
       " {'chord': 'B-minor triad', 'time': 4200},\n",
       " {'chord': 'F#-minor triad', 'time': 4256},\n",
       " {'chord': 'F#-minor triad', 'time': 4284},\n",
       " {'chord': 'C#-minor triad', 'time': 4312},\n",
       " {'chord': 'G#-major triad', 'time': 4368},\n",
       " {'chord': 'C#-minor triad', 'time': 4424},\n",
       " {'chord': 'C#-minor triad', 'time': 4452},\n",
       " {'chord': 'F#-minor triad', 'time': 4480},\n",
       " {'chord': 'D#-diminished triad', 'time': 4536},\n",
       " {'chord': 'E-major triad', 'time': 4592},\n",
       " {'chord': 'C#-minor triad', 'time': 4648},\n",
       " {'chord': 'D#-diminished triad', 'time': 4704},\n",
       " {'chord': 'G#-major triad', 'time': 4760},\n",
       " {'chord': 'C#-minor triad', 'time': 4816},\n",
       " {'chord': 'C#-minor triad', 'time': 4844},\n",
       " {'chord': 'G#-major triad', 'time': 4900},\n",
       " {'chord': 'C#-minor triad', 'time': 4928},\n",
       " {'chord': 'A-major triad', 'time': 4956},\n",
       " {'chord': 'G#-major triad', 'time': 4984},\n",
       " {'chord': 'G#-dominant seventh chord', 'time': 5012},\n",
       " {'chord': 'A-major triad', 'time': 5040},\n",
       " {'chord': 'F#-minor triad', 'time': 5068},\n",
       " {'chord': 'G#-minor triad', 'time': 5096},\n",
       " {'chord': 'C#-dominant seventh chord', 'time': 5124},\n",
       " {'chord': 'F#-minor triad', 'time': 5152},\n",
       " {'chord': 'C#-major triad', 'time': 5208},\n",
       " {'chord': 'F#-minor triad', 'time': 5264},\n",
       " {'chord': 'G#-diminished seventh chord', 'time': 5320},\n",
       " {'chord': 'C#-minor triad', 'time': 5362},\n",
       " {'chord': 'F#-minor triad', 'time': 5376},\n",
       " {'chord': 'B-minor triad', 'time': 5404},\n",
       " {'chord': 'E#-diminished triad', 'time': 5432},\n",
       " {'chord': 'A-major triad', 'time': 5460},\n",
       " {'chord': 'D-major triad', 'time': 5488},\n",
       " {'chord': 'G#-diminished triad', 'time': 5516},\n",
       " {'chord': 'C#-minor triad', 'time': 5544},\n",
       " {'chord': 'F#-dominant seventh chord', 'time': 5572},\n",
       " {'chord': 'B-minor triad', 'time': 5600},\n",
       " {'chord': 'F#-major triad', 'time': 5656},\n",
       " {'chord': 'B-minor triad', 'time': 5712},\n",
       " {'chord': 'B-major triad', 'time': 5740},\n",
       " {'chord': 'E-major triad', 'time': 5768},\n",
       " {'chord': 'F#-minor triad', 'time': 5824},\n",
       " {'chord': 'B-dominant seventh chord', 'time': 5852},\n",
       " {'chord': 'E-major triad', 'time': 5880},\n",
       " {'chord': 'C#-minor triad', 'time': 5922},\n",
       " {'chord': 'D#-diminished triad', 'time': 5936},\n",
       " {'chord': 'B-dominant seventh chord', 'time': 5964},\n",
       " {'chord': 'C#-minor triad', 'time': 5992},\n",
       " {'chord': 'A-major triad', 'time': 6020},\n",
       " {'chord': 'B-major triad', 'time': 6048},\n",
       " {'chord': 'E-major triad', 'time': 6076},\n",
       " {'chord': 'A-major triad', 'time': 6104},\n",
       " {'chord': 'F#-minor triad', 'time': 6132},\n",
       " {'chord': 'G#-major triad', 'time': 6160},\n",
       " {'chord': 'C#-minor triad', 'time': 6188},\n",
       " {'chord': 'G#-minor triad', 'time': 6216},\n",
       " {'chord': 'C#-minor triad', 'time': 6272},\n",
       " {'chord': 'C#-minor triad', 'time': 6300},\n",
       " {'chord': 'F#-minor triad', 'time': 6384},\n",
       " {'chord': 'F#-minor triad', 'time': 6412},\n",
       " {'chord': 'B-major triad', 'time': 6496},\n",
       " {'chord': 'B-major triad', 'time': 6524},\n",
       " {'chord': 'E-major triad', 'time': 6608},\n",
       " {'chord': 'E-major triad', 'time': 6636},\n",
       " {'chord': 'A-major triad', 'time': 6720},\n",
       " {'chord': 'A-major triad', 'time': 6748},\n",
       " {'chord': 'E-major triad', 'time': 6832},\n",
       " {'chord': 'E-major triad', 'time': 6860},\n",
       " {'chord': 'F#-minor triad', 'time': 6888},\n",
       " {'chord': 'B-minor seventh chord', 'time': 6916},\n",
       " {'chord': 'E-major triad', 'time': 6944},\n",
       " {'chord': 'C#-minor triad', 'time': 6972},\n",
       " {'chord': 'D-major triad', 'time': 7000},\n",
       " {'chord': 'G#-diminished seventh chord', 'time': 7028},\n",
       " {'chord': 'A-major triad', 'time': 7056},\n",
       " {'chord': 'A-major triad', 'time': 7084},\n",
       " {'chord': 'E-dominant seventh chord', 'time': 7112},\n",
       " {'chord': 'A-major triad', 'time': 7168},\n",
       " {'chord': 'E-major triad', 'time': 7224},\n",
       " {'chord': 'F#-minor triad', 'time': 7280},\n",
       " {'chord': 'B-minor seventh chord', 'time': 7308},\n",
       " {'chord': 'E-major triad', 'time': 7336},\n",
       " {'chord': 'A-major triad', 'time': 7364},\n",
       " {'chord': 'D-major triad', 'time': 7392},\n",
       " {'chord': 'G#-diminished seventh chord', 'time': 7420},\n",
       " {'chord': 'A-major triad', 'time': 7448},\n",
       " {'chord': 'F#-minor triad', 'time': 7476},\n",
       " {'chord': 'B-minor triad', 'time': 7504},\n",
       " {'chord': 'E-dominant seventh chord', 'time': 7532},\n",
       " {'chord': 'A-major triad', 'time': 7560},\n",
       " {'chord': 'D#-diminished seventh chord', 'time': 7602},\n",
       " {'chord': 'E-major triad', 'time': 7616},\n",
       " {'chord': 'A-major triad', 'time': 7672},\n",
       " {'chord': 'B-minor triad', 'time': 7728},\n",
       " {'chord': 'E-major triad', 'time': 7756},\n",
       " {'chord': 'A-major triad', 'time': 7784},\n",
       " {'chord': 'D-major triad', 'time': 7812},\n",
       " {'chord': 'E-major triad', 'time': 7840},\n",
       " {'chord': 'C#-minor triad', 'time': 7868},\n",
       " {'chord': 'F#-minor triad', 'time': 7896},\n",
       " {'chord': 'B-minor triad', 'time': 7924},\n",
       " {'chord': 'E-dominant seventh chord', 'time': 7952},\n",
       " {'chord': 'A-major triad', 'time': 7980},\n",
       " {'chord': 'D#-diminished triad', 'time': 8008},\n",
       " {'chord': 'E-major triad', 'time': 8064},\n",
       " {'chord': 'F#-minor triad', 'time': 8120},\n",
       " {'chord': 'B-minor triad', 'time': 8148},\n",
       " {'chord': 'E-dominant seventh chord', 'time': 8176},\n",
       " {'chord': 'A-major triad', 'time': 8204},\n",
       " {'chord': 'D-major triad', 'time': 8232},\n",
       " {'chord': 'E-major triad', 'time': 8260},\n",
       " {'chord': 'A-major triad', 'time': 8288},\n",
       " {'chord': 'B-minor seventh chord', 'time': 8344},\n",
       " {'chord': 'E-major triad', 'time': 8372},\n",
       " {'chord': 'A-major triad', 'time': 8400},\n",
       " {'chord': 'A-major triad', 'time': 8428},\n",
       " {'chord': 'D-major triad', 'time': 8512},\n",
       " {'chord': 'D-major triad', 'time': 8540},\n",
       " {'chord': 'B-minor triad', 'time': 8596},\n",
       " {'chord': 'E-major triad', 'time': 8624},\n",
       " {'chord': 'E-major triad', 'time': 8652},\n",
       " {'chord': 'A-major triad', 'time': 8680},\n",
       " {'chord': 'F#-minor triad', 'time': 8708},\n",
       " {'chord': 'B-minor triad', 'time': 8736},\n",
       " {'chord': 'E-major triad', 'time': 8792},\n",
       " {'chord': 'A-major triad', 'time': 8848},\n",
       " {'chord': 'E-major triad', 'time': 8960},\n",
       " {'chord': 'F#-minor triad', 'time': 9016},\n",
       " {'chord': 'B-minor seventh chord', 'time': 9044},\n",
       " {'chord': 'E-major triad', 'time': 9072},\n",
       " {'chord': 'C#-minor triad', 'time': 9114},\n",
       " {'chord': 'D-major triad', 'time': 9128},\n",
       " {'chord': 'B-diminished seventh chord', 'time': 9156},\n",
       " {'chord': 'C#-minor triad', 'time': 9184},\n",
       " {'chord': 'A-major triad', 'time': 9226},\n",
       " {'chord': 'D-major triad', 'time': 9240},\n",
       " {'chord': 'A-major triad', 'time': 9268},\n",
       " {'chord': 'E-major triad', 'time': 9296},\n",
       " {'chord': 'F#-minor triad', 'time': 9352},\n",
       " {'chord': 'B-minor seventh chord', 'time': 9380},\n",
       " {'chord': 'E-major triad', 'time': 9408},\n",
       " {'chord': 'C#-minor triad', 'time': 9436},\n",
       " {'chord': 'D-major triad', 'time': 9464},\n",
       " {'chord': 'G#-diminished seventh chord', 'time': 9492},\n",
       " {'chord': 'F#-minor triad', 'time': 9520},\n",
       " {'chord': 'A-major triad', 'time': 9548},\n",
       " {'chord': 'G#-diminished triad', 'time': 9576},\n",
       " {'chord': 'A-major triad', 'time': 9590},\n",
       " {'chord': 'B-minor triad', 'time': 9604},\n",
       " {'chord': 'D#-diminished triad', 'time': 9618},\n",
       " {'chord': 'E-major triad', 'time': 9632},\n",
       " {'chord': 'A-major triad', 'time': 9688},\n",
       " {'chord': 'E-major triad', 'time': 9744},\n",
       " {'chord': 'A-major triad', 'time': 9800},\n",
       " {'chord': 'B-minor triad', 'time': 9856},\n",
       " {'chord': 'E-major triad', 'time': 9884},\n",
       " {'chord': 'A-major triad', 'time': 9912},\n",
       " {'chord': 'D-major triad', 'time': 9940},\n",
       " {'chord': 'E-major triad', 'time': 9968},\n",
       " {'chord': 'C#-minor triad', 'time': 9996},\n",
       " {'chord': 'F#-minor triad', 'time': 10024},\n",
       " {'chord': 'B-minor seventh chord', 'time': 10052},\n",
       " {'chord': 'E-dominant seventh chord', 'time': 10080},\n",
       " {'chord': 'A-major triad', 'time': 10108},\n",
       " {'chord': 'B-minor seventh chord', 'time': 10136},\n",
       " {'chord': 'E-major triad', 'time': 10164},\n",
       " {'chord': 'A-major triad', 'time': 10192},\n",
       " {'chord': 'F#-minor triad', 'time': 10276},\n",
       " {'chord': 'G#-diminished triad', 'time': 10304},\n",
       " {'chord': 'A-major triad', 'time': 10360},\n",
       " {'chord': 'E-dominant seventh chord', 'time': 10416},\n",
       " {'chord': 'A-major triad', 'time': 10472},\n",
       " {'chord': 'E-major triad', 'time': 10500},\n",
       " {'chord': 'A-major triad', 'time': 10528}]"
      ]
     },
     "execution_count": 27,
     "metadata": {
      "tags": []
     },
     "output_type": "execute_result"
    }
   ],
   "source": [
    "h20.choice_track().chords"
   ]
  },
  {
   "cell_type": "markdown",
   "metadata": {
    "id": "svvUWWsaWbEE"
   },
   "source": [
    "Import utility functions for dealing with piano rolls"
   ]
  },
  {
   "cell_type": "code",
   "execution_count": null,
   "metadata": {
    "id": "s0ur2XR6X1yz"
   },
   "outputs": [],
   "source": [
    "\n",
    "\n",
    "#######\n",
    "# Pianorolls dims are  :   TIME  *  PITCH\n",
    "\n",
    "\n",
    "class Read_midi(object):\n",
    "    def __init__(self, song_path, quantization):\n",
    "        ## Metadata\n",
    "        self.__song_path = song_path\n",
    "        self.__quantization = quantization\n",
    "\n",
    "        ## Pianoroll\n",
    "        self.__T_pr = None\n",
    "\n",
    "        ## Private misc\n",
    "        self.__num_ticks = None\n",
    "        self.__T_file = None\n",
    "\n",
    "    @property\n",
    "    def quantization(self):\n",
    "        return self.__quantization\n",
    "\n",
    "    @property\n",
    "    def T_pr(self):\n",
    "        return self.__T_pr\n",
    "\n",
    "    @property\n",
    "    def T_file(self):\n",
    "        return self.__T_file\n",
    "\n",
    "    def get_total_num_tick(self):\n",
    "        # Midi length should be written in a meta message at the beginning of the file,\n",
    "        # but in many cases, lazy motherfuckers didn't write it...\n",
    "\n",
    "        # Read a midi file and return a dictionnary {track_name : pianoroll}\n",
    "        mid = MidiFile(self.__song_path)\n",
    "\n",
    "        # Parse track by track\n",
    "        num_ticks = 0\n",
    "        for i, track in enumerate(mid.tracks):\n",
    "            tick_counter = 0\n",
    "            for message in track:\n",
    "                # Note on\n",
    "                time = float(message.time)\n",
    "                tick_counter += time\n",
    "            num_ticks = max(num_ticks, tick_counter)\n",
    "        self.__num_ticks = num_ticks\n",
    "\n",
    "    def get_pitch_range(self):\n",
    "        mid = MidiFile(self.__song_path)\n",
    "        min_pitch = 200\n",
    "        max_pitch = 0\n",
    "        for i, track in enumerate(mid.tracks):\n",
    "            for message in track:\n",
    "                if message.type in ['note_on', 'note_off']:\n",
    "                    pitch = message.note\n",
    "                    if pitch > max_pitch:\n",
    "                        max_pitch = pitch\n",
    "                    if pitch < min_pitch:\n",
    "                        min_pitch = pitch\n",
    "        return min_pitch, max_pitch\n",
    "\n",
    "    def get_time_file(self):\n",
    "        # Get the time dimension for a pianoroll given a certain quantization\n",
    "        mid = MidiFile(self.__song_path)\n",
    "        # Tick per beat\n",
    "        ticks_per_beat = mid.ticks_per_beat\n",
    "        # Total number of ticks\n",
    "        self.get_total_num_tick()\n",
    "        # Dimensions of the pianoroll for each track\n",
    "        self.__T_file = int((self.__num_ticks / ticks_per_beat) * self.__quantization)\n",
    "        return self.__T_file\n",
    "\n",
    "    def read_file(self):\n",
    "        # Read the midi file and return a dictionnary {track_name : pianoroll}\n",
    "        mid = MidiFile(self.__song_path)\n",
    "        # Tick per beat\n",
    "        ticks_per_beat = mid.ticks_per_beat\n",
    "\n",
    "        # Get total time\n",
    "        self.get_time_file()\n",
    "        T_pr = self.__T_file\n",
    "        # Pitch dimension\n",
    "        N_pr = 128\n",
    "        pianoroll = {}\n",
    "\n",
    "        def add_note_to_pr(note_off, notes_on, pr):\n",
    "            pitch_off, _, time_off = note_off\n",
    "            # Note off : search for the note in the list of note on,\n",
    "            # get the start and end time\n",
    "            # write it in th pr\n",
    "            match_list = [(ind, item) for (ind, item) in enumerate(notes_on) if item[0] == pitch_off]\n",
    "            if len(match_list) == 0:\n",
    "                print(\"Try to note off a note that has never been turned on\")\n",
    "                # Do nothing\n",
    "                return\n",
    "\n",
    "            # Add note to the pr\n",
    "            pitch, velocity, time_on = match_list[0][1]\n",
    "            pr[time_on:time_off, pitch] = velocity\n",
    "            # Remove the note from notes_on\n",
    "            ind_match = match_list[0][0]\n",
    "            del notes_on[ind_match]\n",
    "            return\n",
    "\n",
    "        # Parse track by track\n",
    "        counter_unnamed_track = 0\n",
    "        for i, track in enumerate(mid.tracks):\n",
    "            # Instanciate the pianoroll\n",
    "            pr = np.zeros([T_pr, N_pr])\n",
    "            time_counter = 0\n",
    "            notes_on = []\n",
    "            for message in track:\n",
    "\n",
    "                ##########################################\n",
    "                ##########################################\n",
    "                ##########################################\n",
    "                # TODO : keep track of tempo information\n",
    "                # import re\n",
    "                # if re.search(\"tempo\", message.type):\n",
    "                #     import pdb; pdb.set_trace()\n",
    "                ##########################################\n",
    "                ##########################################\n",
    "                ##########################################\n",
    "\n",
    "\n",
    "                # print message\n",
    "                # Time. Must be incremented, whether it is a note on/off or not\n",
    "                time = float(message.time)\n",
    "                time_counter += time / ticks_per_beat * self.__quantization\n",
    "                # Time in pr (mapping)\n",
    "                time_pr = int(round(time_counter))\n",
    "                # Note on\n",
    "                if message.type == 'note_on':\n",
    "                    # Get pitch\n",
    "                    pitch = message.note\n",
    "                    # Get velocity\n",
    "                    velocity = message.velocity\n",
    "                    if velocity > 0:\n",
    "                        notes_on.append((pitch, velocity, time_pr))\n",
    "                    elif velocity == 0:\n",
    "                        add_note_to_pr((pitch, velocity, time_pr), notes_on, pr)\n",
    "                # Note off\n",
    "                elif message.type == 'note_off':\n",
    "                    pitch = message.note\n",
    "                    velocity = message.velocity\n",
    "                    add_note_to_pr((pitch, velocity, time_pr), notes_on, pr)\n",
    "\n",
    "            # We deal with discrete values ranged between 0 and 127\n",
    "            #     -> convert to int\n",
    "            pr = pr.astype(np.int16)\n",
    "            if np.sum(np.sum(pr)) > 0:\n",
    "                name = unidecode(track.name)\n",
    "                name = name.rstrip('\\x00')\n",
    "                if name == u'':\n",
    "                    name = 'unnamed' + str(counter_unnamed_track)\n",
    "                    counter_unnamed_track += 1\n",
    "                if name in pianoroll.keys():\n",
    "                    # Take max of the to pianorolls\n",
    "                    pianoroll[name] = np.maximum(pr, pianoroll[name])\n",
    "                else:\n",
    "                    pianoroll[name] = pr\n",
    "        return pianoroll"
   ]
  },
  {
   "cell_type": "markdown",
   "metadata": {
    "id": "HU6AQii2WrVN"
   },
   "source": [
    "Example of hcdf across one quartet movement"
   ]
  },
  {
   "cell_type": "code",
   "execution_count": null,
   "metadata": {
    "id": "wR_sj802bcUw"
   },
   "outputs": [],
   "source": [
    "choice = h20.load_tracks()['0']\n",
    "midi_matrixes = Read_midi(choice.midi_path, 28).read_file()\n",
    "\n"
   ]
  },
  {
   "cell_type": "code",
   "execution_count": null,
   "metadata": {
    "colab": {
     "base_uri": "https://localhost:8080/"
    },
    "id": "ZT1ri1LgjG5g",
    "outputId": "62702993-ed06-408a-d61f-858f7639196a"
   },
   "outputs": [
    {
     "name": "stdout",
     "output_type": "stream",
     "text": [
      "(12208, 128)\n",
      "(12208, 128)\n",
      "(12208, 128)\n",
      "(12208, 128)\n"
     ]
    }
   ],
   "source": [
    "for k, t in midi_matrixes.items():\n",
    "  print(t.shape)"
   ]
  },
  {
   "cell_type": "code",
   "execution_count": null,
   "metadata": {
    "colab": {
     "base_uri": "https://localhost:8080/"
    },
    "id": "8x_wXxt1kVCd",
    "outputId": "fdf80932-9fb2-46d2-ed99-9c2ff2b00f4c"
   },
   "outputs": [
    {
     "data": {
      "text/plain": [
       "(12208, 128)"
      ]
     },
     "execution_count": 23,
     "metadata": {
      "tags": []
     },
     "output_type": "execute_result"
    }
   ],
   "source": [
    "mat = list(midi_matrixes.values())\n",
    "midi_quartet = mat[0] + mat[1] + mat[2] + mat[3]\n",
    "midi_quartet.shape"
   ]
  },
  {
   "cell_type": "code",
   "execution_count": null,
   "metadata": {
    "id": "gjyL99Ggoq05"
   },
   "outputs": [],
   "source": [
    "\n",
    "np.set_printoptions(threshold=sys.maxsize)"
   ]
  },
  {
   "cell_type": "code",
   "execution_count": null,
   "metadata": {
    "id": "YNIXHjfZlGq_"
   },
   "outputs": [],
   "source": [
    "def midi2chroma(midi_vector):\n",
    "    chroma_vector = np.zeros((midi_vector.shape[0], 12))\n",
    "    for ii, midi_frame in enumerate(midi_vector):\n",
    "        for jj, element in enumerate(midi_frame):\n",
    "            chroma_vector[ii][jj % 12] += element\n",
    "    return chroma_vector\n",
    "\n",
    "chroma_quartets = midi2chroma(midi_quartet)"
   ]
  },
  {
   "cell_type": "code",
   "execution_count": null,
   "metadata": {
    "colab": {
     "base_uri": "https://localhost:8080/"
    },
    "id": "fhk2N6ONppIf",
    "outputId": "a6cbee45-d089-4114-e711-742bfa0d2f8d"
   },
   "outputs": [
    {
     "data": {
      "text/plain": [
       "array([    0,    23,   114,   173,   269,   333,   394,   465,   566,\n",
       "         624,   671,   710,   740,   796,   864,   954,  1015,  1069,\n",
       "        1136,  1205,  1300,  1354,  1415,  1510,  1578,  1605,  1688,\n",
       "        1743,  1792,  1858,  1930,  1997,  2050,  2111,  2177,  2246,\n",
       "        2310,  2421,  2477,  2575,  2639,  2716,  2768,  2897,  2966,\n",
       "        3077,  3153,  3223,  3348,  3417,  3468,  3530,  3584,  3630,\n",
       "        3694,  3772,  3848,  3916,  3997,  4054,  4185,  4250,  4309,\n",
       "        4368,  4431,  4495,  4557,  4618,  4724,  4785,  4840,  4885,\n",
       "        4930,  4989,  5076,  5135,  5218,  5301,  5385,  5493,  5567,\n",
       "        5623,  5692,  5745,  5793,  5883,  5995,  6102,  6201,  6261,\n",
       "        6377,  6444,  6493,  6556,  6634,  6757,  6836,  6889,  6950,\n",
       "        7112,  7189,  7231,  7282,  7426,  7470,  7511,  7601,  7664,\n",
       "        7715,  7783,  7840,  7984,  8045,  8078,  8110,  8144,  8187,\n",
       "        8237,  8333,  8396,  8453,  8532,  8597,  8691,  8748,  8806,\n",
       "        8856,  8907,  8962,  9014,  9062,  9107,  9169,  9250,  9308,\n",
       "        9364,  9420,  9482,  9572,  9639,  9676,  9725,  9790,  9858,\n",
       "        9898,  9948, 10003, 10056, 10103, 10144, 10194, 10246, 10309,\n",
       "       10397, 10463, 10522, 10587, 10657, 10784, 10859, 10931, 11036,\n",
       "       11132, 11179, 11245, 11312, 11420, 11493, 11539, 11622, 11715,\n",
       "       11768, 11830, 11880, 11924, 11965, 12021, 12095, 12184])"
      ]
     },
     "execution_count": 14,
     "metadata": {
      "tags": []
     },
     "output_type": "execute_result"
    }
   ],
   "source": [
    "changes, hcdf_changes, harmonic_function = harmonic_change(chroma=chroma_quartets, symbolic=True,\n",
    "                         sigma=28, dist='euclidean')\n",
    "changes"
   ]
  },
  {
   "cell_type": "code",
   "execution_count": null,
   "metadata": {
    "colab": {
     "base_uri": "https://localhost:8080/"
    },
    "id": "Mqwl-cqgrkwu",
    "outputId": "e6b11859-c428-4488-b6a8-8b4af859c508"
   },
   "outputs": [
    {
     "data": {
      "text/plain": [
       "array([    0,   364,   392,   644,   672,   728,   784,   896,   952,\n",
       "        1064,  1120,  1176,  1232,  1344,  1400,  1456,  1512,  1540,\n",
       "        1568,  1680,  1736,  1848,  2072,  2114,  2128,  2240,  2268,\n",
       "        2296,  2338,  2352,  2408,  2436,  2632,  2800,  2856,  2968,\n",
       "        2996,  3024,  3192,  3220,  3360,  3388,  3416,  3444,  3458,\n",
       "        3472,  3528,  3584,  3696,  3808,  3920,  4004,  4018,  4032,\n",
       "        4130,  4144,  4480,  4508,  4816,  5208,  5320,  5488,  5544,\n",
       "        5656,  5768,  5880,  5992,  6104,  6216,  6328,  6384,  6440,\n",
       "        6496,  6552,  6664,  6692,  6720,  6888,  6916,  6944,  7112,\n",
       "        7252,  7280,  7392,  7448,  7504,  7896,  8064,  8568,  8624,\n",
       "        8736,  8792,  8848,  8904,  8932,  8960,  8988,  9016,  9044,\n",
       "        9072,  9100,  9128,  9184,  9464,  9520,  9632,  9744,  9856,\n",
       "       10024, 10136, 10164, 10192, 10248, 10304, 10360, 10416, 10472,\n",
       "       10528, 10556, 10584, 10612, 10738, 10752, 10892, 10920, 10948,\n",
       "       11088, 11116, 11144, 11172, 11186, 11200, 11256, 11312, 11368,\n",
       "       11396, 11410, 11424, 11480, 11508, 11536, 11564, 11592, 11634,\n",
       "       11648, 11732, 11746, 11760, 11844, 11858, 11872, 11984, 12040,\n",
       "       12068, 12096, 12152])"
      ]
     },
     "execution_count": 15,
     "metadata": {
      "tags": []
     },
     "output_type": "execute_result"
    }
   ],
   "source": [
    "changes_ground_truth = np.array([c['time'] for c in choice.chords])\n",
    "changes_ground_truth"
   ]
  },
  {
   "cell_type": "code",
   "execution_count": null,
   "metadata": {
    "colab": {
     "base_uri": "https://localhost:8080/"
    },
    "id": "ZmEMoHZYlYio",
    "outputId": "e0ecec8d-1d91-437a-d5a4-31dd6f03fffb"
   },
   "outputs": [
    {
     "data": {
      "text/plain": [
       "(0.5850746268656717, 0.547486033519553, 0.6282051282051282)"
      ]
     },
     "execution_count": 16,
     "metadata": {
      "tags": []
     },
     "output_type": "execute_result"
    }
   ],
   "source": [
    "f_measure, precision, recall = mir_eval.onset.f_measure(changes_ground_truth, changes, window=31.218) #same window than Harte\n",
    "f_measure, precision, recall"
   ]
  },
  {
   "cell_type": "markdown",
   "metadata": {
    "id": "esbRBSeFY6uL"
   },
   "source": [
    "# HCDF evaluation across the haydn op20 dataset"
   ]
  },
  {
   "cell_type": "code",
   "execution_count": null,
   "metadata": {
    "colab": {
     "base_uri": "https://localhost:8080/"
    },
    "id": "lvgmYUX9puQ7",
    "outputId": "92eb1c9f-ebc4-47c9-b45a-1e4419722604"
   },
   "outputs": [
    {
     "name": "stdout",
     "output_type": "stream",
     "text": [
      "evaluate_hcdf_across_haydn_op20 30 euclidean\n"
     ]
    },
    {
     "data": {
      "text/plain": [
       "(0.676493830808618, 0.835155380355339, 0.5907711748661402)"
      ]
     },
     "execution_count": 19,
     "metadata": {
      "tags": []
     },
     "output_type": "execute_result"
    }
   ],
   "source": [
    "\n",
    "def evaluate_hcdf_across_haydn_op20(sigma=30, distance='euclidean'):\n",
    "    f_measure_results = []\n",
    "    precision_results = []\n",
    "    recall_results = []\n",
    "    print(\"evaluate_hcdf_across_haydn_op20\", sigma, distance)\n",
    "    for k, t in h20.load_tracks().items():\n",
    "        midi_matrixes = Read_midi(t.midi_path, 28).read_file()\n",
    "        mat = list(midi_matrixes.values())\n",
    "        midi_quartet = mat[0] + mat[1] + mat[2] + mat[3]\n",
    "        chroma_quartets = midi2chroma(midi_quartet)\n",
    "        \n",
    "        changes, hcdf_changes, harmonic_function = harmonic_change(chroma=chroma_quartets, symbolic=True,\n",
    "                            sigma=sigma, dist=distance)\n",
    "\n",
    "        changes_ground_truth = np.array([c['time'] for c in t.chords])\n",
    "\n",
    "        f_measure, precision, recall = mir_eval.onset.f_measure(changes_ground_truth, changes, window=31.218) #same window than Harte\n",
    "        # print(t.title, f_measure, precision, recall)\n",
    "        f_measure_results.append(f_measure)\n",
    "        precision_results.append(precision)\n",
    "        recall_results.append(recall)\n",
    "    return np.mean(np.array(f_measure_results)), \\\n",
    "           np.mean(np.array(precision_results)), \\\n",
    "           np.mean(np.array(recall_results))\n",
    "\n",
    "evaluate_hcdf_across_haydn_op20()"
   ]
  },
  {
   "cell_type": "code",
   "execution_count": null,
   "metadata": {
    "colab": {
     "base_uri": "https://localhost:8080/"
    },
    "id": "e_vVo7vPpuaL",
    "outputId": "b236e903-9641-4569-bb2d-b9f383cf53af"
   },
   "outputs": [
    {
     "name": "stdout",
     "output_type": "stream",
     "text": [
      "evaluate_hcdf_across_haydn_op20 1 euclidean\n",
      "evaluate_hcdf_across_haydn_op20 6 euclidean\n",
      "evaluate_hcdf_across_haydn_op20 11 euclidean\n",
      "evaluate_hcdf_across_haydn_op20 16 euclidean\n",
      "evaluate_hcdf_across_haydn_op20 21 euclidean\n",
      "evaluate_hcdf_across_haydn_op20 26 euclidean\n",
      "evaluate_hcdf_across_haydn_op20 31 euclidean\n",
      "evaluate_hcdf_across_haydn_op20 36 euclidean\n",
      "evaluate_hcdf_across_haydn_op20 41 euclidean\n",
      "evaluate_hcdf_across_haydn_op20 46 euclidean\n",
      "evaluate_hcdf_across_haydn_op20 51 euclidean\n"
     ]
    }
   ],
   "source": [
    "results_euclidean = {\n",
    "    sigma: evaluate_hcdf_across_haydn_op20(sigma=sigma, distance='euclidean') \n",
    "    for sigma in range(1, 52, 5)\n",
    "}"
   ]
  },
  {
   "cell_type": "code",
   "execution_count": null,
   "metadata": {
    "id": "bFznKVn312nU"
   },
   "outputs": [],
   "source": [
    "\n",
    "def tune_sigma_plot(evaluation_result):\n",
    "    sigma_list = []; type_metric = []; metrics = []\n",
    "    for s, v in evaluation_result.items():\n",
    "        f, p, r = v\n",
    "        # f measure\n",
    "        sigma_list.append(s)\n",
    "        type_metric.append(\"F_score\")\n",
    "        metrics.append(f)\n",
    "        # Precision\n",
    "        sigma_list.append(s)\n",
    "        type_metric.append(\"Precision\")\n",
    "        metrics.append(p)\n",
    "        # Recall\n",
    "        sigma_list.append(s)\n",
    "        type_metric.append(\"Recall\")\n",
    "        metrics.append(r)\n",
    "    df_dict = {\n",
    "        \"sigma\": sigma_list,\n",
    "        \"metric\": type_metric,\n",
    "        \"value\": metrics\n",
    "    }\n",
    "\n",
    "    df = pd.DataFrame(df_dict)\n",
    "    fig = px.line(df, x=\"sigma\", y=\"value\", color=\"metric\", render_mode=\"svg\")\n",
    "    fig.show()\n"
   ]
  },
  {
   "cell_type": "markdown",
   "metadata": {
    "id": "BPigqVpmjsd4"
   },
   "source": [
    "Tuning sigma gaussian hyperparameter for HCDF with euclidean distance."
   ]
  },
  {
   "cell_type": "code",
   "execution_count": null,
   "metadata": {
    "colab": {
     "base_uri": "https://localhost:8080/",
     "height": 562
    },
    "id": "BluRurgd1hyf",
    "outputId": "e86270ed-03c0-40bd-9cbc-90bd41175a4d"
   },
   "outputs": [
    {
     "data": {
      "text/html": [
       "<html>\n",
       "<head><meta charset=\"utf-8\" /></head>\n",
       "<body>\n",
       "    <div>\n",
       "            <script src=\"https://cdnjs.cloudflare.com/ajax/libs/mathjax/2.7.5/MathJax.js?config=TeX-AMS-MML_SVG\"></script><script type=\"text/javascript\">if (window.MathJax) {MathJax.Hub.Config({SVG: {font: \"STIX-Web\"}});}</script>\n",
       "                <script type=\"text/javascript\">window.PlotlyConfig = {MathJaxConfig: 'local'};</script>\n",
       "        <script src=\"https://cdn.plot.ly/plotly-latest.min.js\"></script>    \n",
       "            <div id=\"38f2e482-cba4-48cd-9ab5-298aa8b561d1\" class=\"plotly-graph-div\" style=\"height:525px; width:100%;\"></div>\n",
       "            <script type=\"text/javascript\">\n",
       "                \n",
       "                    window.PLOTLYENV=window.PLOTLYENV || {};\n",
       "                    \n",
       "                if (document.getElementById(\"38f2e482-cba4-48cd-9ab5-298aa8b561d1\")) {\n",
       "                    Plotly.newPlot(\n",
       "                        '38f2e482-cba4-48cd-9ab5-298aa8b561d1',\n",
       "                        [{\"hoverlabel\": {\"namelength\": 0}, \"hovertemplate\": \"metric=F_score<br>sigma=%{x}<br>value=%{y}\", \"legendgroup\": \"metric=F_score\", \"line\": {\"color\": \"#636efa\", \"dash\": \"solid\"}, \"mode\": \"lines\", \"name\": \"metric=F_score\", \"showlegend\": true, \"type\": \"scatter\", \"x\": [1, 6, 11, 16, 21, 26, 31, 36, 41, 46, 51], \"xaxis\": \"x\", \"y\": [0.58483481352162, 0.6363789433762643, 0.7284938204882025, 0.7518127910150075, 0.7396525314729269, 0.7059157595911003, 0.6666863210424946, 0.6312214087434579, 0.5805017616854884, 0.5394277035445645, 0.5080643080186468], \"yaxis\": \"y\"}, {\"hoverlabel\": {\"namelength\": 0}, \"hovertemplate\": \"metric=Precision<br>sigma=%{x}<br>value=%{y}\", \"legendgroup\": \"metric=Precision\", \"line\": {\"color\": \"#EF553B\", \"dash\": \"solid\"}, \"mode\": \"lines\", \"name\": \"metric=Precision\", \"showlegend\": true, \"type\": \"scatter\", \"x\": [1, 6, 11, 16, 21, 26, 31, 36, 41, 46, 51], \"xaxis\": \"x\", \"y\": [0.4807731192809914, 0.49440544637837963, 0.633398433721307, 0.7220853134084658, 0.7786420606655625, 0.8138960465376583, 0.8362205194536058, 0.8532702481419238, 0.8468323284672191, 0.8489464142206377, 0.8486525407664448], \"yaxis\": \"y\"}, {\"hoverlabel\": {\"namelength\": 0}, \"hovertemplate\": \"metric=Recall<br>sigma=%{x}<br>value=%{y}\", \"legendgroup\": \"metric=Recall\", \"line\": {\"color\": \"#00cc96\", \"dash\": \"solid\"}, \"mode\": \"lines\", \"name\": \"metric=Recall\", \"showlegend\": true, \"type\": \"scatter\", \"x\": [1, 6, 11, 16, 21, 26, 31, 36, 41, 46, 51], \"xaxis\": \"x\", \"y\": [0.8644624803753654, 0.954006382009918, 0.9094903409264776, 0.8242303067584255, 0.7358850399813949, 0.64965505473596, 0.5753375576378037, 0.5182610649126577, 0.45699190167104087, 0.4085367824697423, 0.3736938643658199], \"yaxis\": \"y\"}],\n",
       "                        {\"legend\": {\"tracegroupgap\": 0}, \"margin\": {\"t\": 60}, \"template\": {\"data\": {\"bar\": [{\"error_x\": {\"color\": \"#2a3f5f\"}, \"error_y\": {\"color\": \"#2a3f5f\"}, \"marker\": {\"line\": {\"color\": \"#E5ECF6\", \"width\": 0.5}}, \"type\": \"bar\"}], \"barpolar\": [{\"marker\": {\"line\": {\"color\": \"#E5ECF6\", \"width\": 0.5}}, \"type\": \"barpolar\"}], \"carpet\": [{\"aaxis\": {\"endlinecolor\": \"#2a3f5f\", \"gridcolor\": \"white\", \"linecolor\": \"white\", \"minorgridcolor\": \"white\", \"startlinecolor\": \"#2a3f5f\"}, \"baxis\": {\"endlinecolor\": \"#2a3f5f\", \"gridcolor\": \"white\", \"linecolor\": \"white\", \"minorgridcolor\": \"white\", \"startlinecolor\": \"#2a3f5f\"}, \"type\": \"carpet\"}], \"choropleth\": [{\"colorbar\": {\"outlinewidth\": 0, \"ticks\": \"\"}, \"type\": \"choropleth\"}], \"contour\": [{\"colorbar\": {\"outlinewidth\": 0, \"ticks\": \"\"}, \"colorscale\": [[0.0, \"#0d0887\"], [0.1111111111111111, \"#46039f\"], [0.2222222222222222, \"#7201a8\"], [0.3333333333333333, \"#9c179e\"], [0.4444444444444444, \"#bd3786\"], [0.5555555555555556, \"#d8576b\"], [0.6666666666666666, \"#ed7953\"], [0.7777777777777778, \"#fb9f3a\"], [0.8888888888888888, \"#fdca26\"], [1.0, \"#f0f921\"]], \"type\": \"contour\"}], \"contourcarpet\": [{\"colorbar\": {\"outlinewidth\": 0, \"ticks\": \"\"}, \"type\": \"contourcarpet\"}], \"heatmap\": [{\"colorbar\": {\"outlinewidth\": 0, \"ticks\": \"\"}, \"colorscale\": [[0.0, \"#0d0887\"], [0.1111111111111111, \"#46039f\"], [0.2222222222222222, \"#7201a8\"], [0.3333333333333333, \"#9c179e\"], [0.4444444444444444, \"#bd3786\"], [0.5555555555555556, \"#d8576b\"], [0.6666666666666666, \"#ed7953\"], [0.7777777777777778, \"#fb9f3a\"], [0.8888888888888888, \"#fdca26\"], [1.0, \"#f0f921\"]], \"type\": \"heatmap\"}], \"heatmapgl\": [{\"colorbar\": {\"outlinewidth\": 0, \"ticks\": \"\"}, \"colorscale\": [[0.0, \"#0d0887\"], [0.1111111111111111, \"#46039f\"], [0.2222222222222222, \"#7201a8\"], [0.3333333333333333, \"#9c179e\"], [0.4444444444444444, \"#bd3786\"], [0.5555555555555556, \"#d8576b\"], [0.6666666666666666, \"#ed7953\"], [0.7777777777777778, \"#fb9f3a\"], [0.8888888888888888, \"#fdca26\"], [1.0, \"#f0f921\"]], \"type\": \"heatmapgl\"}], \"histogram\": [{\"marker\": {\"colorbar\": {\"outlinewidth\": 0, \"ticks\": \"\"}}, \"type\": \"histogram\"}], \"histogram2d\": [{\"colorbar\": {\"outlinewidth\": 0, \"ticks\": \"\"}, \"colorscale\": [[0.0, \"#0d0887\"], [0.1111111111111111, \"#46039f\"], [0.2222222222222222, \"#7201a8\"], [0.3333333333333333, \"#9c179e\"], [0.4444444444444444, \"#bd3786\"], [0.5555555555555556, \"#d8576b\"], [0.6666666666666666, \"#ed7953\"], [0.7777777777777778, \"#fb9f3a\"], [0.8888888888888888, \"#fdca26\"], [1.0, \"#f0f921\"]], \"type\": \"histogram2d\"}], \"histogram2dcontour\": [{\"colorbar\": {\"outlinewidth\": 0, \"ticks\": \"\"}, \"colorscale\": [[0.0, \"#0d0887\"], [0.1111111111111111, \"#46039f\"], [0.2222222222222222, \"#7201a8\"], [0.3333333333333333, \"#9c179e\"], [0.4444444444444444, \"#bd3786\"], [0.5555555555555556, \"#d8576b\"], [0.6666666666666666, \"#ed7953\"], [0.7777777777777778, \"#fb9f3a\"], [0.8888888888888888, \"#fdca26\"], [1.0, \"#f0f921\"]], \"type\": \"histogram2dcontour\"}], \"mesh3d\": [{\"colorbar\": {\"outlinewidth\": 0, \"ticks\": \"\"}, \"type\": \"mesh3d\"}], \"parcoords\": [{\"line\": {\"colorbar\": {\"outlinewidth\": 0, \"ticks\": \"\"}}, \"type\": \"parcoords\"}], \"pie\": [{\"automargin\": true, \"type\": \"pie\"}], \"scatter\": [{\"marker\": {\"colorbar\": {\"outlinewidth\": 0, \"ticks\": \"\"}}, \"type\": \"scatter\"}], \"scatter3d\": [{\"line\": {\"colorbar\": {\"outlinewidth\": 0, \"ticks\": \"\"}}, \"marker\": {\"colorbar\": {\"outlinewidth\": 0, \"ticks\": \"\"}}, \"type\": \"scatter3d\"}], \"scattercarpet\": [{\"marker\": {\"colorbar\": {\"outlinewidth\": 0, \"ticks\": \"\"}}, \"type\": \"scattercarpet\"}], \"scattergeo\": [{\"marker\": {\"colorbar\": {\"outlinewidth\": 0, \"ticks\": \"\"}}, \"type\": \"scattergeo\"}], \"scattergl\": [{\"marker\": {\"colorbar\": {\"outlinewidth\": 0, \"ticks\": \"\"}}, \"type\": \"scattergl\"}], \"scattermapbox\": [{\"marker\": {\"colorbar\": {\"outlinewidth\": 0, \"ticks\": \"\"}}, \"type\": \"scattermapbox\"}], \"scatterpolar\": [{\"marker\": {\"colorbar\": {\"outlinewidth\": 0, \"ticks\": \"\"}}, \"type\": \"scatterpolar\"}], \"scatterpolargl\": [{\"marker\": {\"colorbar\": {\"outlinewidth\": 0, \"ticks\": \"\"}}, \"type\": \"scatterpolargl\"}], \"scatterternary\": [{\"marker\": {\"colorbar\": {\"outlinewidth\": 0, \"ticks\": \"\"}}, \"type\": \"scatterternary\"}], \"surface\": [{\"colorbar\": {\"outlinewidth\": 0, \"ticks\": \"\"}, \"colorscale\": [[0.0, \"#0d0887\"], [0.1111111111111111, \"#46039f\"], [0.2222222222222222, \"#7201a8\"], [0.3333333333333333, \"#9c179e\"], [0.4444444444444444, \"#bd3786\"], [0.5555555555555556, \"#d8576b\"], [0.6666666666666666, \"#ed7953\"], [0.7777777777777778, \"#fb9f3a\"], [0.8888888888888888, \"#fdca26\"], [1.0, \"#f0f921\"]], \"type\": \"surface\"}], \"table\": [{\"cells\": {\"fill\": {\"color\": \"#EBF0F8\"}, \"line\": {\"color\": \"white\"}}, \"header\": {\"fill\": {\"color\": \"#C8D4E3\"}, \"line\": {\"color\": \"white\"}}, \"type\": \"table\"}]}, \"layout\": {\"annotationdefaults\": {\"arrowcolor\": \"#2a3f5f\", \"arrowhead\": 0, \"arrowwidth\": 1}, \"coloraxis\": {\"colorbar\": {\"outlinewidth\": 0, \"ticks\": \"\"}}, \"colorscale\": {\"diverging\": [[0, \"#8e0152\"], [0.1, \"#c51b7d\"], [0.2, \"#de77ae\"], [0.3, \"#f1b6da\"], [0.4, \"#fde0ef\"], [0.5, \"#f7f7f7\"], [0.6, \"#e6f5d0\"], [0.7, \"#b8e186\"], [0.8, \"#7fbc41\"], [0.9, \"#4d9221\"], [1, \"#276419\"]], \"sequential\": [[0.0, \"#0d0887\"], [0.1111111111111111, \"#46039f\"], [0.2222222222222222, \"#7201a8\"], [0.3333333333333333, \"#9c179e\"], [0.4444444444444444, \"#bd3786\"], [0.5555555555555556, \"#d8576b\"], [0.6666666666666666, \"#ed7953\"], [0.7777777777777778, \"#fb9f3a\"], [0.8888888888888888, \"#fdca26\"], [1.0, \"#f0f921\"]], \"sequentialminus\": [[0.0, \"#0d0887\"], [0.1111111111111111, \"#46039f\"], [0.2222222222222222, \"#7201a8\"], [0.3333333333333333, \"#9c179e\"], [0.4444444444444444, \"#bd3786\"], [0.5555555555555556, \"#d8576b\"], [0.6666666666666666, \"#ed7953\"], [0.7777777777777778, \"#fb9f3a\"], [0.8888888888888888, \"#fdca26\"], [1.0, \"#f0f921\"]]}, \"colorway\": [\"#636efa\", \"#EF553B\", \"#00cc96\", \"#ab63fa\", \"#FFA15A\", \"#19d3f3\", \"#FF6692\", \"#B6E880\", \"#FF97FF\", \"#FECB52\"], \"font\": {\"color\": \"#2a3f5f\"}, \"geo\": {\"bgcolor\": \"white\", \"lakecolor\": \"white\", \"landcolor\": \"#E5ECF6\", \"showlakes\": true, \"showland\": true, \"subunitcolor\": \"white\"}, \"hoverlabel\": {\"align\": \"left\"}, \"hovermode\": \"closest\", \"mapbox\": {\"style\": \"light\"}, \"paper_bgcolor\": \"white\", \"plot_bgcolor\": \"#E5ECF6\", \"polar\": {\"angularaxis\": {\"gridcolor\": \"white\", \"linecolor\": \"white\", \"ticks\": \"\"}, \"bgcolor\": \"#E5ECF6\", \"radialaxis\": {\"gridcolor\": \"white\", \"linecolor\": \"white\", \"ticks\": \"\"}}, \"scene\": {\"xaxis\": {\"backgroundcolor\": \"#E5ECF6\", \"gridcolor\": \"white\", \"gridwidth\": 2, \"linecolor\": \"white\", \"showbackground\": true, \"ticks\": \"\", \"zerolinecolor\": \"white\"}, \"yaxis\": {\"backgroundcolor\": \"#E5ECF6\", \"gridcolor\": \"white\", \"gridwidth\": 2, \"linecolor\": \"white\", \"showbackground\": true, \"ticks\": \"\", \"zerolinecolor\": \"white\"}, \"zaxis\": {\"backgroundcolor\": \"#E5ECF6\", \"gridcolor\": \"white\", \"gridwidth\": 2, \"linecolor\": \"white\", \"showbackground\": true, \"ticks\": \"\", \"zerolinecolor\": \"white\"}}, \"shapedefaults\": {\"line\": {\"color\": \"#2a3f5f\"}}, \"ternary\": {\"aaxis\": {\"gridcolor\": \"white\", \"linecolor\": \"white\", \"ticks\": \"\"}, \"baxis\": {\"gridcolor\": \"white\", \"linecolor\": \"white\", \"ticks\": \"\"}, \"bgcolor\": \"#E5ECF6\", \"caxis\": {\"gridcolor\": \"white\", \"linecolor\": \"white\", \"ticks\": \"\"}}, \"title\": {\"x\": 0.05}, \"xaxis\": {\"automargin\": true, \"gridcolor\": \"white\", \"linecolor\": \"white\", \"ticks\": \"\", \"title\": {\"standoff\": 15}, \"zerolinecolor\": \"white\", \"zerolinewidth\": 2}, \"yaxis\": {\"automargin\": true, \"gridcolor\": \"white\", \"linecolor\": \"white\", \"ticks\": \"\", \"title\": {\"standoff\": 15}, \"zerolinecolor\": \"white\", \"zerolinewidth\": 2}}}, \"xaxis\": {\"anchor\": \"y\", \"domain\": [0.0, 1.0], \"title\": {\"text\": \"sigma\"}}, \"yaxis\": {\"anchor\": \"x\", \"domain\": [0.0, 1.0], \"title\": {\"text\": \"value\"}}},\n",
       "                        {\"responsive\": true}\n",
       "                    ).then(function(){\n",
       "                            \n",
       "var gd = document.getElementById('38f2e482-cba4-48cd-9ab5-298aa8b561d1');\n",
       "var x = new MutationObserver(function (mutations, observer) {{\n",
       "        var display = window.getComputedStyle(gd).display;\n",
       "        if (!display || display === 'none') {{\n",
       "            console.log([gd, 'removed!']);\n",
       "            Plotly.purge(gd);\n",
       "            observer.disconnect();\n",
       "        }}\n",
       "}});\n",
       "\n",
       "// Listen for the removal of the full notebook cells\n",
       "var notebookContainer = gd.closest('#notebook-container');\n",
       "if (notebookContainer) {{\n",
       "    x.observe(notebookContainer, {childList: true});\n",
       "}}\n",
       "\n",
       "// Listen for the clearing of the current output cell\n",
       "var outputEl = gd.closest('.output');\n",
       "if (outputEl) {{\n",
       "    x.observe(outputEl, {childList: true});\n",
       "}}\n",
       "\n",
       "                        })\n",
       "                };\n",
       "                \n",
       "            </script>\n",
       "        </div>\n",
       "</body>\n",
       "</html>"
      ]
     },
     "metadata": {
      "tags": []
     },
     "output_type": "display_data"
    }
   ],
   "source": [
    "tune_sigma_plot(results_euclidean)"
   ]
  },
  {
   "cell_type": "markdown",
   "metadata": {
    "id": "i23A4r9Nj6QP"
   },
   "source": [
    "Results are better segmenting the chord boundaries that the current aproaches for chord recgnition. With a sigma=20 all the metrics computed across the Haydn op 20 dataset are greater than 70%."
   ]
  },
  {
   "cell_type": "code",
   "execution_count": null,
   "metadata": {
    "colab": {
     "base_uri": "https://localhost:8080/",
     "height": 744
    },
    "id": "-ascCxXc6_Il",
    "outputId": "21641960-f6f3-4fb3-bc58-c7f1aab4cb7a"
   },
   "outputs": [
    {
     "name": "stdout",
     "output_type": "stream",
     "text": [
      "evaluate_hcdf_across_haydn_op20 1 cosine\n",
      "evaluate_hcdf_across_haydn_op20 6 cosine\n",
      "evaluate_hcdf_across_haydn_op20 11 cosine\n",
      "evaluate_hcdf_across_haydn_op20 16 cosine\n",
      "evaluate_hcdf_across_haydn_op20 21 cosine\n",
      "evaluate_hcdf_across_haydn_op20 26 cosine\n",
      "evaluate_hcdf_across_haydn_op20 31 cosine\n",
      "evaluate_hcdf_across_haydn_op20 36 cosine\n",
      "evaluate_hcdf_across_haydn_op20 41 cosine\n",
      "evaluate_hcdf_across_haydn_op20 46 cosine\n",
      "evaluate_hcdf_across_haydn_op20 51 cosine\n"
     ]
    },
    {
     "data": {
      "text/html": [
       "<html>\n",
       "<head><meta charset=\"utf-8\" /></head>\n",
       "<body>\n",
       "    <div>\n",
       "            <script src=\"https://cdnjs.cloudflare.com/ajax/libs/mathjax/2.7.5/MathJax.js?config=TeX-AMS-MML_SVG\"></script><script type=\"text/javascript\">if (window.MathJax) {MathJax.Hub.Config({SVG: {font: \"STIX-Web\"}});}</script>\n",
       "                <script type=\"text/javascript\">window.PlotlyConfig = {MathJaxConfig: 'local'};</script>\n",
       "        <script src=\"https://cdn.plot.ly/plotly-latest.min.js\"></script>    \n",
       "            <div id=\"9f868433-5872-4ba7-803a-c9ed383252b0\" class=\"plotly-graph-div\" style=\"height:525px; width:100%;\"></div>\n",
       "            <script type=\"text/javascript\">\n",
       "                \n",
       "                    window.PLOTLYENV=window.PLOTLYENV || {};\n",
       "                    \n",
       "                if (document.getElementById(\"9f868433-5872-4ba7-803a-c9ed383252b0\")) {\n",
       "                    Plotly.newPlot(\n",
       "                        '9f868433-5872-4ba7-803a-c9ed383252b0',\n",
       "                        [{\"hoverlabel\": {\"namelength\": 0}, \"hovertemplate\": \"metric=F_score<br>sigma=%{x}<br>value=%{y}\", \"legendgroup\": \"metric=F_score\", \"line\": {\"color\": \"#636efa\", \"dash\": \"solid\"}, \"mode\": \"lines\", \"name\": \"metric=F_score\", \"showlegend\": true, \"type\": \"scatter\", \"x\": [1, 6, 11, 16, 21, 26, 31, 36, 41, 46, 51], \"xaxis\": \"x\", \"y\": [0.43622525337000323, 0.578821291101472, 0.690061939482883, 0.7088851757845088, 0.6721688178164169, 0.6255613744054406, 0.5643325997396641, 0.4786720216033604, 0.4762850276750901, 0.41438090709978326, 0.34704374351301187], \"yaxis\": \"y\"}, {\"hoverlabel\": {\"namelength\": 0}, \"hovertemplate\": \"metric=Precision<br>sigma=%{x}<br>value=%{y}\", \"legendgroup\": \"metric=Precision\", \"line\": {\"color\": \"#EF553B\", \"dash\": \"solid\"}, \"mode\": \"lines\", \"name\": \"metric=Precision\", \"showlegend\": true, \"type\": \"scatter\", \"x\": [1, 6, 11, 16, 21, 26, 31, 36, 41, 46, 51], \"xaxis\": \"x\", \"y\": [0.28831761056325084, 0.42911869042184003, 0.5919093861843238, 0.6910036238454929, 0.7176764833151075, 0.7147743317150841, 0.6298905477692959, 0.47626094537729236, 0.5176211054730876, 0.3960379380149183, 0.25796969296781785], \"yaxis\": \"y\"}, {\"hoverlabel\": {\"namelength\": 0}, \"hovertemplate\": \"metric=Recall<br>sigma=%{x}<br>value=%{y}\", \"legendgroup\": \"metric=Recall\", \"line\": {\"color\": \"#00cc96\", \"dash\": \"solid\"}, \"mode\": \"lines\", \"name\": \"metric=Recall\", \"showlegend\": true, \"type\": \"scatter\", \"x\": [1, 6, 11, 16, 21, 26, 31, 36, 41, 46, 51], \"xaxis\": \"x\", \"y\": [1.0, 0.978926673364973, 0.8863484500461322, 0.7730091635832483, 0.6747390907375311, 0.5907124781763611, 0.554162968643804, 0.580128013208447, 0.5171764375236011, 0.55320499638959, 0.677507064474051], \"yaxis\": \"y\"}],\n",
       "                        {\"legend\": {\"tracegroupgap\": 0}, \"margin\": {\"t\": 60}, \"template\": {\"data\": {\"bar\": [{\"error_x\": {\"color\": \"#2a3f5f\"}, \"error_y\": {\"color\": \"#2a3f5f\"}, \"marker\": {\"line\": {\"color\": \"#E5ECF6\", \"width\": 0.5}}, \"type\": \"bar\"}], \"barpolar\": [{\"marker\": {\"line\": {\"color\": \"#E5ECF6\", \"width\": 0.5}}, \"type\": \"barpolar\"}], \"carpet\": [{\"aaxis\": {\"endlinecolor\": \"#2a3f5f\", \"gridcolor\": \"white\", \"linecolor\": \"white\", \"minorgridcolor\": \"white\", \"startlinecolor\": \"#2a3f5f\"}, \"baxis\": {\"endlinecolor\": \"#2a3f5f\", \"gridcolor\": \"white\", \"linecolor\": \"white\", \"minorgridcolor\": \"white\", \"startlinecolor\": \"#2a3f5f\"}, \"type\": \"carpet\"}], \"choropleth\": [{\"colorbar\": {\"outlinewidth\": 0, \"ticks\": \"\"}, \"type\": \"choropleth\"}], \"contour\": [{\"colorbar\": {\"outlinewidth\": 0, \"ticks\": \"\"}, \"colorscale\": [[0.0, \"#0d0887\"], [0.1111111111111111, \"#46039f\"], [0.2222222222222222, \"#7201a8\"], [0.3333333333333333, \"#9c179e\"], [0.4444444444444444, \"#bd3786\"], [0.5555555555555556, \"#d8576b\"], [0.6666666666666666, \"#ed7953\"], [0.7777777777777778, \"#fb9f3a\"], [0.8888888888888888, \"#fdca26\"], [1.0, \"#f0f921\"]], \"type\": \"contour\"}], \"contourcarpet\": [{\"colorbar\": {\"outlinewidth\": 0, \"ticks\": \"\"}, \"type\": \"contourcarpet\"}], \"heatmap\": [{\"colorbar\": {\"outlinewidth\": 0, \"ticks\": \"\"}, \"colorscale\": [[0.0, \"#0d0887\"], [0.1111111111111111, \"#46039f\"], [0.2222222222222222, \"#7201a8\"], [0.3333333333333333, \"#9c179e\"], [0.4444444444444444, \"#bd3786\"], [0.5555555555555556, \"#d8576b\"], [0.6666666666666666, \"#ed7953\"], [0.7777777777777778, \"#fb9f3a\"], [0.8888888888888888, \"#fdca26\"], [1.0, \"#f0f921\"]], \"type\": \"heatmap\"}], \"heatmapgl\": [{\"colorbar\": {\"outlinewidth\": 0, \"ticks\": \"\"}, \"colorscale\": [[0.0, \"#0d0887\"], [0.1111111111111111, \"#46039f\"], [0.2222222222222222, \"#7201a8\"], [0.3333333333333333, \"#9c179e\"], [0.4444444444444444, \"#bd3786\"], [0.5555555555555556, \"#d8576b\"], [0.6666666666666666, \"#ed7953\"], [0.7777777777777778, \"#fb9f3a\"], [0.8888888888888888, \"#fdca26\"], [1.0, \"#f0f921\"]], \"type\": \"heatmapgl\"}], \"histogram\": [{\"marker\": {\"colorbar\": {\"outlinewidth\": 0, \"ticks\": \"\"}}, \"type\": \"histogram\"}], \"histogram2d\": [{\"colorbar\": {\"outlinewidth\": 0, \"ticks\": \"\"}, \"colorscale\": [[0.0, \"#0d0887\"], [0.1111111111111111, \"#46039f\"], [0.2222222222222222, \"#7201a8\"], [0.3333333333333333, \"#9c179e\"], [0.4444444444444444, \"#bd3786\"], [0.5555555555555556, \"#d8576b\"], [0.6666666666666666, \"#ed7953\"], [0.7777777777777778, \"#fb9f3a\"], [0.8888888888888888, \"#fdca26\"], [1.0, \"#f0f921\"]], \"type\": \"histogram2d\"}], \"histogram2dcontour\": [{\"colorbar\": {\"outlinewidth\": 0, \"ticks\": \"\"}, \"colorscale\": [[0.0, \"#0d0887\"], [0.1111111111111111, \"#46039f\"], [0.2222222222222222, \"#7201a8\"], [0.3333333333333333, \"#9c179e\"], [0.4444444444444444, \"#bd3786\"], [0.5555555555555556, \"#d8576b\"], [0.6666666666666666, \"#ed7953\"], [0.7777777777777778, \"#fb9f3a\"], [0.8888888888888888, \"#fdca26\"], [1.0, \"#f0f921\"]], \"type\": \"histogram2dcontour\"}], \"mesh3d\": [{\"colorbar\": {\"outlinewidth\": 0, \"ticks\": \"\"}, \"type\": \"mesh3d\"}], \"parcoords\": [{\"line\": {\"colorbar\": {\"outlinewidth\": 0, \"ticks\": \"\"}}, \"type\": \"parcoords\"}], \"pie\": [{\"automargin\": true, \"type\": \"pie\"}], \"scatter\": [{\"marker\": {\"colorbar\": {\"outlinewidth\": 0, \"ticks\": \"\"}}, \"type\": \"scatter\"}], \"scatter3d\": [{\"line\": {\"colorbar\": {\"outlinewidth\": 0, \"ticks\": \"\"}}, \"marker\": {\"colorbar\": {\"outlinewidth\": 0, \"ticks\": \"\"}}, \"type\": \"scatter3d\"}], \"scattercarpet\": [{\"marker\": {\"colorbar\": {\"outlinewidth\": 0, \"ticks\": \"\"}}, \"type\": \"scattercarpet\"}], \"scattergeo\": [{\"marker\": {\"colorbar\": {\"outlinewidth\": 0, \"ticks\": \"\"}}, \"type\": \"scattergeo\"}], \"scattergl\": [{\"marker\": {\"colorbar\": {\"outlinewidth\": 0, \"ticks\": \"\"}}, \"type\": \"scattergl\"}], \"scattermapbox\": [{\"marker\": {\"colorbar\": {\"outlinewidth\": 0, \"ticks\": \"\"}}, \"type\": \"scattermapbox\"}], \"scatterpolar\": [{\"marker\": {\"colorbar\": {\"outlinewidth\": 0, \"ticks\": \"\"}}, \"type\": \"scatterpolar\"}], \"scatterpolargl\": [{\"marker\": {\"colorbar\": {\"outlinewidth\": 0, \"ticks\": \"\"}}, \"type\": \"scatterpolargl\"}], \"scatterternary\": [{\"marker\": {\"colorbar\": {\"outlinewidth\": 0, \"ticks\": \"\"}}, \"type\": \"scatterternary\"}], \"surface\": [{\"colorbar\": {\"outlinewidth\": 0, \"ticks\": \"\"}, \"colorscale\": [[0.0, \"#0d0887\"], [0.1111111111111111, \"#46039f\"], [0.2222222222222222, \"#7201a8\"], [0.3333333333333333, \"#9c179e\"], [0.4444444444444444, \"#bd3786\"], [0.5555555555555556, \"#d8576b\"], [0.6666666666666666, \"#ed7953\"], [0.7777777777777778, \"#fb9f3a\"], [0.8888888888888888, \"#fdca26\"], [1.0, \"#f0f921\"]], \"type\": \"surface\"}], \"table\": [{\"cells\": {\"fill\": {\"color\": \"#EBF0F8\"}, \"line\": {\"color\": \"white\"}}, \"header\": {\"fill\": {\"color\": \"#C8D4E3\"}, \"line\": {\"color\": \"white\"}}, \"type\": \"table\"}]}, \"layout\": {\"annotationdefaults\": {\"arrowcolor\": \"#2a3f5f\", \"arrowhead\": 0, \"arrowwidth\": 1}, \"coloraxis\": {\"colorbar\": {\"outlinewidth\": 0, \"ticks\": \"\"}}, \"colorscale\": {\"diverging\": [[0, \"#8e0152\"], [0.1, \"#c51b7d\"], [0.2, \"#de77ae\"], [0.3, \"#f1b6da\"], [0.4, \"#fde0ef\"], [0.5, \"#f7f7f7\"], [0.6, \"#e6f5d0\"], [0.7, \"#b8e186\"], [0.8, \"#7fbc41\"], [0.9, \"#4d9221\"], [1, \"#276419\"]], \"sequential\": [[0.0, \"#0d0887\"], [0.1111111111111111, \"#46039f\"], [0.2222222222222222, \"#7201a8\"], [0.3333333333333333, \"#9c179e\"], [0.4444444444444444, \"#bd3786\"], [0.5555555555555556, \"#d8576b\"], [0.6666666666666666, \"#ed7953\"], [0.7777777777777778, \"#fb9f3a\"], [0.8888888888888888, \"#fdca26\"], [1.0, \"#f0f921\"]], \"sequentialminus\": [[0.0, \"#0d0887\"], [0.1111111111111111, \"#46039f\"], [0.2222222222222222, \"#7201a8\"], [0.3333333333333333, \"#9c179e\"], [0.4444444444444444, \"#bd3786\"], [0.5555555555555556, \"#d8576b\"], [0.6666666666666666, \"#ed7953\"], [0.7777777777777778, \"#fb9f3a\"], [0.8888888888888888, \"#fdca26\"], [1.0, \"#f0f921\"]]}, \"colorway\": [\"#636efa\", \"#EF553B\", \"#00cc96\", \"#ab63fa\", \"#FFA15A\", \"#19d3f3\", \"#FF6692\", \"#B6E880\", \"#FF97FF\", \"#FECB52\"], \"font\": {\"color\": \"#2a3f5f\"}, \"geo\": {\"bgcolor\": \"white\", \"lakecolor\": \"white\", \"landcolor\": \"#E5ECF6\", \"showlakes\": true, \"showland\": true, \"subunitcolor\": \"white\"}, \"hoverlabel\": {\"align\": \"left\"}, \"hovermode\": \"closest\", \"mapbox\": {\"style\": \"light\"}, \"paper_bgcolor\": \"white\", \"plot_bgcolor\": \"#E5ECF6\", \"polar\": {\"angularaxis\": {\"gridcolor\": \"white\", \"linecolor\": \"white\", \"ticks\": \"\"}, \"bgcolor\": \"#E5ECF6\", \"radialaxis\": {\"gridcolor\": \"white\", \"linecolor\": \"white\", \"ticks\": \"\"}}, \"scene\": {\"xaxis\": {\"backgroundcolor\": \"#E5ECF6\", \"gridcolor\": \"white\", \"gridwidth\": 2, \"linecolor\": \"white\", \"showbackground\": true, \"ticks\": \"\", \"zerolinecolor\": \"white\"}, \"yaxis\": {\"backgroundcolor\": \"#E5ECF6\", \"gridcolor\": \"white\", \"gridwidth\": 2, \"linecolor\": \"white\", \"showbackground\": true, \"ticks\": \"\", \"zerolinecolor\": \"white\"}, \"zaxis\": {\"backgroundcolor\": \"#E5ECF6\", \"gridcolor\": \"white\", \"gridwidth\": 2, \"linecolor\": \"white\", \"showbackground\": true, \"ticks\": \"\", \"zerolinecolor\": \"white\"}}, \"shapedefaults\": {\"line\": {\"color\": \"#2a3f5f\"}}, \"ternary\": {\"aaxis\": {\"gridcolor\": \"white\", \"linecolor\": \"white\", \"ticks\": \"\"}, \"baxis\": {\"gridcolor\": \"white\", \"linecolor\": \"white\", \"ticks\": \"\"}, \"bgcolor\": \"#E5ECF6\", \"caxis\": {\"gridcolor\": \"white\", \"linecolor\": \"white\", \"ticks\": \"\"}}, \"title\": {\"x\": 0.05}, \"xaxis\": {\"automargin\": true, \"gridcolor\": \"white\", \"linecolor\": \"white\", \"ticks\": \"\", \"title\": {\"standoff\": 15}, \"zerolinecolor\": \"white\", \"zerolinewidth\": 2}, \"yaxis\": {\"automargin\": true, \"gridcolor\": \"white\", \"linecolor\": \"white\", \"ticks\": \"\", \"title\": {\"standoff\": 15}, \"zerolinecolor\": \"white\", \"zerolinewidth\": 2}}}, \"xaxis\": {\"anchor\": \"y\", \"domain\": [0.0, 1.0], \"title\": {\"text\": \"sigma\"}}, \"yaxis\": {\"anchor\": \"x\", \"domain\": [0.0, 1.0], \"title\": {\"text\": \"value\"}}},\n",
       "                        {\"responsive\": true}\n",
       "                    ).then(function(){\n",
       "                            \n",
       "var gd = document.getElementById('9f868433-5872-4ba7-803a-c9ed383252b0');\n",
       "var x = new MutationObserver(function (mutations, observer) {{\n",
       "        var display = window.getComputedStyle(gd).display;\n",
       "        if (!display || display === 'none') {{\n",
       "            console.log([gd, 'removed!']);\n",
       "            Plotly.purge(gd);\n",
       "            observer.disconnect();\n",
       "        }}\n",
       "}});\n",
       "\n",
       "// Listen for the removal of the full notebook cells\n",
       "var notebookContainer = gd.closest('#notebook-container');\n",
       "if (notebookContainer) {{\n",
       "    x.observe(notebookContainer, {childList: true});\n",
       "}}\n",
       "\n",
       "// Listen for the clearing of the current output cell\n",
       "var outputEl = gd.closest('.output');\n",
       "if (outputEl) {{\n",
       "    x.observe(outputEl, {childList: true});\n",
       "}}\n",
       "\n",
       "                        })\n",
       "                };\n",
       "                \n",
       "            </script>\n",
       "        </div>\n",
       "</body>\n",
       "</html>"
      ]
     },
     "metadata": {
      "tags": []
     },
     "output_type": "display_data"
    }
   ],
   "source": [
    "results_cosine = {\n",
    "    sigma: evaluate_hcdf_across_haydn_op20(sigma=sigma, distance='cosine') \n",
    "    for sigma in range(1, 52, 5)\n",
    "}\n",
    "tune_sigma_plot(results_cosine)"
   ]
  },
  {
   "cell_type": "markdown",
   "metadata": {
    "id": "A8F7tAHyng1d"
   },
   "source": [
    "The perrformance of HCDF with the cosine distance is a bit worse than using the euclidean distance."
   ]
  }
 ],
 "metadata": {
  "colab": {
   "collapsed_sections": [],
   "name": "haydn_op20",
   "provenance": [],
   "toc_visible": true
  },
  "kernelspec": {
   "display_name": "Python 3",
   "language": "python",
   "name": "python3"
  },
  "language_info": {
   "codemirror_mode": {
    "name": "ipython",
    "version": 3
   },
   "file_extension": ".py",
   "mimetype": "text/x-python",
   "name": "python",
   "nbconvert_exporter": "python",
   "pygments_lexer": "ipython3",
   "version": "3.7.10"
  }
 },
 "nbformat": 4,
 "nbformat_minor": 1
}
