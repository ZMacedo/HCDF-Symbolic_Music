{
 "cells": [
  {
   "cell_type": "markdown",
   "id": "769e22a6",
   "metadata": {},
   "source": [
    "# Symbolic Harmonic Change Detection in the Tonal Interval Space"
   ]
  },
  {
   "cell_type": "markdown",
   "id": "d89486b2",
   "metadata": {},
   "source": [
    "The detection of chord boundaries (onset or beginning or chords in the musical surface) is typically addressed within Music Information Retrieval as harmonic change detection. Existing solutions are known to improve complex systems for automatic chord detection as a preprocessing segmentation stage. This project aims at improving the performance of harmonic change detection by adopting a tree-based representation for reducing the complex structure of symbolic music manifestations to an n-chord representation, targeting the basic underlying triadic structure of Western tonal harmony."
   ]
  },
  {
   "cell_type": "markdown",
   "id": "bbd6a1eb",
   "metadata": {},
   "source": [
    "This is the code implemented to achieve the main objectives referred in the dissertation \"Symbolic Harmonic Change Detection in the Tonal Interval Space\" by José Macedo, with Gilberto Bernardes as Supervisor and Pedro Ramoneda as Co-Supervisor. "
   ]
  },
  {
   "cell_type": "code",
   "execution_count": 1,
   "id": "00e9c15c",
   "metadata": {},
   "outputs": [],
   "source": [
    "from mido import MidiFile\n",
    "import mirdata\n",
    "import os\n",
    "import plotly.express as px\n",
    "import sys\n",
    "import glob\n",
    "import pdb;\n",
    "import pretty_midi\n",
    "import libfmp.c1\n",
    "import libfmp.c3\n",
    "import libfmp.b\n",
    "import mir_eval\n",
    "#from TIVlib import TIV\n",
    "import matplotlib.pyplot as plt\n",
    "import pandas as pd\n",
    "from unidecode import unidecode\n",
    "import numpy as np\n",
    "from scipy.spatial.distance import cosine, euclidean\n",
    "from scipy.ndimage import gaussian_filter\n",
    "#np.seterr(all='raise')"
   ]
  },
  {
   "cell_type": "markdown",
   "id": "6993660e",
   "metadata": {},
   "source": [
    "# TIS&TIV - Tonal Interval Space & Tonal Interval Vectors \n",
    "\n",
    "A truncated version of TIV library [1].\n",
    "\n",
    "[1] - Ramires, A., Bernardes, G., Davies, M.E., & Serra, X. (2020). TIV.lib: an open-source library for the tonal description of musical audio. ArXiv, abs/2008.11529."
   ]
  },
  {
   "cell_type": "code",
   "execution_count": 2,
   "id": "5e9fbc94",
   "metadata": {},
   "outputs": [],
   "source": [
    "#The full TIV library isn't importing correctly to the program, so here is a part of the TIV library.\n",
    "\n",
    "class TIV:\n",
    "    weights_symbolic = [2, 11, 17, 16, 19, 7]\n",
    "    weights_audio = [3, 8, 11.5, 15, 14.5, 7.5]\n",
    "\n",
    "    def __init__(self, energy, vector):\n",
    "        self.energy = energy\n",
    "        self.vector = vector\n",
    "    \n",
    "    def abs_vector(self):\n",
    "        return np.abs(self.vector)\n",
    "    \n",
    "    def phases_vector(self):\n",
    "        return np.angle(self.vector)\n",
    "    \n",
    "    def get_vector(self):\n",
    "        return np.array(self.vector)\n",
    "\n",
    "    def diss(self): #Compute dissonance\n",
    "        return 1 - (np.linalg.norm(self.vector) / np.sqrt(np.sum(np.dot(self.weights_symbolic, self.weights_symbolic))))\n",
    "\n",
    "    def coeffs(self, coef): #Compute coefficient\n",
    "        return self.abs_vector()[coef] / self.weights_symbolic[coef]\n",
    "\n",
    "    def chromaticity(self): #Compute chromaticity\n",
    "        return self.abs_vector()[0] / self.weights_symbolic[0]\n",
    "\n",
    "    def dyads(self): #Compute dyadicity\n",
    "        return self.abs_vector()[1] / self.weights_symbolic[1]\n",
    "\n",
    "    def triads(self): #Compute triadicity (triads)\n",
    "        return self.abs_vector()[2] / self.weights_symbolic[2]\n",
    "\n",
    "    def d_q(self): #Refers a possible diminished quality\n",
    "        return self.abs_vector()[3] / self.weights_symbolic[3]\n",
    "\n",
    "    def diatonal(self): #Compute diatonicity\n",
    "        return self.abs_vector()[4] / self.weights_symbolic[4]\n",
    "\n",
    "    def tone(self): #Define wholetoneness\n",
    "        return self.abs_vector()[5] / self.weights_symbolic[5]\n",
    "    \n",
    "    @classmethod\n",
    "    def from_pcp(cls, pcp, symbolic=True):\n",
    "        #      Get TIVs from pcp, as the original method\n",
    "        #     :param pcp: 12xN vector containing N pcps\n",
    "        #     :return: TIVCollection object\n",
    "        #     \"\"\"\n",
    "        if pcp.shape[0] == 12:\n",
    "            fft = np.fft.rfft(pcp, n=12)\n",
    "            energy = fft[0]\n",
    "            vector = fft[1:7]\n",
    "            if symbolic:\n",
    "                vector = ((vector / energy) * cls.weights_symbolic)\n",
    "            else:\n",
    "                vector = ((vector / energy) * cls.weights_audio)           \n",
    "            return cls(energy, vector)\n",
    "        else:\n",
    "            return cls(complex(0), np.array([0, 0, 0, 0, 0, 0]).astype(complex))   \n",
    "\n",
    "    def plot_TIV(self):\n",
    "        titles = [\"m2/M7\", \"TT\", \"M3/m6\", \"m3/M6\", \"P4/P5\", \"M2/m7\"]\n",
    "        TIVector = self.vector / self.weights_symbolic\n",
    "        i = 1\n",
    "        for tiv in TIVector:\n",
    "            circle = plt.Circle((0, 0), 1, fill=False)\n",
    "            plt.subplot(2, 3, i)\n",
    "            plt.subplots_adjust(hspace=0.4)\n",
    "            plt.gca().add_patch(circle)\n",
    "            plt.title(titles[i - 1])\n",
    "            plt.scatter(tiv.real, tiv.imag)\n",
    "            plt.xlim((-1.5, 1.5))\n",
    "            plt.ylim((-1.5, 1.5))\n",
    "            plt.grid()\n",
    "            i = i + 1\n",
    "        plt.show()\n",
    "        \n",
    "    def hchange(self):\n",
    "        tiv_array = self.vector\n",
    "        results = []\n",
    "        for i in range(len(tiv_array)):\n",
    "            distance = TIV.euclidean(tiv_array[i + 1], tiv_array[i])\n",
    "            results.append(distance)\n",
    "        return results\n",
    "\n",
    "   # @classmethod\n",
    "   # def euclidean(cls, tiv1, tiv2):\n",
    "   #     return np.linalg.norm(tiv1.vector - tiv2.vector)\n",
    "\n",
    "   # @classmethod\n",
    "   # def cosine(cls, tiv1, tiv2):\n",
    "   #     a = np.concatenate((tiv1.vector.real, tiv1.vector.imag), axis=0)\n",
    "   #     b = np.concatenate((tiv2.vector.real, tiv2.vector.imag), axis=0)\n",
    "   #     if all_zero(a) or all_zero(b):\n",
    "   #         distance_computed = euclidean(a, b)\n",
    "   #     else:\n",
    "   #         distance_computed = cosine(a, b)\n",
    "   #     return distance_computed"
   ]
  },
  {
   "cell_type": "code",
   "execution_count": 41,
   "id": "cb84cc7c",
   "metadata": {},
   "outputs": [],
   "source": [
    "#Taken from https://github.com/qsdfo/midi_to_numpy/blob/master/read_midi.py\n",
    "\n",
    "#To read midi into piano rolls (the only part of this class that is adamant is read_file())\n",
    "class Read_midi(object):\n",
    "    def __init__(self, song_path, quantization):\n",
    "        ## Metadata\n",
    "        self.__song_path = song_path\n",
    "        self.__quantization = quantization\n",
    "\n",
    "        ## Pianoroll\n",
    "        self.__T_pr = None\n",
    "\n",
    "        ## Private misc\n",
    "        self.__num_ticks = None\n",
    "        self.__T_file = None\n",
    "\n",
    "    @property\n",
    "    def quantization(self):\n",
    "        return self.__quantization\n",
    "\n",
    "    @property\n",
    "    def T_pr(self):\n",
    "        return self.__T_pr\n",
    "\n",
    "    @property\n",
    "    def T_file(self):\n",
    "        return self.__T_file\n",
    "\n",
    "    def get_total_num_tick(self):\n",
    "        # Midi length should be written in a meta message at the beginning of the file,\n",
    "        # but in many cases, lazy motherfuckers didn't write it...\n",
    "\n",
    "        # Read a midi file and return a dictionnary {track_name : pianoroll}\n",
    "        mid = MidiFile(self.__song_path)\n",
    "\n",
    "        # Parse track by track\n",
    "        num_ticks = 0\n",
    "        for i, track in enumerate(mid.tracks):\n",
    "            tick_counter = 0\n",
    "            for message in track:\n",
    "                # Note on\n",
    "                time = float(message.time)\n",
    "                tick_counter += time\n",
    "            num_ticks = max(num_ticks, tick_counter)\n",
    "        self.__num_ticks = num_ticks\n",
    "\n",
    "    def get_pitch_range(self):\n",
    "        mid = MidiFile(self.__song_path)\n",
    "        min_pitch = 200\n",
    "        max_pitch = 0\n",
    "        for i, track in enumerate(mid.tracks):\n",
    "            for message in track:\n",
    "                if message.type in ['note_on', 'note_off']:\n",
    "                    pitch = message.note\n",
    "                    if pitch > max_pitch:\n",
    "                        max_pitch = pitch\n",
    "                    if pitch < min_pitch:\n",
    "                        min_pitch = pitch\n",
    "        return min_pitch, max_pitch\n",
    "\n",
    "    def get_time_file(self):\n",
    "        # Get the time dimension for a pianoroll given a certain quantization\n",
    "        mid = MidiFile(self.__song_path)\n",
    "        # Tick per beat\n",
    "        ticks_per_beat = mid.ticks_per_beat\n",
    "        # Total number of ticks\n",
    "        self.get_total_num_tick()\n",
    "        # Dimensions of the pianoroll for each track\n",
    "        self.__T_file = int((self.__num_ticks / ticks_per_beat) * self.__quantization)\n",
    "        return self.__T_file\n",
    "\n",
    "    def read_file(self):\n",
    "        # Read the midi file and return a dictionnary {track_name : pianoroll}\n",
    "        mid = MidiFile(self.__song_path)\n",
    "        # Tick per beat\n",
    "        ticks_per_beat = mid.ticks_per_beat\n",
    "\n",
    "        # Get total time\n",
    "        self.get_time_file()\n",
    "        T_pr = self.__T_file\n",
    "        # Pitch dimension\n",
    "        N_pr = 128\n",
    "        pianoroll = {}\n",
    "\n",
    "        def add_note_to_pr(note_off, notes_on, pr):\n",
    "            pitch_off, _, time_off = note_off\n",
    "            # Note off : search for the note in the list of note on,\n",
    "            # get the start and end time\n",
    "            # write it in th pr\n",
    "            match_list = [(ind, item) for (ind, item) in enumerate(notes_on) if item[0] == pitch_off]\n",
    "            if len(match_list) == 0:\n",
    "                print(\"Try to note off a note that has never been turned on\")\n",
    "                # Do nothing\n",
    "                return\n",
    "\n",
    "            # Add note to the pr\n",
    "            pitch, velocity, time_on = match_list[0][1]\n",
    "            pr[time_on:time_off, pitch] = velocity\n",
    "            # Remove the note from notes_on\n",
    "            ind_match = match_list[0][0]\n",
    "            del notes_on[ind_match]\n",
    "            return\n",
    "\n",
    "        # Parse track by track\n",
    "        counter_unnamed_track = 0\n",
    "        for i, track in enumerate(mid.tracks):\n",
    "            # Instanciate the pianoroll\n",
    "            pr = np.zeros([T_pr, N_pr])\n",
    "            time_counter = 0\n",
    "            notes_on = []\n",
    "            for message in track:\n",
    "\n",
    "                ##########################################\n",
    "                ##########################################\n",
    "                ##########################################\n",
    "                # TODO : keep track of tempo information\n",
    "                # import re\n",
    "                # if re.search(\"tempo\", message.type):\n",
    "                #     import pdb; pdb.set_trace()\n",
    "                ##########################################\n",
    "                ##########################################\n",
    "                ##########################################\n",
    "\n",
    "\n",
    "                # print message\n",
    "                # Time. Must be incremented, whether it is a note on/off or not\n",
    "                time = float(message.time)\n",
    "                time_counter += time / ticks_per_beat * self.__quantization\n",
    "                # Time in pr (mapping)\n",
    "                time_pr = int(round(time_counter))\n",
    "                # Note on\n",
    "                if message.type == 'note_on':\n",
    "                    # Get pitch\n",
    "                    pitch = message.note\n",
    "                    # Get velocity\n",
    "                    velocity = message.velocity\n",
    "                    if velocity > 0:\n",
    "                        notes_on.append((pitch, velocity, time_pr))\n",
    "                    elif velocity == 0:\n",
    "                        add_note_to_pr((pitch, velocity, time_pr), notes_on, pr)\n",
    "                # Note off\n",
    "                elif message.type == 'note_off':\n",
    "                    pitch = message.note\n",
    "                    velocity = message.velocity\n",
    "                    add_note_to_pr((pitch, velocity, time_pr), notes_on, pr)\n",
    "\n",
    "            # We deal with discrete values ranged between 0 and 127\n",
    "            #     -> convert to int\n",
    "            pr = pr.astype(np.int16)\n",
    "            if np.sum(np.sum(pr)) > 0:\n",
    "                name = unidecode(track.name)\n",
    "                name = name.rstrip('\\x00')\n",
    "                if name == u'':\n",
    "                    name = 'unnamed' + str(counter_unnamed_track)\n",
    "                    counter_unnamed_track += 1\n",
    "                if name in pianoroll.keys():\n",
    "                    # Take max of the to pianorolls\n",
    "                    pianoroll[name] = np.maximum(pr, pianoroll[name])\n",
    "                else:\n",
    "                    pianoroll[name] = pr\n",
    "        return pianoroll"
   ]
  },
  {
   "cell_type": "markdown",
   "id": "d1850683",
   "metadata": {},
   "source": [
    "# Auxiliary Functions \n",
    "\n",
    "By Pedro Ramoneda in \"Harmonic Change Detection from Musical Audio\""
   ]
  },
  {
   "cell_type": "code",
   "execution_count": 42,
   "id": "e45325a4",
   "metadata": {},
   "outputs": [],
   "source": [
    "def gaussian_blur(centroid_vector, sigma):\n",
    "    centroid_vector = gaussian_filter(centroid_vector, sigma=sigma)\n",
    "    return centroid_vector\n",
    "\n",
    "def get_peaks_hcdf(hcdf_function, rate_centroids_second, symbolic=True):\n",
    "    changes = [0]\n",
    "    hcdf_changes = []\n",
    "    last = 0\n",
    "    for i in range(2, hcdf_function.shape[0] - 1):\n",
    "        if hcdf_function[i - 1] < hcdf_function[i] and hcdf_function[i + 1] < hcdf_function[i]:\n",
    "            hcdf_changes.append(hcdf_function[i])\n",
    "            if not symbolic:\n",
    "                changes.append(i / rate_centroids_second)\n",
    "            else:\n",
    "                changes.append(i)\n",
    "            last = i\n",
    "    return np.array(changes), np.array(hcdf_changes)\n",
    "\n",
    "#4 - Distance Calculation (Euclidean and Cosine)\n",
    "def distance_calc(centroid_point, distance):\n",
    "    dist = []\n",
    "    if distance == 'Euclidean':\n",
    "        for j in range(1, centroid_point.shape[1] - 1):\n",
    "            aux = 0\n",
    "            for i in range(0, centroid_point.shape[0]):\n",
    "                aux += ((centroid_point[i][j + 1] - centroid_point[i][j - 1]) ** 2)\n",
    "            aux = np.math.sqrt(aux)\n",
    "            dist.append(aux)\n",
    "    \n",
    "    if distance == 'Cosine':\n",
    "        for j in range(1, centroid_point.shape[1] - 1):\n",
    "            cosine_distance = cosine(centroid_point[:, j - 1], centroid_point[:, j + 1])\n",
    "            dist.append(cosine_distance)\n",
    "    dist.append(0)\n",
    "\n",
    "    return np.array(dist)"
   ]
  },
  {
   "cell_type": "code",
   "execution_count": 43,
   "id": "a03e001b",
   "metadata": {},
   "outputs": [],
   "source": [
    "#Now we will need to take information from TIV. So we will need some additional functions\n",
    "def all_zero(vector):\n",
    "    for element in vector:\n",
    "        if element != 0:\n",
    "            return False\n",
    "    return True \n",
    "\n",
    "def real_imag(TIVector):\n",
    "    aux = []\n",
    "    for i in range(0, TIVector.shape[1]):\n",
    "        real_vector = []\n",
    "        imag_vector = []\n",
    "        for j in range(0, TIVector.shape[0]):\n",
    "            real_vector.append(TIVector[j][i].real)\n",
    "            imag_vector.append(TIVector[j][i].imag)\n",
    "        aux.append(real_vector)\n",
    "        aux.append(imag_vector)\n",
    "    return np.array(aux)\n",
    "\n",
    "def tonalIntervalSpace(chroma, symbolic=True):\n",
    "    centroid_vector = []\n",
    "    for i in range(0, chroma.shape[1]):\n",
    "        each_chroma = [chroma[j][i] for j in range(0, chroma.shape[0])]\n",
    "        each_chroma = np.array(each_chroma)\n",
    "        if all_zero(each_chroma):\n",
    "            centroid = [0. + 0.j, 0. + 0.j, 0. + 0.j, 0. + 0.j, 0. + 0.j, 0. + 0.j]\n",
    "        else:\n",
    "            tonal = TIV.from_pcp(each_chroma, symbolic)          #Calculate the TIV for each chroma\n",
    "            #tonal.plot_TIV() #PLOT TIV for each chroma -> too expensive in terms of program's space\n",
    "            centroid = tonal.get_vector()\n",
    "        centroid_vector.append(centroid)\n",
    "    return real_imag(np.array(centroid_vector))"
   ]
  },
  {
   "cell_type": "code",
   "execution_count": 157,
   "id": "93e718ca",
   "metadata": {},
   "outputs": [],
   "source": [
    "def harmonic_change(chroma: list, window_size: int=2048, symbolic: bool=True, sigma: int=23, dist: str = 'euclidean'):\n",
    "    chroma = np.array(chroma).transpose()\n",
    "    centroid_vector = tonalIntervalSpace(chroma, symbolic=True)\n",
    "\n",
    "    # Blur\n",
    "    centroid_vector_blurred = gaussian_blur(centroid_vector, sigma)\n",
    "\n",
    "    # Harmonic Distance Calculation - Euclidean or Cosine\n",
    "    harmonic_function = distance_calc(centroid_vector_blurred, dist)\n",
    "\n",
    "    changes, hcdf_changes = get_peaks_hcdf(harmonic_function, window_size, symbolic=True)\n",
    "\n",
    "    return changes, hcdf_changes, harmonic_function"
   ]
  },
  {
   "cell_type": "code",
   "execution_count": 158,
   "id": "1eb657f2",
   "metadata": {},
   "outputs": [],
   "source": [
    "np.set_printoptions(threshold=sys.maxsize)"
   ]
  },
  {
   "cell_type": "code",
   "execution_count": 159,
   "id": "2ec1a7bf",
   "metadata": {},
   "outputs": [],
   "source": [
    "m_f = './Midi_Files/BPS/bps_26_01.mid'"
   ]
  },
  {
   "cell_type": "markdown",
   "id": "1a5ccd1b",
   "metadata": {},
   "source": [
    "# Piano Roll Representations\n",
    "\n",
    "In order to represent musical scores for computational analysis, two-dimensional piano roll graphics (with columns being time steps and rows being pitches) are provided. It also gives a sense of pitch variation through all time steps."
   ]
  },
  {
   "cell_type": "code",
   "execution_count": 160,
   "id": "9902482e",
   "metadata": {
    "scrolled": true
   },
   "outputs": [],
   "source": [
    "def midi_pianoRoll(file):\n",
    "    midi_data = pretty_midi.PrettyMIDI(file)\n",
    "    score = libfmp.c1.midi_to_list(midi_data)\n",
    "    libfmp.c1.visualize_piano_roll(score, figsize=(8, 3), velocity_alpha=True);\n",
    "    \n",
    "####ANOTHER WAY TO PLOT PIANO ROLL GRAPHICS\n",
    "#def midi_pianoRoll(file):\n",
    "#    s = music21.converter.parse(file)\n",
    "#    s.plot('pianoroll')"
   ]
  },
  {
   "cell_type": "markdown",
   "id": "111bae66",
   "metadata": {},
   "source": [
    "# Chroma Vectors\n",
    "\n",
    "Chroma Vectors play an important role in music processing. Although mainly used for audio, it refers the cardinality of each pitch class in symbolic music (where the conotation \"Harmonic Pitch Class Profile\" is more suitable).\n",
    "\n",
    "Given that music21 can't produce this kind of graphic, this was produced by libfmp library [2].\n",
    "\n",
    "[2] - Meinard Müller and Frank Zalkow. libfmp: A Python Package for Fundamentals of Music Processing. Journal of Open Source Software (JOSS), 6(63), 2021."
   ]
  },
  {
   "cell_type": "code",
   "execution_count": 161,
   "id": "55e6eb51",
   "metadata": {
    "scrolled": false
   },
   "outputs": [
    {
     "name": "stderr",
     "output_type": "stream",
     "text": [
      "C:\\Users\\HP\\anaconda3\\lib\\site-packages\\pretty_midi\\pretty_midi.py:97: RuntimeWarning: Tempo, Key or Time signature change events found on non-zero tracks.  This is not a valid type 0 or type 1 MIDI file.  Tempo, Key or Time Signature may be wrong.\n",
      "  warnings.warn(\n"
     ]
    },
    {
     "name": "stdout",
     "output_type": "stream",
     "text": [
      "330.651568\n"
     ]
    },
    {
     "data": {
      "image/png": "[encoded data removed]",
      "text/plain": [
       "<Figure size 1440x432 with 2 Axes>"
      ]
     },
     "metadata": {
      "image/png": {
       "height": 435,
       "width": 1269
      },
      "needs_background": "light"
     },
     "output_type": "display_data"
    },
    {
     "data": {
      "text/plain": [
       "(<Figure size 1440x432 with 2 Axes>,\n",
       " [<AxesSubplot:title={'center':'Chroma Vectors'}, xlabel='Time (Seconds)', ylabel='Pitch'>],\n",
       " <matplotlib.image.AxesImage at 0x1bdb7ea74f0>)"
      ]
     },
     "execution_count": 161,
     "metadata": {},
     "output_type": "execute_result"
    }
   ],
   "source": [
    "def chromagram(midi_file):\n",
    "    midi_data = pretty_midi.PrettyMIDI(midi_file)\n",
    "    score = libfmp.c1.midi_to_list(midi_data)\n",
    "    df = pd.DataFrame(score, columns=['Start', 'Duration', 'Pitch', 'Velocity', 'Instrument'])\n",
    "    array_time = np.array(df[['Start']]) #It's in seconds\n",
    "    array_pitch = np.array(df[['Pitch']])\n",
    "    df_array = np.column_stack((array_time, array_pitch))\n",
    "    chromagram = libfmp.b.b_sonification.list_to_chromagram(score, df_array.shape[0], 1)\n",
    "    chroma = libfmp.b.b_plot.plot_chromagram(chromagram, xlim = (0, array_time[-1]),figsize=(20,6))\n",
    "    print(df['Start'].max())\n",
    "\n",
    "    plt.xlabel(\"Time (Seconds)\")\n",
    "    plt.ylabel(\"Pitch\")\n",
    "    plt.title(\"Chroma Vectors\")\n",
    "    plt.show()\n",
    "\n",
    "    return chroma\n",
    "\n",
    "chromagram(m_f)"
   ]
  },
  {
   "cell_type": "markdown",
   "id": "d5c4daf9",
   "metadata": {},
   "source": [
    "For the next step, it will be necessary to transform the file into a suitable 12-element vector, according to TIV dimensions."
   ]
  },
  {
   "cell_type": "code",
   "execution_count": 162,
   "id": "469309a1",
   "metadata": {
    "scrolled": true
   },
   "outputs": [
    {
     "name": "stdout",
     "output_type": "stream",
     "text": [
      "(27566, 128)\n",
      "(27566, 12)\n"
     ]
    }
   ],
   "source": [
    "def midi2chroma(m_vector):\n",
    "    vector = np.zeros((m_vector.shape[0], 12))\n",
    "    for i, frame in enumerate(m_vector):\n",
    "        for j, element in enumerate(frame):\n",
    "            vector[i][j % 12] += element\n",
    "    return vector\n",
    "midi_vector = Read_midi(m_f,28).read_file()\n",
    "for times, key in midi_vector.items():\n",
    "    print(key.shape)\n",
    "vec = (list(midi_vector.values()))[0]\n",
    "chroma_vector = midi2chroma(vec)\n",
    "print(chroma_vector.shape)"
   ]
  },
  {
   "cell_type": "code",
   "execution_count": 163,
   "id": "058a2676",
   "metadata": {},
   "outputs": [
    {
     "name": "stdout",
     "output_type": "stream",
     "text": [
      "[0.0, 0.0, 2.0689659999999996, 2.0689659999999996, 4.137931999999999, 4.137931999999999, 4.137931999999999, 4.137931999999999, 7.241381, 7.241381, 7.241381, 8.01724325, 8.275863999999999, 8.275863999999999, 8.275863999999999, 9.310347, 9.310347, 9.310347, 10.08620925, 10.34483, 10.34483, 10.34483, 11.379313, 11.379313, 11.379313, 11.439657841666666, 11.504313029166665, 11.573278562499999, 11.637933749999998, 11.724140666666665, 11.810347583333332, 11.896554499999999, 12.15517525, 12.413796, 12.413796, 12.413796, 12.413796, 13.448279, 13.448279, 13.448279, 13.965520499999998, 14.482762, 14.482762, 14.482762, 14.482762, 15.517244999999999, 16.0344865, 16.551727999999997, 16.551727999999997, 16.551727999999997, 16.551727999999997, 17.586211, 17.586211, 17.586211, 18.1034525, 18.620694, 18.620694, 18.620694, 18.620694, 19.655177, 19.655177, 19.655177, 19.655177, 19.655177, 20.68966, 20.68966, 20.68966, 20.68966, 20.68966, 21.724142999999998, 21.724142999999998, 21.724142999999998, 22.758626, 22.758626, 22.758626, 23.103453666666667, 23.44828133333333, 23.793108999999998, 23.793108999999998, 23.793108999999998, 24.137936666666665, 24.482764333333332, 24.827592, 24.827592, 24.827592, 24.827592, 26.896558, 26.896558, 26.896558, 26.896558, 26.896558, 28.965524, 28.965524, 28.965524, 28.965524, 32.068973, 32.068973, 32.068973, 32.068973, 32.844835249999996, 33.103455999999994, 33.103455999999994, 33.103455999999994, 33.103455999999994, 34.137938999999996, 34.137938999999996, 34.137938999999996, 34.137938999999996, 34.91380125, 35.172422, 35.172422, 35.172422, 35.172422, 36.206905, 36.206905, 36.206905, 36.26724984166666, 36.33190502916666, 36.400870562499996, 36.46552575, 36.551732666666666, 36.63793958333333, 36.724146499999996, 36.982767249999995, 37.241388, 37.241388, 37.241388, 38.275870999999995, 38.275870999999995, 38.7931125, 39.310354, 39.310354, 39.310354, 39.310354, 40.344837, 40.344837, 40.344837, 40.344837, 40.40518184166666, 40.46983702916666, 40.538802562499995, 40.60345775, 40.689664666666665, 40.775871583333334, 40.862078499999996, 41.120699249999994, 41.37932, 41.37932, 42.413802999999994, 42.413802999999994, 42.9310445, 43.18966525, 43.448285999999996, 43.448285999999996, 43.448285999999996, 43.448285999999996, 44.482769, 44.482769, 44.482769, 44.482769, 44.482769, 44.482769, 45.517252, 45.517252, 45.517252, 45.517252, 45.517252, 45.517252, 45.517252, 48.1034595, 48.1034595, 48.1034595, 48.1034595, 48.1034595, 48.1034595, 48.1034595, 48.620701, 48.620701, 48.620701, 48.620701, 48.620701, 48.620701, 48.620701, 49.137942499999994, 49.137942499999994, 49.137942499999994, 49.137942499999994, 49.137942499999994, 49.137942499999994, 49.137942499999994, 49.655184, 49.655184, 49.655184, 49.655184, 49.655184, 49.655184, 52.2413915, 52.2413915, 52.2413915, 52.2413915, 52.758632999999996, 52.758632999999996, 52.758632999999996, 52.758632999999996, 53.27587449999999, 53.27587449999999, 53.27587449999999, 53.27587449999999, 53.793116, 53.793116, 53.793116, 53.793116, 56.3793235, 56.3793235, 56.3793235, 56.3793235, 56.896564999999995, 56.896564999999995, 56.896564999999995, 56.896564999999995, 57.41380649999999, 57.41380649999999, 57.41380649999999, 57.41380649999999, 57.931048, 57.931048, 57.931048, 57.931048, 60.5172555, 60.5172555, 60.5172555, 60.5172555, 61.034496999999995, 61.034496999999995, 61.034496999999995, 61.034496999999995, 61.5517385, 61.5517385, 61.5517385, 61.5517385, 63.103463, 63.103463, 63.103463, 63.103463, 65.172429, 65.172429, 65.172429, 65.172429, 66.20691199999999, 66.20691199999999, 66.20691199999999, 66.20691199999999, 67.04024599999998, 67.04024599999998, 67.04024599999998, 67.04024599999998, 67.17913499999999, 67.17913499999999, 67.17913499999999, 67.318024, 67.318024, 67.318024, 67.318024, 67.59580199999999, 67.59580199999999, 67.59580199999999, 67.59580199999999, 67.73469099999998, 67.73469099999998, 67.73469099999998, 67.87357999999999, 67.87357999999999, 67.87357999999999, 67.87357999999999, 68.15135799999999, 68.15135799999999, 68.15135799999999, 68.15135799999999, 68.290247, 68.290247, 68.290247, 68.42913599999999, 68.42913599999999, 68.42913599999999, 68.42913599999999, 68.42913599999999, 68.42913599999999, 68.984692, 68.984692, 69.26247, 69.26247, 69.26247, 69.26247, 69.26247, 69.54024799999999, 69.54024799999999, 69.54024799999999, 69.54024799999999, 69.54024799999999, 69.81802599999999, 69.81802599999999, 69.81802599999999, 69.81802599999999, 69.81802599999999, 70.09580399999999, 70.09580399999999, 70.09580399999999, 70.09580399999999, 70.09580399999999, 70.37358199999998, 70.37358199999998, 70.37358199999998, 70.37358199999998, 70.37358199999998, 70.65135999999998, 70.65135999999998, 70.65135999999998, 70.65135999999998, 70.79024899999999, 70.929138, 71.06802699999999, 71.20691599999999, 71.20691599999999, 71.20691599999999, 71.34580499999998, 71.48469399999999, 71.62358299999998, 71.76247199999999, 71.76247199999999, 71.76247199999999, 71.901361, 72.04024999999999, 72.17913899999999, 72.31802799999998, 72.45691699999999, 72.59580599999998, 72.59580599999998, 72.59580599999998, 72.73469499999999, 72.873584, 73.01247299999999, 73.15136199999999, 73.29025099999998, 73.42913999999999, 73.568029, 73.70691799999999, 73.70691799999999, 73.70691799999999, 73.845807, 73.98469599999999, 73.98469599999999, 73.98469599999999, 74.12358499999999, 74.26247399999998, 74.26247399999998, 74.26247399999998, 74.40136299999999, 74.54025199999998, 74.54025199999998, 74.54025199999998, 74.67914099999999, 74.81803, 74.81803, 74.81803, 74.95691899999998, 75.09580799999999, 75.09580799999999, 75.09580799999999, 75.23469699999998, 75.37358599999999, 75.512475, 75.65136399999999, 75.65136399999999, 75.65136399999999, 75.79025299999999, 75.92914199999998, 76.06803099999999, 76.20691999999998, 76.20691999999998, 76.20691999999998, 76.34580899999999, 76.484698, 76.62358699999999, 76.76247599999999, 76.90136499999998, 77.04025399999999, 77.04025399999999, 77.04025399999999, 77.17914299999998, 77.31803199999999, 77.456921, 77.59580999999999, 77.73469899999999, 77.87358799999998, 78.01247699999999, 78.151366, 78.151366, 78.151366, 78.29025499999999, 78.429144, 78.429144, 78.429144, 78.56803299999999, 78.70692199999999, 78.70692199999999, 78.70692199999999, 78.84581099999998, 78.98469999999999, 78.98469999999999, 78.98469999999999, 79.12358899999998, 79.26247799999999, 79.26247799999999, 79.26247799999999, 79.401367, 79.54025599999999, 79.54025599999999, 79.54025599999999, 79.54025599999999, 79.67914499999999, 79.81803399999998, 79.81803399999998, 79.95692299999999, 79.95692299999999, 80.095812, 80.095812, 80.095812, 80.23470099999999, 80.23470099999999, 80.23470099999999, 80.37359, 80.37359, 80.37359, 80.51247899999998, 80.51247899999998, 80.51247899999998, 80.65136799999999, 80.65136799999999, 80.65136799999999, 80.79025699999998, 80.92914599999999, 81.06803499999998, 81.20692399999999, 81.20692399999999, 81.20692399999999, 81.34581299999999, 81.34581299999999, 81.34581299999999, 81.48470199999998, 81.48470199999998, 81.48470199999998, 81.62359099999999, 81.62359099999999, 81.62359099999999, 81.76247999999998, 81.76247999999998, 81.76247999999998, 82.040258, 82.17914699999999, 82.31803599999999, 82.31803599999999, 82.31803599999999, 82.45692499999998, 82.45692499999998, 82.45692499999998, 82.59581399999999, 82.59581399999999, 82.59581399999999, 82.734703, 82.734703, 82.734703, 82.87359199999999, 82.87359199999999, 82.87359199999999, 83.15136999999999, 83.15136999999999, 83.15136999999999, 83.29025899999999, 83.29025899999999, 83.29025899999999, 83.42914799999998, 83.42914799999998, 83.42914799999998, 83.56803699999999, 83.56803699999999, 83.56803699999999, 83.70692599999998, 83.70692599999998, 83.70692599999998, 83.84581499999999, 83.84581499999999, 83.84581499999999, 83.984704, 83.984704, 83.984704, 84.12359299999999, 84.12359299999999, 84.12359299999999, 84.12359299999999, 84.26248199999999, 84.26248199999999, 84.26248199999999, 84.26248199999999, 84.40137099999998, 84.40137099999998, 84.40137099999998, 84.40137099999998, 84.54025999999999, 84.54025999999999, 84.54025999999999, 84.54025999999999, 84.679149, 84.679149, 84.679149, 84.679149, 84.81803799999999, 84.81803799999999, 84.81803799999999, 84.81803799999999, 84.956927, 84.956927, 84.956927, 84.956927, 84.956927, 85.09581599999999, 85.09581599999999, 85.09581599999999, 85.09581599999999, 85.09581599999999, 85.65137199999998, 85.65137199999998, 85.65137199999998, 85.65137199999998, 85.65137199999998, 86.20692799999999, 86.20692799999999, 86.20692799999999, 86.20692799999999, 87.04026199999998, 87.04026199999998, 87.31804, 87.31804, 87.59581799999998, 87.73470699999999, 87.87359599999999, 88.01248499999998, 88.15137399999999, 88.29026299999998, 88.42915199999999, 88.42915199999999, 88.42915199999999, 88.42915199999999, 89.262486, 89.262486, 89.540264, 89.540264, 89.81804199999999, 89.956931, 90.09581999999999, 90.23470899999998, 90.37359799999999, 90.512487, 90.65137599999998, 90.65137599999998, 90.65137599999998, 90.92915399999998, 91.06804299999999, 91.206932, 91.34582099999999, 91.48470999999999, 91.62359899999998, 91.76248799999999, 91.76248799999999, 91.76248799999999, 92.04026599999999, 92.17915499999998, 92.31804399999999, 92.45693299999999, 92.59582199999998, 92.73471099999999, 92.87359999999998, 92.87359999999998, 92.87359999999998, 93.151378, 93.29026699999999, 93.42915599999999, 93.42915599999999, 93.42915599999999, 93.70693399999999, 93.845823, 93.98471199999999, 93.98471199999999, 93.98471199999999, 94.26248999999999, 94.40137899999999, 94.54026799999998, 94.54026799999998, 94.54026799999998, 94.81804599999998, 94.95693499999999, 95.095824, 95.095824, 95.095824, 95.37360199999999, 95.51249099999998, 95.65137999999999, 95.790269, 95.92915799999999, 96.06804699999999, 96.20693599999998, 96.20693599999998, 96.20693599999998, 96.484714, 96.62360299999999, 96.76249199999998, 96.90138099999999, 97.04026999999999, 97.17915899999998, 97.31804799999999, 97.31804799999999, 97.31804799999999, 97.59582599999999, 97.734715, 97.87360399999999, 97.87360399999999, 97.87360399999999, 98.15138199999998, 98.29027099999999, 98.42916, 98.42916, 98.42916, 98.70693799999998, 98.84582699999999, 98.98471599999999, 98.98471599999999, 99.26249399999999, 99.26249399999999, 99.26249399999999, 99.40138299999998, 99.54027199999999, 99.54027199999999, 99.679161, 99.81804999999999, 99.81804999999999, 99.81804999999999, 99.95693899999999, 100.09582799999998, 100.09582799999998, 100.09582799999998, 100.373606, 100.373606, 100.373606, 100.51249499999999, 100.65138399999998, 100.65138399999998, 100.79027299999998, 100.92916199999999, 100.92916199999999, 100.92916199999999, 101.068051, 101.20693999999999, 101.20693999999999, 101.20693999999999, 101.48471799999999, 101.48471799999999, 101.48471799999999, 101.48471799999999, 101.762496, 101.762496, 101.762496, 102.04027399999998, 102.04027399999998, 102.04027399999998, 102.04027399999998, 102.318052, 102.318052, 102.318052, 102.59582999999998, 102.59582999999998, 102.59582999999998, 102.59582999999998, 102.87360799999999, 102.87360799999999, 103.012497, 103.15138599999999, 103.15138599999999, 103.15138599999999, 103.29027499999998, 103.42916399999999, 103.56805299999999, 103.706942, 103.706942, 103.706942, 103.84583099999999, 103.98471999999998, 103.98471999999998, 104.12360899999999, 104.262498, 104.262498, 104.262498, 104.40138699999999, 104.54027599999999, 104.67916499999998, 104.81805399999999, 104.81805399999999, 104.956943, 105.09583199999999, 105.09583199999999, 105.09583199999999, 105.23472099999998, 105.37360999999999, 105.37360999999999, 105.37360999999999, 105.51249899999999, 105.651388, 105.651388, 105.651388, 105.79027699999999, 105.92916599999998, 105.92916599999998, 105.92916599999998, 106.06805499999999, 106.206944, 106.206944, 106.206944, 106.206944, 106.345833, 106.48472199999999, 106.48472199999999, 106.48472199999999, 106.48472199999999, 106.62361099999998, 106.76249999999999, 106.76249999999999, 106.76249999999999, 106.76249999999999, 106.901389, 107.04027799999999, 107.04027799999999, 107.04027799999999, 107.17916699999998, 107.31805599999998, 107.31805599999998, 107.45694499999999, 107.595834, 107.595834, 107.595834, 107.73472299999999, 107.87361199999998, 108.01250099999999, 108.15138999999999, 108.15138999999999, 108.15138999999999, 108.290279, 108.42916799999999, 108.42916799999999, 108.56805699999998, 108.70694599999999, 108.70694599999999, 108.70694599999999, 108.845835, 108.98472399999999, 109.12361299999999, 109.26250199999998, 109.26250199999998, 109.40139099999999, 109.54028, 109.54028, 109.54028, 109.67916899999999, 109.81805799999998, 109.81805799999998, 109.81805799999998, 109.95694699999999, 110.09583599999999, 110.09583599999999, 110.09583599999999, 110.234725, 110.37361399999999, 110.37361399999999, 110.37361399999999, 110.51250299999998, 110.65139199999999, 110.65139199999999, 110.65139199999999, 110.65139199999999, 110.790281, 110.92917, 110.92917, 110.92917, 110.92917, 111.06805899999999, 111.20694799999998, 111.20694799999998, 111.20694799999998, 111.20694799999998, 111.34583699999999, 111.484726, 111.484726, 111.484726, 111.62361499999999, 111.76250399999998, 111.76250399999998, 111.76250399999998, 111.90139299999998, 112.04028199999999, 112.179171, 112.31805999999999, 112.45694899999998, 112.59583799999999, 112.59583799999999, 112.73472699999999, 112.873616, 112.873616, 113.01250499999999, 113.15139399999998, 113.15139399999998, 113.29028299999999, 113.29028299999999, 113.429172, 113.429172, 113.56806099999999, 113.56806099999999, 113.70694999999999, 113.70694999999999, 113.70694999999999, 113.84583899999998, 113.84583899999998, 113.98472799999999, 113.98472799999999, 114.123617, 114.26250599999999, 114.40139499999998, 114.54028399999999, 114.67917299999999, 114.818062, 114.818062, 114.95695099999999, 115.09583999999998, 115.09583999999998, 115.23472899999999, 115.373618, 115.373618, 115.51250699999999, 115.51250699999999, 115.65139599999999, 115.65139599999999, 115.79028499999998, 115.79028499999998, 115.92917399999999, 115.92917399999999, 115.92917399999999, 116.068063, 116.068063, 116.20695199999999, 116.20695199999999, 116.20695199999999, 116.34584099999998, 116.48472999999998, 116.62361899999999, 116.762508, 116.90139699999999, 117.04028599999998, 117.17917499999999, 117.31806399999999, 117.456953, 117.59584199999999, 117.73473099999998, 117.87361999999999, 118.012509, 118.15139799999999, 118.29028699999998, 118.42917599999998, 118.56806499999999, 118.706954, 118.84584299999999, 118.98473199999998, 119.12362099999999, 119.26250999999999, 119.401399, 119.54028799999999, 119.67917699999998, 119.81806599999999, 119.956955, 120.09584399999999, 120.23473299999999, 120.37362199999998, 120.51251099999999, 120.51251099999999, 120.6514, 120.6514, 121.76251199999999, 121.76251199999999, 122.87362399999998, 122.87362399999998, 122.87362399999998, 122.87362399999998, 123.984736, 123.984736, 123.984736, 123.984736, 125.09584799999999, 125.09584799999999, 125.09584799999999, 125.09584799999999, 125.929182, 125.929182, 125.929182, 126.06807099999999, 126.20695999999998, 126.20695999999998, 126.20695999999998, 126.20695999999998, 126.484738, 126.623627, 126.76251599999999, 126.76251599999999, 126.76251599999999, 126.76251599999999, 127.04029399999999, 127.179183, 127.31807199999999, 127.31807199999999, 127.31807199999999, 127.31807199999999, 127.59584999999998, 127.59584999999998, 127.59584999999998, 127.73473899999999, 127.873628, 127.873628, 127.873628, 127.873628, 127.873628, 127.873628, 128.15140599999998, 128.15140599999998, 128.15140599999998, 128.15140599999998, 128.15140599999998, 128.290295, 128.429184, 129.54029599999998, 130.651408, 130.651408, 130.651408, 130.929186, 131.068075, 131.20696399999997, 131.48474199999998, 131.623631, 131.76252, 132.040298, 132.17918699999998, 132.318076, 132.59585399999997, 132.59585399999997, 132.59585399999997, 132.59585399999997, 132.873632, 133.98474399999998, 135.09585599999997, 135.09585599999997, 135.09585599999997, 135.09585599999997, 135.37363399999998, 135.512523, 135.651412, 135.92919, 136.06807899999998, 136.206968, 136.48474599999997, 136.62363499999998, 136.76252399999998, 137.040302, 137.179191, 137.31808, 138.429192, 139.540304, 139.540304, 139.540304, 139.540304, 139.818082, 139.95697099999998, 140.09586, 140.37363799999997, 140.51252699999998, 140.65141599999998, 140.929194, 141.068083, 141.206972, 141.48475, 141.62363899999997, 141.76252799999997, 142.87364, 143.984752, 143.984752, 143.984752, 143.984752, 144.26252999999997, 144.40141899999998, 144.54030799999998, 144.818086, 144.956975, 145.095864, 145.373642, 145.373642, 145.373642, 145.512531, 145.512531, 145.65141999999997, 145.65141999999997, 145.65141999999997, 145.92919799999999, 145.92919799999999, 145.92919799999999, 146.068087, 146.068087, 146.206976, 146.206976, 146.206976, 146.206976, 146.484754, 146.623643, 146.762532, 147.04030999999998, 147.17919899999998, 147.318088, 147.595866, 147.595866, 147.595866, 147.87364399999998, 147.87364399999998, 147.87364399999998, 148.15142199999997, 148.15142199999997, 148.15142199999997, 148.42919999999998, 148.42919999999998, 148.42919999999998, 148.42919999999998, 148.42919999999998, 148.42919999999998, 148.42919999999998, 149.262534, 149.262534, 149.262534, 149.262534, 149.262534, 149.401423, 149.54031199999997, 149.54031199999997, 149.54031199999997, 149.54031199999997, 149.54031199999997, 149.81808999999998, 149.81808999999998, 149.81808999999998, 149.81808999999998, 149.956979, 150.095868, 150.095868, 150.095868, 150.095868, 150.095868, 150.373646, 150.373646, 150.373646, 150.373646, 150.373646, 150.651424, 150.651424, 150.651424, 150.651424, 150.92920199999998, 150.92920199999998, 150.92920199999998, 150.92920199999998, 151.20698, 151.20698, 151.20698, 151.20698, 151.484758, 151.484758, 151.484758, 151.484758, 151.76253599999998, 151.76253599999998, 151.76253599999998, 152.040314, 152.17920299999997, 152.31809199999998, 152.59587, 152.734759, 152.873648, 152.873648, 152.873648, 153.151426, 153.290315, 153.42920399999997, 153.70698199999998, 153.845871, 153.98476, 153.98476, 153.98476, 154.262538, 154.40142699999998, 154.540316, 154.81809399999997, 154.95698299999998, 155.09587199999999, 155.09587199999999, 155.09587199999999, 155.09587199999999, 155.37365, 155.512539, 155.651428, 155.929206, 156.06809499999997, 156.20698399999998, 156.20698399999998, 156.20698399999998, 156.20698399999998, 156.484762, 156.623651, 156.76254, 157.04031799999998, 157.179207, 157.31809599999997, 157.31809599999997, 157.31809599999997, 157.31809599999997, 157.59587399999998, 157.734763, 157.873652, 158.15143, 158.29031899999998, 158.429208, 158.429208, 158.429208, 158.70698599999997, 158.84587499999998, 158.98476399999998, 159.262542, 159.401431, 159.54032, 159.54032, 159.54032, 159.54032, 159.818098, 159.95698699999997, 160.09587599999998, 160.373654, 160.512543, 160.651432, 160.651432, 160.651432, 160.92920999999998, 161.068099, 161.206988, 161.48476599999998, 161.62365499999999, 161.762544, 161.762544, 161.762544, 162.040322, 162.179211, 162.3181, 162.59587799999997, 162.73476699999998, 162.87365599999998, 162.87365599999998, 163.151434, 163.290323, 163.429212, 163.56810099999998, 163.98476799999997, 163.98476799999997, 164.262546, 164.401435, 164.540324, 164.679213, 165.09588, 165.09588, 165.37365799999998, 165.51254699999998, 165.651436, 165.790325, 166.20699199999999, 166.20699199999999, 166.48476999999997, 166.62365899999998, 166.76254799999998, 166.901437, 167.318104, 167.318104, 167.595882, 167.734771, 167.87365999999997, 168.01254899999998, 168.15143799999998, 168.15143799999998, 168.290327, 168.290327, 168.429216, 168.429216, 168.568105, 168.568105, 168.706994, 168.706994, 168.845883, 168.845883, 168.984772, 168.984772, 169.12366099999997, 169.12366099999997, 169.26254999999998, 169.26254999999998, 169.40143899999998, 169.40143899999998, 169.540328, 169.540328, 169.540328, 169.540328, 170.37366199999997, 170.37366199999997, 170.37366199999997, 170.37366199999997, 170.51255099999997, 170.51255099999997, 170.51255099999997, 170.65143999999998, 170.65143999999998, 170.65143999999998, 170.65143999999998, 170.929218, 170.929218, 170.929218, 170.929218, 171.068107, 171.068107, 171.068107, 171.206996, 171.206996, 171.206996, 171.206996, 171.484774, 171.484774, 171.484774, 171.484774, 171.623663, 171.623663, 171.623663, 171.76255199999997, 171.76255199999997, 171.76255199999997, 171.76255199999997, 171.76255199999997, 171.76255199999997, 172.318108, 172.318108, 172.595886, 172.595886, 172.595886, 172.595886, 172.595886, 172.873664, 172.873664, 172.873664, 172.873664, 172.873664, 173.15144199999997, 173.15144199999997, 173.15144199999997, 173.15144199999997, 173.15144199999997, 173.42922, 173.42922, 173.42922, 173.42922, 173.42922, 173.706998, 173.706998, 173.706998, 173.706998, 173.706998, 173.98477599999998, 173.98477599999998, 173.98477599999998, 173.98477599999998, 174.123665, 174.262554, 174.40144299999997, 174.54033199999998, 174.54033199999998, 174.54033199999998, 174.67922099999998, 174.81811, 174.956999, 175.095888, 175.095888, 175.095888, 175.234777, 175.373666, 175.512555, 175.65144399999997, 175.79033299999998, 175.92922199999998, 175.92922199999998, 175.92922199999998, 176.068111, 176.207, 176.345889, 176.484778, 176.62366699999998, 176.762556, 176.901445, 177.04033399999997, 177.04033399999997, 177.04033399999997, 177.17922299999998, 177.31811199999999, 177.31811199999999, 177.31811199999999, 177.457001, 177.59589, 177.59589, 177.59589, 177.734779, 177.873668, 177.873668, 177.873668, 178.012557, 178.151446, 178.151446, 178.151446, 178.29033499999997, 178.42922399999998, 178.42922399999998, 178.42922399999998, 178.56811299999998, 178.707002, 178.845891, 178.98478, 178.98478, 178.98478, 179.123669, 179.26255799999998, 179.401447, 179.54033599999997, 179.54033599999997, 179.54033599999997, 179.67922499999997, 179.81811399999998, 179.957003, 180.095892, 180.234781, 180.37367, 180.37367, 180.37367, 180.51255899999998, 180.651448, 180.790337, 180.92922599999997, 181.06811499999998, 181.20700399999998, 181.345893, 181.484782, 181.484782, 181.484782, 181.623671, 181.76256, 181.76256, 181.76256, 181.90144899999999, 182.040338, 182.040338, 182.040338, 182.17922699999997, 182.31811599999997, 182.31811599999997, 182.31811599999997, 182.45700499999998, 182.595894, 182.595894, 182.595894, 182.734783, 182.873672, 182.873672, 182.873672, 182.873672, 183.012561, 183.15144999999998, 183.15144999999998, 183.290339, 183.290339, 183.429228, 183.429228, 183.429228, 183.56811699999997, 183.56811699999997, 183.56811699999997, 183.70700599999998, 183.70700599999998, 183.70700599999998, 183.84589499999998, 183.84589499999998, 183.84589499999998, 183.984784, 183.984784, 183.984784, 184.123673, 184.262562, 184.401451, 184.54034, 184.54034, 184.54034, 184.679229, 184.679229, 184.679229, 184.81811799999997, 184.81811799999997, 184.81811799999997, 184.95700699999998, 184.95700699999998, 184.95700699999998, 185.09589599999998, 185.09589599999998, 185.09589599999998, 185.373674, 185.373674, 185.373674, 185.512563, 185.512563, 185.512563, 185.651452, 185.651452, 185.651452, 185.79034099999998, 185.79034099999998, 185.79034099999998, 185.92923, 185.92923, 185.92923, 186.06811899999997, 186.06811899999997, 186.06811899999997, 186.06811899999997, 186.20700799999997, 186.20700799999997, 186.20700799999997, 186.20700799999997, 186.34589699999998, 186.34589699999998, 186.34589699999998, 186.34589699999998, 186.48478599999999, 186.48478599999999, 186.48478599999999, 186.48478599999999, 186.623675, 186.623675, 186.623675, 186.623675, 186.762564, 186.762564, 186.762564, 186.762564, 186.901453, 186.901453, 186.901453, 186.901453, 187.040342, 187.040342, 187.040342, 187.040342, 187.040342, 187.179231, 187.179231, 187.179231, 187.179231, 187.179231, 187.31812, 187.31812, 187.31812, 187.31812, 187.31812, 187.873676, 187.873676, 187.873676, 187.873676, 187.873676, 188.42923199999998, 188.42923199999998, 188.42923199999998, 188.42923199999998, 189.262566, 189.262566, 189.540344, 189.540344, 189.818122, 189.957011, 190.09589999999997, 190.23478899999998, 190.37367799999998, 190.512567, 190.651456, 190.651456, 190.651456, 190.651456, 191.48478999999998, 191.48478999999998, 191.762568, 191.762568, 192.040346, 192.179235, 192.31812399999998, 192.457013, 192.595902, 192.73479099999997, 192.87367999999998, 192.87367999999998, 192.87367999999998, 193.151458, 193.290347, 193.429236, 193.568125, 193.707014, 193.845903, 193.98479199999997, 193.98479199999997, 193.98479199999997, 194.26256999999998, 194.401459, 194.540348, 194.679237, 194.81812599999998, 194.95701499999998, 195.095904, 195.095904, 195.095904, 195.373682, 195.51257099999998, 195.65146, 195.65146, 195.65146, 195.929238, 196.06812699999998, 196.20701599999998, 196.20701599999998, 196.20701599999998, 196.484794, 196.623683, 196.76257199999998, 196.76257199999998, 196.76257199999998, 197.04035, 197.179239, 197.318128, 197.318128, 197.318128, 197.59590599999999, 197.734795, 197.873684, 198.01257299999997, 198.15146199999998, 198.290351, 198.42924, 198.42924, 198.42924, 198.70701799999998, 198.84590699999998, 198.984796, 199.123685, 199.262574, 199.40146299999998, 199.54035199999998, 199.54035199999998, 199.54035199999998, 199.81813, 199.957019, 200.09590799999998, 200.09590799999998, 200.09590799999998, 200.373686, 200.512575, 200.65146399999998, 200.65146399999998, 200.65146399999998, 200.929242, 201.068131, 201.20702, 201.20702, 201.48479799999998, 201.48479799999998, 201.48479799999998, 201.623687, 201.762576, 201.762576, 201.901465, 202.04035399999998, 202.04035399999998, 202.04035399999998, 202.17924299999999, 202.318132, 202.318132, 202.318132, 202.59590999999998, 202.59590999999998, 202.59590999999998, 202.73479899999998, 202.873688, 202.873688, 203.012577, 203.151466, 203.151466, 203.151466, 203.29035499999998, 203.42924399999998, 203.42924399999998, 203.42924399999998, 203.707022, 203.707022, 203.707022, 203.707022, 203.98479999999998, 203.98479999999998, 203.98479999999998, 204.262578, 204.262578, 204.262578, 204.262578, 204.540356, 204.540356, 204.540356, 204.818134, 204.818134, 204.818134, 204.818134, 205.095912, 205.095912, 205.095912, 205.23480099999998, 205.37368999999998, 205.37368999999998, 205.37368999999998, 205.512579, 205.651468, 205.790357, 205.92924599999998, 205.92924599999998, 205.92924599999998, 206.06813499999998, 206.207024, 206.207024, 206.207024, 206.345913, 206.484802, 206.484802, 206.484802, 206.62369099999998, 206.76257999999999, 206.901469, 207.040358, 207.040358, 207.17924699999998, 207.31813599999998, 207.31813599999998, 207.31813599999998, 207.457025, 207.595914, 207.595914, 207.595914, 207.734803, 207.87369199999998, 207.87369199999998, 207.87369199999998, 208.01258099999998, 208.15147, 208.15147, 208.15147, 208.290359, 208.429248, 208.429248, 208.429248, 208.429248, 208.56813699999998, 208.70702599999998, 208.70702599999998, 208.70702599999998, 208.70702599999998, 208.845915, 208.984804, 208.984804, 208.984804, 208.984804, 209.123693, 209.26258199999998, 209.26258199999998, 209.26258199999998, 209.26258199999998, 209.401471, 209.54036, 209.54036, 209.54036, 209.679249, 209.81813799999998, 209.81813799999998, 209.81813799999998, 209.95702699999998, 210.095916, 210.234805, 210.373694, 210.373694, 210.373694, 210.51258299999998, 210.65147199999998, 210.65147199999998, 210.65147199999998, 210.790361, 210.92925, 210.92925, 210.92925, 211.068139, 211.20702799999998, 211.345917, 211.484806, 211.484806, 211.623695, 211.76258399999998, 211.76258399999998, 211.76258399999998, 211.76258399999998, 211.76258399999998, 211.90147299999998, 212.040362, 212.179251, 212.31814, 212.31814, 212.31814, 212.31814, 212.31814, 212.31814, 212.45702899999998, 212.59591799999998, 212.59591799999998, 212.59591799999998, 212.59591799999998, 212.59591799999998, 212.734807, 212.873696, 212.873696, 212.873696, 213.012585, 213.15147399999998, 213.15147399999998, 213.15147399999998, 213.29036299999999, 213.429252, 213.429252, 213.429252, 213.568141, 213.70702999999997, 213.70702999999997, 213.70702999999997, 213.84591899999998, 213.984808, 213.984808, 214.123697, 214.262586, 214.40147499999998, 214.54036399999998, 214.679253, 214.818142, 214.818142, 214.957031, 215.09591999999998, 215.09591999999998, 215.23480899999998, 215.373698, 215.373698, 215.512587, 215.512587, 215.651476, 215.651476, 215.79036499999998, 215.79036499999998, 215.929254, 215.929254, 215.929254, 216.068143, 216.068143, 216.207032, 216.207032, 216.34592099999998, 216.48480999999998, 216.623699, 216.762588, 216.901477, 217.04036599999998, 217.04036599999998, 217.17925499999998, 217.318144, 217.318144, 217.457033, 217.595922, 217.595922, 217.73481099999998, 217.73481099999998, 217.87369999999999, 217.87369999999999, 218.012589, 218.012589, 218.151478, 218.151478, 218.151478, 218.29036699999997, 218.29036699999997, 218.42925599999998, 218.42925599999998, 218.42925599999998, 218.568145, 218.707034, 218.845923, 218.98481199999998, 219.12370099999998, 219.26259, 219.401479, 219.540368, 219.67925699999998, 219.81814599999998, 219.957035, 220.095924, 220.234813, 220.37370199999998, 220.512591, 220.65148, 220.790369, 220.92925799999998, 221.06814699999998, 221.207036, 221.345925, 221.484814, 221.62370299999998, 221.76259199999998, 221.901481, 222.04037, 222.179259, 222.31814799999998, 222.45703699999999, 222.595926, 222.734815, 222.734815, 222.87370399999998, 222.87370399999998, 223.984816, 223.984816, 225.095928, 225.095928, 225.095928, 225.095928, 226.20703999999998, 226.20703999999998, 226.20703999999998, 226.20703999999998, 227.318152, 227.318152, 227.318152, 227.318152, 228.15148599999998, 228.15148599999998, 228.15148599999998, 228.15148599999998, 228.29037499999998, 228.29037499999998, 228.29037499999998, 228.29037499999998, 228.429264, 228.429264, 228.429264, 228.429264, 228.707042, 228.707042, 228.707042, 228.707042, 228.84593099999998, 228.84593099999998, 228.84593099999998, 228.84593099999998, 228.98481999999998, 228.98481999999998, 228.98481999999998, 228.98481999999998, 229.262598, 229.262598, 229.262598, 229.262598, 229.40148699999997, 229.40148699999997, 229.40148699999997, 229.40148699999997, 229.54037599999998, 229.54037599999998, 229.54037599999998, 229.54037599999998, 229.818154, 229.818154, 229.818154, 229.818154, 229.957043, 229.957043, 229.957043, 229.957043, 230.09593199999998, 230.09593199999998, 230.09593199999998, 230.09593199999998, 230.37371, 230.37371, 230.37371, 230.37371, 230.651488, 230.651488, 230.651488, 230.651488, 231.207044, 231.207044, 231.48482199999998, 231.48482199999998, 231.48482199999998, 231.48482199999998, 231.48482199999998, 231.7626, 231.7626, 231.7626, 231.7626, 231.7626, 232.04037799999998, 232.04037799999998, 232.04037799999998, 232.04037799999998, 232.04037799999998, 232.318156, 232.318156, 232.318156, 232.318156, 232.318156, 232.595934, 232.595934, 232.595934, 232.595934, 232.595934, 232.595934, 232.595934, 232.595934, 232.87371199999998, 232.87371199999998, 232.87371199999998, 232.87371199999998, 232.87371199999998, 233.012601, 233.15149, 233.290379, 233.42926799999998, 233.42926799999998, 233.42926799999998, 233.56815699999999, 233.707046, 233.845935, 233.98482399999997, 233.98482399999997, 233.98482399999997, 234.12371299999998, 234.262602, 234.401491, 234.54038, 234.67926899999998, 234.81815799999998, 234.81815799999998, 234.81815799999998, 234.957047, 235.095936, 235.234825, 235.37371399999998, 235.51260299999998, 235.651492, 235.790381, 235.92927, 235.92927, 235.92927, 236.06815899999998, 236.207048, 236.207048, 236.207048, 236.345937, 236.484826, 236.484826, 236.484826, 236.62371499999998, 236.76260399999998, 236.76260399999998, 236.76260399999998, 236.901493, 237.040382, 237.040382, 237.040382, 237.179271, 237.31815999999998, 237.31815999999998, 237.31815999999998, 237.45704899999998, 237.595938, 237.734827, 237.873716, 237.873716, 237.873716, 238.01260499999998, 238.15149399999999, 238.290383, 238.429272, 238.429272, 238.429272, 238.56816099999998, 238.70704999999998, 238.845939, 238.984828, 239.123717, 239.26260599999998, 239.26260599999998, 239.26260599999998, 239.40149499999998, 239.540384, 239.679273, 239.818162, 239.95705099999998, 240.09593999999998, 240.234829, 240.373718, 240.373718, 240.373718, 240.512607, 240.65149599999998, 240.65149599999998, 240.65149599999998, 240.790385, 240.929274, 240.929274, 240.929274, 241.068163, 241.20705199999998, 241.20705199999998, 241.20705199999998, 241.34594099999998, 241.48483, 241.48483, 241.48483, 241.623719, 241.762608, 241.762608, 241.762608, 241.90149699999998, 242.04038599999998, 242.179275, 242.318164, 242.318164, 242.318164, 242.457053, 242.59594199999998, 242.73483099999999, 242.87372, 242.87372, 242.87372, 243.012609, 243.15149799999998, 243.29038699999998, 243.429276, 243.568165, 243.707054, 243.707054, 243.707054, 243.84594299999998, 243.98483199999998, 244.123721, 244.26261, 244.401499, 244.54038799999998, 244.67927699999998, 244.818166, 244.818166, 244.818166, 244.957055, 245.095944, 245.095944, 245.095944, 245.23483299999998, 245.373722, 245.373722, 245.373722, 245.512611, 245.6515, 245.6515, 245.6515, 245.79038899999998, 245.92927799999998, 245.92927799999998, 245.92927799999998, 246.068167, 246.207056, 246.207056, 246.207056, 246.345945, 246.48483399999998, 246.62372299999998, 246.762612, 246.762612, 246.762612, 246.901501, 247.04039, 247.17927899999998, 247.318168, 247.318168, 247.318168, 247.457057, 247.595946, 247.73483499999998, 247.87372399999998, 247.87372399999998, 247.87372399999998, 248.012613, 248.151502, 248.290391, 248.42927999999998, 249.540392, 250.651504, 250.651504, 251.76261599999998, 252.873728, 252.873728, 253.98484, 255.09595199999998, 255.09595199999998, 256.207064, 257.318176, 257.318176, 258.429288, 259.5404, 259.5404, 259.5404, 260.651512, 260.651512, 261.76262399999996, 261.76262399999996, 261.76262399999996, 261.76262399999996, 262.873736, 262.873736, 262.873736, 262.873736, 263.984848, 263.984848, 263.984848, 263.984848, 265.09596, 265.09596, 265.651516, 265.651516, 265.651516, 265.929294, 265.929294, 265.929294, 266.207072, 266.207072, 266.345961, 266.48485, 266.623739, 266.76262799999995, 266.901517, 267.04040599999996, 267.179295, 267.318184, 267.318184, 267.318184, 267.457073, 267.595962, 267.734851, 267.87374, 268.01262899999995, 268.151518, 268.29040699999996, 268.429296, 268.429296, 268.429296, 268.56818499999997, 268.707074, 268.845963, 268.984852, 268.984852, 268.984852, 269.123741, 269.26263, 269.26263, 269.26263, 269.401519, 269.54040799999996, 269.54040799999996, 269.54040799999996, 269.54040799999996, 269.679297, 269.81818599999997, 269.81818599999997, 269.81818599999997, 269.957075, 270.095964, 270.095964, 270.095964, 270.373742, 270.373742, 270.373742, 270.65152, 270.65152, 270.65152, 270.79040899999995, 270.929298, 271.06818699999997, 271.20707600000003, 271.345965, 271.484854, 271.623743, 271.762632, 271.762632, 271.762632, 271.901521, 272.04040999999995, 272.179299, 272.31818799999996, 272.457077, 272.595966, 272.734855, 272.873744, 272.873744, 272.873744, 273.012633, 273.151522, 273.29041099999995, 273.4293, 273.56818899999996, 273.707078, 273.845967, 273.984856, 273.984856, 273.984856, 274.123745, 274.262634, 274.401523, 274.54041199999995, 274.679301, 274.81818999999996, 274.957079, 275.09596799999997, 275.09596799999997, 275.09596799999997, 275.234857, 275.373746, 275.512635, 275.651524, 275.790413, 275.929302, 276.06819099999996, 276.20708, 276.20708, 276.20708, 276.20708, 276.34596899999997, 276.48485800000003, 276.623747, 276.762636, 276.762636, 276.762636, 276.762636, 276.762636, 276.901525, 277.040414, 277.179303, 277.31819199999995, 277.31819199999995, 277.31819199999995, 277.457081, 277.59596999999997, 277.73485900000003, 277.873748, 277.873748, 277.873748, 278.012637, 278.151526, 278.290415, 278.429304, 278.429304, 278.429304, 278.429304, 278.56819299999995, 278.707082, 278.84597099999996, 278.98486, 278.98486, 278.98486, 278.98486, 279.123749, 279.262638, 279.401527, 279.540416, 279.540416, 279.679305, 279.81819399999995, 279.957083, 280.09597199999996, 280.234861, 280.37375, 280.512639, 280.651528, 280.651528, 280.651528, 280.790417, 280.929306, 281.068195, 281.207084, 281.34597299999996, 281.484862, 281.62375099999997, 281.76264, 281.76264, 281.76264, 281.901529, 282.040418, 282.179307, 282.318196, 282.318196, 282.318196, 282.457085, 282.59597399999996, 282.59597399999996, 282.59597399999996, 282.734863, 282.87375199999997, 282.87375199999997, 282.87375199999997, 282.87375199999997, 283.01264100000003, 283.15153, 283.15153, 283.15153, 283.290419, 283.429308, 283.429308, 283.429308, 283.707086, 283.707086, 283.707086, 283.984864, 283.984864, 283.984864, 284.12375299999997, 284.262642, 284.401531, 284.54042, 284.679309, 284.818198, 284.957087, 285.09597599999995, 285.09597599999995, 285.09597599999995, 285.234865, 285.37375399999996, 285.512643, 285.651532, 285.790421, 285.92931, 286.068199, 286.207088, 286.207088, 286.207088, 286.34597699999995, 286.484866, 286.62375499999996, 286.762644, 286.901533, 287.040422, 287.179311, 287.3182, 287.3182, 287.3182, 287.457089, 287.595978, 287.734867, 287.87375599999996, 288.012645, 288.15153399999997, 288.290423, 288.429312, 288.429312, 288.429312, 288.568201, 288.70709, 288.845979, 288.984868, 289.12375699999996, 289.262646, 289.40153499999997, 289.54042400000003, 289.54042400000003, 289.54042400000003, 289.679313, 289.818202, 289.957091, 290.09598, 290.09598, 290.09598, 290.09598, 290.234869, 290.37375799999995, 290.512647, 290.65153599999996, 290.65153599999996, 290.65153599999996, 290.790425, 290.929314, 290.929314, 290.929314, 291.068203, 291.207092, 291.345981, 291.48487, 291.48487, 291.48487, 291.62375899999995, 291.762648, 291.762648, 291.762648, 291.90153699999996, 292.040426, 292.179315, 292.318204, 292.318204, 292.318204, 292.318204, 292.457093, 292.595982, 292.734871, 292.87375999999995, 292.87375999999995, 292.87375999999995, 293.012649, 293.15153799999996, 293.15153799999996, 293.15153799999996, 293.290427, 293.429316, 293.568205, 293.707094, 293.707094, 293.707094, 293.845983, 293.984872, 293.984872, 293.984872, 294.123761, 294.26265, 294.40153899999996, 294.540428, 294.540428, 294.540428, 294.540428, 294.67931699999997, 294.818206, 294.957095, 295.095984, 296.207096, 297.318208, 297.318208, 298.42931999999996, 299.540432, 299.540432, 299.540432, 300.651544, 300.651544, 301.762656, 301.762656, 301.762656, 302.873768, 302.873768, 303.70710199999996, 303.70710199999996, 303.98488, 303.98488, 303.98488, 303.98488, 304.818214, 304.818214, 305.095992, 305.095992, 305.095992, 305.095992, 305.92932599999995, 305.92932599999995, 306.20710399999996, 306.20710399999996, 306.20710399999996, 306.20710399999996, 307.040438, 307.040438, 307.318216, 307.318216, 307.318216, 307.318216, 308.15155, 308.15155, 308.429328, 308.429328, 308.70710599999995, 308.70710599999995, 308.98488399999997, 308.98488399999997, 309.262662, 309.262662, 309.54044, 309.54044, 309.818218, 309.818218, 310.095996, 310.095996, 310.373774, 310.373774, 310.651552, 310.651552, 310.92933, 310.92933, 311.20710799999995, 311.20710799999995, 311.48488599999996, 311.48488599999996, 311.762664, 311.762664, 312.040442, 312.040442, 312.31822, 312.31822, 312.595998, 312.595998, 312.873776, 312.873776, 313.151554, 313.151554, 313.429332, 313.70711, 313.70711, 313.98488799999996, 313.98488799999996, 314.26266599999997, 314.26266599999997, 314.540444, 314.818222, 314.818222, 315.096, 315.096, 315.373778, 315.373778, 315.651556, 315.929334, 315.929334, 316.207112, 316.207112, 316.207112, 316.48488999999995, 316.76266799999996, 317.040446, 317.040446, 317.040446, 317.040446, 317.318224, 317.318224, 317.318224, 318.429336, 318.429336, 319.54044799999997, 319.54044799999997, 319.54044799999997, 319.679337, 319.818226, 319.957115, 320.096004, 320.234893, 320.373782, 320.51267099999995, 320.65156, 320.65156, 320.65156, 320.79044899999997, 320.92933800000003, 321.068227, 321.207116, 321.346005, 321.484894, 321.623783, 321.76267199999995, 321.76267199999995, 321.76267199999995, 321.94785733333333, 322.13304266666665, 322.318228, 322.457117, 322.596006, 322.734895, 322.873784, 322.873784, 322.873784, 323.42933999999997, 323.984896, 323.984896, 323.984896, 324.123785, 324.262674, 324.401563, 324.540452, 324.6515632, 324.7626744, 324.87378559999996, 324.9848968, 325.096008, 325.096008, 325.096008, 325.651564, 326.20712, 326.20712, 326.20712, 326.346009, 326.484898, 326.623787, 326.762676, 326.8737872, 326.98489839999996, 327.0960096, 327.2071208, 327.31823199999997, 327.31823199999997, 327.31823199999997, 327.31823199999997, 328.429344, 328.429344, 329.540456, 329.540456, 329.540456, 329.540456, 329.540456, 329.540456, 329.540456, 329.540456, 330.651568, 330.651568, 330.651568, 330.651568, 330.651568, 330.651568, 330.651568]\n"
     ]
    }
   ],
   "source": [
    "def time_pitch(file):\n",
    "    midi_data = pretty_midi.PrettyMIDI(file)\n",
    "    score = libfmp.c1.midi_to_list(midi_data)\n",
    "    df = pd.DataFrame(score, columns=['Start', 'Duration', 'Pitch', 'Velocity', 'Instrument'])\n",
    "    df = df.sort_values(['Start'], ascending=[True]) # sort the dataframe properly\n",
    "    lst = list(df.Start)\n",
    "    return lst\n",
    "    \n",
    "keys_list_bps = time_pitch(m_f)\n",
    "print(keys_list_bps)"
   ]
  },
  {
   "cell_type": "code",
   "execution_count": 334,
   "id": "b5a8e6bb",
   "metadata": {
    "scrolled": false
   },
   "outputs": [],
   "source": [
    "def HCDF(file, sigma=int, distance='euclidean'):\n",
    "    f_measure_results = []\n",
    "    precision_results = []\n",
    "    recall_results = []\n",
    "    #if(path == file_list_BPS):\n",
    "    #    print(\"HCDF in BPS Dataset\", sigma, distance)\n",
    "    #elif(path == file_list_ABC):\n",
    "    #    print(\"HCDF in ABC Dataset\", sigma, distance)\n",
    "    #else:\n",
    "    #    print(\"Not used dataset! Try again\")\n",
    "    #for file in path:\n",
    "    midi_vector = Read_midi(file,120).read_file()\n",
    "    vec = (list(midi_vector.values()))[0]\n",
    "    chroma_vector = midi2chroma(vec)\n",
    "    time_values = time_pitch(file)\n",
    "         \n",
    "    changes, hcdf_changes, harmonic_function = harmonic_change(chroma=chroma_vector, symbolic=True, sigma=sigma, dist=\"Euclidean\")\n",
    "    changes = changes / 220\n",
    "    #print(hcdf_changes.shape)\n",
    "        \n",
    "    changes_ground_truth = np.array(time_values)\n",
    "    #plt.plot(changes_ground_truth[0:100])\n",
    "    #changes_ground_truth = np.array([item[0] for item in vec])\n",
    "    #print(changes_ground_truth)\n",
    "    \n",
    "    fig, ax = plt.subplots()\n",
    "    plt.rcParams[\"figure.figsize\"] = [3,6]\n",
    "    ax.plot(changes_ground_truth[0:23], hcdf_changes[0:23])\n",
    "    plt.vlines(x=changes_ground_truth[0:23],ymin = 0, ymax = hcdf_changes[22], colors = 'green')\n",
    "    plt.show()\n",
    "        \n",
    "    f_measure, precision, recall = mir_eval.onset.f_measure(changes_ground_truth, changes / 220, window=31.218) #same window than Harte\n",
    "    f_measure_results.append(f_measure)\n",
    "    precision_results.append(precision)\n",
    "    recall_results.append(recall)\n",
    "    return np.mean(np.array(f_measure_results)), np.mean(np.array(precision_results)), np.mean(np.array(recall_results))"
   ]
  },
  {
   "cell_type": "code",
   "execution_count": 335,
   "id": "f4aabca7",
   "metadata": {},
   "outputs": [],
   "source": [
    "def tune_sigma_plot(evaluation_result):\n",
    "    sigma_list = []; type_metric = []; metrics = []\n",
    "    for s, v in evaluation_result.items():\n",
    "        f, p, r = v\n",
    "        # F-Measure\n",
    "        sigma_list.append(s)\n",
    "        type_metric.append(\"F_score\")\n",
    "        metrics.append(f)\n",
    "        # Precision\n",
    "        sigma_list.append(s)\n",
    "        type_metric.append(\"Precision\")\n",
    "        metrics.append(p)\n",
    "        # Recall\n",
    "        sigma_list.append(s)\n",
    "        type_metric.append(\"Recall\")\n",
    "        metrics.append(r)\n",
    "    df_dict = {\n",
    "        \"sigma\": sigma_list,\n",
    "        \"metric\": type_metric,\n",
    "        \"value\": metrics\n",
    "    }\n",
    "\n",
    "    df = pd.DataFrame(df_dict)\n",
    "    fig = px.line(df, x=\"sigma\", y=\"value\", color=\"metric\", render_mode=\"svg\")\n",
    "    fig.show()"
   ]
  },
  {
   "cell_type": "code",
   "execution_count": 338,
   "id": "d42aae25",
   "metadata": {
    "scrolled": true
   },
   "outputs": [
    {
     "name": "stderr",
     "output_type": "stream",
     "text": [
      "C:\\Users\\HP\\anaconda3\\lib\\site-packages\\pretty_midi\\pretty_midi.py:97: RuntimeWarning: Tempo, Key or Time signature change events found on non-zero tracks.  This is not a valid type 0 or type 1 MIDI file.  Tempo, Key or Time Signature may be wrong.\n",
      "  warnings.warn(\n"
     ]
    },
    {
     "data": {
      "image/png": "[encoded data removed]",
      "text/plain": [
       "<Figure size 216x432 with 1 Axes>"
      ]
     },
     "metadata": {
      "image/png": {
       "height": 357,
       "width": 204
      },
      "needs_background": "light"
     },
     "output_type": "display_data"
    },
    {
     "data": {
      "text/plain": [
       "(0.04858677879000234, 0.06423718344657196, 0.03906836964688205)"
      ]
     },
     "execution_count": 338,
     "metadata": {},
     "output_type": "execute_result"
    }
   ],
   "source": [
    "HCDF(m_f, sigma = 5, distance = \"Euclidean\")"
   ]
  },
  {
   "cell_type": "code",
   "execution_count": null,
   "id": "7c97c5cc",
   "metadata": {
    "scrolled": false
   },
   "outputs": [],
   "source": [
    "results_euclidean = {\n",
    "    sigma: HCDF(m_f, sigma=sigma, distance='euclidean') \n",
    "    for sigma in range(1, 52, 25)\n",
    "}\n",
    "\n",
    "tune_sigma_plot(results_euclidean)\n",
    "\n",
    "results_cosine_BPS = {\n",
    "    sigma: HCDF(m_f, sigma=sigma, distance='cosine') \n",
    "    for sigma in range(1, 52, 25)\n",
    "}\n",
    "tune_sigma_plot(results_cosine_BPS)"
   ]
  },
  {
   "cell_type": "code",
   "execution_count": 122,
   "id": "9f96db51",
   "metadata": {},
   "outputs": [
    {
     "name": "stderr",
     "output_type": "stream",
     "text": [
      "INFO: Downloading ['all'] to /tmp\\mir_datasets\\haydn_op20\n",
      "INFO: [all] downloading haydnop20v1.3_annotated.zip\n",
      "INFO: /tmp\\mir_datasets\\haydn_op20\\.\\haydnop20v1.3_annotated.zip already exists and will not be downloaded. Rerun with force_overwrite=True to delete this file and force the download.\n",
      "100%|█████████████████████████████████████████████████████████████████████████████████| 24/24 [00:00<00:00, 521.61it/s]\n",
      "INFO: Success: the dataset is complete and all files are valid.\n",
      "INFO: --------------------\n"
     ]
    },
    {
     "data": {
      "text/plain": [
       "ChordData(confidence, intervals, labels)"
      ]
     },
     "execution_count": 122,
     "metadata": {},
     "output_type": "execute_result"
    }
   ],
   "source": [
    "h20 = mirdata.initialize('haydn_op20')\n",
    "h20.download()\n",
    "h20.validate()\n",
    "h20.choice_track().chords"
   ]
  },
  {
   "cell_type": "code",
   "execution_count": 178,
   "id": "8dc9d136",
   "metadata": {},
   "outputs": [
    {
     "name": "stdout",
     "output_type": "stream",
     "text": [
      "(12208, 128)\n",
      "(12208, 128)\n",
      "(12208, 128)\n",
      "(12208, 128)\n"
     ]
    },
    {
     "ename": "ValueError",
     "evalue": "x and y must have same first dimension, but have shapes (9572,) and (0,)",
     "output_type": "error",
     "traceback": [
      "\u001b[1;31m---------------------------------------------------------------------------\u001b[0m",
      "\u001b[1;31mValueError\u001b[0m                                Traceback (most recent call last)",
      "\u001b[1;32m~\\AppData\\Local\\Temp/ipykernel_6868/2594588430.py\u001b[0m in \u001b[0;36m<module>\u001b[1;34m\u001b[0m\n\u001b[0;32m     15\u001b[0m \u001b[1;33m\u001b[0m\u001b[0m\n\u001b[0;32m     16\u001b[0m \u001b[0mfig\u001b[0m\u001b[1;33m,\u001b[0m \u001b[0max\u001b[0m \u001b[1;33m=\u001b[0m \u001b[0mplt\u001b[0m\u001b[1;33m.\u001b[0m\u001b[0msubplots\u001b[0m\u001b[1;33m(\u001b[0m\u001b[1;33m)\u001b[0m\u001b[1;33m\u001b[0m\u001b[1;33m\u001b[0m\u001b[0m\n\u001b[1;32m---> 17\u001b[1;33m \u001b[0max\u001b[0m\u001b[1;33m.\u001b[0m\u001b[0mplot\u001b[0m\u001b[1;33m(\u001b[0m\u001b[0mtime_values_2\u001b[0m\u001b[1;33m,\u001b[0m \u001b[0mhcdf_changes1\u001b[0m\u001b[1;33m)\u001b[0m\u001b[1;33m\u001b[0m\u001b[1;33m\u001b[0m\u001b[0m\n\u001b[0m\u001b[0;32m     18\u001b[0m \u001b[0mplt\u001b[0m\u001b[1;33m.\u001b[0m\u001b[0mfigure\u001b[0m\u001b[1;33m(\u001b[0m\u001b[0mfigsize\u001b[0m\u001b[1;33m=\u001b[0m\u001b[1;33m(\u001b[0m\u001b[1;36m10\u001b[0m\u001b[1;33m,\u001b[0m \u001b[1;36m6\u001b[0m\u001b[1;33m)\u001b[0m\u001b[1;33m)\u001b[0m\u001b[1;33m\u001b[0m\u001b[1;33m\u001b[0m\u001b[0m\n\u001b[0;32m     19\u001b[0m \u001b[0mplt\u001b[0m\u001b[1;33m.\u001b[0m\u001b[0mshow\u001b[0m\u001b[1;33m(\u001b[0m\u001b[1;33m)\u001b[0m\u001b[1;33m\u001b[0m\u001b[1;33m\u001b[0m\u001b[0m\n",
      "\u001b[1;32m~\\anaconda3\\lib\\site-packages\\matplotlib\\axes\\_axes.py\u001b[0m in \u001b[0;36mplot\u001b[1;34m(self, scalex, scaley, data, *args, **kwargs)\u001b[0m\n\u001b[0;32m   1603\u001b[0m         \"\"\"\n\u001b[0;32m   1604\u001b[0m         \u001b[0mkwargs\u001b[0m \u001b[1;33m=\u001b[0m \u001b[0mcbook\u001b[0m\u001b[1;33m.\u001b[0m\u001b[0mnormalize_kwargs\u001b[0m\u001b[1;33m(\u001b[0m\u001b[0mkwargs\u001b[0m\u001b[1;33m,\u001b[0m \u001b[0mmlines\u001b[0m\u001b[1;33m.\u001b[0m\u001b[0mLine2D\u001b[0m\u001b[1;33m)\u001b[0m\u001b[1;33m\u001b[0m\u001b[1;33m\u001b[0m\u001b[0m\n\u001b[1;32m-> 1605\u001b[1;33m         \u001b[0mlines\u001b[0m \u001b[1;33m=\u001b[0m \u001b[1;33m[\u001b[0m\u001b[1;33m*\u001b[0m\u001b[0mself\u001b[0m\u001b[1;33m.\u001b[0m\u001b[0m_get_lines\u001b[0m\u001b[1;33m(\u001b[0m\u001b[1;33m*\u001b[0m\u001b[0margs\u001b[0m\u001b[1;33m,\u001b[0m \u001b[0mdata\u001b[0m\u001b[1;33m=\u001b[0m\u001b[0mdata\u001b[0m\u001b[1;33m,\u001b[0m \u001b[1;33m**\u001b[0m\u001b[0mkwargs\u001b[0m\u001b[1;33m)\u001b[0m\u001b[1;33m]\u001b[0m\u001b[1;33m\u001b[0m\u001b[1;33m\u001b[0m\u001b[0m\n\u001b[0m\u001b[0;32m   1606\u001b[0m         \u001b[1;32mfor\u001b[0m \u001b[0mline\u001b[0m \u001b[1;32min\u001b[0m \u001b[0mlines\u001b[0m\u001b[1;33m:\u001b[0m\u001b[1;33m\u001b[0m\u001b[1;33m\u001b[0m\u001b[0m\n\u001b[0;32m   1607\u001b[0m             \u001b[0mself\u001b[0m\u001b[1;33m.\u001b[0m\u001b[0madd_line\u001b[0m\u001b[1;33m(\u001b[0m\u001b[0mline\u001b[0m\u001b[1;33m)\u001b[0m\u001b[1;33m\u001b[0m\u001b[1;33m\u001b[0m\u001b[0m\n",
      "\u001b[1;32m~\\anaconda3\\lib\\site-packages\\matplotlib\\axes\\_base.py\u001b[0m in \u001b[0;36m__call__\u001b[1;34m(self, data, *args, **kwargs)\u001b[0m\n\u001b[0;32m    313\u001b[0m                 \u001b[0mthis\u001b[0m \u001b[1;33m+=\u001b[0m \u001b[0margs\u001b[0m\u001b[1;33m[\u001b[0m\u001b[1;36m0\u001b[0m\u001b[1;33m]\u001b[0m\u001b[1;33m,\u001b[0m\u001b[1;33m\u001b[0m\u001b[1;33m\u001b[0m\u001b[0m\n\u001b[0;32m    314\u001b[0m                 \u001b[0margs\u001b[0m \u001b[1;33m=\u001b[0m \u001b[0margs\u001b[0m\u001b[1;33m[\u001b[0m\u001b[1;36m1\u001b[0m\u001b[1;33m:\u001b[0m\u001b[1;33m]\u001b[0m\u001b[1;33m\u001b[0m\u001b[1;33m\u001b[0m\u001b[0m\n\u001b[1;32m--> 315\u001b[1;33m             \u001b[1;32myield\u001b[0m \u001b[1;32mfrom\u001b[0m \u001b[0mself\u001b[0m\u001b[1;33m.\u001b[0m\u001b[0m_plot_args\u001b[0m\u001b[1;33m(\u001b[0m\u001b[0mthis\u001b[0m\u001b[1;33m,\u001b[0m \u001b[0mkwargs\u001b[0m\u001b[1;33m)\u001b[0m\u001b[1;33m\u001b[0m\u001b[1;33m\u001b[0m\u001b[0m\n\u001b[0m\u001b[0;32m    316\u001b[0m \u001b[1;33m\u001b[0m\u001b[0m\n\u001b[0;32m    317\u001b[0m     \u001b[1;32mdef\u001b[0m \u001b[0mget_next_color\u001b[0m\u001b[1;33m(\u001b[0m\u001b[0mself\u001b[0m\u001b[1;33m)\u001b[0m\u001b[1;33m:\u001b[0m\u001b[1;33m\u001b[0m\u001b[1;33m\u001b[0m\u001b[0m\n",
      "\u001b[1;32m~\\anaconda3\\lib\\site-packages\\matplotlib\\axes\\_base.py\u001b[0m in \u001b[0;36m_plot_args\u001b[1;34m(self, tup, kwargs, return_kwargs)\u001b[0m\n\u001b[0;32m    499\u001b[0m \u001b[1;33m\u001b[0m\u001b[0m\n\u001b[0;32m    500\u001b[0m         \u001b[1;32mif\u001b[0m \u001b[0mx\u001b[0m\u001b[1;33m.\u001b[0m\u001b[0mshape\u001b[0m\u001b[1;33m[\u001b[0m\u001b[1;36m0\u001b[0m\u001b[1;33m]\u001b[0m \u001b[1;33m!=\u001b[0m \u001b[0my\u001b[0m\u001b[1;33m.\u001b[0m\u001b[0mshape\u001b[0m\u001b[1;33m[\u001b[0m\u001b[1;36m0\u001b[0m\u001b[1;33m]\u001b[0m\u001b[1;33m:\u001b[0m\u001b[1;33m\u001b[0m\u001b[1;33m\u001b[0m\u001b[0m\n\u001b[1;32m--> 501\u001b[1;33m             raise ValueError(f\"x and y must have same first dimension, but \"\n\u001b[0m\u001b[0;32m    502\u001b[0m                              f\"have shapes {x.shape} and {y.shape}\")\n\u001b[0;32m    503\u001b[0m         \u001b[1;32mif\u001b[0m \u001b[0mx\u001b[0m\u001b[1;33m.\u001b[0m\u001b[0mndim\u001b[0m \u001b[1;33m>\u001b[0m \u001b[1;36m2\u001b[0m \u001b[1;32mor\u001b[0m \u001b[0my\u001b[0m\u001b[1;33m.\u001b[0m\u001b[0mndim\u001b[0m \u001b[1;33m>\u001b[0m \u001b[1;36m2\u001b[0m\u001b[1;33m:\u001b[0m\u001b[1;33m\u001b[0m\u001b[1;33m\u001b[0m\u001b[0m\n",
      "\u001b[1;31mValueError\u001b[0m: x and y must have same first dimension, but have shapes (9572,) and (0,)"
     ]
    },
    {
     "data": {
      "image/png": "[encoded data removed]",
      "text/plain": [
       "<Figure size 432x288 with 1 Axes>"
      ]
     },
     "metadata": {
      "image/png": {
       "height": 252,
       "width": 380
      },
      "needs_background": "light"
     },
     "output_type": "display_data"
    }
   ],
   "source": [
    "m_f_2 = 'haydn_string_quartet_20_1_(c)harfesoft.mid'\n",
    "midi_mat = Read_midi(choice.midi_path, 28).read_file()\n",
    "for k1, t1 in midi_mat.items():\n",
    "    print(t1.shape)\n",
    "\n",
    "mat1 = list(midi_mat.values())\n",
    "midi_q = mat1[0] + mat1[1] + mat1[2] + mat1[3]\n",
    "midi_q.shape\n",
    "time_values_1 = time_pitch(m_f_2)\n",
    "\n",
    "chroma_q = midi2chroma(midi_q)\n",
    "changes1, hcdf_changes1, harmonic_function1 = harmonic_change(chroma=chroma_q, symbolic=True, sigma=0, dist='Euclidean')\n",
    "time_values_2 = time_pitch(m_f_2)\n",
    "changes_ground_truth1 = np.array(time_values_2)\n",
    "\n",
    "fig, ax = plt.subplots()\n",
    "ax.plot(time_values_2, hcdf_changes1)\n",
    "plt.figure(figsize=(10, 6))\n",
    "plt.show()\n",
    "\n",
    "f_measure, precision, recall = mir_eval.onset.f_measure(changes_ground_truth1, changes1, window=31.218) #same window than Harte\n",
    "f_measure, precision, recall"
   ]
  },
  {
   "cell_type": "code",
   "execution_count": null,
   "id": "dede0e6f",
   "metadata": {},
   "outputs": [],
   "source": []
  }
 ],
 "metadata": {
  "kernelspec": {
   "display_name": "Python 3 (ipykernel)",
   "language": "python",
   "name": "python3"
  },
  "language_info": {
   "codemirror_mode": {
    "name": "ipython",
    "version": 3
   },
   "file_extension": ".py",
   "mimetype": "text/x-python",
   "name": "python",
   "nbconvert_exporter": "python",
   "pygments_lexer": "ipython3",
   "version": "3.9.7"
  }
 },
 "nbformat": 4,
 "nbformat_minor": 5
}
